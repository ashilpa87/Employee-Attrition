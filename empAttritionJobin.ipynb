{
 "cells": [
  {
   "cell_type": "markdown",
   "metadata": {
    "id": "MIQ65xL37hxO"
   },
   "source": [
    "# Importing dataset"
   ]
  },
  {
   "cell_type": "markdown",
   "metadata": {
    "colab": {
     "base_uri": "https://localhost:8080/"
    },
    "id": "HfUbWvqtZ8rR",
    "outputId": "e8cf1efb-151c-47a4-dc55-fd307190a877"
   },
   "source": [
    "from google.colab import drive\n",
    "drive.mount('/content/drive')"
   ]
  },
  {
   "cell_type": "code",
   "execution_count": 1,
   "metadata": {
    "id": "IskVbCkDOKKz"
   },
   "outputs": [],
   "source": [
    "import pandas as pd\n",
    "empl_df = pd.read_csv(\"whole data.csv\")"
   ]
  },
  {
   "cell_type": "code",
   "execution_count": 2,
   "metadata": {
    "colab": {
     "base_uri": "https://localhost:8080/",
     "height": 0
    },
    "id": "V6FX33W_OKHb",
    "outputId": "83f6080f-2f36-423c-b497-2ca74ad9c829"
   },
   "outputs": [
    {
     "data": {
      "text/html": [
       "<div>\n",
       "<style scoped>\n",
       "    .dataframe tbody tr th:only-of-type {\n",
       "        vertical-align: middle;\n",
       "    }\n",
       "\n",
       "    .dataframe tbody tr th {\n",
       "        vertical-align: top;\n",
       "    }\n",
       "\n",
       "    .dataframe thead th {\n",
       "        text-align: right;\n",
       "    }\n",
       "</style>\n",
       "<table border=\"1\" class=\"dataframe\">\n",
       "  <thead>\n",
       "    <tr style=\"text-align: right;\">\n",
       "      <th></th>\n",
       "      <th>EmployeeID</th>\n",
       "      <th>JobInvolvement</th>\n",
       "      <th>PerformanceRating</th>\n",
       "      <th>EnvironmentSatisfaction</th>\n",
       "      <th>JobSatisfaction</th>\n",
       "      <th>WorkLifeBalance</th>\n",
       "      <th>Age</th>\n",
       "      <th>Attrition</th>\n",
       "      <th>BusinessTravel</th>\n",
       "      <th>Department</th>\n",
       "      <th>...</th>\n",
       "      <th>NumCompaniesWorked</th>\n",
       "      <th>Over18</th>\n",
       "      <th>PercentSalaryHike</th>\n",
       "      <th>StandardHours</th>\n",
       "      <th>StockOptionLevel</th>\n",
       "      <th>TotalWorkingYears</th>\n",
       "      <th>TrainingTimesLastYear</th>\n",
       "      <th>YearsAtCompany</th>\n",
       "      <th>YearsSinceLastPromotion</th>\n",
       "      <th>YearsWithCurrManager</th>\n",
       "    </tr>\n",
       "  </thead>\n",
       "  <tbody>\n",
       "    <tr>\n",
       "      <th>0</th>\n",
       "      <td>1</td>\n",
       "      <td>3</td>\n",
       "      <td>3</td>\n",
       "      <td>3.0</td>\n",
       "      <td>4.0</td>\n",
       "      <td>2.0</td>\n",
       "      <td>51</td>\n",
       "      <td>No</td>\n",
       "      <td>Travel_Rarely</td>\n",
       "      <td>Sales</td>\n",
       "      <td>...</td>\n",
       "      <td>1.0</td>\n",
       "      <td>Y</td>\n",
       "      <td>11</td>\n",
       "      <td>8</td>\n",
       "      <td>0</td>\n",
       "      <td>1.0</td>\n",
       "      <td>6</td>\n",
       "      <td>1</td>\n",
       "      <td>0</td>\n",
       "      <td>0</td>\n",
       "    </tr>\n",
       "    <tr>\n",
       "      <th>1</th>\n",
       "      <td>2</td>\n",
       "      <td>2</td>\n",
       "      <td>4</td>\n",
       "      <td>3.0</td>\n",
       "      <td>2.0</td>\n",
       "      <td>4.0</td>\n",
       "      <td>31</td>\n",
       "      <td>Yes</td>\n",
       "      <td>Travel_Frequently</td>\n",
       "      <td>Research &amp; Development</td>\n",
       "      <td>...</td>\n",
       "      <td>0.0</td>\n",
       "      <td>Y</td>\n",
       "      <td>23</td>\n",
       "      <td>8</td>\n",
       "      <td>1</td>\n",
       "      <td>6.0</td>\n",
       "      <td>3</td>\n",
       "      <td>5</td>\n",
       "      <td>1</td>\n",
       "      <td>4</td>\n",
       "    </tr>\n",
       "    <tr>\n",
       "      <th>2</th>\n",
       "      <td>3</td>\n",
       "      <td>3</td>\n",
       "      <td>3</td>\n",
       "      <td>2.0</td>\n",
       "      <td>2.0</td>\n",
       "      <td>1.0</td>\n",
       "      <td>32</td>\n",
       "      <td>No</td>\n",
       "      <td>Travel_Frequently</td>\n",
       "      <td>Research &amp; Development</td>\n",
       "      <td>...</td>\n",
       "      <td>1.0</td>\n",
       "      <td>Y</td>\n",
       "      <td>15</td>\n",
       "      <td>8</td>\n",
       "      <td>3</td>\n",
       "      <td>5.0</td>\n",
       "      <td>2</td>\n",
       "      <td>5</td>\n",
       "      <td>0</td>\n",
       "      <td>3</td>\n",
       "    </tr>\n",
       "    <tr>\n",
       "      <th>3</th>\n",
       "      <td>4</td>\n",
       "      <td>2</td>\n",
       "      <td>3</td>\n",
       "      <td>4.0</td>\n",
       "      <td>4.0</td>\n",
       "      <td>3.0</td>\n",
       "      <td>38</td>\n",
       "      <td>No</td>\n",
       "      <td>Non-Travel</td>\n",
       "      <td>Research &amp; Development</td>\n",
       "      <td>...</td>\n",
       "      <td>3.0</td>\n",
       "      <td>Y</td>\n",
       "      <td>11</td>\n",
       "      <td>8</td>\n",
       "      <td>3</td>\n",
       "      <td>13.0</td>\n",
       "      <td>5</td>\n",
       "      <td>8</td>\n",
       "      <td>7</td>\n",
       "      <td>5</td>\n",
       "    </tr>\n",
       "    <tr>\n",
       "      <th>4</th>\n",
       "      <td>5</td>\n",
       "      <td>3</td>\n",
       "      <td>3</td>\n",
       "      <td>4.0</td>\n",
       "      <td>1.0</td>\n",
       "      <td>3.0</td>\n",
       "      <td>32</td>\n",
       "      <td>No</td>\n",
       "      <td>Travel_Rarely</td>\n",
       "      <td>Research &amp; Development</td>\n",
       "      <td>...</td>\n",
       "      <td>4.0</td>\n",
       "      <td>Y</td>\n",
       "      <td>12</td>\n",
       "      <td>8</td>\n",
       "      <td>2</td>\n",
       "      <td>9.0</td>\n",
       "      <td>2</td>\n",
       "      <td>6</td>\n",
       "      <td>0</td>\n",
       "      <td>4</td>\n",
       "    </tr>\n",
       "    <tr>\n",
       "      <th>5</th>\n",
       "      <td>6</td>\n",
       "      <td>3</td>\n",
       "      <td>3</td>\n",
       "      <td>3.0</td>\n",
       "      <td>2.0</td>\n",
       "      <td>2.0</td>\n",
       "      <td>46</td>\n",
       "      <td>No</td>\n",
       "      <td>Travel_Rarely</td>\n",
       "      <td>Research &amp; Development</td>\n",
       "      <td>...</td>\n",
       "      <td>3.0</td>\n",
       "      <td>Y</td>\n",
       "      <td>13</td>\n",
       "      <td>8</td>\n",
       "      <td>0</td>\n",
       "      <td>28.0</td>\n",
       "      <td>5</td>\n",
       "      <td>7</td>\n",
       "      <td>7</td>\n",
       "      <td>7</td>\n",
       "    </tr>\n",
       "    <tr>\n",
       "      <th>6</th>\n",
       "      <td>7</td>\n",
       "      <td>3</td>\n",
       "      <td>4</td>\n",
       "      <td>1.0</td>\n",
       "      <td>3.0</td>\n",
       "      <td>1.0</td>\n",
       "      <td>28</td>\n",
       "      <td>Yes</td>\n",
       "      <td>Travel_Rarely</td>\n",
       "      <td>Research &amp; Development</td>\n",
       "      <td>...</td>\n",
       "      <td>2.0</td>\n",
       "      <td>Y</td>\n",
       "      <td>20</td>\n",
       "      <td>8</td>\n",
       "      <td>1</td>\n",
       "      <td>5.0</td>\n",
       "      <td>2</td>\n",
       "      <td>0</td>\n",
       "      <td>0</td>\n",
       "      <td>0</td>\n",
       "    </tr>\n",
       "    <tr>\n",
       "      <th>7</th>\n",
       "      <td>8</td>\n",
       "      <td>3</td>\n",
       "      <td>4</td>\n",
       "      <td>1.0</td>\n",
       "      <td>2.0</td>\n",
       "      <td>3.0</td>\n",
       "      <td>29</td>\n",
       "      <td>No</td>\n",
       "      <td>Travel_Rarely</td>\n",
       "      <td>Research &amp; Development</td>\n",
       "      <td>...</td>\n",
       "      <td>2.0</td>\n",
       "      <td>Y</td>\n",
       "      <td>22</td>\n",
       "      <td>8</td>\n",
       "      <td>3</td>\n",
       "      <td>10.0</td>\n",
       "      <td>2</td>\n",
       "      <td>0</td>\n",
       "      <td>0</td>\n",
       "      <td>0</td>\n",
       "    </tr>\n",
       "    <tr>\n",
       "      <th>8</th>\n",
       "      <td>9</td>\n",
       "      <td>3</td>\n",
       "      <td>4</td>\n",
       "      <td>2.0</td>\n",
       "      <td>4.0</td>\n",
       "      <td>3.0</td>\n",
       "      <td>31</td>\n",
       "      <td>No</td>\n",
       "      <td>Travel_Rarely</td>\n",
       "      <td>Research &amp; Development</td>\n",
       "      <td>...</td>\n",
       "      <td>0.0</td>\n",
       "      <td>Y</td>\n",
       "      <td>21</td>\n",
       "      <td>8</td>\n",
       "      <td>0</td>\n",
       "      <td>10.0</td>\n",
       "      <td>2</td>\n",
       "      <td>9</td>\n",
       "      <td>7</td>\n",
       "      <td>8</td>\n",
       "    </tr>\n",
       "    <tr>\n",
       "      <th>9</th>\n",
       "      <td>10</td>\n",
       "      <td>3</td>\n",
       "      <td>3</td>\n",
       "      <td>2.0</td>\n",
       "      <td>1.0</td>\n",
       "      <td>3.0</td>\n",
       "      <td>25</td>\n",
       "      <td>No</td>\n",
       "      <td>Non-Travel</td>\n",
       "      <td>Research &amp; Development</td>\n",
       "      <td>...</td>\n",
       "      <td>1.0</td>\n",
       "      <td>Y</td>\n",
       "      <td>13</td>\n",
       "      <td>8</td>\n",
       "      <td>1</td>\n",
       "      <td>6.0</td>\n",
       "      <td>2</td>\n",
       "      <td>6</td>\n",
       "      <td>1</td>\n",
       "      <td>5</td>\n",
       "    </tr>\n",
       "    <tr>\n",
       "      <th>10</th>\n",
       "      <td>11</td>\n",
       "      <td>2</td>\n",
       "      <td>3</td>\n",
       "      <td>3.0</td>\n",
       "      <td>4.0</td>\n",
       "      <td>3.0</td>\n",
       "      <td>45</td>\n",
       "      <td>No</td>\n",
       "      <td>Travel_Rarely</td>\n",
       "      <td>Research &amp; Development</td>\n",
       "      <td>...</td>\n",
       "      <td>0.0</td>\n",
       "      <td>Y</td>\n",
       "      <td>13</td>\n",
       "      <td>8</td>\n",
       "      <td>2</td>\n",
       "      <td>21.0</td>\n",
       "      <td>2</td>\n",
       "      <td>20</td>\n",
       "      <td>4</td>\n",
       "      <td>10</td>\n",
       "    </tr>\n",
       "    <tr>\n",
       "      <th>11</th>\n",
       "      <td>12</td>\n",
       "      <td>3</td>\n",
       "      <td>3</td>\n",
       "      <td>NaN</td>\n",
       "      <td>4.0</td>\n",
       "      <td>3.0</td>\n",
       "      <td>36</td>\n",
       "      <td>No</td>\n",
       "      <td>Travel_Rarely</td>\n",
       "      <td>Research &amp; Development</td>\n",
       "      <td>...</td>\n",
       "      <td>0.0</td>\n",
       "      <td>Y</td>\n",
       "      <td>12</td>\n",
       "      <td>8</td>\n",
       "      <td>2</td>\n",
       "      <td>16.0</td>\n",
       "      <td>2</td>\n",
       "      <td>15</td>\n",
       "      <td>10</td>\n",
       "      <td>11</td>\n",
       "    </tr>\n",
       "    <tr>\n",
       "      <th>12</th>\n",
       "      <td>13</td>\n",
       "      <td>3</td>\n",
       "      <td>3</td>\n",
       "      <td>4.0</td>\n",
       "      <td>1.0</td>\n",
       "      <td>3.0</td>\n",
       "      <td>55</td>\n",
       "      <td>No</td>\n",
       "      <td>Travel_Rarely</td>\n",
       "      <td>Research &amp; Development</td>\n",
       "      <td>...</td>\n",
       "      <td>0.0</td>\n",
       "      <td>Y</td>\n",
       "      <td>17</td>\n",
       "      <td>8</td>\n",
       "      <td>0</td>\n",
       "      <td>37.0</td>\n",
       "      <td>2</td>\n",
       "      <td>36</td>\n",
       "      <td>4</td>\n",
       "      <td>13</td>\n",
       "    </tr>\n",
       "    <tr>\n",
       "      <th>13</th>\n",
       "      <td>14</td>\n",
       "      <td>2</td>\n",
       "      <td>3</td>\n",
       "      <td>1.0</td>\n",
       "      <td>2.0</td>\n",
       "      <td>2.0</td>\n",
       "      <td>47</td>\n",
       "      <td>Yes</td>\n",
       "      <td>Non-Travel</td>\n",
       "      <td>Research &amp; Development</td>\n",
       "      <td>...</td>\n",
       "      <td>1.0</td>\n",
       "      <td>Y</td>\n",
       "      <td>11</td>\n",
       "      <td>8</td>\n",
       "      <td>2</td>\n",
       "      <td>10.0</td>\n",
       "      <td>4</td>\n",
       "      <td>10</td>\n",
       "      <td>9</td>\n",
       "      <td>9</td>\n",
       "    </tr>\n",
       "    <tr>\n",
       "      <th>14</th>\n",
       "      <td>15</td>\n",
       "      <td>3</td>\n",
       "      <td>3</td>\n",
       "      <td>4.0</td>\n",
       "      <td>4.0</td>\n",
       "      <td>2.0</td>\n",
       "      <td>28</td>\n",
       "      <td>No</td>\n",
       "      <td>Travel_Rarely</td>\n",
       "      <td>Research &amp; Development</td>\n",
       "      <td>...</td>\n",
       "      <td>1.0</td>\n",
       "      <td>Y</td>\n",
       "      <td>14</td>\n",
       "      <td>8</td>\n",
       "      <td>0</td>\n",
       "      <td>5.0</td>\n",
       "      <td>2</td>\n",
       "      <td>5</td>\n",
       "      <td>0</td>\n",
       "      <td>4</td>\n",
       "    </tr>\n",
       "    <tr>\n",
       "      <th>15</th>\n",
       "      <td>16</td>\n",
       "      <td>3</td>\n",
       "      <td>3</td>\n",
       "      <td>3.0</td>\n",
       "      <td>4.0</td>\n",
       "      <td>4.0</td>\n",
       "      <td>37</td>\n",
       "      <td>No</td>\n",
       "      <td>Travel_Rarely</td>\n",
       "      <td>Research &amp; Development</td>\n",
       "      <td>...</td>\n",
       "      <td>4.0</td>\n",
       "      <td>Y</td>\n",
       "      <td>11</td>\n",
       "      <td>8</td>\n",
       "      <td>0</td>\n",
       "      <td>7.0</td>\n",
       "      <td>2</td>\n",
       "      <td>5</td>\n",
       "      <td>0</td>\n",
       "      <td>1</td>\n",
       "    </tr>\n",
       "    <tr>\n",
       "      <th>16</th>\n",
       "      <td>17</td>\n",
       "      <td>2</td>\n",
       "      <td>3</td>\n",
       "      <td>4.0</td>\n",
       "      <td>3.0</td>\n",
       "      <td>4.0</td>\n",
       "      <td>21</td>\n",
       "      <td>No</td>\n",
       "      <td>Travel_Rarely</td>\n",
       "      <td>Research &amp; Development</td>\n",
       "      <td>...</td>\n",
       "      <td>1.0</td>\n",
       "      <td>Y</td>\n",
       "      <td>12</td>\n",
       "      <td>8</td>\n",
       "      <td>3</td>\n",
       "      <td>3.0</td>\n",
       "      <td>3</td>\n",
       "      <td>3</td>\n",
       "      <td>1</td>\n",
       "      <td>0</td>\n",
       "    </tr>\n",
       "    <tr>\n",
       "      <th>17</th>\n",
       "      <td>18</td>\n",
       "      <td>3</td>\n",
       "      <td>3</td>\n",
       "      <td>1.0</td>\n",
       "      <td>4.0</td>\n",
       "      <td>3.0</td>\n",
       "      <td>37</td>\n",
       "      <td>No</td>\n",
       "      <td>Non-Travel</td>\n",
       "      <td>Research &amp; Development</td>\n",
       "      <td>...</td>\n",
       "      <td>2.0</td>\n",
       "      <td>Y</td>\n",
       "      <td>13</td>\n",
       "      <td>8</td>\n",
       "      <td>1</td>\n",
       "      <td>15.0</td>\n",
       "      <td>2</td>\n",
       "      <td>5</td>\n",
       "      <td>0</td>\n",
       "      <td>2</td>\n",
       "    </tr>\n",
       "    <tr>\n",
       "      <th>18</th>\n",
       "      <td>19</td>\n",
       "      <td>2</td>\n",
       "      <td>3</td>\n",
       "      <td>2.0</td>\n",
       "      <td>2.0</td>\n",
       "      <td>2.0</td>\n",
       "      <td>35</td>\n",
       "      <td>No</td>\n",
       "      <td>Travel_Rarely</td>\n",
       "      <td>Sales</td>\n",
       "      <td>...</td>\n",
       "      <td>7.0</td>\n",
       "      <td>Y</td>\n",
       "      <td>16</td>\n",
       "      <td>8</td>\n",
       "      <td>0</td>\n",
       "      <td>10.0</td>\n",
       "      <td>5</td>\n",
       "      <td>7</td>\n",
       "      <td>6</td>\n",
       "      <td>2</td>\n",
       "    </tr>\n",
       "    <tr>\n",
       "      <th>19</th>\n",
       "      <td>20</td>\n",
       "      <td>3</td>\n",
       "      <td>3</td>\n",
       "      <td>1.0</td>\n",
       "      <td>1.0</td>\n",
       "      <td>3.0</td>\n",
       "      <td>38</td>\n",
       "      <td>No</td>\n",
       "      <td>Travel_Rarely</td>\n",
       "      <td>Research &amp; Development</td>\n",
       "      <td>...</td>\n",
       "      <td>1.0</td>\n",
       "      <td>Y</td>\n",
       "      <td>11</td>\n",
       "      <td>8</td>\n",
       "      <td>1</td>\n",
       "      <td>8.0</td>\n",
       "      <td>5</td>\n",
       "      <td>8</td>\n",
       "      <td>7</td>\n",
       "      <td>7</td>\n",
       "    </tr>\n",
       "  </tbody>\n",
       "</table>\n",
       "<p>20 rows × 29 columns</p>\n",
       "</div>"
      ],
      "text/plain": [
       "    EmployeeID  JobInvolvement  PerformanceRating  EnvironmentSatisfaction  \\\n",
       "0            1               3                  3                      3.0   \n",
       "1            2               2                  4                      3.0   \n",
       "2            3               3                  3                      2.0   \n",
       "3            4               2                  3                      4.0   \n",
       "4            5               3                  3                      4.0   \n",
       "5            6               3                  3                      3.0   \n",
       "6            7               3                  4                      1.0   \n",
       "7            8               3                  4                      1.0   \n",
       "8            9               3                  4                      2.0   \n",
       "9           10               3                  3                      2.0   \n",
       "10          11               2                  3                      3.0   \n",
       "11          12               3                  3                      NaN   \n",
       "12          13               3                  3                      4.0   \n",
       "13          14               2                  3                      1.0   \n",
       "14          15               3                  3                      4.0   \n",
       "15          16               3                  3                      3.0   \n",
       "16          17               2                  3                      4.0   \n",
       "17          18               3                  3                      1.0   \n",
       "18          19               2                  3                      2.0   \n",
       "19          20               3                  3                      1.0   \n",
       "\n",
       "    JobSatisfaction  WorkLifeBalance  Age Attrition     BusinessTravel  \\\n",
       "0               4.0              2.0   51        No      Travel_Rarely   \n",
       "1               2.0              4.0   31       Yes  Travel_Frequently   \n",
       "2               2.0              1.0   32        No  Travel_Frequently   \n",
       "3               4.0              3.0   38        No         Non-Travel   \n",
       "4               1.0              3.0   32        No      Travel_Rarely   \n",
       "5               2.0              2.0   46        No      Travel_Rarely   \n",
       "6               3.0              1.0   28       Yes      Travel_Rarely   \n",
       "7               2.0              3.0   29        No      Travel_Rarely   \n",
       "8               4.0              3.0   31        No      Travel_Rarely   \n",
       "9               1.0              3.0   25        No         Non-Travel   \n",
       "10              4.0              3.0   45        No      Travel_Rarely   \n",
       "11              4.0              3.0   36        No      Travel_Rarely   \n",
       "12              1.0              3.0   55        No      Travel_Rarely   \n",
       "13              2.0              2.0   47       Yes         Non-Travel   \n",
       "14              4.0              2.0   28        No      Travel_Rarely   \n",
       "15              4.0              4.0   37        No      Travel_Rarely   \n",
       "16              3.0              4.0   21        No      Travel_Rarely   \n",
       "17              4.0              3.0   37        No         Non-Travel   \n",
       "18              2.0              2.0   35        No      Travel_Rarely   \n",
       "19              1.0              3.0   38        No      Travel_Rarely   \n",
       "\n",
       "                Department  ...  NumCompaniesWorked  Over18 PercentSalaryHike  \\\n",
       "0                    Sales  ...                 1.0       Y                11   \n",
       "1   Research & Development  ...                 0.0       Y                23   \n",
       "2   Research & Development  ...                 1.0       Y                15   \n",
       "3   Research & Development  ...                 3.0       Y                11   \n",
       "4   Research & Development  ...                 4.0       Y                12   \n",
       "5   Research & Development  ...                 3.0       Y                13   \n",
       "6   Research & Development  ...                 2.0       Y                20   \n",
       "7   Research & Development  ...                 2.0       Y                22   \n",
       "8   Research & Development  ...                 0.0       Y                21   \n",
       "9   Research & Development  ...                 1.0       Y                13   \n",
       "10  Research & Development  ...                 0.0       Y                13   \n",
       "11  Research & Development  ...                 0.0       Y                12   \n",
       "12  Research & Development  ...                 0.0       Y                17   \n",
       "13  Research & Development  ...                 1.0       Y                11   \n",
       "14  Research & Development  ...                 1.0       Y                14   \n",
       "15  Research & Development  ...                 4.0       Y                11   \n",
       "16  Research & Development  ...                 1.0       Y                12   \n",
       "17  Research & Development  ...                 2.0       Y                13   \n",
       "18                   Sales  ...                 7.0       Y                16   \n",
       "19  Research & Development  ...                 1.0       Y                11   \n",
       "\n",
       "    StandardHours StockOptionLevel  TotalWorkingYears TrainingTimesLastYear  \\\n",
       "0               8                0                1.0                     6   \n",
       "1               8                1                6.0                     3   \n",
       "2               8                3                5.0                     2   \n",
       "3               8                3               13.0                     5   \n",
       "4               8                2                9.0                     2   \n",
       "5               8                0               28.0                     5   \n",
       "6               8                1                5.0                     2   \n",
       "7               8                3               10.0                     2   \n",
       "8               8                0               10.0                     2   \n",
       "9               8                1                6.0                     2   \n",
       "10              8                2               21.0                     2   \n",
       "11              8                2               16.0                     2   \n",
       "12              8                0               37.0                     2   \n",
       "13              8                2               10.0                     4   \n",
       "14              8                0                5.0                     2   \n",
       "15              8                0                7.0                     2   \n",
       "16              8                3                3.0                     3   \n",
       "17              8                1               15.0                     2   \n",
       "18              8                0               10.0                     5   \n",
       "19              8                1                8.0                     5   \n",
       "\n",
       "   YearsAtCompany  YearsSinceLastPromotion  YearsWithCurrManager  \n",
       "0               1                        0                     0  \n",
       "1               5                        1                     4  \n",
       "2               5                        0                     3  \n",
       "3               8                        7                     5  \n",
       "4               6                        0                     4  \n",
       "5               7                        7                     7  \n",
       "6               0                        0                     0  \n",
       "7               0                        0                     0  \n",
       "8               9                        7                     8  \n",
       "9               6                        1                     5  \n",
       "10             20                        4                    10  \n",
       "11             15                       10                    11  \n",
       "12             36                        4                    13  \n",
       "13             10                        9                     9  \n",
       "14              5                        0                     4  \n",
       "15              5                        0                     1  \n",
       "16              3                        1                     0  \n",
       "17              5                        0                     2  \n",
       "18              7                        6                     2  \n",
       "19              8                        7                     7  \n",
       "\n",
       "[20 rows x 29 columns]"
      ]
     },
     "execution_count": 2,
     "metadata": {},
     "output_type": "execute_result"
    }
   ],
   "source": [
    "empl_df.head(20)"
   ]
  },
  {
   "cell_type": "markdown",
   "metadata": {
    "id": "lQg19zwd8qa1"
   },
   "source": [
    "# Preprocessing steps"
   ]
  },
  {
   "cell_type": "code",
   "execution_count": 3,
   "metadata": {
    "colab": {
     "base_uri": "https://localhost:8080/"
    },
    "id": "YIS_7vv9OKEi",
    "outputId": "4b9406b6-7b75-450b-f12f-357e9da6aad0"
   },
   "outputs": [
    {
     "data": {
      "text/plain": [
       "EmployeeID                  0\n",
       "JobInvolvement              0\n",
       "PerformanceRating           0\n",
       "EnvironmentSatisfaction    25\n",
       "JobSatisfaction            20\n",
       "WorkLifeBalance            38\n",
       "Age                         0\n",
       "Attrition                   0\n",
       "BusinessTravel              0\n",
       "Department                  0\n",
       "DistanceFromHome            0\n",
       "Education                   0\n",
       "EducationField              0\n",
       "EmployeeCount               0\n",
       "Gender                      0\n",
       "JobLevel                    0\n",
       "JobRole                     0\n",
       "MaritalStatus               0\n",
       "MonthlyIncome               0\n",
       "NumCompaniesWorked         19\n",
       "Over18                      0\n",
       "PercentSalaryHike           0\n",
       "StandardHours               0\n",
       "StockOptionLevel            0\n",
       "TotalWorkingYears           9\n",
       "TrainingTimesLastYear       0\n",
       "YearsAtCompany              0\n",
       "YearsSinceLastPromotion     0\n",
       "YearsWithCurrManager        0\n",
       "dtype: int64"
      ]
     },
     "execution_count": 3,
     "metadata": {},
     "output_type": "execute_result"
    }
   ],
   "source": [
    "empl_df.isnull().sum()"
   ]
  },
  {
   "cell_type": "code",
   "execution_count": 4,
   "metadata": {
    "id": "y1B1PymEOJ3f"
   },
   "outputs": [],
   "source": [
    "empl_df['EnvironmentSatisfaction'] = empl_df['EnvironmentSatisfaction'].fillna(empl_df['EnvironmentSatisfaction'].median())"
   ]
  },
  {
   "cell_type": "code",
   "execution_count": 5,
   "metadata": {
    "colab": {
     "base_uri": "https://localhost:8080/"
    },
    "id": "ERazeaw0cgn_",
    "outputId": "8705bf96-d907-4f6c-97ee-fe2fd2b464c0"
   },
   "outputs": [
    {
     "data": {
      "text/plain": [
       "0"
      ]
     },
     "execution_count": 5,
     "metadata": {},
     "output_type": "execute_result"
    }
   ],
   "source": [
    "empl_df['EnvironmentSatisfaction'].isnull().sum()"
   ]
  },
  {
   "cell_type": "code",
   "execution_count": 6,
   "metadata": {
    "id": "BslC8Hv9cgkX"
   },
   "outputs": [],
   "source": [
    "empl_df['JobSatisfaction'] = empl_df['JobSatisfaction'].fillna(empl_df['JobSatisfaction'].median())"
   ]
  },
  {
   "cell_type": "code",
   "execution_count": 7,
   "metadata": {
    "colab": {
     "base_uri": "https://localhost:8080/"
    },
    "id": "b9jOmfgMcghK",
    "outputId": "2e4e8119-c162-4848-aa8e-2274a3724a9c"
   },
   "outputs": [
    {
     "data": {
      "text/plain": [
       "0"
      ]
     },
     "execution_count": 7,
     "metadata": {},
     "output_type": "execute_result"
    }
   ],
   "source": [
    "empl_df['JobSatisfaction'].isnull().sum()"
   ]
  },
  {
   "cell_type": "code",
   "execution_count": 8,
   "metadata": {
    "colab": {
     "base_uri": "https://localhost:8080/"
    },
    "id": "e38-i8SXeSg0",
    "outputId": "6488767c-02d3-4c35-c979-c8990663229b"
   },
   "outputs": [
    {
     "data": {
      "text/plain": [
       "38"
      ]
     },
     "execution_count": 8,
     "metadata": {},
     "output_type": "execute_result"
    }
   ],
   "source": [
    "empl_df['WorkLifeBalance'].isnull().sum()"
   ]
  },
  {
   "cell_type": "code",
   "execution_count": 9,
   "metadata": {
    "id": "0P4MNDGueSde"
   },
   "outputs": [],
   "source": [
    "empl_df['WorkLifeBalance'] = empl_df['WorkLifeBalance'].fillna(empl_df['WorkLifeBalance'].median())"
   ]
  },
  {
   "cell_type": "code",
   "execution_count": 10,
   "metadata": {
    "id": "1HeQyuvFeSaq"
   },
   "outputs": [],
   "source": [
    "empl_df['NumCompaniesWorked'] = empl_df['NumCompaniesWorked'] .fillna(empl_df['NumCompaniesWorked'].median())"
   ]
  },
  {
   "cell_type": "code",
   "execution_count": 11,
   "metadata": {
    "colab": {
     "base_uri": "https://localhost:8080/"
    },
    "id": "0FPl6lsre6IZ",
    "outputId": "46a18108-651f-47b8-d6a2-15402de915a2"
   },
   "outputs": [
    {
     "data": {
      "text/plain": [
       "EmployeeID                 0\n",
       "JobInvolvement             0\n",
       "PerformanceRating          0\n",
       "EnvironmentSatisfaction    0\n",
       "JobSatisfaction            0\n",
       "WorkLifeBalance            0\n",
       "Age                        0\n",
       "Attrition                  0\n",
       "BusinessTravel             0\n",
       "Department                 0\n",
       "DistanceFromHome           0\n",
       "Education                  0\n",
       "EducationField             0\n",
       "EmployeeCount              0\n",
       "Gender                     0\n",
       "JobLevel                   0\n",
       "JobRole                    0\n",
       "MaritalStatus              0\n",
       "MonthlyIncome              0\n",
       "NumCompaniesWorked         0\n",
       "Over18                     0\n",
       "PercentSalaryHike          0\n",
       "StandardHours              0\n",
       "StockOptionLevel           0\n",
       "TotalWorkingYears          9\n",
       "TrainingTimesLastYear      0\n",
       "YearsAtCompany             0\n",
       "YearsSinceLastPromotion    0\n",
       "YearsWithCurrManager       0\n",
       "dtype: int64"
      ]
     },
     "execution_count": 11,
     "metadata": {},
     "output_type": "execute_result"
    }
   ],
   "source": [
    "empl_df.isnull().sum()"
   ]
  },
  {
   "cell_type": "code",
   "execution_count": 12,
   "metadata": {
    "id": "Gw8VwjhZ3goy"
   },
   "outputs": [],
   "source": [
    "empl_df.dropna(inplace=True)"
   ]
  },
  {
   "cell_type": "code",
   "execution_count": 13,
   "metadata": {
    "colab": {
     "base_uri": "https://localhost:8080/"
    },
    "id": "K9pyUIOne6FF",
    "outputId": "f575adf6-9725-415f-e7f0-596d519b8ec7"
   },
   "outputs": [
    {
     "name": "stdout",
     "output_type": "stream",
     "text": [
      "<class 'pandas.core.frame.DataFrame'>\n",
      "Int64Index: 4401 entries, 0 to 4408\n",
      "Data columns (total 29 columns):\n",
      " #   Column                   Non-Null Count  Dtype  \n",
      "---  ------                   --------------  -----  \n",
      " 0   EmployeeID               4401 non-null   int64  \n",
      " 1   JobInvolvement           4401 non-null   int64  \n",
      " 2   PerformanceRating        4401 non-null   int64  \n",
      " 3   EnvironmentSatisfaction  4401 non-null   float64\n",
      " 4   JobSatisfaction          4401 non-null   float64\n",
      " 5   WorkLifeBalance          4401 non-null   float64\n",
      " 6   Age                      4401 non-null   int64  \n",
      " 7   Attrition                4401 non-null   object \n",
      " 8   BusinessTravel           4401 non-null   object \n",
      " 9   Department               4401 non-null   object \n",
      " 10  DistanceFromHome         4401 non-null   int64  \n",
      " 11  Education                4401 non-null   int64  \n",
      " 12  EducationField           4401 non-null   object \n",
      " 13  EmployeeCount            4401 non-null   int64  \n",
      " 14  Gender                   4401 non-null   object \n",
      " 15  JobLevel                 4401 non-null   int64  \n",
      " 16  JobRole                  4401 non-null   object \n",
      " 17  MaritalStatus            4401 non-null   object \n",
      " 18  MonthlyIncome            4401 non-null   int64  \n",
      " 19  NumCompaniesWorked       4401 non-null   float64\n",
      " 20  Over18                   4401 non-null   object \n",
      " 21  PercentSalaryHike        4401 non-null   int64  \n",
      " 22  StandardHours            4401 non-null   int64  \n",
      " 23  StockOptionLevel         4401 non-null   int64  \n",
      " 24  TotalWorkingYears        4401 non-null   float64\n",
      " 25  TrainingTimesLastYear    4401 non-null   int64  \n",
      " 26  YearsAtCompany           4401 non-null   int64  \n",
      " 27  YearsSinceLastPromotion  4401 non-null   int64  \n",
      " 28  YearsWithCurrManager     4401 non-null   int64  \n",
      "dtypes: float64(5), int64(16), object(8)\n",
      "memory usage: 1.0+ MB\n"
     ]
    }
   ],
   "source": [
    "empl_df.info()"
   ]
  },
  {
   "cell_type": "code",
   "execution_count": 14,
   "metadata": {
    "colab": {
     "base_uri": "https://localhost:8080/"
    },
    "id": "T2uxmU_ce6B4",
    "outputId": "78a627b9-657b-44ab-dcb1-54128c244433"
   },
   "outputs": [
    {
     "data": {
      "text/plain": [
       "0        No\n",
       "1       Yes\n",
       "2        No\n",
       "3        No\n",
       "4        No\n",
       "       ... \n",
       "4404     No\n",
       "4405     No\n",
       "4406     No\n",
       "4407     No\n",
       "4408     No\n",
       "Name: Attrition, Length: 4401, dtype: object"
      ]
     },
     "execution_count": 14,
     "metadata": {},
     "output_type": "execute_result"
    }
   ],
   "source": [
    "empl_df['Attrition']"
   ]
  },
  {
   "cell_type": "code",
   "execution_count": 15,
   "metadata": {
    "colab": {
     "base_uri": "https://localhost:8080/"
    },
    "id": "7YCl8-W0fQSH",
    "outputId": "210a304c-802c-4a28-8095-9cc0d09f741d"
   },
   "outputs": [
    {
     "data": {
      "text/plain": [
       "array(['Travel_Rarely', 'Travel_Frequently', 'Non-Travel'], dtype=object)"
      ]
     },
     "execution_count": 15,
     "metadata": {},
     "output_type": "execute_result"
    }
   ],
   "source": [
    "empl_df['BusinessTravel'].unique()"
   ]
  },
  {
   "cell_type": "code",
   "execution_count": 16,
   "metadata": {
    "colab": {
     "base_uri": "https://localhost:8080/"
    },
    "id": "66PCv7PBidL9",
    "outputId": "5aa7e623-e033-4524-c567-168ae467c23b"
   },
   "outputs": [
    {
     "data": {
      "text/plain": [
       "Research & Development    2877\n",
       "Sales                     1336\n",
       "Human Resources            188\n",
       "Name: Department, dtype: int64"
      ]
     },
     "execution_count": 16,
     "metadata": {},
     "output_type": "execute_result"
    }
   ],
   "source": [
    "empl_df.Department.value_counts()"
   ]
  },
  {
   "cell_type": "code",
   "execution_count": 17,
   "metadata": {
    "colab": {
     "base_uri": "https://localhost:8080/"
    },
    "id": "lQ6rAYESkPEU",
    "outputId": "3bab0d71-3da4-4d49-b31b-44a446648e4d"
   },
   "outputs": [
    {
     "data": {
      "text/plain": [
       "Y    4401\n",
       "Name: Over18, dtype: int64"
      ]
     },
     "execution_count": 17,
     "metadata": {},
     "output_type": "execute_result"
    }
   ],
   "source": [
    "empl_df.Over18.value_counts()"
   ]
  },
  {
   "cell_type": "code",
   "execution_count": 18,
   "metadata": {
    "colab": {
     "base_uri": "https://localhost:8080/"
    },
    "id": "0F36VEXDpRbX",
    "outputId": "65a55611-6b0d-4d1c-b58e-5f01e066e892"
   },
   "outputs": [
    {
     "name": "stdout",
     "output_type": "stream",
     "text": [
      "<class 'pandas.core.frame.DataFrame'>\n",
      "Int64Index: 4401 entries, 0 to 4408\n",
      "Data columns (total 29 columns):\n",
      " #   Column                   Non-Null Count  Dtype  \n",
      "---  ------                   --------------  -----  \n",
      " 0   EmployeeID               4401 non-null   int64  \n",
      " 1   JobInvolvement           4401 non-null   int64  \n",
      " 2   PerformanceRating        4401 non-null   int64  \n",
      " 3   EnvironmentSatisfaction  4401 non-null   float64\n",
      " 4   JobSatisfaction          4401 non-null   float64\n",
      " 5   WorkLifeBalance          4401 non-null   float64\n",
      " 6   Age                      4401 non-null   int64  \n",
      " 7   Attrition                4401 non-null   object \n",
      " 8   BusinessTravel           4401 non-null   object \n",
      " 9   Department               4401 non-null   object \n",
      " 10  DistanceFromHome         4401 non-null   int64  \n",
      " 11  Education                4401 non-null   int64  \n",
      " 12  EducationField           4401 non-null   object \n",
      " 13  EmployeeCount            4401 non-null   int64  \n",
      " 14  Gender                   4401 non-null   object \n",
      " 15  JobLevel                 4401 non-null   int64  \n",
      " 16  JobRole                  4401 non-null   object \n",
      " 17  MaritalStatus            4401 non-null   object \n",
      " 18  MonthlyIncome            4401 non-null   int64  \n",
      " 19  NumCompaniesWorked       4401 non-null   float64\n",
      " 20  Over18                   4401 non-null   object \n",
      " 21  PercentSalaryHike        4401 non-null   int64  \n",
      " 22  StandardHours            4401 non-null   int64  \n",
      " 23  StockOptionLevel         4401 non-null   int64  \n",
      " 24  TotalWorkingYears        4401 non-null   float64\n",
      " 25  TrainingTimesLastYear    4401 non-null   int64  \n",
      " 26  YearsAtCompany           4401 non-null   int64  \n",
      " 27  YearsSinceLastPromotion  4401 non-null   int64  \n",
      " 28  YearsWithCurrManager     4401 non-null   int64  \n",
      "dtypes: float64(5), int64(16), object(8)\n",
      "memory usage: 1.0+ MB\n"
     ]
    }
   ],
   "source": [
    "empl_df.info()"
   ]
  },
  {
   "cell_type": "code",
   "execution_count": 19,
   "metadata": {
    "colab": {
     "base_uri": "https://localhost:8080/"
    },
    "id": "ep2n7kr30Qu-",
    "outputId": "197e052d-df92-4993-a9d4-5f391ee9a31d"
   },
   "outputs": [
    {
     "data": {
      "text/plain": [
       "Married     2014\n",
       "Single      1409\n",
       "Divorced     978\n",
       "Name: MaritalStatus, dtype: int64"
      ]
     },
     "execution_count": 19,
     "metadata": {},
     "output_type": "execute_result"
    }
   ],
   "source": [
    "empl_df['MaritalStatus'].value_counts()"
   ]
  },
  {
   "cell_type": "code",
   "execution_count": 20,
   "metadata": {
    "colab": {
     "base_uri": "https://localhost:8080/"
    },
    "id": "_xQz6twO0Qrk",
    "outputId": "efe646d4-7878-40f2-bfd6-407ee3875e9b"
   },
   "outputs": [
    {
     "data": {
      "text/plain": [
       "Sales Executive              977\n",
       "Research Scientist           876\n",
       "Laboratory Technician        774\n",
       "Manufacturing Director       432\n",
       "Healthcare Representative    393\n",
       "Manager                      306\n",
       "Sales Representative         248\n",
       "Research Director            239\n",
       "Human Resources              156\n",
       "Name: JobRole, dtype: int64"
      ]
     },
     "execution_count": 20,
     "metadata": {},
     "output_type": "execute_result"
    }
   ],
   "source": [
    "empl_df['JobRole'].value_counts()"
   ]
  },
  {
   "cell_type": "code",
   "execution_count": 21,
   "metadata": {
    "colab": {
     "base_uri": "https://localhost:8080/"
    },
    "id": "DzZmcYBs0cfk",
    "outputId": "d2552fd1-292a-4f78-c284-4dd9c9ec24b4"
   },
   "outputs": [
    {
     "data": {
      "text/plain": [
       "EmployeeID                 False\n",
       "JobInvolvement             False\n",
       "PerformanceRating          False\n",
       "EnvironmentSatisfaction    False\n",
       "JobSatisfaction            False\n",
       "WorkLifeBalance            False\n",
       "Age                        False\n",
       "Attrition                  False\n",
       "BusinessTravel             False\n",
       "Department                 False\n",
       "DistanceFromHome           False\n",
       "Education                  False\n",
       "EducationField             False\n",
       "EmployeeCount              False\n",
       "Gender                      True\n",
       "JobLevel                   False\n",
       "JobRole                    False\n",
       "MaritalStatus              False\n",
       "MonthlyIncome              False\n",
       "NumCompaniesWorked         False\n",
       "Over18                     False\n",
       "PercentSalaryHike          False\n",
       "StandardHours              False\n",
       "StockOptionLevel           False\n",
       "TotalWorkingYears          False\n",
       "TrainingTimesLastYear      False\n",
       "YearsAtCompany             False\n",
       "YearsSinceLastPromotion    False\n",
       "YearsWithCurrManager       False\n",
       "dtype: bool"
      ]
     },
     "execution_count": 21,
     "metadata": {},
     "output_type": "execute_result"
    }
   ],
   "source": [
    "value = 'Female'\n",
    "empl_df.apply(lambda row: row.astype(str).str.contains(value).any(), axis=0)"
   ]
  },
  {
   "cell_type": "code",
   "execution_count": 22,
   "metadata": {
    "colab": {
     "base_uri": "https://localhost:8080/"
    },
    "id": "PfB5U0-80ccR",
    "outputId": "7025ccce-d505-4534-dc2a-a299e9ee493b"
   },
   "outputs": [
    {
     "data": {
      "text/plain": [
       "Male      2640\n",
       "Female    1761\n",
       "Name: Gender, dtype: int64"
      ]
     },
     "execution_count": 22,
     "metadata": {},
     "output_type": "execute_result"
    }
   ],
   "source": [
    "empl_df['Gender'].value_counts()"
   ]
  },
  {
   "cell_type": "code",
   "execution_count": 23,
   "metadata": {
    "colab": {
     "base_uri": "https://localhost:8080/"
    },
    "id": "Onyd2cggvMGY",
    "outputId": "1ae94c1b-a7d3-49bd-ae43-7d5953bb5533"
   },
   "outputs": [
    {
     "data": {
      "text/plain": [
       "Research & Development    2877\n",
       "Sales                     1336\n",
       "Human Resources            188\n",
       "Name: Department, dtype: int64"
      ]
     },
     "execution_count": 23,
     "metadata": {},
     "output_type": "execute_result"
    }
   ],
   "source": [
    "empl_df.Department.value_counts()"
   ]
  },
  {
   "cell_type": "code",
   "execution_count": 24,
   "metadata": {
    "colab": {
     "base_uri": "https://localhost:8080/"
    },
    "id": "qEBYxd_awsgN",
    "outputId": "079dcd48-ef77-48ee-d5e5-c912e4534f50"
   },
   "outputs": [
    {
     "data": {
      "text/plain": [
       "EmployeeID                 False\n",
       "JobInvolvement             False\n",
       "PerformanceRating          False\n",
       "EnvironmentSatisfaction    False\n",
       "JobSatisfaction            False\n",
       "WorkLifeBalance            False\n",
       "Age                        False\n",
       "Attrition                  False\n",
       "BusinessTravel             False\n",
       "Department                 False\n",
       "DistanceFromHome           False\n",
       "Education                  False\n",
       "EducationField              True\n",
       "EmployeeCount              False\n",
       "Gender                     False\n",
       "JobLevel                   False\n",
       "JobRole                    False\n",
       "MaritalStatus              False\n",
       "MonthlyIncome              False\n",
       "NumCompaniesWorked         False\n",
       "Over18                     False\n",
       "PercentSalaryHike          False\n",
       "StandardHours              False\n",
       "StockOptionLevel           False\n",
       "TotalWorkingYears          False\n",
       "TrainingTimesLastYear      False\n",
       "YearsAtCompany             False\n",
       "YearsSinceLastPromotion    False\n",
       "YearsWithCurrManager       False\n",
       "dtype: bool"
      ]
     },
     "execution_count": 24,
     "metadata": {},
     "output_type": "execute_result"
    }
   ],
   "source": [
    "value = 'Life Sciences'\n",
    "empl_df.apply(lambda row: row.astype(str).str.contains(value).any(), axis=0)"
   ]
  },
  {
   "cell_type": "code",
   "execution_count": 25,
   "metadata": {
    "colab": {
     "base_uri": "https://localhost:8080/"
    },
    "id": "DGQA19ZNwscq",
    "outputId": "0ce6dc7e-1837-43fb-b1bd-7158ef926477"
   },
   "outputs": [
    {
     "data": {
      "text/plain": [
       "Life Sciences       1812\n",
       "Medical             1389\n",
       "Marketing            477\n",
       "Technical Degree     396\n",
       "Other                246\n",
       "Human Resources       81\n",
       "Name: EducationField, dtype: int64"
      ]
     },
     "execution_count": 25,
     "metadata": {},
     "output_type": "execute_result"
    }
   ],
   "source": [
    "empl_df['EducationField'].value_counts()"
   ]
  },
  {
   "cell_type": "code",
   "execution_count": 26,
   "metadata": {
    "colab": {
     "base_uri": "https://localhost:8080/"
    },
    "id": "gxPjdPj_zs9p",
    "outputId": "31efc92a-8624-4681-8618-485eeb32e966"
   },
   "outputs": [
    {
     "data": {
      "text/plain": [
       "0"
      ]
     },
     "execution_count": 26,
     "metadata": {},
     "output_type": "execute_result"
    }
   ],
   "source": [
    "empl_df['EducationField'].isnull().sum()"
   ]
  },
  {
   "cell_type": "code",
   "execution_count": 27,
   "metadata": {},
   "outputs": [
    {
     "name": "stdout",
     "output_type": "stream",
     "text": [
      "EmployeeID : [   1    2    3 ... 4407 4408 4409] \n",
      "\n",
      "JobInvolvement : [3 2 4 1] \n",
      "\n",
      "PerformanceRating : [3 4] \n",
      "\n",
      "EnvironmentSatisfaction : [3. 2. 4. 1.] \n",
      "\n",
      "JobSatisfaction : [4. 2. 1. 3.] \n",
      "\n",
      "WorkLifeBalance : [2. 4. 1. 3.] \n",
      "\n",
      "Age : [51 31 32 38 46 28 29 25 45 36 55 47 37 21 35 26 50 53 44 49 42 18 41 39\n",
      " 58 33 43 52 27 30 54 40 23 48 57 34 24 22 56 60 19 20 59] \n",
      "\n",
      "Attrition : ['No' 'Yes'] \n",
      "\n",
      "BusinessTravel : ['Travel_Rarely' 'Travel_Frequently' 'Non-Travel'] \n",
      "\n",
      "Department : ['Sales' 'Research & Development' 'Human Resources'] \n",
      "\n",
      "DistanceFromHome : [ 6 10 17  2  8 11 18  1  7 28 14  3 16  9  5  4 20 29 15 13 24 19 22 25\n",
      " 21 26 27 12 23] \n",
      "\n",
      "Education : [2 1 4 5 3] \n",
      "\n",
      "EducationField : ['Life Sciences' 'Other' 'Medical' 'Marketing' 'Technical Degree'\n",
      " 'Human Resources'] \n",
      "\n",
      "EmployeeCount : [1] \n",
      "\n",
      "Gender : ['Female' 'Male'] \n",
      "\n",
      "JobLevel : [1 4 3 2 5] \n",
      "\n",
      "JobRole : ['Healthcare Representative' 'Research Scientist' 'Sales Executive'\n",
      " 'Human Resources' 'Research Director' 'Laboratory Technician'\n",
      " 'Manufacturing Director' 'Sales Representative' 'Manager'] \n",
      "\n",
      "MaritalStatus : ['Married' 'Single' 'Divorced'] \n",
      "\n",
      "MonthlyIncome : [131160  41890 193280 ...  37480  27740 166590] \n",
      "\n",
      "NumCompaniesWorked : [1. 0. 3. 4. 2. 7. 9. 5. 6. 8.] \n",
      "\n",
      "Over18 : ['Y'] \n",
      "\n",
      "PercentSalaryHike : [11 23 15 12 13 20 22 21 17 14 16 18 19 24 25] \n",
      "\n",
      "StandardHours : [8] \n",
      "\n",
      "StockOptionLevel : [0 1 3 2] \n",
      "\n",
      "TotalWorkingYears : [ 1.  6.  5. 13.  9. 28. 10. 21. 16. 37.  7.  3. 15.  8. 12. 17. 19. 22.\n",
      "  2.  4. 23.  0. 11. 24. 25. 20. 14. 26. 18. 30. 36. 31. 33. 32. 34. 40.\n",
      " 29. 35. 27. 38.] \n",
      "\n",
      "TrainingTimesLastYear : [6 3 2 5 4 0 1] \n",
      "\n",
      "YearsAtCompany : [ 1  5  8  6  7  0  9 20 15 36 10  3 17  2  4 11 22 18 13 24 21 16 25 29\n",
      " 27 14 31 32 34 26 12 19 33 30 23 37 40] \n",
      "\n",
      "YearsSinceLastPromotion : [ 0  1  7  4 10  9  6  3  5  2  8 11 13 12 15 14] \n",
      "\n",
      "YearsWithCurrManager : [ 0  4  3  5  7  8 10 11 13  9  1  2  6 12 17 16 15 14] \n",
      "\n"
     ]
    }
   ],
   "source": [
    "for col in empl_df.columns:\n",
    "    print(f\"{col} : {empl_df[col].unique()} \\n\")"
   ]
  },
  {
   "cell_type": "markdown",
   "metadata": {
    "id": "FrqMn0PU0Bpo"
   },
   "source": [
    "# Apply Label Encoder"
   ]
  },
  {
   "cell_type": "code",
   "execution_count": 28,
   "metadata": {
    "id": "GX0ZwwwVzs6B"
   },
   "outputs": [],
   "source": [
    "from sklearn import preprocessing\n",
    "\n",
    "encoder = preprocessing.LabelEncoder()\n",
    "\n",
    "for i in empl_df[['BusinessTravel', 'Department', 'Over18','EducationField','MaritalStatus','JobRole','Gender']]:\n",
    "    if isinstance(empl_df[i][0],str):\n",
    "        empl_df[i] = encoder.fit_transform(empl_df[i])\n",
    "empl_df['Attrition'] = empl_df['Attrition'].replace({'Yes':1,'No':0})"
   ]
  },
  {
   "cell_type": "code",
   "execution_count": 29,
   "metadata": {
    "colab": {
     "base_uri": "https://localhost:8080/",
     "height": 0
    },
    "id": "N3EKJtjtzs3D",
    "outputId": "355849d1-7534-4758-b817-24d4342d901c"
   },
   "outputs": [
    {
     "data": {
      "text/html": [
       "<div>\n",
       "<style scoped>\n",
       "    .dataframe tbody tr th:only-of-type {\n",
       "        vertical-align: middle;\n",
       "    }\n",
       "\n",
       "    .dataframe tbody tr th {\n",
       "        vertical-align: top;\n",
       "    }\n",
       "\n",
       "    .dataframe thead th {\n",
       "        text-align: right;\n",
       "    }\n",
       "</style>\n",
       "<table border=\"1\" class=\"dataframe\">\n",
       "  <thead>\n",
       "    <tr style=\"text-align: right;\">\n",
       "      <th></th>\n",
       "      <th>EmployeeID</th>\n",
       "      <th>JobInvolvement</th>\n",
       "      <th>PerformanceRating</th>\n",
       "      <th>EnvironmentSatisfaction</th>\n",
       "      <th>JobSatisfaction</th>\n",
       "      <th>WorkLifeBalance</th>\n",
       "      <th>Age</th>\n",
       "      <th>Attrition</th>\n",
       "      <th>BusinessTravel</th>\n",
       "      <th>Department</th>\n",
       "      <th>...</th>\n",
       "      <th>NumCompaniesWorked</th>\n",
       "      <th>Over18</th>\n",
       "      <th>PercentSalaryHike</th>\n",
       "      <th>StandardHours</th>\n",
       "      <th>StockOptionLevel</th>\n",
       "      <th>TotalWorkingYears</th>\n",
       "      <th>TrainingTimesLastYear</th>\n",
       "      <th>YearsAtCompany</th>\n",
       "      <th>YearsSinceLastPromotion</th>\n",
       "      <th>YearsWithCurrManager</th>\n",
       "    </tr>\n",
       "  </thead>\n",
       "  <tbody>\n",
       "    <tr>\n",
       "      <th>0</th>\n",
       "      <td>1</td>\n",
       "      <td>3</td>\n",
       "      <td>3</td>\n",
       "      <td>3.0</td>\n",
       "      <td>4.0</td>\n",
       "      <td>2.0</td>\n",
       "      <td>51</td>\n",
       "      <td>0</td>\n",
       "      <td>2</td>\n",
       "      <td>2</td>\n",
       "      <td>...</td>\n",
       "      <td>1.0</td>\n",
       "      <td>0</td>\n",
       "      <td>11</td>\n",
       "      <td>8</td>\n",
       "      <td>0</td>\n",
       "      <td>1.0</td>\n",
       "      <td>6</td>\n",
       "      <td>1</td>\n",
       "      <td>0</td>\n",
       "      <td>0</td>\n",
       "    </tr>\n",
       "    <tr>\n",
       "      <th>1</th>\n",
       "      <td>2</td>\n",
       "      <td>2</td>\n",
       "      <td>4</td>\n",
       "      <td>3.0</td>\n",
       "      <td>2.0</td>\n",
       "      <td>4.0</td>\n",
       "      <td>31</td>\n",
       "      <td>1</td>\n",
       "      <td>1</td>\n",
       "      <td>1</td>\n",
       "      <td>...</td>\n",
       "      <td>0.0</td>\n",
       "      <td>0</td>\n",
       "      <td>23</td>\n",
       "      <td>8</td>\n",
       "      <td>1</td>\n",
       "      <td>6.0</td>\n",
       "      <td>3</td>\n",
       "      <td>5</td>\n",
       "      <td>1</td>\n",
       "      <td>4</td>\n",
       "    </tr>\n",
       "    <tr>\n",
       "      <th>2</th>\n",
       "      <td>3</td>\n",
       "      <td>3</td>\n",
       "      <td>3</td>\n",
       "      <td>2.0</td>\n",
       "      <td>2.0</td>\n",
       "      <td>1.0</td>\n",
       "      <td>32</td>\n",
       "      <td>0</td>\n",
       "      <td>1</td>\n",
       "      <td>1</td>\n",
       "      <td>...</td>\n",
       "      <td>1.0</td>\n",
       "      <td>0</td>\n",
       "      <td>15</td>\n",
       "      <td>8</td>\n",
       "      <td>3</td>\n",
       "      <td>5.0</td>\n",
       "      <td>2</td>\n",
       "      <td>5</td>\n",
       "      <td>0</td>\n",
       "      <td>3</td>\n",
       "    </tr>\n",
       "    <tr>\n",
       "      <th>3</th>\n",
       "      <td>4</td>\n",
       "      <td>2</td>\n",
       "      <td>3</td>\n",
       "      <td>4.0</td>\n",
       "      <td>4.0</td>\n",
       "      <td>3.0</td>\n",
       "      <td>38</td>\n",
       "      <td>0</td>\n",
       "      <td>0</td>\n",
       "      <td>1</td>\n",
       "      <td>...</td>\n",
       "      <td>3.0</td>\n",
       "      <td>0</td>\n",
       "      <td>11</td>\n",
       "      <td>8</td>\n",
       "      <td>3</td>\n",
       "      <td>13.0</td>\n",
       "      <td>5</td>\n",
       "      <td>8</td>\n",
       "      <td>7</td>\n",
       "      <td>5</td>\n",
       "    </tr>\n",
       "    <tr>\n",
       "      <th>4</th>\n",
       "      <td>5</td>\n",
       "      <td>3</td>\n",
       "      <td>3</td>\n",
       "      <td>4.0</td>\n",
       "      <td>1.0</td>\n",
       "      <td>3.0</td>\n",
       "      <td>32</td>\n",
       "      <td>0</td>\n",
       "      <td>2</td>\n",
       "      <td>1</td>\n",
       "      <td>...</td>\n",
       "      <td>4.0</td>\n",
       "      <td>0</td>\n",
       "      <td>12</td>\n",
       "      <td>8</td>\n",
       "      <td>2</td>\n",
       "      <td>9.0</td>\n",
       "      <td>2</td>\n",
       "      <td>6</td>\n",
       "      <td>0</td>\n",
       "      <td>4</td>\n",
       "    </tr>\n",
       "    <tr>\n",
       "      <th>...</th>\n",
       "      <td>...</td>\n",
       "      <td>...</td>\n",
       "      <td>...</td>\n",
       "      <td>...</td>\n",
       "      <td>...</td>\n",
       "      <td>...</td>\n",
       "      <td>...</td>\n",
       "      <td>...</td>\n",
       "      <td>...</td>\n",
       "      <td>...</td>\n",
       "      <td>...</td>\n",
       "      <td>...</td>\n",
       "      <td>...</td>\n",
       "      <td>...</td>\n",
       "      <td>...</td>\n",
       "      <td>...</td>\n",
       "      <td>...</td>\n",
       "      <td>...</td>\n",
       "      <td>...</td>\n",
       "      <td>...</td>\n",
       "      <td>...</td>\n",
       "    </tr>\n",
       "    <tr>\n",
       "      <th>4404</th>\n",
       "      <td>4405</td>\n",
       "      <td>2</td>\n",
       "      <td>3</td>\n",
       "      <td>3.0</td>\n",
       "      <td>4.0</td>\n",
       "      <td>3.0</td>\n",
       "      <td>29</td>\n",
       "      <td>0</td>\n",
       "      <td>2</td>\n",
       "      <td>2</td>\n",
       "      <td>...</td>\n",
       "      <td>1.0</td>\n",
       "      <td>0</td>\n",
       "      <td>18</td>\n",
       "      <td>8</td>\n",
       "      <td>0</td>\n",
       "      <td>6.0</td>\n",
       "      <td>2</td>\n",
       "      <td>6</td>\n",
       "      <td>1</td>\n",
       "      <td>5</td>\n",
       "    </tr>\n",
       "    <tr>\n",
       "      <th>4405</th>\n",
       "      <td>4406</td>\n",
       "      <td>3</td>\n",
       "      <td>3</td>\n",
       "      <td>4.0</td>\n",
       "      <td>1.0</td>\n",
       "      <td>3.0</td>\n",
       "      <td>42</td>\n",
       "      <td>0</td>\n",
       "      <td>2</td>\n",
       "      <td>1</td>\n",
       "      <td>...</td>\n",
       "      <td>3.0</td>\n",
       "      <td>0</td>\n",
       "      <td>17</td>\n",
       "      <td>8</td>\n",
       "      <td>1</td>\n",
       "      <td>10.0</td>\n",
       "      <td>5</td>\n",
       "      <td>3</td>\n",
       "      <td>0</td>\n",
       "      <td>2</td>\n",
       "    </tr>\n",
       "    <tr>\n",
       "      <th>4406</th>\n",
       "      <td>4407</td>\n",
       "      <td>2</td>\n",
       "      <td>3</td>\n",
       "      <td>4.0</td>\n",
       "      <td>4.0</td>\n",
       "      <td>3.0</td>\n",
       "      <td>29</td>\n",
       "      <td>0</td>\n",
       "      <td>2</td>\n",
       "      <td>1</td>\n",
       "      <td>...</td>\n",
       "      <td>2.0</td>\n",
       "      <td>0</td>\n",
       "      <td>15</td>\n",
       "      <td>8</td>\n",
       "      <td>0</td>\n",
       "      <td>10.0</td>\n",
       "      <td>2</td>\n",
       "      <td>3</td>\n",
       "      <td>0</td>\n",
       "      <td>2</td>\n",
       "    </tr>\n",
       "    <tr>\n",
       "      <th>4407</th>\n",
       "      <td>4408</td>\n",
       "      <td>3</td>\n",
       "      <td>4</td>\n",
       "      <td>1.0</td>\n",
       "      <td>3.0</td>\n",
       "      <td>3.0</td>\n",
       "      <td>25</td>\n",
       "      <td>0</td>\n",
       "      <td>2</td>\n",
       "      <td>1</td>\n",
       "      <td>...</td>\n",
       "      <td>0.0</td>\n",
       "      <td>0</td>\n",
       "      <td>20</td>\n",
       "      <td>8</td>\n",
       "      <td>0</td>\n",
       "      <td>5.0</td>\n",
       "      <td>4</td>\n",
       "      <td>4</td>\n",
       "      <td>1</td>\n",
       "      <td>2</td>\n",
       "    </tr>\n",
       "    <tr>\n",
       "      <th>4408</th>\n",
       "      <td>4409</td>\n",
       "      <td>2</td>\n",
       "      <td>3</td>\n",
       "      <td>4.0</td>\n",
       "      <td>1.0</td>\n",
       "      <td>3.0</td>\n",
       "      <td>42</td>\n",
       "      <td>0</td>\n",
       "      <td>2</td>\n",
       "      <td>2</td>\n",
       "      <td>...</td>\n",
       "      <td>0.0</td>\n",
       "      <td>0</td>\n",
       "      <td>14</td>\n",
       "      <td>8</td>\n",
       "      <td>1</td>\n",
       "      <td>10.0</td>\n",
       "      <td>2</td>\n",
       "      <td>9</td>\n",
       "      <td>7</td>\n",
       "      <td>8</td>\n",
       "    </tr>\n",
       "  </tbody>\n",
       "</table>\n",
       "<p>4401 rows × 29 columns</p>\n",
       "</div>"
      ],
      "text/plain": [
       "      EmployeeID  JobInvolvement  PerformanceRating  EnvironmentSatisfaction  \\\n",
       "0              1               3                  3                      3.0   \n",
       "1              2               2                  4                      3.0   \n",
       "2              3               3                  3                      2.0   \n",
       "3              4               2                  3                      4.0   \n",
       "4              5               3                  3                      4.0   \n",
       "...          ...             ...                ...                      ...   \n",
       "4404        4405               2                  3                      3.0   \n",
       "4405        4406               3                  3                      4.0   \n",
       "4406        4407               2                  3                      4.0   \n",
       "4407        4408               3                  4                      1.0   \n",
       "4408        4409               2                  3                      4.0   \n",
       "\n",
       "      JobSatisfaction  WorkLifeBalance  Age  Attrition  BusinessTravel  \\\n",
       "0                 4.0              2.0   51          0               2   \n",
       "1                 2.0              4.0   31          1               1   \n",
       "2                 2.0              1.0   32          0               1   \n",
       "3                 4.0              3.0   38          0               0   \n",
       "4                 1.0              3.0   32          0               2   \n",
       "...               ...              ...  ...        ...             ...   \n",
       "4404              4.0              3.0   29          0               2   \n",
       "4405              1.0              3.0   42          0               2   \n",
       "4406              4.0              3.0   29          0               2   \n",
       "4407              3.0              3.0   25          0               2   \n",
       "4408              1.0              3.0   42          0               2   \n",
       "\n",
       "      Department  ...  NumCompaniesWorked  Over18  PercentSalaryHike  \\\n",
       "0              2  ...                 1.0       0                 11   \n",
       "1              1  ...                 0.0       0                 23   \n",
       "2              1  ...                 1.0       0                 15   \n",
       "3              1  ...                 3.0       0                 11   \n",
       "4              1  ...                 4.0       0                 12   \n",
       "...          ...  ...                 ...     ...                ...   \n",
       "4404           2  ...                 1.0       0                 18   \n",
       "4405           1  ...                 3.0       0                 17   \n",
       "4406           1  ...                 2.0       0                 15   \n",
       "4407           1  ...                 0.0       0                 20   \n",
       "4408           2  ...                 0.0       0                 14   \n",
       "\n",
       "      StandardHours  StockOptionLevel  TotalWorkingYears  \\\n",
       "0                 8                 0                1.0   \n",
       "1                 8                 1                6.0   \n",
       "2                 8                 3                5.0   \n",
       "3                 8                 3               13.0   \n",
       "4                 8                 2                9.0   \n",
       "...             ...               ...                ...   \n",
       "4404              8                 0                6.0   \n",
       "4405              8                 1               10.0   \n",
       "4406              8                 0               10.0   \n",
       "4407              8                 0                5.0   \n",
       "4408              8                 1               10.0   \n",
       "\n",
       "      TrainingTimesLastYear  YearsAtCompany  YearsSinceLastPromotion  \\\n",
       "0                         6               1                        0   \n",
       "1                         3               5                        1   \n",
       "2                         2               5                        0   \n",
       "3                         5               8                        7   \n",
       "4                         2               6                        0   \n",
       "...                     ...             ...                      ...   \n",
       "4404                      2               6                        1   \n",
       "4405                      5               3                        0   \n",
       "4406                      2               3                        0   \n",
       "4407                      4               4                        1   \n",
       "4408                      2               9                        7   \n",
       "\n",
       "      YearsWithCurrManager  \n",
       "0                        0  \n",
       "1                        4  \n",
       "2                        3  \n",
       "3                        5  \n",
       "4                        4  \n",
       "...                    ...  \n",
       "4404                     5  \n",
       "4405                     2  \n",
       "4406                     2  \n",
       "4407                     2  \n",
       "4408                     8  \n",
       "\n",
       "[4401 rows x 29 columns]"
      ]
     },
     "execution_count": 29,
     "metadata": {},
     "output_type": "execute_result"
    }
   ],
   "source": [
    "empl_df"
   ]
  },
  {
   "cell_type": "code",
   "execution_count": 30,
   "metadata": {},
   "outputs": [],
   "source": [
    "empl_df.sample(20).to_csv(\"UserApplication/ValidationData.csv\")"
   ]
  },
  {
   "cell_type": "code",
   "execution_count": 31,
   "metadata": {
    "id": "IzXT7Lwo13qO"
   },
   "outputs": [],
   "source": [
    "from numpy import asarray\n",
    "from sklearn.preprocessing import StandardScaler\n",
    "\n",
    "scaler = StandardScaler()"
   ]
  },
  {
   "cell_type": "code",
   "execution_count": 32,
   "metadata": {
    "id": "8_yZT1Kg13m2"
   },
   "outputs": [],
   "source": [
    "x = empl_df.drop(['Attrition', 'EmployeeID'], axis=1)\n",
    "y = empl_df.Attrition"
   ]
  },
  {
   "cell_type": "code",
   "execution_count": 33,
   "metadata": {
    "id": "P4vR4KVs13ct"
   },
   "outputs": [],
   "source": [
    "# transform data\n",
    "scaled_data_x = scaler.fit_transform(x)"
   ]
  },
  {
   "cell_type": "code",
   "execution_count": 34,
   "metadata": {
    "colab": {
     "base_uri": "https://localhost:8080/"
    },
    "id": "wO6ZYL-T13ZU",
    "outputId": "2e1b931c-4ae8-496d-b7c7-72853fddd76d"
   },
   "outputs": [
    {
     "data": {
      "text/plain": [
       "array([[ 0.37950693, -0.4260006 ,  0.25202666, ..., -0.98056653,\n",
       "        -0.67939716, -1.155642  ],\n",
       "       [-1.02757815,  2.34741454,  0.25202666, ..., -0.32725137,\n",
       "        -0.36893855, -0.0344559 ],\n",
       "       [ 0.37950693, -0.4260006 , -0.6654004 , ..., -0.32725137,\n",
       "        -0.67939716, -0.31475242],\n",
       "       ...,\n",
       "       [-1.02757815, -0.4260006 ,  1.16945371, ..., -0.65390895,\n",
       "        -0.67939716, -0.59504895],\n",
       "       [ 0.37950693,  2.34741454, -1.58282746, ..., -0.49058016,\n",
       "        -0.36893855, -0.59504895],\n",
       "       [-1.02757815, -0.4260006 ,  1.16945371, ...,  0.32606379,\n",
       "         1.49381314,  1.0867302 ]])"
      ]
     },
     "execution_count": 34,
     "metadata": {},
     "output_type": "execute_result"
    }
   ],
   "source": [
    "scaled_data_x"
   ]
  },
  {
   "cell_type": "code",
   "execution_count": 35,
   "metadata": {
    "id": "lbpPsI2PZ06N"
   },
   "outputs": [],
   "source": [
    "from sklearn.model_selection import train_test_split"
   ]
  },
  {
   "cell_type": "code",
   "execution_count": 36,
   "metadata": {
    "colab": {
     "base_uri": "https://localhost:8080/"
    },
    "id": "-UI8ccAEZ06N",
    "outputId": "413cfdce-2d1f-4290-d280-67afa0b107c1"
   },
   "outputs": [
    {
     "data": {
      "text/plain": [
       "((4180, 27), (221, 27), (4180,), (221,))"
      ]
     },
     "execution_count": 36,
     "metadata": {},
     "output_type": "execute_result"
    }
   ],
   "source": [
    "X_train, X_test, y_train, y_test = train_test_split(scaled_data_x, y, test_size=0.05, random_state=1234)\n",
    "X_train.shape, X_test.shape, y_train.shape, y_test.shape"
   ]
  },
  {
   "cell_type": "markdown",
   "metadata": {
    "id": "eTRUUoq41Oji"
   },
   "source": [
    "# SVM"
   ]
  },
  {
   "cell_type": "code",
   "execution_count": 37,
   "metadata": {
    "id": "0Z8MGxtt1CWt"
   },
   "outputs": [],
   "source": [
    "import pickle\n",
    "from sklearn.svm import SVC"
   ]
  },
  {
   "cell_type": "code",
   "execution_count": 38,
   "metadata": {
    "id": "VdyX3s_m3KYw"
   },
   "outputs": [],
   "source": [
    "model = SVC()"
   ]
  },
  {
   "cell_type": "code",
   "execution_count": 39,
   "metadata": {
    "colab": {
     "base_uri": "https://localhost:8080/",
     "height": 0
    },
    "id": "5xJlGM9U3Kmo",
    "outputId": "c6380e6a-eed4-4141-97d8-86101f2ba0a2"
   },
   "outputs": [
    {
     "data": {
      "text/html": [
       "<style>#sk-container-id-1 {color: black;}#sk-container-id-1 pre{padding: 0;}#sk-container-id-1 div.sk-toggleable {background-color: white;}#sk-container-id-1 label.sk-toggleable__label {cursor: pointer;display: block;width: 100%;margin-bottom: 0;padding: 0.3em;box-sizing: border-box;text-align: center;}#sk-container-id-1 label.sk-toggleable__label-arrow:before {content: \"▸\";float: left;margin-right: 0.25em;color: #696969;}#sk-container-id-1 label.sk-toggleable__label-arrow:hover:before {color: black;}#sk-container-id-1 div.sk-estimator:hover label.sk-toggleable__label-arrow:before {color: black;}#sk-container-id-1 div.sk-toggleable__content {max-height: 0;max-width: 0;overflow: hidden;text-align: left;background-color: #f0f8ff;}#sk-container-id-1 div.sk-toggleable__content pre {margin: 0.2em;color: black;border-radius: 0.25em;background-color: #f0f8ff;}#sk-container-id-1 input.sk-toggleable__control:checked~div.sk-toggleable__content {max-height: 200px;max-width: 100%;overflow: auto;}#sk-container-id-1 input.sk-toggleable__control:checked~label.sk-toggleable__label-arrow:before {content: \"▾\";}#sk-container-id-1 div.sk-estimator input.sk-toggleable__control:checked~label.sk-toggleable__label {background-color: #d4ebff;}#sk-container-id-1 div.sk-label input.sk-toggleable__control:checked~label.sk-toggleable__label {background-color: #d4ebff;}#sk-container-id-1 input.sk-hidden--visually {border: 0;clip: rect(1px 1px 1px 1px);clip: rect(1px, 1px, 1px, 1px);height: 1px;margin: -1px;overflow: hidden;padding: 0;position: absolute;width: 1px;}#sk-container-id-1 div.sk-estimator {font-family: monospace;background-color: #f0f8ff;border: 1px dotted black;border-radius: 0.25em;box-sizing: border-box;margin-bottom: 0.5em;}#sk-container-id-1 div.sk-estimator:hover {background-color: #d4ebff;}#sk-container-id-1 div.sk-parallel-item::after {content: \"\";width: 100%;border-bottom: 1px solid gray;flex-grow: 1;}#sk-container-id-1 div.sk-label:hover label.sk-toggleable__label {background-color: #d4ebff;}#sk-container-id-1 div.sk-serial::before {content: \"\";position: absolute;border-left: 1px solid gray;box-sizing: border-box;top: 0;bottom: 0;left: 50%;z-index: 0;}#sk-container-id-1 div.sk-serial {display: flex;flex-direction: column;align-items: center;background-color: white;padding-right: 0.2em;padding-left: 0.2em;position: relative;}#sk-container-id-1 div.sk-item {position: relative;z-index: 1;}#sk-container-id-1 div.sk-parallel {display: flex;align-items: stretch;justify-content: center;background-color: white;position: relative;}#sk-container-id-1 div.sk-item::before, #sk-container-id-1 div.sk-parallel-item::before {content: \"\";position: absolute;border-left: 1px solid gray;box-sizing: border-box;top: 0;bottom: 0;left: 50%;z-index: -1;}#sk-container-id-1 div.sk-parallel-item {display: flex;flex-direction: column;z-index: 1;position: relative;background-color: white;}#sk-container-id-1 div.sk-parallel-item:first-child::after {align-self: flex-end;width: 50%;}#sk-container-id-1 div.sk-parallel-item:last-child::after {align-self: flex-start;width: 50%;}#sk-container-id-1 div.sk-parallel-item:only-child::after {width: 0;}#sk-container-id-1 div.sk-dashed-wrapped {border: 1px dashed gray;margin: 0 0.4em 0.5em 0.4em;box-sizing: border-box;padding-bottom: 0.4em;background-color: white;}#sk-container-id-1 div.sk-label label {font-family: monospace;font-weight: bold;display: inline-block;line-height: 1.2em;}#sk-container-id-1 div.sk-label-container {text-align: center;}#sk-container-id-1 div.sk-container {/* jupyter's `normalize.less` sets `[hidden] { display: none; }` but bootstrap.min.css set `[hidden] { display: none !important; }` so we also need the `!important` here to be able to override the default hidden behavior on the sphinx rendered scikit-learn.org. See: https://github.com/scikit-learn/scikit-learn/issues/21755 */display: inline-block !important;position: relative;}#sk-container-id-1 div.sk-text-repr-fallback {display: none;}</style><div id=\"sk-container-id-1\" class=\"sk-top-container\"><div class=\"sk-text-repr-fallback\"><pre>SVC()</pre><b>In a Jupyter environment, please rerun this cell to show the HTML representation or trust the notebook. <br />On GitHub, the HTML representation is unable to render, please try loading this page with nbviewer.org.</b></div><div class=\"sk-container\" hidden><div class=\"sk-item\"><div class=\"sk-estimator sk-toggleable\"><input class=\"sk-toggleable__control sk-hidden--visually\" id=\"sk-estimator-id-1\" type=\"checkbox\" checked><label for=\"sk-estimator-id-1\" class=\"sk-toggleable__label sk-toggleable__label-arrow\">SVC</label><div class=\"sk-toggleable__content\"><pre>SVC()</pre></div></div></div></div></div>"
      ],
      "text/plain": [
       "SVC()"
      ]
     },
     "execution_count": 39,
     "metadata": {},
     "output_type": "execute_result"
    }
   ],
   "source": [
    "model.fit(X_train, y_train)"
   ]
  },
  {
   "cell_type": "code",
   "execution_count": 40,
   "metadata": {
    "id": "JQH4jl1U3K4F"
   },
   "outputs": [],
   "source": [
    "pred=model.predict(X_test)"
   ]
  },
  {
   "cell_type": "code",
   "execution_count": 41,
   "metadata": {
    "colab": {
     "base_uri": "https://localhost:8080/"
    },
    "id": "V4p32Q9O3v2z",
    "outputId": "863f0d45-ea05-46e3-fdec-694d2152b07b"
   },
   "outputs": [
    {
     "name": "stdout",
     "output_type": "stream",
     "text": [
      "Accuracy: 89.59%\n"
     ]
    }
   ],
   "source": [
    "from sklearn.metrics import accuracy_score\n",
    "accuracySVM = accuracy_score(y_test, pred)\n",
    "print(\"Accuracy: %.2f%%\" % (accuracySVM * 100.0))"
   ]
  },
  {
   "cell_type": "code",
   "execution_count": 42,
   "metadata": {},
   "outputs": [],
   "source": [
    "pickle.dump(model, open('UserApplication/svm.pkl', 'wb'))"
   ]
  },
  {
   "cell_type": "markdown",
   "metadata": {
    "id": "w9Ajn4j66fTR"
   },
   "source": [
    "# Variational Autoencoder"
   ]
  },
  {
   "cell_type": "code",
   "execution_count": 43,
   "metadata": {
    "id": "tF6GHc3AZ06N"
   },
   "outputs": [],
   "source": [
    "X_train = X_train.reshape(X_train.shape[0], X_train.shape[1], 1)"
   ]
  },
  {
   "cell_type": "code",
   "execution_count": 44,
   "metadata": {
    "colab": {
     "base_uri": "https://localhost:8080/"
    },
    "id": "-ZGLTonxZ06O",
    "outputId": "d7d72876-f67b-4321-8c4f-d2bb54a0acf7"
   },
   "outputs": [
    {
     "data": {
      "text/plain": [
       "((4180, 27, 1), (221, 27, 1))"
      ]
     },
     "execution_count": 44,
     "metadata": {},
     "output_type": "execute_result"
    }
   ],
   "source": [
    "X_test = X_test.reshape(X_test.shape[0], X_test.shape[1], 1)\n",
    "X_train.shape, X_test.shape"
   ]
  },
  {
   "cell_type": "code",
   "execution_count": 45,
   "metadata": {
    "id": "fDNEVzwy6fV-"
   },
   "outputs": [],
   "source": [
    "import tensorflow as tf\n",
    "from tensorflow import keras\n",
    "from tensorflow.keras import layers\n",
    "from keras import regularizers\n",
    "from keras.models import Model, Sequential\n",
    "from sklearn.metrics import accuracy_score, f1_score, recall_score, precision_score, confusion_matrix, classification_report"
   ]
  },
  {
   "cell_type": "code",
   "execution_count": 46,
   "metadata": {
    "id": "CdMZv8uEZ06P"
   },
   "outputs": [],
   "source": [
    "encoder_inputs = keras.Input(shape=(X_test.shape[1],1))\n",
    "encoder = layers.SimpleRNN(512, return_sequences=True)(encoder_inputs)\n",
    "encoder = layers.SimpleRNN(128, return_sequences=True)(encoder)\n",
    "encoder = layers.SimpleRNN(64)(encoder)"
   ]
  },
  {
   "cell_type": "code",
   "execution_count": 47,
   "metadata": {
    "id": "b2SW-pPIZ06P"
   },
   "outputs": [],
   "source": [
    "output = layers.Dense(units=32, activation='sigmoid')(encoder)\n",
    "output = layers.Dropout(.32)(output)\n",
    "decoder = layers.Dense(units=1, activation='sigmoid')(output)"
   ]
  },
  {
   "cell_type": "code",
   "execution_count": 48,
   "metadata": {
    "colab": {
     "base_uri": "https://localhost:8080/"
    },
    "id": "W8om3tmJZ06P",
    "outputId": "c14e0c5a-5eda-43b7-e52c-cd760235965d"
   },
   "outputs": [
    {
     "name": "stdout",
     "output_type": "stream",
     "text": [
      "Model: \"RNN\"\n",
      "_________________________________________________________________\n",
      " Layer (type)                Output Shape              Param #   \n",
      "=================================================================\n",
      " input_1 (InputLayer)        [(None, 27, 1)]           0         \n",
      "                                                                 \n",
      " simple_rnn (SimpleRNN)      (None, 27, 512)           263168    \n",
      "                                                                 \n",
      " simple_rnn_1 (SimpleRNN)    (None, 27, 128)           82048     \n",
      "                                                                 \n",
      " simple_rnn_2 (SimpleRNN)    (None, 64)                12352     \n",
      "                                                                 \n",
      " dense (Dense)               (None, 32)                2080      \n",
      "                                                                 \n",
      " dropout (Dropout)           (None, 32)                0         \n",
      "                                                                 \n",
      " dense_1 (Dense)             (None, 1)                 33        \n",
      "                                                                 \n",
      "=================================================================\n",
      "Total params: 359681 (1.37 MB)\n",
      "Trainable params: 359681 (1.37 MB)\n",
      "Non-trainable params: 0 (0.00 Byte)\n",
      "_________________________________________________________________\n"
     ]
    }
   ],
   "source": [
    "var = keras.Model(encoder_inputs, decoder, name=\"RNN\")\n",
    "var.compile(optimizer='adam', loss='binary_crossentropy', metrics=['accuracy'])\n",
    "var.summary()"
   ]
  },
  {
   "cell_type": "code",
   "execution_count": 49,
   "metadata": {
    "colab": {
     "base_uri": "https://localhost:8080/"
    },
    "id": "pHIIHkBuZ06Q",
    "outputId": "28a94d7b-e54e-4037-a546-27acd149237f"
   },
   "outputs": [
    {
     "name": "stdout",
     "output_type": "stream",
     "text": [
      "Epoch 1/10\n",
      "128/128 [==============================] - 13s 79ms/step - loss: 0.4949 - accuracy: 0.8115 - val_loss: 0.4693 - val_accuracy: 0.8214\n",
      "Epoch 2/10\n",
      "128/128 [==============================] - 21s 162ms/step - loss: 0.4545 - accuracy: 0.8386 - val_loss: 0.4647 - val_accuracy: 0.8214\n",
      "Epoch 3/10\n",
      "128/128 [==============================] - 21s 163ms/step - loss: 0.4491 - accuracy: 0.8389 - val_loss: 0.4642 - val_accuracy: 0.8214\n",
      "Epoch 4/10\n",
      "128/128 [==============================] - 22s 169ms/step - loss: 0.4469 - accuracy: 0.8374 - val_loss: 0.4624 - val_accuracy: 0.8214\n",
      "Epoch 5/10\n",
      "128/128 [==============================] - 24s 188ms/step - loss: 0.4486 - accuracy: 0.8389 - val_loss: 0.4616 - val_accuracy: 0.8214\n",
      "Epoch 6/10\n",
      "128/128 [==============================] - 22s 169ms/step - loss: 0.4484 - accuracy: 0.8386 - val_loss: 0.4637 - val_accuracy: 0.8214\n",
      "Epoch 7/10\n",
      "128/128 [==============================] - 20s 160ms/step - loss: 0.4472 - accuracy: 0.8389 - val_loss: 0.4608 - val_accuracy: 0.8214\n",
      "Epoch 8/10\n",
      "128/128 [==============================] - 21s 161ms/step - loss: 0.4487 - accuracy: 0.8374 - val_loss: 0.4626 - val_accuracy: 0.8214\n",
      "Epoch 9/10\n",
      "128/128 [==============================] - 20s 159ms/step - loss: 0.4469 - accuracy: 0.8394 - val_loss: 0.4654 - val_accuracy: 0.8214\n",
      "Epoch 10/10\n",
      "128/128 [==============================] - 21s 164ms/step - loss: 0.4431 - accuracy: 0.8384 - val_loss: 0.4638 - val_accuracy: 0.8214\n"
     ]
    }
   ],
   "source": [
    "history = var.fit(X_train, y_train, epochs = 10, validation_split=0.02)"
   ]
  },
  {
   "cell_type": "code",
   "execution_count": 50,
   "metadata": {
    "colab": {
     "base_uri": "https://localhost:8080/",
     "height": 0
    },
    "id": "_JjPiGDBuQkD",
    "outputId": "0153b5bf-e407-4761-ffbf-c6b7871b9bcb"
   },
   "outputs": [
    {
     "data": {
      "image/png": "[encoded data removed]",
      "text/plain": [
       "<Figure size 640x480 with 1 Axes>"
      ]
     },
     "metadata": {},
     "output_type": "display_data"
    }
   ],
   "source": [
    "from matplotlib import pyplot as plt\n",
    "plt.plot(history.history[\"accuracy\"])\n",
    "plt.plot(history.history[\"val_accuracy\"])\n",
    "plt.legend([\"train\", \"test\"], loc=\"upper right\")\n",
    "plt.xlabel(\"Epochs\")\n",
    "plt.ylabel(\"Accuracy\")\n",
    "plt.show()"
   ]
  },
  {
   "cell_type": "code",
   "execution_count": 51,
   "metadata": {
    "colab": {
     "base_uri": "https://localhost:8080/"
    },
    "id": "TXu0X9xZZ06Q",
    "outputId": "ea9edac7-c8e1-4806-c375-2ad2c8bc9242"
   },
   "outputs": [
    {
     "name": "stdout",
     "output_type": "stream",
     "text": [
      "7/7 [==============================] - 0s 44ms/step - loss: 0.4454 - accuracy: 0.8371\n",
      "Accuracy: 83.71%\n"
     ]
    }
   ],
   "source": [
    "loss, accuracyVAR=var.evaluate(X_test, y_test)\n",
    "print(\"Accuracy: %.2f%%\" % (accuracyVAR * 100.0))"
   ]
  },
  {
   "cell_type": "code",
   "execution_count": 52,
   "metadata": {},
   "outputs": [],
   "source": [
    "var.save('UserApplication/var.keras') # saving model for user application"
   ]
  },
  {
   "cell_type": "markdown",
   "metadata": {
    "id": "9lv1EdTRZ06U"
   },
   "source": [
    "# Auto-encoder neural network"
   ]
  },
  {
   "cell_type": "code",
   "execution_count": 53,
   "metadata": {
    "id": "vMv7MxMJZ06U"
   },
   "outputs": [],
   "source": [
    "# Building the Auto-encoder neural network\n",
    "\n",
    "# Building the Input Layer\n",
    "input_layer = layers.Input(shape =(X_test.shape[1], ))\n",
    "\n",
    "# Building the Encoder network\n",
    "encoded = layers.Dense(512, activation ='tanh', activity_regularizer = regularizers.l1(10e-2))(input_layer)\n",
    "encoded = layers.Dense(128, activation ='tanh', activity_regularizer = regularizers.l1(10e-5))(encoded)\n",
    "encoded = layers.Dense(64, activation ='tanh', activity_regularizer = regularizers.l1(10e-4))(encoded)\n",
    "encoded = layers.Dense(32, activation ='tanh', activity_regularizer = regularizers.l1(10e-5))(encoded)\n",
    "encoded = layers.Dense(6, activation ='relu')(encoded)\n",
    "\n",
    "# Building the Decoder network\n",
    "decoded = layers.Dense(12, activation ='relu')(encoded)\n",
    "decoded = layers.Dense(25, activation ='relu')(decoded)\n",
    "decoded = layers.Dense(50, activation ='relu')(decoded)\n",
    "decoded = layers.Dense(8, activation ='relu')(decoded)\n",
    "\n",
    "# Building the Output Layer\n",
    "output_layer = layers.Dense(1, activation ='relu')(decoded)"
   ]
  },
  {
   "cell_type": "code",
   "execution_count": 54,
   "metadata": {
    "id": "AMSjxUdRZ06U"
   },
   "outputs": [],
   "source": [
    "autoencoder = Model(input_layer, output_layer)\n",
    "autoencoder.compile(optimizer =\"adam\", loss ='binary_crossentropy', metrics='accuracy')"
   ]
  },
  {
   "cell_type": "code",
   "execution_count": 55,
   "metadata": {
    "colab": {
     "base_uri": "https://localhost:8080/"
    },
    "id": "fG5xWMFVZ06V",
    "outputId": "df433ed1-e700-4eff-e1ae-cecd31757894"
   },
   "outputs": [
    {
     "name": "stdout",
     "output_type": "stream",
     "text": [
      "Epoch 1/10\n",
      "128/128 [==============================] - 3s 7ms/step - loss: 5.6895 - accuracy: 0.8452 - val_loss: 1.1597 - val_accuracy: 0.8333\n",
      "Epoch 2/10\n",
      "128/128 [==============================] - 1s 4ms/step - loss: 0.6784 - accuracy: 0.8401 - val_loss: 0.6159 - val_accuracy: 0.8214\n",
      "Epoch 3/10\n",
      "128/128 [==============================] - 1s 5ms/step - loss: 0.5428 - accuracy: 0.8411 - val_loss: 0.5262 - val_accuracy: 0.8452\n",
      "Epoch 4/10\n",
      "128/128 [==============================] - 1s 5ms/step - loss: 0.5108 - accuracy: 0.8459 - val_loss: 0.5039 - val_accuracy: 0.8214\n",
      "Epoch 5/10\n",
      "128/128 [==============================] - 1s 5ms/step - loss: 0.4985 - accuracy: 0.8469 - val_loss: 0.4834 - val_accuracy: 0.8452\n",
      "Epoch 6/10\n",
      "128/128 [==============================] - 1s 5ms/step - loss: 0.5038 - accuracy: 0.8491 - val_loss: 0.5166 - val_accuracy: 0.8690\n",
      "Epoch 7/10\n",
      "128/128 [==============================] - 1s 6ms/step - loss: 0.4906 - accuracy: 0.8506 - val_loss: 0.5141 - val_accuracy: 0.8214\n",
      "Epoch 8/10\n",
      "128/128 [==============================] - 1s 5ms/step - loss: 0.4912 - accuracy: 0.8494 - val_loss: 0.5318 - val_accuracy: 0.8333\n",
      "Epoch 9/10\n",
      "128/128 [==============================] - 1s 6ms/step - loss: 0.4987 - accuracy: 0.8472 - val_loss: 0.5078 - val_accuracy: 0.8452\n",
      "Epoch 10/10\n",
      "128/128 [==============================] - 1s 4ms/step - loss: 0.4873 - accuracy: 0.8513 - val_loss: 0.4872 - val_accuracy: 0.8333\n"
     ]
    }
   ],
   "source": [
    "history = autoencoder.fit(X_train, y_train, epochs = 10, validation_split=0.02)"
   ]
  },
  {
   "cell_type": "code",
   "execution_count": 56,
   "metadata": {
    "colab": {
     "base_uri": "https://localhost:8080/",
     "height": 0
    },
    "id": "r4tWQ6R9vEFe",
    "outputId": "c514cde0-c191-4d45-ff39-3fc79ddbd9ea"
   },
   "outputs": [
    {
     "data": {
      "image/png": "[encoded data removed]",
      "text/plain": [
       "<Figure size 640x480 with 1 Axes>"
      ]
     },
     "metadata": {},
     "output_type": "display_data"
    }
   ],
   "source": [
    "plt.plot(history.history[\"accuracy\"])\n",
    "plt.plot(history.history[\"val_accuracy\"])\n",
    "plt.legend([\"train\", \"test\"], loc=\"upper right\")\n",
    "plt.xlabel(\"Epochs\")\n",
    "plt.ylabel(\"Accuracy\")\n",
    "plt.show()"
   ]
  },
  {
   "cell_type": "code",
   "execution_count": 57,
   "metadata": {
    "colab": {
     "base_uri": "https://localhost:8080/"
    },
    "id": "rE1eSEyPZ06V",
    "outputId": "4ac4658c-7ba2-467b-fdb8-eede0a7fb52d"
   },
   "outputs": [
    {
     "name": "stdout",
     "output_type": "stream",
     "text": [
      "7/7 [==============================] - 0s 4ms/step - loss: 0.5404 - accuracy: 0.8326\n",
      "Accuracy: 83.26%\n"
     ]
    }
   ],
   "source": [
    "loss, accuracyAR=autoencoder.evaluate(X_test, y_test)\n",
    "print(\"Accuracy: %.2f%%\" % (accuracyAR * 100.0))"
   ]
  },
  {
   "cell_type": "code",
   "execution_count": 58,
   "metadata": {},
   "outputs": [],
   "source": [
    "autoencoder.save('UserApplication/autoencoder.keras') # saving model for user application"
   ]
  },
  {
   "cell_type": "markdown",
   "metadata": {
    "id": "nM4tsQAIZ06V"
   },
   "source": [
    "#  Transformer Model"
   ]
  },
  {
   "cell_type": "code",
   "execution_count": 59,
   "metadata": {
    "id": "T9EaDJYJZ06V"
   },
   "outputs": [],
   "source": [
    "x=layers.Input(shape=(X_test.shape[1], 1))\n",
    "LSTMlayer = layers.LSTM(units=1,activation = 'sigmoid', return_sequences = True)(x)\n",
    "attention_layer = layers.Attention(score_mode=\"dot\")([x, LSTMlayer])\n",
    "flatten = layers.Flatten()(attention_layer)\n",
    "outputs=layers.Dense(1, activation=\"softmax\")(flatten)\n",
    "model=Model(x,outputs)\n",
    "model.compile(loss='binary_crossentropy', optimizer='adam', metrics='accuracy')"
   ]
  },
  {
   "cell_type": "code",
   "execution_count": 60,
   "metadata": {
    "colab": {
     "base_uri": "https://localhost:8080/"
    },
    "id": "uwf7Iv50Z06W",
    "outputId": "ac1a9cb3-e482-4257-8eb5-a595d8a82ab1"
   },
   "outputs": [
    {
     "name": "stdout",
     "output_type": "stream",
     "text": [
      "Epoch 1/10\n",
      "128/128 [==============================] - 3s 10ms/step - loss: 0.6672 - accuracy: 0.1606 - val_loss: 0.5296 - val_accuracy: 0.1786\n",
      "Epoch 2/10\n",
      "128/128 [==============================] - 1s 7ms/step - loss: 0.4683 - accuracy: 0.1606 - val_loss: 0.4655 - val_accuracy: 0.1786\n",
      "Epoch 3/10\n",
      "128/128 [==============================] - 1s 9ms/step - loss: 0.4379 - accuracy: 0.1606 - val_loss: 0.4636 - val_accuracy: 0.1786\n",
      "Epoch 4/10\n",
      "128/128 [==============================] - 1s 7ms/step - loss: 0.4361 - accuracy: 0.1606 - val_loss: 0.4628 - val_accuracy: 0.1786\n",
      "Epoch 5/10\n",
      "128/128 [==============================] - 1s 7ms/step - loss: 0.4357 - accuracy: 0.1606 - val_loss: 0.4624 - val_accuracy: 0.1786\n",
      "Epoch 6/10\n",
      "128/128 [==============================] - 1s 7ms/step - loss: 0.4350 - accuracy: 0.1606 - val_loss: 0.4617 - val_accuracy: 0.1786\n",
      "Epoch 7/10\n",
      "128/128 [==============================] - 1s 11ms/step - loss: 0.4345 - accuracy: 0.1606 - val_loss: 0.4611 - val_accuracy: 0.1786\n",
      "Epoch 8/10\n",
      "128/128 [==============================] - 1s 8ms/step - loss: 0.4342 - accuracy: 0.1606 - val_loss: 0.4606 - val_accuracy: 0.1786\n",
      "Epoch 9/10\n",
      "128/128 [==============================] - 1s 8ms/step - loss: 0.4338 - accuracy: 0.1606 - val_loss: 0.4596 - val_accuracy: 0.1786\n",
      "Epoch 10/10\n",
      "128/128 [==============================] - 1s 8ms/step - loss: 0.4339 - accuracy: 0.1606 - val_loss: 0.4594 - val_accuracy: 0.1786\n"
     ]
    }
   ],
   "source": [
    "history = model.fit(X_train, y_train, epochs = 10, validation_split=0.02)"
   ]
  },
  {
   "cell_type": "code",
   "execution_count": 61,
   "metadata": {
    "colab": {
     "base_uri": "https://localhost:8080/",
     "height": 449
    },
    "id": "536D099AvFS0",
    "outputId": "b8246786-bbf3-43c3-eec8-a5b5ef827e23"
   },
   "outputs": [
    {
     "data": {
      "image/png": "[encoded data removed]",
      "text/plain": [
       "<Figure size 640x480 with 1 Axes>"
      ]
     },
     "metadata": {},
     "output_type": "display_data"
    }
   ],
   "source": [
    "plt.plot(history.history[\"accuracy\"])\n",
    "plt.plot(history.history[\"val_accuracy\"])\n",
    "plt.legend([\"train\", \"test\"], loc=\"upper right\")\n",
    "plt.xlabel(\"Epochs\")\n",
    "plt.ylabel(\"Accuracy\")\n",
    "plt.show()"
   ]
  },
  {
   "cell_type": "code",
   "execution_count": 62,
   "metadata": {
    "colab": {
     "base_uri": "https://localhost:8080/"
    },
    "id": "GQs3_2BhZ06X",
    "outputId": "2a202e6d-268d-4bc0-af2b-c77637b84df3"
   },
   "outputs": [
    {
     "name": "stdout",
     "output_type": "stream",
     "text": [
      "7/7 [==============================] - 0s 4ms/step - loss: 0.4436 - accuracy: 0.1629\n",
      "Accuracy: 16.29%\n"
     ]
    }
   ],
   "source": [
    "loss, accTransformer=model.evaluate(X_test, y_test)\n",
    "print(\"Accuracy: %.2f%%\" % (accTransformer * 100.0))"
   ]
  },
  {
   "cell_type": "code",
   "execution_count": 63,
   "metadata": {},
   "outputs": [],
   "source": [
    "model.save('UserApplication/transformer.keras') # saving model for user application"
   ]
  },
  {
   "cell_type": "markdown",
   "metadata": {
    "id": "F91WBTUVZ06Y"
   },
   "source": [
    "#  Graph Neural Network"
   ]
  },
  {
   "cell_type": "code",
   "execution_count": 64,
   "metadata": {
    "id": "Ou4PXiPtz2LZ"
   },
   "outputs": [],
   "source": [
    "class_values = sorted(empl_df['Attrition'].unique())\n",
    "class_idc = {name: id for id, name in enumerate(class_values)}\n",
    "emp_idc = {name: idx for idx, name in enumerate(sorted(empl_df[\"EmployeeID\"].unique()))}"
   ]
  },
  {
   "cell_type": "code",
   "execution_count": 65,
   "metadata": {
    "colab": {
     "base_uri": "https://localhost:8080/"
    },
    "id": "SiNeSfEM0vIX",
    "outputId": "89b4a5c7-a77e-4950-e468-9141dde256f8"
   },
   "outputs": [
    {
     "data": {
      "text/plain": [
       "{'Age',\n",
       " 'BusinessTravel',\n",
       " 'Department',\n",
       " 'DistanceFromHome',\n",
       " 'Education',\n",
       " 'EducationField',\n",
       " 'EmployeeCount',\n",
       " 'EnvironmentSatisfaction',\n",
       " 'Gender',\n",
       " 'JobInvolvement',\n",
       " 'JobLevel',\n",
       " 'JobRole',\n",
       " 'JobSatisfaction',\n",
       " 'MaritalStatus',\n",
       " 'MonthlyIncome',\n",
       " 'NumCompaniesWorked',\n",
       " 'Over18',\n",
       " 'PercentSalaryHike',\n",
       " 'PerformanceRating',\n",
       " 'StandardHours',\n",
       " 'StockOptionLevel',\n",
       " 'TotalWorkingYears',\n",
       " 'TrainingTimesLastYear',\n",
       " 'WorkLifeBalance',\n",
       " 'YearsAtCompany',\n",
       " 'YearsSinceLastPromotion',\n",
       " 'YearsWithCurrManager'}"
      ]
     },
     "execution_count": 65,
     "metadata": {},
     "output_type": "execute_result"
    }
   ],
   "source": [
    "feature_names = set(empl_df.columns) - {\"Attrition\", \"EmployeeID\"}\n",
    "feature_names"
   ]
  },
  {
   "cell_type": "code",
   "execution_count": 66,
   "metadata": {
    "colab": {
     "base_uri": "https://localhost:8080/"
    },
    "id": "4ouhm26S09tL",
    "outputId": "4b66e09d-6a4f-4329-cda3-6fd50a7e3718"
   },
   "outputs": [
    {
     "name": "stdout",
     "output_type": "stream",
     "text": [
      "Edges shape: (1, 4401)\n"
     ]
    }
   ],
   "source": [
    "edges = empl_df[[\"Attrition\"]].to_numpy().T\n",
    "print(\"Edges shape:\", edges.shape)"
   ]
  },
  {
   "cell_type": "code",
   "execution_count": 67,
   "metadata": {
    "colab": {
     "base_uri": "https://localhost:8080/"
    },
    "id": "08ufqW301DBx",
    "outputId": "8aa14533-d911-4e74-f07f-ba6859422ffb"
   },
   "outputs": [
    {
     "name": "stdout",
     "output_type": "stream",
     "text": [
      "Nodes shape: (4401, 27)\n"
     ]
    },
    {
     "name": "stderr",
     "output_type": "stream",
     "text": [
      "C:\\Users\\SHILPA\\AppData\\Local\\Temp\\ipykernel_32688\\2519014731.py:1: FutureWarning: Passing a set as an indexer is deprecated and will raise in a future version. Use a list instead.\n",
      "  node_features = tf.cast(empl_df.sort_values(\"EmployeeID\")[feature_names].to_numpy(), dtype=tf.dtypes.float32)\n"
     ]
    }
   ],
   "source": [
    "node_features = tf.cast(empl_df.sort_values(\"EmployeeID\")[feature_names].to_numpy(), dtype=tf.dtypes.float32)\n",
    "print(\"Nodes shape:\", node_features.shape)"
   ]
  },
  {
   "cell_type": "code",
   "execution_count": 68,
   "metadata": {
    "colab": {
     "base_uri": "https://localhost:8080/"
    },
    "id": "DQMzoPFv1TGO",
    "outputId": "42d0023e-7d74-425b-df17-b8d5450494e3"
   },
   "outputs": [
    {
     "name": "stdout",
     "output_type": "stream",
     "text": [
      "Edges_weights shape: (4401,)\n"
     ]
    }
   ],
   "source": [
    "edge_weights = tf.ones(shape=edges.shape[1])\n",
    "print(\"Edges_weights shape:\", edge_weights.shape)"
   ]
  },
  {
   "cell_type": "code",
   "execution_count": 69,
   "metadata": {
    "colab": {
     "base_uri": "https://localhost:8080/"
    },
    "id": "D-Q_LG0m1WwI",
    "outputId": "569ce3a6-0bf3-44c0-a6d4-f14d9d859011"
   },
   "outputs": [
    {
     "data": {
      "text/plain": [
       "(<tf.Tensor: shape=(4401, 27), dtype=float32, numpy=\n",
       " array([[ 2.,  2.,  1., ...,  3.,  1.,  0.],\n",
       "        [ 1.,  1.,  2., ...,  3.,  6.,  0.],\n",
       "        [ 1.,  4.,  1., ...,  2.,  5.,  1.],\n",
       "        ...,\n",
       "        [ 2.,  4.,  0., ...,  4., 10.,  1.],\n",
       "        [ 2.,  2.,  1., ...,  1.,  5.,  1.],\n",
       "        [ 2.,  2.,  0., ...,  4., 10.,  1.]], dtype=float32)>,\n",
       " array([[0, 1, 0, ..., 0, 0, 0]], dtype=int64),\n",
       " <tf.Tensor: shape=(4401,), dtype=float32, numpy=array([1., 1., 1., ..., 1., 1., 1.], dtype=float32)>)"
      ]
     },
     "execution_count": 69,
     "metadata": {},
     "output_type": "execute_result"
    }
   ],
   "source": [
    "graph_info = (node_features, edges, edge_weights)\n",
    "graph_info"
   ]
  },
  {
   "cell_type": "code",
   "execution_count": 70,
   "metadata": {
    "id": "TPsDEjn-0prw"
   },
   "outputs": [],
   "source": [
    "hidden_units = [32, 32]\n",
    "learning_rate = 0.01\n",
    "dropout_rate = 0.5\n",
    "num_epochs = 300\n",
    "batch_size = 256"
   ]
  },
  {
   "cell_type": "code",
   "execution_count": 71,
   "metadata": {
    "id": "YzKHbC-73NoV"
   },
   "outputs": [],
   "source": [
    "def create_ffn(hidden_units, dropout_rate, name=None):\n",
    "    fnn_layers = []\n",
    "\n",
    "    for units in hidden_units:\n",
    "        fnn_layers.append(layers.BatchNormalization())\n",
    "        fnn_layers.append(layers.Dropout(dropout_rate))\n",
    "        fnn_layers.append(layers.Dense(units, activation='relu'))\n",
    "\n",
    "    return Sequential(fnn_layers, name=name)"
   ]
  },
  {
   "cell_type": "code",
   "execution_count": 72,
   "metadata": {
    "colab": {
     "base_uri": "https://localhost:8080/"
    },
    "id": "0_S-KsX-3VNv",
    "outputId": "1593040f-3fa6-4a8e-d4a6-8ce380eb6f61"
   },
   "outputs": [
    {
     "name": "stdout",
     "output_type": "stream",
     "text": [
      "Model: \"baseline\"\n",
      "__________________________________________________________________________________________________\n",
      " Layer (type)                Output Shape                 Param #   Connected to                  \n",
      "==================================================================================================\n",
      " input_features (InputLayer  [(None, 27)]                 0         []                            \n",
      " )                                                                                                \n",
      "                                                                                                  \n",
      " ffn_block1 (Sequential)     (None, 32)                   2188      ['input_features[0][0]']      \n",
      "                                                                                                  \n",
      " ffn_block2 (Sequential)     (None, 32)                   2368      ['ffn_block1[0][0]']          \n",
      "                                                                                                  \n",
      " skip_connection2 (Add)      (None, 32)                   0         ['ffn_block1[0][0]',          \n",
      "                                                                     'ffn_block2[0][0]']          \n",
      "                                                                                                  \n",
      " ffn_block3 (Sequential)     (None, 32)                   2368      ['skip_connection2[0][0]']    \n",
      "                                                                                                  \n",
      " skip_connection3 (Add)      (None, 32)                   0         ['skip_connection2[0][0]',    \n",
      "                                                                     'ffn_block3[0][0]']          \n",
      "                                                                                                  \n",
      " ffn_block4 (Sequential)     (None, 32)                   2368      ['skip_connection3[0][0]']    \n",
      "                                                                                                  \n",
      " skip_connection4 (Add)      (None, 32)                   0         ['skip_connection3[0][0]',    \n",
      "                                                                     'ffn_block4[0][0]']          \n",
      "                                                                                                  \n",
      " ffn_block5 (Sequential)     (None, 32)                   2368      ['skip_connection4[0][0]']    \n",
      "                                                                                                  \n",
      " skip_connection5 (Add)      (None, 32)                   0         ['skip_connection4[0][0]',    \n",
      "                                                                     'ffn_block5[0][0]']          \n",
      "                                                                                                  \n",
      " logits (Dense)              (None, 1)                    33        ['skip_connection5[0][0]']    \n",
      "                                                                                                  \n",
      "==================================================================================================\n",
      "Total params: 11693 (45.68 KB)\n",
      "Trainable params: 11063 (43.21 KB)\n",
      "Non-trainable params: 630 (2.46 KB)\n",
      "__________________________________________________________________________________________________\n"
     ]
    }
   ],
   "source": [
    "def create_baseline_model(hidden_units, num_classes, dropout_rate):\n",
    "    num_features=len(feature_names)\n",
    "    inputs = layers.Input(shape=(num_features,), name=\"input_features\")\n",
    "    x = create_ffn(hidden_units, dropout_rate, name=f\"ffn_block1\")(inputs)\n",
    "    for block_idx in range(4):\n",
    "        # Create an FFN block.\n",
    "        x1 = create_ffn(hidden_units, dropout_rate, name=f\"ffn_block{block_idx + 2}\")(x)\n",
    "        # Add skip connection.\n",
    "        x = layers.Add(name=f\"skip_connection{block_idx + 2}\")([x, x1])\n",
    "    # Compute logits.\n",
    "    logits = layers.Dense(num_classes, name=\"logits\")(x)\n",
    "    # Create the model.\n",
    "    return keras.Model(inputs=inputs, outputs=logits, name=\"baseline\")\n",
    "\n",
    "\n",
    "baseline_model = create_baseline_model(hidden_units, 1, dropout_rate)\n",
    "baseline_model.summary()\n",
    "baseline_model.compile(optimizer='adam', loss=keras.losses.BinaryCrossentropy(), metrics=['accuracy'])"
   ]
  },
  {
   "cell_type": "code",
   "execution_count": 73,
   "metadata": {
    "colab": {
     "base_uri": "https://localhost:8080/"
    },
    "id": "cytePliR2ust",
    "outputId": "ac30874c-6a25-4941-bc75-b2f830c22df0"
   },
   "outputs": [
    {
     "name": "stdout",
     "output_type": "stream",
     "text": [
      "Epoch 1/10\n",
      "131/131 [==============================] - 8s 8ms/step - loss: 10.2608 - accuracy: 0.2761\n",
      "Epoch 2/10\n",
      "131/131 [==============================] - 1s 7ms/step - loss: 7.3294 - accuracy: 0.4581\n",
      "Epoch 3/10\n",
      "131/131 [==============================] - 1s 8ms/step - loss: 4.3163 - accuracy: 0.6689\n",
      "Epoch 4/10\n",
      "131/131 [==============================] - 1s 7ms/step - loss: 3.5801 - accuracy: 0.7280\n",
      "Epoch 5/10\n",
      "131/131 [==============================] - 1s 9ms/step - loss: 4.4631 - accuracy: 0.6557\n",
      "Epoch 6/10\n",
      "131/131 [==============================] - 1s 7ms/step - loss: 3.9326 - accuracy: 0.6990\n",
      "Epoch 7/10\n",
      "131/131 [==============================] - 1s 6ms/step - loss: 3.4243 - accuracy: 0.7385\n",
      "Epoch 8/10\n",
      "131/131 [==============================] - 1s 6ms/step - loss: 2.7157 - accuracy: 0.8093\n",
      "Epoch 9/10\n",
      "131/131 [==============================] - 1s 6ms/step - loss: 2.6640 - accuracy: 0.8148\n",
      "Epoch 10/10\n",
      "131/131 [==============================] - 1s 7ms/step - loss: 2.6634 - accuracy: 0.8184\n"
     ]
    }
   ],
   "source": [
    "history = baseline_model.fit(X_train, y_train, epochs=10)"
   ]
  },
  {
   "cell_type": "code",
   "execution_count": 76,
   "metadata": {
    "colab": {
     "base_uri": "https://localhost:8080/"
    },
    "id": "ZT2HUorkvHU7",
    "outputId": "6feaebd1-cd5f-4510-fc96-00431c08a279"
   },
   "outputs": [
    {
     "name": "stdout",
     "output_type": "stream",
     "text": [
      "Epoch 1/10\n",
      "128/128 [==============================] - 1s 6ms/step - loss: 2.5490 - accuracy: 0.8279 - val_loss: 2.7545 - val_accuracy: 0.8214\n",
      "Epoch 2/10\n",
      "128/128 [==============================] - 1s 6ms/step - loss: 2.5140 - accuracy: 0.8323 - val_loss: 2.7545 - val_accuracy: 0.8214\n",
      "Epoch 3/10\n",
      "128/128 [==============================] - 1s 7ms/step - loss: 2.4979 - accuracy: 0.8342 - val_loss: 2.7545 - val_accuracy: 0.8214\n",
      "Epoch 4/10\n",
      "128/128 [==============================] - 1s 7ms/step - loss: 2.4916 - accuracy: 0.8357 - val_loss: 2.7545 - val_accuracy: 0.8214\n",
      "Epoch 5/10\n",
      "128/128 [==============================] - 1s 8ms/step - loss: 2.5446 - accuracy: 0.8320 - val_loss: 2.7545 - val_accuracy: 0.8214\n",
      "Epoch 6/10\n",
      "128/128 [==============================] - 1s 7ms/step - loss: 2.5014 - accuracy: 0.8354 - val_loss: 2.7545 - val_accuracy: 0.8214\n",
      "Epoch 7/10\n",
      "128/128 [==============================] - 1s 7ms/step - loss: 2.5223 - accuracy: 0.8333 - val_loss: 2.7545 - val_accuracy: 0.8214\n",
      "Epoch 8/10\n",
      "128/128 [==============================] - 1s 8ms/step - loss: 2.4961 - accuracy: 0.8345 - val_loss: 2.7545 - val_accuracy: 0.8214\n",
      "Epoch 9/10\n",
      "128/128 [==============================] - 1s 7ms/step - loss: 2.4649 - accuracy: 0.8384 - val_loss: 2.7545 - val_accuracy: 0.8214\n",
      "Epoch 10/10\n",
      "128/128 [==============================] - 1s 7ms/step - loss: 2.4930 - accuracy: 0.8372 - val_loss: 2.7545 - val_accuracy: 0.8214\n"
     ]
    }
   ],
   "source": [
    "history = baseline_model.fit(X_train, y_train, epochs = 10, validation_split=0.02)"
   ]
  },
  {
   "cell_type": "code",
   "execution_count": 77,
   "metadata": {
    "colab": {
     "base_uri": "https://localhost:8080/",
     "height": 449
    },
    "id": "aBoDYwJZopEE",
    "outputId": "c75d6d08-26cd-40d8-b664-091433a9854f"
   },
   "outputs": [
    {
     "data": {
      "image/png": "[encoded data removed]",
      "text/plain": [
       "<Figure size 640x480 with 1 Axes>"
      ]
     },
     "metadata": {},
     "output_type": "display_data"
    }
   ],
   "source": [
    "plt.plot(history.history[\"accuracy\"])\n",
    "plt.plot(history.history[\"val_accuracy\"])\n",
    "plt.legend([\"train\", \"test\"], loc=\"upper right\")\n",
    "plt.xlabel(\"Epochs\")\n",
    "plt.ylabel(\"Accuracy\")\n",
    "plt.show()"
   ]
  },
  {
   "cell_type": "code",
   "execution_count": 78,
   "metadata": {
    "colab": {
     "base_uri": "https://localhost:8080/"
    },
    "id": "SYo35Ae07Jmh",
    "outputId": "ed7a3824-867f-4479-8874-61d19ba862a6"
   },
   "outputs": [
    {
     "name": "stdout",
     "output_type": "stream",
     "text": [
      "7/7 [==============================] - 0s 4ms/step - loss: 2.5127 - accuracy: 0.8371\n",
      "Accuracy: 83.71%\n"
     ]
    }
   ],
   "source": [
    "loss, accGNN=baseline_model.evaluate(X_test, y_test)\n",
    "print(\"Accuracy: %.2f%%\" % (accGNN * 100.0))"
   ]
  },
  {
   "cell_type": "code",
   "execution_count": 79,
   "metadata": {},
   "outputs": [],
   "source": [
    "baseline_model.save('UserApplication/gnn.keras') # saving model for user application"
   ]
  },
  {
   "cell_type": "markdown",
   "metadata": {
    "id": "Or0hvLvcxDLd"
   },
   "source": [
    "# **Comparitive Analysis**"
   ]
  },
  {
   "cell_type": "code",
   "execution_count": 80,
   "metadata": {
    "id": "KIYMp7upxHpR"
   },
   "outputs": [],
   "source": [
    "score =pd.DataFrame({'Models':['Variational Autoencoder', 'Auto-encoder', 'Transformer Model', 'Graph Neural Network', 'Support Vector Machine'],\n",
    "                     'Accuracy':[accuracyVAR, accuracyAR, accTransformer, accGNN, accuracySVM]})"
   ]
  },
  {
   "cell_type": "code",
   "execution_count": 81,
   "metadata": {},
   "outputs": [
    {
     "data": {
      "text/html": [
       "<div>\n",
       "<style scoped>\n",
       "    .dataframe tbody tr th:only-of-type {\n",
       "        vertical-align: middle;\n",
       "    }\n",
       "\n",
       "    .dataframe tbody tr th {\n",
       "        vertical-align: top;\n",
       "    }\n",
       "\n",
       "    .dataframe thead th {\n",
       "        text-align: right;\n",
       "    }\n",
       "</style>\n",
       "<table border=\"1\" class=\"dataframe\">\n",
       "  <thead>\n",
       "    <tr style=\"text-align: right;\">\n",
       "      <th></th>\n",
       "      <th>Models</th>\n",
       "      <th>Accuracy</th>\n",
       "    </tr>\n",
       "  </thead>\n",
       "  <tbody>\n",
       "    <tr>\n",
       "      <th>0</th>\n",
       "      <td>Variational Autoencoder</td>\n",
       "      <td>0.837104</td>\n",
       "    </tr>\n",
       "    <tr>\n",
       "      <th>1</th>\n",
       "      <td>Auto-encoder</td>\n",
       "      <td>0.832579</td>\n",
       "    </tr>\n",
       "    <tr>\n",
       "      <th>2</th>\n",
       "      <td>Transformer Model</td>\n",
       "      <td>0.162896</td>\n",
       "    </tr>\n",
       "    <tr>\n",
       "      <th>3</th>\n",
       "      <td>Graph Neural Network</td>\n",
       "      <td>0.837104</td>\n",
       "    </tr>\n",
       "    <tr>\n",
       "      <th>4</th>\n",
       "      <td>Support Vector Machine</td>\n",
       "      <td>0.895928</td>\n",
       "    </tr>\n",
       "  </tbody>\n",
       "</table>\n",
       "</div>"
      ],
      "text/plain": [
       "                    Models  Accuracy\n",
       "0  Variational Autoencoder  0.837104\n",
       "1             Auto-encoder  0.832579\n",
       "2        Transformer Model  0.162896\n",
       "3     Graph Neural Network  0.837104\n",
       "4   Support Vector Machine  0.895928"
      ]
     },
     "execution_count": 81,
     "metadata": {},
     "output_type": "execute_result"
    }
   ],
   "source": [
    "score"
   ]
  },
  {
   "cell_type": "code",
   "execution_count": 82,
   "metadata": {
    "colab": {
     "base_uri": "https://localhost:8080/",
     "height": 689
    },
    "id": "R85THH-qx1V5",
    "outputId": "eeed8ed0-2812-4355-bb8c-b08f1a23cf1c"
   },
   "outputs": [
    {
     "data": {
      "text/plain": [
       "([0, 1, 2, 3, 4],\n",
       " [Text(0, 0, 'Variational Autoencoder'),\n",
       "  Text(1, 0, 'Auto-encoder'),\n",
       "  Text(2, 0, 'Transformer Model'),\n",
       "  Text(3, 0, 'Graph Neural Network'),\n",
       "  Text(4, 0, 'Support Vector Machine')])"
      ]
     },
     "execution_count": 82,
     "metadata": {},
     "output_type": "execute_result"
    },
    {
     "data": {
      "image/png": "[encoded data removed]",
      "text/plain": [
       "<Figure size 800x500 with 1 Axes>"
      ]
     },
     "metadata": {},
     "output_type": "display_data"
    }
   ],
   "source": [
    "plt.figure(figsize=(8,5))\n",
    "plt.bar(score['Models'], score['Accuracy'])\n",
    "plt.xlabel('Models')\n",
    "plt.ylabel('Accuracy')\n",
    "plt.xticks(rotation=45)"
   ]
  },
  {
   "cell_type": "code",
   "execution_count": null,
   "metadata": {},
   "outputs": [],
   "source": []
  }
 ],
 "metadata": {
  "colab": {
   "collapsed_sections": [
    "MIQ65xL37hxO",
    "lQg19zwd8qa1",
    "FrqMn0PU0Bpo",
    "eTRUUoq41Oji",
    "w9Ajn4j66fTR",
    "9lv1EdTRZ06U"
   ],
   "provenance": []
  },
  "kernelspec": {
   "display_name": "Python 3 (ipykernel)",
   "language": "python",
   "name": "python3"
  },
  "language_info": {
   "codemirror_mode": {
    "name": "ipython",
    "version": 3
   },
   "file_extension": ".py",
   "mimetype": "text/x-python",
   "name": "python",
   "nbconvert_exporter": "python",
   "pygments_lexer": "ipython3",
   "version": "3.11.4"
  }
 },
 "nbformat": 4,
 "nbformat_minor": 1
}
