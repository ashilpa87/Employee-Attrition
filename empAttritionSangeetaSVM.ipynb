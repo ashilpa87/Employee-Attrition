{
 "cells": [
  {
   "cell_type": "markdown",
   "metadata": {},
   "source": [
    "## Importing required libraries"
   ]
  },
  {
   "cell_type": "code",
   "execution_count": 1,
   "metadata": {},
   "outputs": [],
   "source": [
    "import matplotlib.pyplot as plt\n",
    "import matplotlib.ticker as mtick\n",
    "import pandas as pd\n",
    "import numpy as np\n",
    "from sklearn import preprocessing\n",
    "from sklearn.feature_selection import chi2, SelectKBest\n",
    "from sklearn.model_selection import train_test_split, cross_val_score\n",
    "from sklearn.metrics import accuracy_score,f1_score\n",
    "from sklearn.tree import DecisionTreeClassifier\n",
    "from sklearn.svm import SVC\n",
    "from sklearn.ensemble import RandomForestClassifier\n",
    "from sklearn.neural_network import MLPClassifier"
   ]
  },
  {
   "cell_type": "markdown",
   "metadata": {},
   "source": [
    "## Data Preparation"
   ]
  },
  {
   "cell_type": "code",
   "execution_count": 2,
   "metadata": {},
   "outputs": [],
   "source": [
    "# importing the data file\n",
    "data = pd.read_excel(\"employee attrition final dataset.xlsx\")"
   ]
  },
  {
   "cell_type": "code",
   "execution_count": 3,
   "metadata": {},
   "outputs": [
    {
     "data": {
      "text/html": [
       "<div>\n",
       "<style scoped>\n",
       "    .dataframe tbody tr th:only-of-type {\n",
       "        vertical-align: middle;\n",
       "    }\n",
       "\n",
       "    .dataframe tbody tr th {\n",
       "        vertical-align: top;\n",
       "    }\n",
       "\n",
       "    .dataframe thead th {\n",
       "        text-align: right;\n",
       "    }\n",
       "</style>\n",
       "<table border=\"1\" class=\"dataframe\">\n",
       "  <thead>\n",
       "    <tr style=\"text-align: right;\">\n",
       "      <th></th>\n",
       "      <th>Employee_ID</th>\n",
       "      <th>Gender</th>\n",
       "      <th>Age</th>\n",
       "      <th>Education_Level</th>\n",
       "      <th>Relationship_Status</th>\n",
       "      <th>Hometown</th>\n",
       "      <th>Unit</th>\n",
       "      <th>Decision_skill_possess</th>\n",
       "      <th>Time_of_service</th>\n",
       "      <th>Time_since_promotion</th>\n",
       "      <th>...</th>\n",
       "      <th>Compensation_and_Benefits</th>\n",
       "      <th>Work_Life_balance</th>\n",
       "      <th>VAR1</th>\n",
       "      <th>VAR2</th>\n",
       "      <th>VAR3</th>\n",
       "      <th>VAR4</th>\n",
       "      <th>VAR5</th>\n",
       "      <th>VAR6</th>\n",
       "      <th>VAR7</th>\n",
       "      <th>Attrition_rate</th>\n",
       "    </tr>\n",
       "  </thead>\n",
       "  <tbody>\n",
       "    <tr>\n",
       "      <th>0</th>\n",
       "      <td>EID_23371</td>\n",
       "      <td>F</td>\n",
       "      <td>42.0</td>\n",
       "      <td>4</td>\n",
       "      <td>Married</td>\n",
       "      <td>Franklin</td>\n",
       "      <td>IT</td>\n",
       "      <td>Conceptual</td>\n",
       "      <td>4.0</td>\n",
       "      <td>4</td>\n",
       "      <td>...</td>\n",
       "      <td>type2</td>\n",
       "      <td>3.0</td>\n",
       "      <td>4</td>\n",
       "      <td>0.7516</td>\n",
       "      <td>1.8688</td>\n",
       "      <td>2.0</td>\n",
       "      <td>4</td>\n",
       "      <td>5</td>\n",
       "      <td>3</td>\n",
       "      <td>0.1841</td>\n",
       "    </tr>\n",
       "    <tr>\n",
       "      <th>1</th>\n",
       "      <td>EID_18000</td>\n",
       "      <td>M</td>\n",
       "      <td>24.0</td>\n",
       "      <td>3</td>\n",
       "      <td>Single</td>\n",
       "      <td>Springfield</td>\n",
       "      <td>Logistics</td>\n",
       "      <td>Analytical</td>\n",
       "      <td>5.0</td>\n",
       "      <td>4</td>\n",
       "      <td>...</td>\n",
       "      <td>type2</td>\n",
       "      <td>4.0</td>\n",
       "      <td>3</td>\n",
       "      <td>-0.9612</td>\n",
       "      <td>-0.4537</td>\n",
       "      <td>2.0</td>\n",
       "      <td>3</td>\n",
       "      <td>5</td>\n",
       "      <td>3</td>\n",
       "      <td>0.0670</td>\n",
       "    </tr>\n",
       "    <tr>\n",
       "      <th>2</th>\n",
       "      <td>EID_3891</td>\n",
       "      <td>F</td>\n",
       "      <td>58.0</td>\n",
       "      <td>3</td>\n",
       "      <td>Married</td>\n",
       "      <td>Clinton</td>\n",
       "      <td>Quality</td>\n",
       "      <td>Conceptual</td>\n",
       "      <td>27.0</td>\n",
       "      <td>3</td>\n",
       "      <td>...</td>\n",
       "      <td>type2</td>\n",
       "      <td>1.0</td>\n",
       "      <td>4</td>\n",
       "      <td>-0.9612</td>\n",
       "      <td>-0.4537</td>\n",
       "      <td>3.0</td>\n",
       "      <td>3</td>\n",
       "      <td>8</td>\n",
       "      <td>3</td>\n",
       "      <td>0.0851</td>\n",
       "    </tr>\n",
       "    <tr>\n",
       "      <th>3</th>\n",
       "      <td>EID_17492</td>\n",
       "      <td>F</td>\n",
       "      <td>26.0</td>\n",
       "      <td>3</td>\n",
       "      <td>Single</td>\n",
       "      <td>Lebanon</td>\n",
       "      <td>Human Resource Management</td>\n",
       "      <td>Behavioral</td>\n",
       "      <td>4.0</td>\n",
       "      <td>3</td>\n",
       "      <td>...</td>\n",
       "      <td>type2</td>\n",
       "      <td>1.0</td>\n",
       "      <td>3</td>\n",
       "      <td>-1.8176</td>\n",
       "      <td>-0.4537</td>\n",
       "      <td>NaN</td>\n",
       "      <td>3</td>\n",
       "      <td>7</td>\n",
       "      <td>3</td>\n",
       "      <td>0.0668</td>\n",
       "    </tr>\n",
       "    <tr>\n",
       "      <th>4</th>\n",
       "      <td>EID_22534</td>\n",
       "      <td>F</td>\n",
       "      <td>31.0</td>\n",
       "      <td>1</td>\n",
       "      <td>Married</td>\n",
       "      <td>Springfield</td>\n",
       "      <td>Logistics</td>\n",
       "      <td>Conceptual</td>\n",
       "      <td>5.0</td>\n",
       "      <td>4</td>\n",
       "      <td>...</td>\n",
       "      <td>type3</td>\n",
       "      <td>3.0</td>\n",
       "      <td>1</td>\n",
       "      <td>0.7516</td>\n",
       "      <td>-0.4537</td>\n",
       "      <td>2.0</td>\n",
       "      <td>2</td>\n",
       "      <td>8</td>\n",
       "      <td>2</td>\n",
       "      <td>0.1827</td>\n",
       "    </tr>\n",
       "    <tr>\n",
       "      <th>5</th>\n",
       "      <td>EID_2278</td>\n",
       "      <td>M</td>\n",
       "      <td>54.0</td>\n",
       "      <td>3</td>\n",
       "      <td>Married</td>\n",
       "      <td>Lebanon</td>\n",
       "      <td>Purchasing</td>\n",
       "      <td>Conceptual</td>\n",
       "      <td>19.0</td>\n",
       "      <td>1</td>\n",
       "      <td>...</td>\n",
       "      <td>type2</td>\n",
       "      <td>1.0</td>\n",
       "      <td>3</td>\n",
       "      <td>-1.8176</td>\n",
       "      <td>1.8688</td>\n",
       "      <td>2.0</td>\n",
       "      <td>2</td>\n",
       "      <td>8</td>\n",
       "      <td>3</td>\n",
       "      <td>0.7613</td>\n",
       "    </tr>\n",
       "    <tr>\n",
       "      <th>6</th>\n",
       "      <td>EID_18588</td>\n",
       "      <td>F</td>\n",
       "      <td>21.0</td>\n",
       "      <td>4</td>\n",
       "      <td>Married</td>\n",
       "      <td>Springfield</td>\n",
       "      <td>Purchasing</td>\n",
       "      <td>Directive</td>\n",
       "      <td>2.0</td>\n",
       "      <td>1</td>\n",
       "      <td>...</td>\n",
       "      <td>type2</td>\n",
       "      <td>2.0</td>\n",
       "      <td>3</td>\n",
       "      <td>-0.9612</td>\n",
       "      <td>0.7075</td>\n",
       "      <td>2.0</td>\n",
       "      <td>3</td>\n",
       "      <td>7</td>\n",
       "      <td>3</td>\n",
       "      <td>0.2819</td>\n",
       "    </tr>\n",
       "    <tr>\n",
       "      <th>7</th>\n",
       "      <td>EID_1235</td>\n",
       "      <td>F</td>\n",
       "      <td>NaN</td>\n",
       "      <td>3</td>\n",
       "      <td>Married</td>\n",
       "      <td>Springfield</td>\n",
       "      <td>Sales</td>\n",
       "      <td>Directive</td>\n",
       "      <td>34.0</td>\n",
       "      <td>4</td>\n",
       "      <td>...</td>\n",
       "      <td>type3</td>\n",
       "      <td>2.0</td>\n",
       "      <td>3</td>\n",
       "      <td>-0.1048</td>\n",
       "      <td>-0.4537</td>\n",
       "      <td>2.0</td>\n",
       "      <td>3</td>\n",
       "      <td>9</td>\n",
       "      <td>3</td>\n",
       "      <td>0.1169</td>\n",
       "    </tr>\n",
       "    <tr>\n",
       "      <th>8</th>\n",
       "      <td>EID_10197</td>\n",
       "      <td>M</td>\n",
       "      <td>40.0</td>\n",
       "      <td>4</td>\n",
       "      <td>Single</td>\n",
       "      <td>Springfield</td>\n",
       "      <td>Production</td>\n",
       "      <td>Analytical</td>\n",
       "      <td>13.0</td>\n",
       "      <td>1</td>\n",
       "      <td>...</td>\n",
       "      <td>type0</td>\n",
       "      <td>4.0</td>\n",
       "      <td>1</td>\n",
       "      <td>NaN</td>\n",
       "      <td>1.8688</td>\n",
       "      <td>2.0</td>\n",
       "      <td>5</td>\n",
       "      <td>6</td>\n",
       "      <td>3</td>\n",
       "      <td>0.1968</td>\n",
       "    </tr>\n",
       "    <tr>\n",
       "      <th>9</th>\n",
       "      <td>EID_21262</td>\n",
       "      <td>M</td>\n",
       "      <td>45.0</td>\n",
       "      <td>3</td>\n",
       "      <td>Married</td>\n",
       "      <td>Lebanon</td>\n",
       "      <td>IT</td>\n",
       "      <td>Directive</td>\n",
       "      <td>21.0</td>\n",
       "      <td>4</td>\n",
       "      <td>...</td>\n",
       "      <td>type3</td>\n",
       "      <td>4.0</td>\n",
       "      <td>3</td>\n",
       "      <td>0.7516</td>\n",
       "      <td>-0.4537</td>\n",
       "      <td>2.0</td>\n",
       "      <td>4</td>\n",
       "      <td>8</td>\n",
       "      <td>3</td>\n",
       "      <td>0.2870</td>\n",
       "    </tr>\n",
       "  </tbody>\n",
       "</table>\n",
       "<p>10 rows × 24 columns</p>\n",
       "</div>"
      ],
      "text/plain": [
       "  Employee_ID Gender   Age  Education_Level Relationship_Status     Hometown  \\\n",
       "0   EID_23371      F  42.0                4             Married     Franklin   \n",
       "1   EID_18000      M  24.0                3              Single  Springfield   \n",
       "2    EID_3891      F  58.0                3             Married      Clinton   \n",
       "3   EID_17492      F  26.0                3              Single      Lebanon   \n",
       "4   EID_22534      F  31.0                1             Married  Springfield   \n",
       "5    EID_2278      M  54.0                3             Married      Lebanon   \n",
       "6   EID_18588      F  21.0                4             Married  Springfield   \n",
       "7    EID_1235      F   NaN                3             Married  Springfield   \n",
       "8   EID_10197      M  40.0                4              Single  Springfield   \n",
       "9   EID_21262      M  45.0                3             Married      Lebanon   \n",
       "\n",
       "                        Unit Decision_skill_possess  Time_of_service  \\\n",
       "0                         IT             Conceptual              4.0   \n",
       "1                  Logistics             Analytical              5.0   \n",
       "2                    Quality             Conceptual             27.0   \n",
       "3  Human Resource Management             Behavioral              4.0   \n",
       "4                  Logistics             Conceptual              5.0   \n",
       "5                 Purchasing             Conceptual             19.0   \n",
       "6                 Purchasing              Directive              2.0   \n",
       "7                      Sales              Directive             34.0   \n",
       "8                 Production             Analytical             13.0   \n",
       "9                         IT              Directive             21.0   \n",
       "\n",
       "   Time_since_promotion  ...  Compensation_and_Benefits  Work_Life_balance  \\\n",
       "0                     4  ...                      type2                3.0   \n",
       "1                     4  ...                      type2                4.0   \n",
       "2                     3  ...                      type2                1.0   \n",
       "3                     3  ...                      type2                1.0   \n",
       "4                     4  ...                      type3                3.0   \n",
       "5                     1  ...                      type2                1.0   \n",
       "6                     1  ...                      type2                2.0   \n",
       "7                     4  ...                      type3                2.0   \n",
       "8                     1  ...                      type0                4.0   \n",
       "9                     4  ...                      type3                4.0   \n",
       "\n",
       "   VAR1    VAR2    VAR3  VAR4  VAR5  VAR6  VAR7  Attrition_rate  \n",
       "0     4  0.7516  1.8688   2.0     4     5     3          0.1841  \n",
       "1     3 -0.9612 -0.4537   2.0     3     5     3          0.0670  \n",
       "2     4 -0.9612 -0.4537   3.0     3     8     3          0.0851  \n",
       "3     3 -1.8176 -0.4537   NaN     3     7     3          0.0668  \n",
       "4     1  0.7516 -0.4537   2.0     2     8     2          0.1827  \n",
       "5     3 -1.8176  1.8688   2.0     2     8     3          0.7613  \n",
       "6     3 -0.9612  0.7075   2.0     3     7     3          0.2819  \n",
       "7     3 -0.1048 -0.4537   2.0     3     9     3          0.1169  \n",
       "8     1     NaN  1.8688   2.0     5     6     3          0.1968  \n",
       "9     3  0.7516 -0.4537   2.0     4     8     3          0.2870  \n",
       "\n",
       "[10 rows x 24 columns]"
      ]
     },
     "execution_count": 3,
     "metadata": {},
     "output_type": "execute_result"
    }
   ],
   "source": [
    "# printing the top 10 rows of data\n",
    "data.head(10)"
   ]
  },
  {
   "cell_type": "markdown",
   "metadata": {},
   "source": [
    "## Exploratory Data Analysis"
   ]
  },
  {
   "cell_type": "code",
   "execution_count": 4,
   "metadata": {},
   "outputs": [
    {
     "data": {
      "text/plain": [
       "Index(['Employee_ID', 'Gender', 'Age', 'Education_Level',\n",
       "       'Relationship_Status', 'Hometown', 'Unit', 'Decision_skill_possess',\n",
       "       'Time_of_service', 'Time_since_promotion', 'growth_rate', 'Travel_Rate',\n",
       "       'Post_Level', 'Pay_Scale', 'Compensation_and_Benefits',\n",
       "       'Work_Life_balance', 'VAR1', 'VAR2', 'VAR3', 'VAR4', 'VAR5', 'VAR6',\n",
       "       'VAR7', 'Attrition_rate'],\n",
       "      dtype='object')"
      ]
     },
     "execution_count": 4,
     "metadata": {},
     "output_type": "execute_result"
    }
   ],
   "source": [
    "# column name\n",
    "data.columns"
   ]
  },
  {
   "cell_type": "code",
   "execution_count": 5,
   "metadata": {},
   "outputs": [
    {
     "data": {
      "text/html": [
       "<div>\n",
       "<style scoped>\n",
       "    .dataframe tbody tr th:only-of-type {\n",
       "        vertical-align: middle;\n",
       "    }\n",
       "\n",
       "    .dataframe tbody tr th {\n",
       "        vertical-align: top;\n",
       "    }\n",
       "\n",
       "    .dataframe thead th {\n",
       "        text-align: right;\n",
       "    }\n",
       "</style>\n",
       "<table border=\"1\" class=\"dataframe\">\n",
       "  <thead>\n",
       "    <tr style=\"text-align: right;\">\n",
       "      <th></th>\n",
       "      <th>Age</th>\n",
       "      <th>Education_Level</th>\n",
       "      <th>Time_of_service</th>\n",
       "      <th>Time_since_promotion</th>\n",
       "      <th>growth_rate</th>\n",
       "      <th>Travel_Rate</th>\n",
       "      <th>Post_Level</th>\n",
       "      <th>Pay_Scale</th>\n",
       "      <th>Work_Life_balance</th>\n",
       "      <th>VAR1</th>\n",
       "      <th>VAR2</th>\n",
       "      <th>VAR3</th>\n",
       "      <th>VAR4</th>\n",
       "      <th>VAR5</th>\n",
       "      <th>VAR6</th>\n",
       "      <th>VAR7</th>\n",
       "      <th>Attrition_rate</th>\n",
       "    </tr>\n",
       "  </thead>\n",
       "  <tbody>\n",
       "    <tr>\n",
       "      <th>count</th>\n",
       "      <td>4713.000000</td>\n",
       "      <td>4999.000000</td>\n",
       "      <td>4903.000000</td>\n",
       "      <td>4999.000000</td>\n",
       "      <td>4999.000000</td>\n",
       "      <td>4999.000000</td>\n",
       "      <td>4999.000000</td>\n",
       "      <td>4992.000000</td>\n",
       "      <td>4989.000000</td>\n",
       "      <td>4999.000000</td>\n",
       "      <td>4595.000000</td>\n",
       "      <td>4999.000000</td>\n",
       "      <td>4524.000000</td>\n",
       "      <td>4999.000000</td>\n",
       "      <td>4999.000000</td>\n",
       "      <td>4999.000000</td>\n",
       "      <td>4999.000000</td>\n",
       "    </tr>\n",
       "    <tr>\n",
       "      <th>mean</th>\n",
       "      <td>39.632930</td>\n",
       "      <td>3.169834</td>\n",
       "      <td>13.378748</td>\n",
       "      <td>2.356071</td>\n",
       "      <td>46.964593</td>\n",
       "      <td>0.815163</td>\n",
       "      <td>2.799560</td>\n",
       "      <td>6.005208</td>\n",
       "      <td>2.382241</td>\n",
       "      <td>3.104221</td>\n",
       "      <td>-0.007690</td>\n",
       "      <td>-0.021416</td>\n",
       "      <td>1.891247</td>\n",
       "      <td>2.844569</td>\n",
       "      <td>7.086617</td>\n",
       "      <td>3.247650</td>\n",
       "      <td>0.187242</td>\n",
       "    </tr>\n",
       "    <tr>\n",
       "      <th>std</th>\n",
       "      <td>13.715201</td>\n",
       "      <td>1.074162</td>\n",
       "      <td>10.363130</td>\n",
       "      <td>1.150377</td>\n",
       "      <td>15.844159</td>\n",
       "      <td>0.648699</td>\n",
       "      <td>1.164119</td>\n",
       "      <td>2.050351</td>\n",
       "      <td>1.126703</td>\n",
       "      <td>0.835476</td>\n",
       "      <td>0.990397</td>\n",
       "      <td>0.997814</td>\n",
       "      <td>0.532078</td>\n",
       "      <td>0.939148</td>\n",
       "      <td>1.172540</td>\n",
       "      <td>0.925324</td>\n",
       "      <td>0.182154</td>\n",
       "    </tr>\n",
       "    <tr>\n",
       "      <th>min</th>\n",
       "      <td>19.000000</td>\n",
       "      <td>1.000000</td>\n",
       "      <td>0.000000</td>\n",
       "      <td>0.000000</td>\n",
       "      <td>20.000000</td>\n",
       "      <td>0.000000</td>\n",
       "      <td>1.000000</td>\n",
       "      <td>1.000000</td>\n",
       "      <td>1.000000</td>\n",
       "      <td>1.000000</td>\n",
       "      <td>-1.817600</td>\n",
       "      <td>-2.776200</td>\n",
       "      <td>1.000000</td>\n",
       "      <td>1.000000</td>\n",
       "      <td>5.000000</td>\n",
       "      <td>1.000000</td>\n",
       "      <td>0.000000</td>\n",
       "    </tr>\n",
       "    <tr>\n",
       "      <th>25%</th>\n",
       "      <td>27.000000</td>\n",
       "      <td>3.000000</td>\n",
       "      <td>5.000000</td>\n",
       "      <td>1.000000</td>\n",
       "      <td>33.000000</td>\n",
       "      <td>0.000000</td>\n",
       "      <td>2.000000</td>\n",
       "      <td>5.000000</td>\n",
       "      <td>1.000000</td>\n",
       "      <td>3.000000</td>\n",
       "      <td>-0.961200</td>\n",
       "      <td>-0.453700</td>\n",
       "      <td>2.000000</td>\n",
       "      <td>2.000000</td>\n",
       "      <td>6.000000</td>\n",
       "      <td>3.000000</td>\n",
       "      <td>0.070850</td>\n",
       "    </tr>\n",
       "    <tr>\n",
       "      <th>50%</th>\n",
       "      <td>37.000000</td>\n",
       "      <td>3.000000</td>\n",
       "      <td>10.000000</td>\n",
       "      <td>2.000000</td>\n",
       "      <td>47.000000</td>\n",
       "      <td>1.000000</td>\n",
       "      <td>3.000000</td>\n",
       "      <td>6.000000</td>\n",
       "      <td>2.000000</td>\n",
       "      <td>3.000000</td>\n",
       "      <td>-0.104800</td>\n",
       "      <td>-0.453700</td>\n",
       "      <td>2.000000</td>\n",
       "      <td>3.000000</td>\n",
       "      <td>7.000000</td>\n",
       "      <td>3.000000</td>\n",
       "      <td>0.142500</td>\n",
       "    </tr>\n",
       "    <tr>\n",
       "      <th>75%</th>\n",
       "      <td>52.000000</td>\n",
       "      <td>4.000000</td>\n",
       "      <td>21.000000</td>\n",
       "      <td>3.000000</td>\n",
       "      <td>61.000000</td>\n",
       "      <td>1.000000</td>\n",
       "      <td>4.000000</td>\n",
       "      <td>8.000000</td>\n",
       "      <td>3.000000</td>\n",
       "      <td>4.000000</td>\n",
       "      <td>0.751600</td>\n",
       "      <td>0.707500</td>\n",
       "      <td>2.000000</td>\n",
       "      <td>3.000000</td>\n",
       "      <td>8.000000</td>\n",
       "      <td>4.000000</td>\n",
       "      <td>0.234600</td>\n",
       "    </tr>\n",
       "    <tr>\n",
       "      <th>max</th>\n",
       "      <td>65.000000</td>\n",
       "      <td>5.000000</td>\n",
       "      <td>43.000000</td>\n",
       "      <td>4.000000</td>\n",
       "      <td>74.000000</td>\n",
       "      <td>2.000000</td>\n",
       "      <td>5.000000</td>\n",
       "      <td>10.000000</td>\n",
       "      <td>5.000000</td>\n",
       "      <td>5.000000</td>\n",
       "      <td>1.608100</td>\n",
       "      <td>1.868800</td>\n",
       "      <td>3.000000</td>\n",
       "      <td>5.000000</td>\n",
       "      <td>9.000000</td>\n",
       "      <td>5.000000</td>\n",
       "      <td>0.995900</td>\n",
       "    </tr>\n",
       "  </tbody>\n",
       "</table>\n",
       "</div>"
      ],
      "text/plain": [
       "               Age  Education_Level  Time_of_service  Time_since_promotion  \\\n",
       "count  4713.000000      4999.000000      4903.000000           4999.000000   \n",
       "mean     39.632930         3.169834        13.378748              2.356071   \n",
       "std      13.715201         1.074162        10.363130              1.150377   \n",
       "min      19.000000         1.000000         0.000000              0.000000   \n",
       "25%      27.000000         3.000000         5.000000              1.000000   \n",
       "50%      37.000000         3.000000        10.000000              2.000000   \n",
       "75%      52.000000         4.000000        21.000000              3.000000   \n",
       "max      65.000000         5.000000        43.000000              4.000000   \n",
       "\n",
       "       growth_rate  Travel_Rate   Post_Level    Pay_Scale  Work_Life_balance  \\\n",
       "count  4999.000000  4999.000000  4999.000000  4992.000000        4989.000000   \n",
       "mean     46.964593     0.815163     2.799560     6.005208           2.382241   \n",
       "std      15.844159     0.648699     1.164119     2.050351           1.126703   \n",
       "min      20.000000     0.000000     1.000000     1.000000           1.000000   \n",
       "25%      33.000000     0.000000     2.000000     5.000000           1.000000   \n",
       "50%      47.000000     1.000000     3.000000     6.000000           2.000000   \n",
       "75%      61.000000     1.000000     4.000000     8.000000           3.000000   \n",
       "max      74.000000     2.000000     5.000000    10.000000           5.000000   \n",
       "\n",
       "              VAR1         VAR2         VAR3         VAR4         VAR5  \\\n",
       "count  4999.000000  4595.000000  4999.000000  4524.000000  4999.000000   \n",
       "mean      3.104221    -0.007690    -0.021416     1.891247     2.844569   \n",
       "std       0.835476     0.990397     0.997814     0.532078     0.939148   \n",
       "min       1.000000    -1.817600    -2.776200     1.000000     1.000000   \n",
       "25%       3.000000    -0.961200    -0.453700     2.000000     2.000000   \n",
       "50%       3.000000    -0.104800    -0.453700     2.000000     3.000000   \n",
       "75%       4.000000     0.751600     0.707500     2.000000     3.000000   \n",
       "max       5.000000     1.608100     1.868800     3.000000     5.000000   \n",
       "\n",
       "              VAR6         VAR7  Attrition_rate  \n",
       "count  4999.000000  4999.000000     4999.000000  \n",
       "mean      7.086617     3.247650        0.187242  \n",
       "std       1.172540     0.925324        0.182154  \n",
       "min       5.000000     1.000000        0.000000  \n",
       "25%       6.000000     3.000000        0.070850  \n",
       "50%       7.000000     3.000000        0.142500  \n",
       "75%       8.000000     4.000000        0.234600  \n",
       "max       9.000000     5.000000        0.995900  "
      ]
     },
     "execution_count": 5,
     "metadata": {},
     "output_type": "execute_result"
    }
   ],
   "source": [
    "# understanding the data structure\n",
    "data.describe()"
   ]
  },
  {
   "cell_type": "code",
   "execution_count": 6,
   "metadata": {},
   "outputs": [
    {
     "name": "stdout",
     "output_type": "stream",
     "text": [
      "<class 'pandas.core.frame.DataFrame'>\n",
      "RangeIndex: 4999 entries, 0 to 4998\n",
      "Data columns (total 24 columns):\n",
      " #   Column                     Non-Null Count  Dtype  \n",
      "---  ------                     --------------  -----  \n",
      " 0   Employee_ID                4999 non-null   object \n",
      " 1   Gender                     4999 non-null   object \n",
      " 2   Age                        4713 non-null   float64\n",
      " 3   Education_Level            4999 non-null   int64  \n",
      " 4   Relationship_Status        4999 non-null   object \n",
      " 5   Hometown                   4999 non-null   object \n",
      " 6   Unit                       4999 non-null   object \n",
      " 7   Decision_skill_possess     4999 non-null   object \n",
      " 8   Time_of_service            4903 non-null   float64\n",
      " 9   Time_since_promotion       4999 non-null   int64  \n",
      " 10  growth_rate                4999 non-null   int64  \n",
      " 11  Travel_Rate                4999 non-null   int64  \n",
      " 12  Post_Level                 4999 non-null   int64  \n",
      " 13  Pay_Scale                  4992 non-null   float64\n",
      " 14  Compensation_and_Benefits  4999 non-null   object \n",
      " 15  Work_Life_balance          4989 non-null   float64\n",
      " 16  VAR1                       4999 non-null   int64  \n",
      " 17  VAR2                       4595 non-null   float64\n",
      " 18  VAR3                       4999 non-null   float64\n",
      " 19  VAR4                       4524 non-null   float64\n",
      " 20  VAR5                       4999 non-null   int64  \n",
      " 21  VAR6                       4999 non-null   int64  \n",
      " 22  VAR7                       4999 non-null   int64  \n",
      " 23  Attrition_rate             4999 non-null   float64\n",
      "dtypes: float64(8), int64(9), object(7)\n",
      "memory usage: 937.4+ KB\n"
     ]
    }
   ],
   "source": [
    "data.info()"
   ]
  },
  {
   "cell_type": "code",
   "execution_count": 7,
   "metadata": {},
   "outputs": [
    {
     "data": {
      "text/plain": [
       "Employee_ID                    0\n",
       "Gender                         0\n",
       "Age                          286\n",
       "Education_Level                0\n",
       "Relationship_Status            0\n",
       "Hometown                       0\n",
       "Unit                           0\n",
       "Decision_skill_possess         0\n",
       "Time_of_service               96\n",
       "Time_since_promotion           0\n",
       "growth_rate                    0\n",
       "Travel_Rate                    0\n",
       "Post_Level                     0\n",
       "Pay_Scale                      7\n",
       "Compensation_and_Benefits      0\n",
       "Work_Life_balance             10\n",
       "VAR1                           0\n",
       "VAR2                         404\n",
       "VAR3                           0\n",
       "VAR4                         475\n",
       "VAR5                           0\n",
       "VAR6                           0\n",
       "VAR7                           0\n",
       "Attrition_rate                 0\n",
       "dtype: int64"
      ]
     },
     "execution_count": 7,
     "metadata": {},
     "output_type": "execute_result"
    }
   ],
   "source": [
    "# checking if data has null values\n",
    "data.isnull().sum()"
   ]
  },
  {
   "cell_type": "code",
   "execution_count": 8,
   "metadata": {},
   "outputs": [],
   "source": [
    "data['Work_Life_balance'] = data['Work_Life_balance'].fillna(1.0)\n",
    "data = data.fillna(0)"
   ]
  },
  {
   "cell_type": "code",
   "execution_count": 9,
   "metadata": {},
   "outputs": [],
   "source": [
    "data['Attrition_rate'] = np.round(data['Attrition_rate'],0)"
   ]
  },
  {
   "cell_type": "code",
   "execution_count": 10,
   "metadata": {},
   "outputs": [
    {
     "data": {
      "text/plain": [
       "0.0    4611\n",
       "1.0     388\n",
       "Name: Attrition_rate, dtype: int64"
      ]
     },
     "execution_count": 10,
     "metadata": {},
     "output_type": "execute_result"
    }
   ],
   "source": [
    "# Checking valvue count for class balance\n",
    "data['Attrition_rate'].value_counts()"
   ]
  },
  {
   "cell_type": "code",
   "execution_count": 11,
   "metadata": {},
   "outputs": [
    {
     "data": {
      "image/png": "[encoded data removed]",
      "text/plain": [
       "<Figure size 432x288 with 1 Axes>"
      ]
     },
     "metadata": {
      "needs_background": "light"
     },
     "output_type": "display_data"
    }
   ],
   "source": [
    "# To see attrition percentage by gender\n",
    "ax = (data['Gender'].value_counts()*100.0 /len(data)).plot(kind='bar',stacked = True, rot = 0,color = ['#4D3425','#E4512B'])\n",
    "ax.yaxis.set_major_formatter(mtick.PercentFormatter())\n",
    "ax.set_ylabel('% Customers')\n",
    "ax.set_xlabel('Gender')\n",
    "ax.set_ylabel('% Employee')\n",
    "ax.set_title('Gender Distribution')\n",
    "\n",
    "# create a list to collect the plt.patches data\n",
    "totals = []\n",
    "\n",
    "# find the values and append to list\n",
    "for i in ax.patches:\n",
    "    totals.append(i.get_width())\n",
    "\n",
    "# set individual bar lables using above list\n",
    "total = sum(totals)\n",
    "\n",
    "for i in ax.patches:\n",
    "    # get_width pulls left or right; get_y pushes up or down\n",
    "    ax.text(i.get_x()+.15, i.get_height()-3.5, \\\n",
    "            str(round((i.get_height()/total), 1))+'%',\n",
    "            fontsize=12,\n",
    "            color='white',\n",
    "           weight = 'bold')"
   ]
  },
  {
   "cell_type": "code",
   "execution_count": 12,
   "metadata": {},
   "outputs": [
    {
     "data": {
      "text/plain": [
       "1.0    1492\n",
       "3.0    1424\n",
       "2.0    1138\n",
       "4.0     870\n",
       "5.0      75\n",
       "Name: Work_Life_balance, dtype: int64"
      ]
     },
     "execution_count": 12,
     "metadata": {},
     "output_type": "execute_result"
    }
   ],
   "source": [
    "data['Work_Life_balance'].value_counts()"
   ]
  },
  {
   "cell_type": "code",
   "execution_count": 13,
   "metadata": {},
   "outputs": [
    {
     "data": {
      "text/plain": [
       "Text(0.5, 1.0, '% of Employees')"
      ]
     },
     "execution_count": 13,
     "metadata": {},
     "output_type": "execute_result"
    },
    {
     "data": {
      "image/png": "[encoded data removed]",
      "text/plain": [
       "<Figure size 360x360 with 1 Axes>"
      ]
     },
     "metadata": {},
     "output_type": "display_data"
    }
   ],
   "source": [
    "# To see attrition percentage by Work_Life_balance\n",
    "ax = (data['Work_Life_balance'].value_counts()*100.0 /len(data))\\\n",
    ".plot.pie(autopct='%.1f%%', labels = [5.0,4.0,3.0,2.0,1.0],figsize =(5,5), fontsize = 12 )                                                                           \n",
    "ax.yaxis.set_major_formatter(mtick.PercentFormatter())\n",
    "ax.set_ylabel('Work_Life_balance',fontsize = 12)\n",
    "ax.set_title('% of Employees', fontsize = 12)"
   ]
  },
  {
   "cell_type": "markdown",
   "metadata": {},
   "source": [
    "#  Department Data"
   ]
  },
  {
   "cell_type": "code",
   "execution_count": 14,
   "metadata": {},
   "outputs": [
    {
     "data": {
      "text/plain": [
       "IT                           1008\n",
       "Logistics                     841\n",
       "Sales                         675\n",
       "Operarions                    482\n",
       "R&D                           480\n",
       "Accounting and Finance        362\n",
       "Purchasing                    358\n",
       "Human Resource Management     245\n",
       "Marketing                     157\n",
       "Production                    151\n",
       "Quality                       139\n",
       "Security                      101\n",
       "Name: Unit, dtype: int64"
      ]
     },
     "execution_count": 14,
     "metadata": {},
     "output_type": "execute_result"
    }
   ],
   "source": [
    "data.Unit.value_counts()"
   ]
  },
  {
   "cell_type": "code",
   "execution_count": 15,
   "metadata": {},
   "outputs": [
    {
     "name": "stdout",
     "output_type": "stream",
     "text": [
      "<class 'pandas.core.frame.DataFrame'>\n",
      "Int64Index: 1008 entries, 0 to 4998\n",
      "Data columns (total 23 columns):\n",
      " #   Column                     Non-Null Count  Dtype  \n",
      "---  ------                     --------------  -----  \n",
      " 0   Employee_ID                1008 non-null   object \n",
      " 1   Gender                     1008 non-null   object \n",
      " 2   Age                        1008 non-null   float64\n",
      " 3   Education_Level            1008 non-null   int64  \n",
      " 4   Relationship_Status        1008 non-null   object \n",
      " 5   Hometown                   1008 non-null   object \n",
      " 6   Decision_skill_possess     1008 non-null   object \n",
      " 7   Time_of_service            1008 non-null   float64\n",
      " 8   Time_since_promotion       1008 non-null   int64  \n",
      " 9   growth_rate                1008 non-null   int64  \n",
      " 10  Travel_Rate                1008 non-null   int64  \n",
      " 11  Post_Level                 1008 non-null   int64  \n",
      " 12  Pay_Scale                  1008 non-null   float64\n",
      " 13  Compensation_and_Benefits  1008 non-null   object \n",
      " 14  Work_Life_balance          1008 non-null   float64\n",
      " 15  VAR1                       1008 non-null   int64  \n",
      " 16  VAR2                       1008 non-null   float64\n",
      " 17  VAR3                       1008 non-null   float64\n",
      " 18  VAR4                       1008 non-null   float64\n",
      " 19  VAR5                       1008 non-null   int64  \n",
      " 20  VAR6                       1008 non-null   int64  \n",
      " 21  VAR7                       1008 non-null   int64  \n",
      " 22  Attrition_rate             1008 non-null   float64\n",
      "dtypes: float64(8), int64(9), object(6)\n",
      "memory usage: 189.0+ KB\n"
     ]
    }
   ],
   "source": [
    "dataIT = data[data.Unit == \"IT\"].drop('Unit', axis=1)\n",
    "dataIT.info()"
   ]
  },
  {
   "cell_type": "code",
   "execution_count": 16,
   "metadata": {},
   "outputs": [
    {
     "name": "stdout",
     "output_type": "stream",
     "text": [
      "<class 'pandas.core.frame.DataFrame'>\n",
      "Int64Index: 841 entries, 1 to 4989\n",
      "Data columns (total 23 columns):\n",
      " #   Column                     Non-Null Count  Dtype  \n",
      "---  ------                     --------------  -----  \n",
      " 0   Employee_ID                841 non-null    object \n",
      " 1   Gender                     841 non-null    object \n",
      " 2   Age                        841 non-null    float64\n",
      " 3   Education_Level            841 non-null    int64  \n",
      " 4   Relationship_Status        841 non-null    object \n",
      " 5   Hometown                   841 non-null    object \n",
      " 6   Decision_skill_possess     841 non-null    object \n",
      " 7   Time_of_service            841 non-null    float64\n",
      " 8   Time_since_promotion       841 non-null    int64  \n",
      " 9   growth_rate                841 non-null    int64  \n",
      " 10  Travel_Rate                841 non-null    int64  \n",
      " 11  Post_Level                 841 non-null    int64  \n",
      " 12  Pay_Scale                  841 non-null    float64\n",
      " 13  Compensation_and_Benefits  841 non-null    object \n",
      " 14  Work_Life_balance          841 non-null    float64\n",
      " 15  VAR1                       841 non-null    int64  \n",
      " 16  VAR2                       841 non-null    float64\n",
      " 17  VAR3                       841 non-null    float64\n",
      " 18  VAR4                       841 non-null    float64\n",
      " 19  VAR5                       841 non-null    int64  \n",
      " 20  VAR6                       841 non-null    int64  \n",
      " 21  VAR7                       841 non-null    int64  \n",
      " 22  Attrition_rate             841 non-null    float64\n",
      "dtypes: float64(8), int64(9), object(6)\n",
      "memory usage: 157.7+ KB\n"
     ]
    }
   ],
   "source": [
    "dataLogistics = data[data.Unit == \"Logistics\"].drop('Unit', axis=1)\n",
    "dataLogistics.info()"
   ]
  },
  {
   "cell_type": "code",
   "execution_count": 17,
   "metadata": {},
   "outputs": [
    {
     "name": "stdout",
     "output_type": "stream",
     "text": [
      "<class 'pandas.core.frame.DataFrame'>\n",
      "Int64Index: 139 entries, 2 to 4975\n",
      "Data columns (total 23 columns):\n",
      " #   Column                     Non-Null Count  Dtype  \n",
      "---  ------                     --------------  -----  \n",
      " 0   Employee_ID                139 non-null    object \n",
      " 1   Gender                     139 non-null    object \n",
      " 2   Age                        139 non-null    float64\n",
      " 3   Education_Level            139 non-null    int64  \n",
      " 4   Relationship_Status        139 non-null    object \n",
      " 5   Hometown                   139 non-null    object \n",
      " 6   Decision_skill_possess     139 non-null    object \n",
      " 7   Time_of_service            139 non-null    float64\n",
      " 8   Time_since_promotion       139 non-null    int64  \n",
      " 9   growth_rate                139 non-null    int64  \n",
      " 10  Travel_Rate                139 non-null    int64  \n",
      " 11  Post_Level                 139 non-null    int64  \n",
      " 12  Pay_Scale                  139 non-null    float64\n",
      " 13  Compensation_and_Benefits  139 non-null    object \n",
      " 14  Work_Life_balance          139 non-null    float64\n",
      " 15  VAR1                       139 non-null    int64  \n",
      " 16  VAR2                       139 non-null    float64\n",
      " 17  VAR3                       139 non-null    float64\n",
      " 18  VAR4                       139 non-null    float64\n",
      " 19  VAR5                       139 non-null    int64  \n",
      " 20  VAR6                       139 non-null    int64  \n",
      " 21  VAR7                       139 non-null    int64  \n",
      " 22  Attrition_rate             139 non-null    float64\n",
      "dtypes: float64(8), int64(9), object(6)\n",
      "memory usage: 26.1+ KB\n"
     ]
    }
   ],
   "source": [
    "dataQuality = data[data.Unit == \"Quality\"].drop('Unit', axis=1)\n",
    "dataQuality.info()"
   ]
  },
  {
   "cell_type": "code",
   "execution_count": 18,
   "metadata": {},
   "outputs": [
    {
     "name": "stdout",
     "output_type": "stream",
     "text": [
      "<class 'pandas.core.frame.DataFrame'>\n",
      "Int64Index: 245 entries, 3 to 4985\n",
      "Data columns (total 23 columns):\n",
      " #   Column                     Non-Null Count  Dtype  \n",
      "---  ------                     --------------  -----  \n",
      " 0   Employee_ID                245 non-null    object \n",
      " 1   Gender                     245 non-null    object \n",
      " 2   Age                        245 non-null    float64\n",
      " 3   Education_Level            245 non-null    int64  \n",
      " 4   Relationship_Status        245 non-null    object \n",
      " 5   Hometown                   245 non-null    object \n",
      " 6   Decision_skill_possess     245 non-null    object \n",
      " 7   Time_of_service            245 non-null    float64\n",
      " 8   Time_since_promotion       245 non-null    int64  \n",
      " 9   growth_rate                245 non-null    int64  \n",
      " 10  Travel_Rate                245 non-null    int64  \n",
      " 11  Post_Level                 245 non-null    int64  \n",
      " 12  Pay_Scale                  245 non-null    float64\n",
      " 13  Compensation_and_Benefits  245 non-null    object \n",
      " 14  Work_Life_balance          245 non-null    float64\n",
      " 15  VAR1                       245 non-null    int64  \n",
      " 16  VAR2                       245 non-null    float64\n",
      " 17  VAR3                       245 non-null    float64\n",
      " 18  VAR4                       245 non-null    float64\n",
      " 19  VAR5                       245 non-null    int64  \n",
      " 20  VAR6                       245 non-null    int64  \n",
      " 21  VAR7                       245 non-null    int64  \n",
      " 22  Attrition_rate             245 non-null    float64\n",
      "dtypes: float64(8), int64(9), object(6)\n",
      "memory usage: 45.9+ KB\n"
     ]
    }
   ],
   "source": [
    "dataHR = data[data.Unit == \"Human Resource Management\"].drop('Unit', axis=1)\n",
    "dataHR.info()"
   ]
  },
  {
   "cell_type": "code",
   "execution_count": 19,
   "metadata": {},
   "outputs": [
    {
     "name": "stdout",
     "output_type": "stream",
     "text": [
      "<class 'pandas.core.frame.DataFrame'>\n",
      "Int64Index: 358 entries, 5 to 4995\n",
      "Data columns (total 23 columns):\n",
      " #   Column                     Non-Null Count  Dtype  \n",
      "---  ------                     --------------  -----  \n",
      " 0   Employee_ID                358 non-null    object \n",
      " 1   Gender                     358 non-null    object \n",
      " 2   Age                        358 non-null    float64\n",
      " 3   Education_Level            358 non-null    int64  \n",
      " 4   Relationship_Status        358 non-null    object \n",
      " 5   Hometown                   358 non-null    object \n",
      " 6   Decision_skill_possess     358 non-null    object \n",
      " 7   Time_of_service            358 non-null    float64\n",
      " 8   Time_since_promotion       358 non-null    int64  \n",
      " 9   growth_rate                358 non-null    int64  \n",
      " 10  Travel_Rate                358 non-null    int64  \n",
      " 11  Post_Level                 358 non-null    int64  \n",
      " 12  Pay_Scale                  358 non-null    float64\n",
      " 13  Compensation_and_Benefits  358 non-null    object \n",
      " 14  Work_Life_balance          358 non-null    float64\n",
      " 15  VAR1                       358 non-null    int64  \n",
      " 16  VAR2                       358 non-null    float64\n",
      " 17  VAR3                       358 non-null    float64\n",
      " 18  VAR4                       358 non-null    float64\n",
      " 19  VAR5                       358 non-null    int64  \n",
      " 20  VAR6                       358 non-null    int64  \n",
      " 21  VAR7                       358 non-null    int64  \n",
      " 22  Attrition_rate             358 non-null    float64\n",
      "dtypes: float64(8), int64(9), object(6)\n",
      "memory usage: 67.1+ KB\n"
     ]
    }
   ],
   "source": [
    "dataPurchasing = data[data.Unit == \"Purchasing\"].drop('Unit', axis=1)\n",
    "dataPurchasing.info()"
   ]
  },
  {
   "cell_type": "code",
   "execution_count": 20,
   "metadata": {},
   "outputs": [
    {
     "name": "stdout",
     "output_type": "stream",
     "text": [
      "<class 'pandas.core.frame.DataFrame'>\n",
      "Int64Index: 675 entries, 7 to 4996\n",
      "Data columns (total 23 columns):\n",
      " #   Column                     Non-Null Count  Dtype  \n",
      "---  ------                     --------------  -----  \n",
      " 0   Employee_ID                675 non-null    object \n",
      " 1   Gender                     675 non-null    object \n",
      " 2   Age                        675 non-null    float64\n",
      " 3   Education_Level            675 non-null    int64  \n",
      " 4   Relationship_Status        675 non-null    object \n",
      " 5   Hometown                   675 non-null    object \n",
      " 6   Decision_skill_possess     675 non-null    object \n",
      " 7   Time_of_service            675 non-null    float64\n",
      " 8   Time_since_promotion       675 non-null    int64  \n",
      " 9   growth_rate                675 non-null    int64  \n",
      " 10  Travel_Rate                675 non-null    int64  \n",
      " 11  Post_Level                 675 non-null    int64  \n",
      " 12  Pay_Scale                  675 non-null    float64\n",
      " 13  Compensation_and_Benefits  675 non-null    object \n",
      " 14  Work_Life_balance          675 non-null    float64\n",
      " 15  VAR1                       675 non-null    int64  \n",
      " 16  VAR2                       675 non-null    float64\n",
      " 17  VAR3                       675 non-null    float64\n",
      " 18  VAR4                       675 non-null    float64\n",
      " 19  VAR5                       675 non-null    int64  \n",
      " 20  VAR6                       675 non-null    int64  \n",
      " 21  VAR7                       675 non-null    int64  \n",
      " 22  Attrition_rate             675 non-null    float64\n",
      "dtypes: float64(8), int64(9), object(6)\n",
      "memory usage: 126.6+ KB\n"
     ]
    }
   ],
   "source": [
    "dataSales = data[data.Unit == \"Sales\"].drop('Unit', axis=1)\n",
    "dataSales.info()"
   ]
  },
  {
   "cell_type": "code",
   "execution_count": 21,
   "metadata": {},
   "outputs": [
    {
     "name": "stdout",
     "output_type": "stream",
     "text": [
      "<class 'pandas.core.frame.DataFrame'>\n",
      "Int64Index: 151 entries, 8 to 4971\n",
      "Data columns (total 23 columns):\n",
      " #   Column                     Non-Null Count  Dtype  \n",
      "---  ------                     --------------  -----  \n",
      " 0   Employee_ID                151 non-null    object \n",
      " 1   Gender                     151 non-null    object \n",
      " 2   Age                        151 non-null    float64\n",
      " 3   Education_Level            151 non-null    int64  \n",
      " 4   Relationship_Status        151 non-null    object \n",
      " 5   Hometown                   151 non-null    object \n",
      " 6   Decision_skill_possess     151 non-null    object \n",
      " 7   Time_of_service            151 non-null    float64\n",
      " 8   Time_since_promotion       151 non-null    int64  \n",
      " 9   growth_rate                151 non-null    int64  \n",
      " 10  Travel_Rate                151 non-null    int64  \n",
      " 11  Post_Level                 151 non-null    int64  \n",
      " 12  Pay_Scale                  151 non-null    float64\n",
      " 13  Compensation_and_Benefits  151 non-null    object \n",
      " 14  Work_Life_balance          151 non-null    float64\n",
      " 15  VAR1                       151 non-null    int64  \n",
      " 16  VAR2                       151 non-null    float64\n",
      " 17  VAR3                       151 non-null    float64\n",
      " 18  VAR4                       151 non-null    float64\n",
      " 19  VAR5                       151 non-null    int64  \n",
      " 20  VAR6                       151 non-null    int64  \n",
      " 21  VAR7                       151 non-null    int64  \n",
      " 22  Attrition_rate             151 non-null    float64\n",
      "dtypes: float64(8), int64(9), object(6)\n",
      "memory usage: 28.3+ KB\n"
     ]
    }
   ],
   "source": [
    "dataProduction = data[data.Unit == \"Production\"].drop('Unit', axis=1)\n",
    "dataProduction.info()"
   ]
  },
  {
   "cell_type": "code",
   "execution_count": 22,
   "metadata": {},
   "outputs": [
    {
     "name": "stdout",
     "output_type": "stream",
     "text": [
      "<class 'pandas.core.frame.DataFrame'>\n",
      "Int64Index: 482 entries, 11 to 4986\n",
      "Data columns (total 23 columns):\n",
      " #   Column                     Non-Null Count  Dtype  \n",
      "---  ------                     --------------  -----  \n",
      " 0   Employee_ID                482 non-null    object \n",
      " 1   Gender                     482 non-null    object \n",
      " 2   Age                        482 non-null    float64\n",
      " 3   Education_Level            482 non-null    int64  \n",
      " 4   Relationship_Status        482 non-null    object \n",
      " 5   Hometown                   482 non-null    object \n",
      " 6   Decision_skill_possess     482 non-null    object \n",
      " 7   Time_of_service            482 non-null    float64\n",
      " 8   Time_since_promotion       482 non-null    int64  \n",
      " 9   growth_rate                482 non-null    int64  \n",
      " 10  Travel_Rate                482 non-null    int64  \n",
      " 11  Post_Level                 482 non-null    int64  \n",
      " 12  Pay_Scale                  482 non-null    float64\n",
      " 13  Compensation_and_Benefits  482 non-null    object \n",
      " 14  Work_Life_balance          482 non-null    float64\n",
      " 15  VAR1                       482 non-null    int64  \n",
      " 16  VAR2                       482 non-null    float64\n",
      " 17  VAR3                       482 non-null    float64\n",
      " 18  VAR4                       482 non-null    float64\n",
      " 19  VAR5                       482 non-null    int64  \n",
      " 20  VAR6                       482 non-null    int64  \n",
      " 21  VAR7                       482 non-null    int64  \n",
      " 22  Attrition_rate             482 non-null    float64\n",
      "dtypes: float64(8), int64(9), object(6)\n",
      "memory usage: 90.4+ KB\n"
     ]
    }
   ],
   "source": [
    "dataOperarions = data[data.Unit == \"Operarions\"].drop('Unit', axis=1)\n",
    "dataOperarions.info()"
   ]
  },
  {
   "cell_type": "code",
   "execution_count": 23,
   "metadata": {
    "scrolled": true
   },
   "outputs": [
    {
     "name": "stdout",
     "output_type": "stream",
     "text": [
      "<class 'pandas.core.frame.DataFrame'>\n",
      "Int64Index: 362 entries, 17 to 4997\n",
      "Data columns (total 23 columns):\n",
      " #   Column                     Non-Null Count  Dtype  \n",
      "---  ------                     --------------  -----  \n",
      " 0   Employee_ID                362 non-null    object \n",
      " 1   Gender                     362 non-null    object \n",
      " 2   Age                        362 non-null    float64\n",
      " 3   Education_Level            362 non-null    int64  \n",
      " 4   Relationship_Status        362 non-null    object \n",
      " 5   Hometown                   362 non-null    object \n",
      " 6   Decision_skill_possess     362 non-null    object \n",
      " 7   Time_of_service            362 non-null    float64\n",
      " 8   Time_since_promotion       362 non-null    int64  \n",
      " 9   growth_rate                362 non-null    int64  \n",
      " 10  Travel_Rate                362 non-null    int64  \n",
      " 11  Post_Level                 362 non-null    int64  \n",
      " 12  Pay_Scale                  362 non-null    float64\n",
      " 13  Compensation_and_Benefits  362 non-null    object \n",
      " 14  Work_Life_balance          362 non-null    float64\n",
      " 15  VAR1                       362 non-null    int64  \n",
      " 16  VAR2                       362 non-null    float64\n",
      " 17  VAR3                       362 non-null    float64\n",
      " 18  VAR4                       362 non-null    float64\n",
      " 19  VAR5                       362 non-null    int64  \n",
      " 20  VAR6                       362 non-null    int64  \n",
      " 21  VAR7                       362 non-null    int64  \n",
      " 22  Attrition_rate             362 non-null    float64\n",
      "dtypes: float64(8), int64(9), object(6)\n",
      "memory usage: 67.9+ KB\n"
     ]
    }
   ],
   "source": [
    "dataAcconting = data[data.Unit == \"Accounting and Finance\"].drop('Unit', axis=1)\n",
    "dataAcconting.info()"
   ]
  },
  {
   "cell_type": "code",
   "execution_count": 24,
   "metadata": {},
   "outputs": [
    {
     "name": "stdout",
     "output_type": "stream",
     "text": [
      "<class 'pandas.core.frame.DataFrame'>\n",
      "Int64Index: 157 entries, 25 to 4958\n",
      "Data columns (total 23 columns):\n",
      " #   Column                     Non-Null Count  Dtype  \n",
      "---  ------                     --------------  -----  \n",
      " 0   Employee_ID                157 non-null    object \n",
      " 1   Gender                     157 non-null    object \n",
      " 2   Age                        157 non-null    float64\n",
      " 3   Education_Level            157 non-null    int64  \n",
      " 4   Relationship_Status        157 non-null    object \n",
      " 5   Hometown                   157 non-null    object \n",
      " 6   Decision_skill_possess     157 non-null    object \n",
      " 7   Time_of_service            157 non-null    float64\n",
      " 8   Time_since_promotion       157 non-null    int64  \n",
      " 9   growth_rate                157 non-null    int64  \n",
      " 10  Travel_Rate                157 non-null    int64  \n",
      " 11  Post_Level                 157 non-null    int64  \n",
      " 12  Pay_Scale                  157 non-null    float64\n",
      " 13  Compensation_and_Benefits  157 non-null    object \n",
      " 14  Work_Life_balance          157 non-null    float64\n",
      " 15  VAR1                       157 non-null    int64  \n",
      " 16  VAR2                       157 non-null    float64\n",
      " 17  VAR3                       157 non-null    float64\n",
      " 18  VAR4                       157 non-null    float64\n",
      " 19  VAR5                       157 non-null    int64  \n",
      " 20  VAR6                       157 non-null    int64  \n",
      " 21  VAR7                       157 non-null    int64  \n",
      " 22  Attrition_rate             157 non-null    float64\n",
      "dtypes: float64(8), int64(9), object(6)\n",
      "memory usage: 29.4+ KB\n"
     ]
    }
   ],
   "source": [
    "dataMarketing = data[data.Unit == \"Marketing\"].drop('Unit', axis=1)\n",
    "dataMarketing.info()"
   ]
  },
  {
   "cell_type": "code",
   "execution_count": 25,
   "metadata": {},
   "outputs": [
    {
     "name": "stdout",
     "output_type": "stream",
     "text": [
      "<class 'pandas.core.frame.DataFrame'>\n",
      "Int64Index: 480 entries, 26 to 4992\n",
      "Data columns (total 23 columns):\n",
      " #   Column                     Non-Null Count  Dtype  \n",
      "---  ------                     --------------  -----  \n",
      " 0   Employee_ID                480 non-null    object \n",
      " 1   Gender                     480 non-null    object \n",
      " 2   Age                        480 non-null    float64\n",
      " 3   Education_Level            480 non-null    int64  \n",
      " 4   Relationship_Status        480 non-null    object \n",
      " 5   Hometown                   480 non-null    object \n",
      " 6   Decision_skill_possess     480 non-null    object \n",
      " 7   Time_of_service            480 non-null    float64\n",
      " 8   Time_since_promotion       480 non-null    int64  \n",
      " 9   growth_rate                480 non-null    int64  \n",
      " 10  Travel_Rate                480 non-null    int64  \n",
      " 11  Post_Level                 480 non-null    int64  \n",
      " 12  Pay_Scale                  480 non-null    float64\n",
      " 13  Compensation_and_Benefits  480 non-null    object \n",
      " 14  Work_Life_balance          480 non-null    float64\n",
      " 15  VAR1                       480 non-null    int64  \n",
      " 16  VAR2                       480 non-null    float64\n",
      " 17  VAR3                       480 non-null    float64\n",
      " 18  VAR4                       480 non-null    float64\n",
      " 19  VAR5                       480 non-null    int64  \n",
      " 20  VAR6                       480 non-null    int64  \n",
      " 21  VAR7                       480 non-null    int64  \n",
      " 22  Attrition_rate             480 non-null    float64\n",
      "dtypes: float64(8), int64(9), object(6)\n",
      "memory usage: 90.0+ KB\n"
     ]
    }
   ],
   "source": [
    "dataRnD = data[data.Unit == \"R&D\"].drop('Unit', axis=1)\n",
    "dataRnD.info()"
   ]
  },
  {
   "cell_type": "code",
   "execution_count": 26,
   "metadata": {},
   "outputs": [
    {
     "name": "stdout",
     "output_type": "stream",
     "text": [
      "<class 'pandas.core.frame.DataFrame'>\n",
      "Int64Index: 101 entries, 61 to 4932\n",
      "Data columns (total 23 columns):\n",
      " #   Column                     Non-Null Count  Dtype  \n",
      "---  ------                     --------------  -----  \n",
      " 0   Employee_ID                101 non-null    object \n",
      " 1   Gender                     101 non-null    object \n",
      " 2   Age                        101 non-null    float64\n",
      " 3   Education_Level            101 non-null    int64  \n",
      " 4   Relationship_Status        101 non-null    object \n",
      " 5   Hometown                   101 non-null    object \n",
      " 6   Decision_skill_possess     101 non-null    object \n",
      " 7   Time_of_service            101 non-null    float64\n",
      " 8   Time_since_promotion       101 non-null    int64  \n",
      " 9   growth_rate                101 non-null    int64  \n",
      " 10  Travel_Rate                101 non-null    int64  \n",
      " 11  Post_Level                 101 non-null    int64  \n",
      " 12  Pay_Scale                  101 non-null    float64\n",
      " 13  Compensation_and_Benefits  101 non-null    object \n",
      " 14  Work_Life_balance          101 non-null    float64\n",
      " 15  VAR1                       101 non-null    int64  \n",
      " 16  VAR2                       101 non-null    float64\n",
      " 17  VAR3                       101 non-null    float64\n",
      " 18  VAR4                       101 non-null    float64\n",
      " 19  VAR5                       101 non-null    int64  \n",
      " 20  VAR6                       101 non-null    int64  \n",
      " 21  VAR7                       101 non-null    int64  \n",
      " 22  Attrition_rate             101 non-null    float64\n",
      "dtypes: float64(8), int64(9), object(6)\n",
      "memory usage: 18.9+ KB\n"
     ]
    }
   ],
   "source": [
    "dataSecurity = data[data.Unit == \"Security\"].drop('Unit', axis=1)\n",
    "dataSecurity.info()"
   ]
  },
  {
   "cell_type": "markdown",
   "metadata": {},
   "source": [
    "# Label Encoding"
   ]
  },
  {
   "cell_type": "code",
   "execution_count": 27,
   "metadata": {},
   "outputs": [
    {
     "name": "stdout",
     "output_type": "stream",
     "text": [
      "<class 'pandas.core.frame.DataFrame'>\n",
      "RangeIndex: 4999 entries, 0 to 4998\n",
      "Data columns (total 24 columns):\n",
      " #   Column                     Non-Null Count  Dtype  \n",
      "---  ------                     --------------  -----  \n",
      " 0   Employee_ID                4999 non-null   object \n",
      " 1   Gender                     4999 non-null   object \n",
      " 2   Age                        4999 non-null   float64\n",
      " 3   Education_Level            4999 non-null   int64  \n",
      " 4   Relationship_Status        4999 non-null   object \n",
      " 5   Hometown                   4999 non-null   object \n",
      " 6   Unit                       4999 non-null   object \n",
      " 7   Decision_skill_possess     4999 non-null   object \n",
      " 8   Time_of_service            4999 non-null   float64\n",
      " 9   Time_since_promotion       4999 non-null   int64  \n",
      " 10  growth_rate                4999 non-null   int64  \n",
      " 11  Travel_Rate                4999 non-null   int64  \n",
      " 12  Post_Level                 4999 non-null   int64  \n",
      " 13  Pay_Scale                  4999 non-null   float64\n",
      " 14  Compensation_and_Benefits  4999 non-null   object \n",
      " 15  Work_Life_balance          4999 non-null   float64\n",
      " 16  VAR1                       4999 non-null   int64  \n",
      " 17  VAR2                       4999 non-null   float64\n",
      " 18  VAR3                       4999 non-null   float64\n",
      " 19  VAR4                       4999 non-null   float64\n",
      " 20  VAR5                       4999 non-null   int64  \n",
      " 21  VAR6                       4999 non-null   int64  \n",
      " 22  VAR7                       4999 non-null   int64  \n",
      " 23  Attrition_rate             4999 non-null   float64\n",
      "dtypes: float64(8), int64(9), object(7)\n",
      "memory usage: 937.4+ KB\n"
     ]
    }
   ],
   "source": [
    "data.info()"
   ]
  },
  {
   "cell_type": "code",
   "execution_count": 28,
   "metadata": {},
   "outputs": [],
   "source": [
    "data = pd.get_dummies(data) \n",
    "dataIT = pd.get_dummies(dataIT) \n",
    "dataLogistics = pd.get_dummies(dataLogistics) \n",
    "dataQuality = pd.get_dummies(dataQuality) \n",
    "dataHR = pd.get_dummies(dataHR) \n",
    "dataPurchasing = pd.get_dummies(dataPurchasing) \n",
    "dataSales = pd.get_dummies(dataSales) \n",
    "dataProduction = pd.get_dummies(dataProduction) \n",
    "dataOperarions = pd.get_dummies(dataOperarions) \n",
    "dataAcconting = pd.get_dummies(dataAcconting) \n",
    "dataMarketing = pd.get_dummies(dataMarketing) \n",
    "dataRnD = pd.get_dummies(dataRnD) \n",
    "dataSecurity = pd.get_dummies(dataSecurity)  "
   ]
  },
  {
   "cell_type": "markdown",
   "metadata": {},
   "source": [
    "# Class Balancing"
   ]
  },
  {
   "cell_type": "code",
   "execution_count": 29,
   "metadata": {},
   "outputs": [],
   "source": [
    "def class_balancing(data):\n",
    "    count_class_0, count_class_1 = data.Attrition_rate.value_counts()\n",
    "\n",
    "    # Divide by class\n",
    "    df_class_0 = data[data['Attrition_rate'] == 0]\n",
    "    df_class_1 = data[data['Attrition_rate'] == 1]\n",
    "    df_class_1_over = df_class_1.sample(count_class_0, replace=True)\n",
    "    df_test_over = pd.concat([df_class_0, df_class_1_over], axis=0)\n",
    "\n",
    "    print('Random over-sampling:')\n",
    "    print(df_test_over.Attrition_rate.value_counts())\n",
    "\n",
    "    df_test_over.Attrition_rate.value_counts().plot(kind='bar', title='Count (target)')\n",
    "    return df_test_over"
   ]
  },
  {
   "cell_type": "code",
   "execution_count": 30,
   "metadata": {},
   "outputs": [
    {
     "name": "stdout",
     "output_type": "stream",
     "text": [
      "Random over-sampling:\n",
      "0.0    4611\n",
      "1.0    4611\n",
      "Name: Attrition_rate, dtype: int64\n"
     ]
    },
    {
     "data": {
      "image/png": "[encoded data removed]",
      "text/plain": [
       "<Figure size 432x288 with 1 Axes>"
      ]
     },
     "metadata": {
      "needs_background": "light"
     },
     "output_type": "display_data"
    }
   ],
   "source": [
    "data = class_balancing(data)"
   ]
  },
  {
   "cell_type": "code",
   "execution_count": 31,
   "metadata": {},
   "outputs": [
    {
     "name": "stdout",
     "output_type": "stream",
     "text": [
      "Random over-sampling:\n",
      "0.0    946\n",
      "1.0    946\n",
      "Name: Attrition_rate, dtype: int64\n"
     ]
    },
    {
     "data": {
      "image/png": "[encoded data removed]",
      "text/plain": [
       "<Figure size 432x288 with 1 Axes>"
      ]
     },
     "metadata": {
      "needs_background": "light"
     },
     "output_type": "display_data"
    }
   ],
   "source": [
    "dataIT = class_balancing(dataIT)"
   ]
  },
  {
   "cell_type": "code",
   "execution_count": 32,
   "metadata": {},
   "outputs": [
    {
     "name": "stdout",
     "output_type": "stream",
     "text": [
      "Random over-sampling:\n",
      "0.0    778\n",
      "1.0    778\n",
      "Name: Attrition_rate, dtype: int64\n"
     ]
    },
    {
     "data": {
      "image/png": "[encoded data removed]",
      "text/plain": [
       "<Figure size 432x288 with 1 Axes>"
      ]
     },
     "metadata": {
      "needs_background": "light"
     },
     "output_type": "display_data"
    }
   ],
   "source": [
    "dataLogistics = class_balancing(dataLogistics)"
   ]
  },
  {
   "cell_type": "code",
   "execution_count": 33,
   "metadata": {},
   "outputs": [
    {
     "name": "stdout",
     "output_type": "stream",
     "text": [
      "Random over-sampling:\n",
      "0.0    129\n",
      "1.0    129\n",
      "Name: Attrition_rate, dtype: int64\n"
     ]
    },
    {
     "data": {
      "image/png": "[encoded data removed]",
      "text/plain": [
       "<Figure size 432x288 with 1 Axes>"
      ]
     },
     "metadata": {
      "needs_background": "light"
     },
     "output_type": "display_data"
    }
   ],
   "source": [
    "dataQuality = class_balancing(dataQuality)"
   ]
  },
  {
   "cell_type": "code",
   "execution_count": 34,
   "metadata": {},
   "outputs": [
    {
     "name": "stdout",
     "output_type": "stream",
     "text": [
      "Random over-sampling:\n",
      "0.0    229\n",
      "1.0    229\n",
      "Name: Attrition_rate, dtype: int64\n"
     ]
    },
    {
     "data": {
      "image/png": "[encoded data removed]",
      "text/plain": [
       "<Figure size 432x288 with 1 Axes>"
      ]
     },
     "metadata": {
      "needs_background": "light"
     },
     "output_type": "display_data"
    }
   ],
   "source": [
    "dataHR = class_balancing(dataHR)"
   ]
  },
  {
   "cell_type": "code",
   "execution_count": 35,
   "metadata": {},
   "outputs": [
    {
     "name": "stdout",
     "output_type": "stream",
     "text": [
      "Random over-sampling:\n",
      "0.0    329\n",
      "1.0    329\n",
      "Name: Attrition_rate, dtype: int64\n"
     ]
    },
    {
     "data": {
      "image/png": "[encoded data removed]",
      "text/plain": [
       "<Figure size 432x288 with 1 Axes>"
      ]
     },
     "metadata": {
      "needs_background": "light"
     },
     "output_type": "display_data"
    }
   ],
   "source": [
    "dataPurchasing = class_balancing(dataPurchasing)"
   ]
  },
  {
   "cell_type": "code",
   "execution_count": 36,
   "metadata": {},
   "outputs": [
    {
     "name": "stdout",
     "output_type": "stream",
     "text": [
      "Random over-sampling:\n",
      "0.0    618\n",
      "1.0    618\n",
      "Name: Attrition_rate, dtype: int64\n"
     ]
    },
    {
     "data": {
      "image/png": "[encoded data removed]",
      "text/plain": [
       "<Figure size 432x288 with 1 Axes>"
      ]
     },
     "metadata": {
      "needs_background": "light"
     },
     "output_type": "display_data"
    }
   ],
   "source": [
    "dataSales = class_balancing(dataSales)"
   ]
  },
  {
   "cell_type": "code",
   "execution_count": 37,
   "metadata": {},
   "outputs": [
    {
     "name": "stdout",
     "output_type": "stream",
     "text": [
      "Random over-sampling:\n",
      "0.0    138\n",
      "1.0    138\n",
      "Name: Attrition_rate, dtype: int64\n"
     ]
    },
    {
     "data": {
      "image/png": "[encoded data removed]",
      "text/plain": [
       "<Figure size 432x288 with 1 Axes>"
      ]
     },
     "metadata": {
      "needs_background": "light"
     },
     "output_type": "display_data"
    }
   ],
   "source": [
    "dataProduction = class_balancing(dataProduction)"
   ]
  },
  {
   "cell_type": "code",
   "execution_count": 38,
   "metadata": {},
   "outputs": [
    {
     "name": "stdout",
     "output_type": "stream",
     "text": [
      "Random over-sampling:\n",
      "0.0    438\n",
      "1.0    438\n",
      "Name: Attrition_rate, dtype: int64\n"
     ]
    },
    {
     "data": {
      "image/png": "[encoded data removed]",
      "text/plain": [
       "<Figure size 432x288 with 1 Axes>"
      ]
     },
     "metadata": {
      "needs_background": "light"
     },
     "output_type": "display_data"
    }
   ],
   "source": [
    "dataOperarions = class_balancing(dataOperarions)"
   ]
  },
  {
   "cell_type": "code",
   "execution_count": 39,
   "metadata": {},
   "outputs": [
    {
     "name": "stdout",
     "output_type": "stream",
     "text": [
      "Random over-sampling:\n",
      "0.0    341\n",
      "1.0    341\n",
      "Name: Attrition_rate, dtype: int64\n"
     ]
    },
    {
     "data": {
      "image/png": "[encoded data removed]",
      "text/plain": [
       "<Figure size 432x288 with 1 Axes>"
      ]
     },
     "metadata": {
      "needs_background": "light"
     },
     "output_type": "display_data"
    }
   ],
   "source": [
    "dataAcconting = class_balancing(dataAcconting)"
   ]
  },
  {
   "cell_type": "code",
   "execution_count": 40,
   "metadata": {},
   "outputs": [
    {
     "name": "stdout",
     "output_type": "stream",
     "text": [
      "Random over-sampling:\n",
      "0.0    142\n",
      "1.0    142\n",
      "Name: Attrition_rate, dtype: int64\n"
     ]
    },
    {
     "data": {
      "image/png": "[encoded data removed]",
      "text/plain": [
       "<Figure size 432x288 with 1 Axes>"
      ]
     },
     "metadata": {
      "needs_background": "light"
     },
     "output_type": "display_data"
    }
   ],
   "source": [
    "dataMarketing = class_balancing(dataMarketing)"
   ]
  },
  {
   "cell_type": "code",
   "execution_count": 41,
   "metadata": {},
   "outputs": [
    {
     "name": "stdout",
     "output_type": "stream",
     "text": [
      "Random over-sampling:\n",
      "0.0    429\n",
      "1.0    429\n",
      "Name: Attrition_rate, dtype: int64\n"
     ]
    },
    {
     "data": {
      "image/png": "[encoded data removed]",
      "text/plain": [
       "<Figure size 432x288 with 1 Axes>"
      ]
     },
     "metadata": {
      "needs_background": "light"
     },
     "output_type": "display_data"
    }
   ],
   "source": [
    "dataRnD = class_balancing(dataRnD)"
   ]
  },
  {
   "cell_type": "code",
   "execution_count": 42,
   "metadata": {},
   "outputs": [
    {
     "name": "stdout",
     "output_type": "stream",
     "text": [
      "Random over-sampling:\n",
      "0.0    94\n",
      "1.0    94\n",
      "Name: Attrition_rate, dtype: int64\n"
     ]
    },
    {
     "data": {
      "image/png": "[encoded data removed]",
      "text/plain": [
       "<Figure size 432x288 with 1 Axes>"
      ]
     },
     "metadata": {
      "needs_background": "light"
     },
     "output_type": "display_data"
    }
   ],
   "source": [
    "dataSecurity = class_balancing(dataSecurity)"
   ]
  },
  {
   "cell_type": "markdown",
   "metadata": {},
   "source": [
    "# Feature Selection and Data Preparation"
   ]
  },
  {
   "cell_type": "code",
   "execution_count": 43,
   "metadata": {},
   "outputs": [],
   "source": [
    "def feature_selection(data):\n",
    "    x = data.drop('Attrition_rate',axis=1)\n",
    "    y = data['Attrition_rate']\n",
    "    # Generating chi score for all features\n",
    "    chi_scores = chi2(np.abs(x),y)\n",
    "    # Probality values\n",
    "    p_values = pd.Series(chi_scores[1],index = x.columns)\n",
    "    p_values.sort_values(ascending = False , inplace = True)\n",
    "    print(p_values)\n",
    "    x = SelectKBest(chi2, k=20).fit_transform(np.abs(x), y)\n",
    "    return x,y"
   ]
  },
  {
   "cell_type": "code",
   "execution_count": 44,
   "metadata": {},
   "outputs": [
    {
     "name": "stdout",
     "output_type": "stream",
     "text": [
      "VAR5                                 9.311458e-01\n",
      "Decision_skill_possess_Analytical    8.998291e-01\n",
      "Unit_Purchasing                      8.158816e-01\n",
      "Compensation_and_Benefits_type2      7.495062e-01\n",
      "Unit_Logistics                       6.144070e-01\n",
      "                                         ...     \n",
      "Unit_IT                              2.502066e-06\n",
      "Unit_R&D                             8.309524e-07\n",
      "growth_rate                          3.223897e-07\n",
      "Time_of_service                      1.034822e-07\n",
      "Age                                  3.378158e-17\n",
      "Length: 5045, dtype: float64\n"
     ]
    },
    {
     "data": {
      "text/plain": [
       "((7377, 20), (1845, 20), (7377,), (1845,))"
      ]
     },
     "execution_count": 44,
     "metadata": {},
     "output_type": "execute_result"
    }
   ],
   "source": [
    "x, y = feature_selection(data)\n",
    "XTrain, XTest, YTrain, YTest = train_test_split(x,y, test_size=0.2)\n",
    "XTrain.shape, XTest.shape, YTrain.shape, YTest.shape"
   ]
  },
  {
   "cell_type": "code",
   "execution_count": 45,
   "metadata": {},
   "outputs": [
    {
     "name": "stdout",
     "output_type": "stream",
     "text": [
      "Pay_Scale                          9.849838e-01\n",
      "VAR1                               9.687524e-01\n",
      "Compensation_and_Benefits_type4    7.582395e-01\n",
      "Relationship_Status_Married        7.114408e-01\n",
      "Relationship_Status_Single         6.120297e-01\n",
      "                                       ...     \n",
      "Employee_ID_EID_8444               1.620014e-06\n",
      "Employee_ID_EID_8061               5.733031e-07\n",
      "Compensation_and_Benefits_type3    2.999405e-10\n",
      "growth_rate                        2.830934e-23\n",
      "Age                                2.802443e-30\n",
      "Length: 1042, dtype: float64\n"
     ]
    },
    {
     "data": {
      "text/plain": [
       "((1513, 20), (379, 20), (1513,), (379,))"
      ]
     },
     "execution_count": 45,
     "metadata": {},
     "output_type": "execute_result"
    }
   ],
   "source": [
    "x, y = feature_selection(dataIT)\n",
    "XTraindataIT, XTestdataIT, YTraindataIT, YTestdataIT = train_test_split(x,y, test_size=0.2)\n",
    "XTraindataIT.shape, XTestdataIT.shape, YTraindataIT.shape, YTestdataIT.shape"
   ]
  },
  {
   "cell_type": "code",
   "execution_count": 46,
   "metadata": {
    "scrolled": true
   },
   "outputs": [
    {
     "name": "stdout",
     "output_type": "stream",
     "text": [
      "Hometown_Franklin                    9.171891e-01\n",
      "Decision_skill_possess_Behavioral    7.569972e-01\n",
      "VAR4                                 7.422968e-01\n",
      "Compensation_and_Benefits_type2      5.909012e-01\n",
      "Travel_Rate                          5.148398e-01\n",
      "                                         ...     \n",
      "Employee_ID_EID_19735                7.744216e-06\n",
      "Employee_ID_EID_11135                4.592834e-06\n",
      "Employee_ID_EID_20376                1.620014e-06\n",
      "Work_Life_balance                    1.252968e-07\n",
      "Time_of_service                      5.150194e-15\n",
      "Length: 875, dtype: float64\n"
     ]
    },
    {
     "data": {
      "text/plain": [
       "((1244, 20), (312, 20), (1244,), (312,))"
      ]
     },
     "execution_count": 46,
     "metadata": {},
     "output_type": "execute_result"
    }
   ],
   "source": [
    "x, y = feature_selection(dataLogistics)\n",
    "XTraindataLogistics, XTestdataLogistics, YTraindataLogistics, YTestdataLogistics = train_test_split(x,y, test_size=0.2)\n",
    "XTraindataLogistics.shape, XTestdataLogistics.shape, YTraindataLogistics.shape, YTestdataLogistics.shape"
   ]
  },
  {
   "cell_type": "code",
   "execution_count": 47,
   "metadata": {
    "scrolled": true
   },
   "outputs": [
    {
     "name": "stdout",
     "output_type": "stream",
     "text": [
      "Relationship_Status_Married    8.814975e-01\n",
      "Relationship_Status_Single     8.208472e-01\n",
      "Hometown_Lebanon               7.254957e-01\n",
      "VAR1                           7.249892e-01\n",
      "Hometown_Washington            6.961175e-01\n",
      "                                   ...     \n",
      "Employee_ID_EID_18134          6.334248e-05\n",
      "growth_rate                    5.124190e-05\n",
      "Hometown_Franklin              2.726505e-06\n",
      "Employee_ID_EID_13226          5.733031e-07\n",
      "Time_of_service                5.282045e-08\n",
      "Length: 173, dtype: float64\n"
     ]
    },
    {
     "data": {
      "text/plain": [
       "((206, 20), (52, 20), (206,), (52,))"
      ]
     },
     "execution_count": 47,
     "metadata": {},
     "output_type": "execute_result"
    }
   ],
   "source": [
    "x, y = feature_selection(dataQuality)\n",
    "XTraindataQuality, XTestdataQuality, YTraindataQuality,YTestdataQuality = train_test_split(x,y, test_size=0.2)\n",
    "XTraindataQuality.shape, XTestdataQuality.shape, YTraindataQuality.shape, YTestdataQuality.shape"
   ]
  },
  {
   "cell_type": "code",
   "execution_count": 48,
   "metadata": {},
   "outputs": [
    {
     "name": "stdout",
     "output_type": "stream",
     "text": [
      "growth_rate                         8.343465e-01\n",
      "Decision_skill_possess_Directive    7.582395e-01\n",
      "Work_Life_balance                   7.576207e-01\n",
      "VAR3                                7.314803e-01\n",
      "Time_since_promotion                6.426362e-01\n",
      "                                        ...     \n",
      "Employee_ID_EID_24845               1.307185e-05\n",
      "Employee_ID_EID_13855               1.307185e-05\n",
      "Pay_Scale                           1.162110e-05\n",
      "Employee_ID_EID_20374               7.744216e-06\n",
      "Time_of_service                     1.399930e-09\n",
      "Length: 279, dtype: float64\n"
     ]
    },
    {
     "data": {
      "text/plain": [
       "((366, 20), (92, 20), (366,), (92,))"
      ]
     },
     "execution_count": 48,
     "metadata": {},
     "output_type": "execute_result"
    }
   ],
   "source": [
    "x, y = feature_selection(dataHR)\n",
    "XTraindataHR, XTestdataHR, YTraindataHR, YTestdataHR = train_test_split(x,y, test_size=0.2)\n",
    "XTraindataHR.shape, XTestdataHR.shape, YTraindataHR.shape, YTestdataHR.shape"
   ]
  },
  {
   "cell_type": "code",
   "execution_count": 49,
   "metadata": {},
   "outputs": [
    {
     "name": "stdout",
     "output_type": "stream",
     "text": [
      "Hometown_Clinton                    1.000000e+00\n",
      "Gender_F                            7.544542e-01\n",
      "Gender_M                            7.245892e-01\n",
      "VAR4                                6.187392e-01\n",
      "VAR6                                5.453722e-01\n",
      "                                        ...     \n",
      "Compensation_and_Benefits_type4     6.334248e-05\n",
      "Employee_ID_EID_1730                3.737982e-05\n",
      "Age                                 1.629390e-06\n",
      "Decision_skill_possess_Directive    1.767667e-07\n",
      "Time_of_service                     3.026690e-29\n",
      "Length: 392, dtype: float64\n"
     ]
    },
    {
     "data": {
      "text/plain": [
       "((526, 20), (132, 20), (526,), (132,))"
      ]
     },
     "execution_count": 49,
     "metadata": {},
     "output_type": "execute_result"
    }
   ],
   "source": [
    "x, y = feature_selection(dataPurchasing)\n",
    "XTraindataPurchasing, XTestdataPurchasing, YTraindataPurchasing, YTestdataPurchasing = train_test_split(x,y, test_size=0.2)\n",
    "XTraindataPurchasing.shape, XTestdataPurchasing.shape, YTraindataPurchasing.shape, YTestdataPurchasing.shape"
   ]
  },
  {
   "cell_type": "code",
   "execution_count": 50,
   "metadata": {},
   "outputs": [
    {
     "name": "stdout",
     "output_type": "stream",
     "text": [
      "Hometown_Springfield               9.045211e-01\n",
      "VAR1                               8.583931e-01\n",
      "Work_Life_balance                  6.757131e-01\n",
      "VAR5                               6.479737e-01\n",
      "Pay_Scale                          5.613972e-01\n",
      "                                       ...     \n",
      "Employee_ID_EID_8269               3.737982e-05\n",
      "Employee_ID_EID_17392              2.209050e-05\n",
      "Compensation_and_Benefits_type0    3.320871e-06\n",
      "Time_of_service                    9.187679e-07\n",
      "growth_rate                        4.554004e-24\n",
      "Length: 709, dtype: float64\n"
     ]
    },
    {
     "data": {
      "text/plain": [
       "((988, 20), (248, 20), (988,), (248,))"
      ]
     },
     "execution_count": 50,
     "metadata": {},
     "output_type": "execute_result"
    }
   ],
   "source": [
    "x, y = feature_selection(dataSales)\n",
    "XTraindataSales, XTestdataSales, YTraindataSales, YTestdataSales = train_test_split(x,y, test_size=0.2)\n",
    "XTraindataSales.shape, XTestdataSales.shape, YTraindataSales.shape, YTestdataSales.shape"
   ]
  },
  {
   "cell_type": "code",
   "execution_count": 51,
   "metadata": {},
   "outputs": [
    {
     "name": "stdout",
     "output_type": "stream",
     "text": [
      "VAR4                                 9.274151e-01\n",
      "Decision_skill_possess_Analytical    9.027648e-01\n",
      "Compensation_and_Benefits_type4      8.348273e-01\n",
      "VAR7                                 7.876419e-01\n",
      "Work_Life_balance                    7.544138e-01\n",
      "                                         ...     \n",
      "Employee_ID_EID_6536                 6.334248e-05\n",
      "Compensation_and_Benefits_type3      1.628658e-05\n",
      "growth_rate                          1.462425e-07\n",
      "Time_since_promotion                 1.289051e-07\n",
      "Hometown_Franklin                    9.215887e-09\n",
      "Length: 185, dtype: float64\n"
     ]
    },
    {
     "data": {
      "text/plain": [
       "((220, 20), (56, 20), (220,), (56,))"
      ]
     },
     "execution_count": 51,
     "metadata": {},
     "output_type": "execute_result"
    }
   ],
   "source": [
    "x, y = feature_selection(dataProduction)\n",
    "XTraindataProduction, XTestdataProduction, YTraindataProduction, YTestdataProduction = train_test_split(x,y, test_size=0.2)\n",
    "XTraindataProduction.shape, XTestdataProduction.shape, YTraindataProduction.shape, YTestdataProduction.shape"
   ]
  },
  {
   "cell_type": "code",
   "execution_count": 52,
   "metadata": {},
   "outputs": [
    {
     "name": "stdout",
     "output_type": "stream",
     "text": [
      "VAR7                                 0.881701\n",
      "Decision_skill_possess_Analytical    0.778374\n",
      "VAR6                                 0.722140\n",
      "VAR5                                 0.713986\n",
      "VAR1                                 0.645630\n",
      "                                       ...   \n",
      "Employee_ID_EID_22292                0.000183\n",
      "Employee_ID_EID_24119                0.000108\n",
      "Employee_ID_EID_4019                 0.000063\n",
      "Time_of_service                      0.000058\n",
      "Compensation_and_Benefits_type0      0.000002\n",
      "Length: 516, dtype: float64\n"
     ]
    },
    {
     "data": {
      "text/plain": [
       "((700, 20), (176, 20), (700,), (176,))"
      ]
     },
     "execution_count": 52,
     "metadata": {},
     "output_type": "execute_result"
    }
   ],
   "source": [
    "x, y = feature_selection(dataOperarions)\n",
    "XTraindataOperarions, XTestdataOperarions, YTraindataOperarions, YTestdataOperarions = train_test_split(x,y, test_size=0.2)\n",
    "XTraindataOperarions.shape, XTestdataOperarions.shape, YTraindataOperarions.shape, YTestdataOperarions.shape"
   ]
  },
  {
   "cell_type": "code",
   "execution_count": 53,
   "metadata": {},
   "outputs": [
    {
     "name": "stdout",
     "output_type": "stream",
     "text": [
      "VAR7                                 8.809063e-01\n",
      "Decision_skill_possess_Conceptual    8.780884e-01\n",
      "Post_Level                           8.733700e-01\n",
      "Gender_F                             6.498361e-01\n",
      "Gender_M                             5.965198e-01\n",
      "                                         ...     \n",
      "Employee_ID_EID_10967                9.633570e-07\n",
      "Time_of_service                      3.479022e-07\n",
      "Hometown_Franklin                    4.432187e-08\n",
      "Age                                  3.641054e-08\n",
      "Hometown_Washington                  3.515282e-08\n",
      "Length: 396, dtype: float64\n"
     ]
    },
    {
     "data": {
      "text/plain": [
       "((545, 20), (137, 20), (545,), (137,))"
      ]
     },
     "execution_count": 53,
     "metadata": {},
     "output_type": "execute_result"
    }
   ],
   "source": [
    "x, y = feature_selection(dataAcconting)\n",
    "XTraindataAcconting, XTestdataAcconting, YTraindataAcconting, YTestdataAcconting = train_test_split(x,y, test_size=0.2)\n",
    "XTraindataAcconting.shape, XTestdataAcconting.shape, YTraindataAcconting.shape, YTestdataAcconting.shape"
   ]
  },
  {
   "cell_type": "code",
   "execution_count": 54,
   "metadata": {},
   "outputs": [
    {
     "name": "stdout",
     "output_type": "stream",
     "text": [
      "VAR2                                 0.994363\n",
      "Time_of_service                      0.974131\n",
      "Decision_skill_possess_Conceptual    0.906827\n",
      "Work_Life_balance                    0.846941\n",
      "VAR5                                 0.780220\n",
      "                                       ...   \n",
      "Time_since_promotion                 0.000424\n",
      "Employee_ID_EID_11781                0.000311\n",
      "Employee_ID_EID_5280                 0.000311\n",
      "Employee_ID_EID_14773                0.000063\n",
      "Hometown_Clinton                     0.000063\n",
      "Length: 191, dtype: float64\n"
     ]
    },
    {
     "data": {
      "text/plain": [
       "((227, 20), (57, 20), (227,), (57,))"
      ]
     },
     "execution_count": 54,
     "metadata": {},
     "output_type": "execute_result"
    }
   ],
   "source": [
    "x, y = feature_selection(dataMarketing)\n",
    "XTraindataMarketing, XTestdataMarketing, YTraindataMarketing, YTestdataMarketing = train_test_split(x,y, test_size=0.2)\n",
    "XTraindataMarketing.shape, XTestdataMarketing.shape, YTraindataMarketing.shape, YTestdataMarketing.shape"
   ]
  },
  {
   "cell_type": "code",
   "execution_count": 55,
   "metadata": {},
   "outputs": [
    {
     "name": "stdout",
     "output_type": "stream",
     "text": [
      "Hometown_Springfield               9.475409e-01\n",
      "VAR1                               9.380644e-01\n",
      "Work_Life_balance                  9.279351e-01\n",
      "VAR7                               8.341209e-01\n",
      "Relationship_Status_Married        8.239269e-01\n",
      "                                       ...     \n",
      "Employee_ID_EID_17261              1.075112e-04\n",
      "Hometown_Franklin                  4.312468e-06\n",
      "Age                                3.313994e-06\n",
      "Compensation_and_Benefits_type3    4.200394e-07\n",
      "growth_rate                        3.126751e-10\n",
      "Length: 514, dtype: float64\n"
     ]
    },
    {
     "data": {
      "text/plain": [
       "((686, 20), (172, 20), (686,), (172,))"
      ]
     },
     "execution_count": 55,
     "metadata": {},
     "output_type": "execute_result"
    }
   ],
   "source": [
    "x, y = feature_selection(dataRnD)\n",
    "XTraindataRnD, XTestdataRnD, YTraindataRnD, YTestdataRnD = train_test_split(x,y, test_size=0.2)\n",
    "XTraindataRnD.shape, XTestdataRnD.shape, YTraindataRnD.shape, YTestdataRnD.shape"
   ]
  },
  {
   "cell_type": "code",
   "execution_count": 56,
   "metadata": {},
   "outputs": [
    {
     "name": "stdout",
     "output_type": "stream",
     "text": [
      "Decision_skill_possess_Directive     8.907458e-01\n",
      "Work_Life_balance                    8.886379e-01\n",
      "Hometown_Clinton                     7.962534e-01\n",
      "VAR6                                 6.978013e-01\n",
      "VAR5                                 6.939188e-01\n",
      "                                         ...     \n",
      "Post_Level                           2.178321e-05\n",
      "Employee_ID_EID_15285                1.307185e-05\n",
      "Travel_Rate                          6.738559e-06\n",
      "Decision_skill_possess_Behavioral    3.414174e-07\n",
      "Pay_Scale                            2.075432e-12\n",
      "Length: 134, dtype: float64\n"
     ]
    },
    {
     "data": {
      "text/plain": [
       "((150, 20), (38, 20), (150,), (38,))"
      ]
     },
     "execution_count": 56,
     "metadata": {},
     "output_type": "execute_result"
    }
   ],
   "source": [
    "x, y = feature_selection(dataSecurity)\n",
    "XTraindataSecurity, XTestdataSecurity, YTraindataSecurity, YTestdataSecurity = train_test_split(x,y, test_size=0.2)\n",
    "XTraindataSecurity.shape, XTestdataSecurity.shape, YTraindataSecurity.shape, YTestdataSecurity.shape"
   ]
  },
  {
   "cell_type": "code",
   "execution_count": 57,
   "metadata": {},
   "outputs": [],
   "source": [
    "orgMetrics = pd.DataFrame()\n",
    "ITMetrics = pd.DataFrame()\n",
    "LogisticsMetrics = pd.DataFrame()\n",
    "QualityMetrics = pd.DataFrame()\n",
    "HRMetrics = pd.DataFrame()\n",
    "PurchasingMetrics = pd.DataFrame()\n",
    "SalesMetrics = pd.DataFrame()\n",
    "ProductionMetrics = pd.DataFrame()\n",
    "OperarionsMetrics = pd.DataFrame()\n",
    "AccontingMetrics = pd.DataFrame()\n",
    "MarketingMetrics = pd.DataFrame()\n",
    "RnDMetrics = pd.DataFrame()\n",
    "SecurityMetrics = pd.DataFrame()"
   ]
  },
  {
   "cell_type": "markdown",
   "metadata": {},
   "source": [
    "#  SVM Linear"
   ]
  },
  {
   "cell_type": "code",
   "execution_count": 58,
   "metadata": {},
   "outputs": [],
   "source": [
    "dt_metrics = pd.DataFrame()\n",
    "\n",
    "def decision_tree(xtrain, xtest, ytrain, ytest):\n",
    "    dt = SVC(kernel='linear')\n",
    "    dt.fit(xtrain, ytrain)\n",
    "    pred =  dt.predict(xtest)\n",
    "    acc = accuracy_score(ytest, pred)\n",
    "    f1 = f1_score(ytest, pred)\n",
    "    return acc, f1"
   ]
  },
  {
   "cell_type": "code",
   "execution_count": 59,
   "metadata": {},
   "outputs": [
    {
     "name": "stdout",
     "output_type": "stream",
     "text": [
      "Accuracy Score :  51.82\n",
      "F1-Score :  24.98\n"
     ]
    }
   ],
   "source": [
    "acc, f1 = decision_tree(XTrain, XTest, YTrain, YTest)\n",
    "print('Accuracy Score : ', np.round(acc*100, 2))\n",
    "print('F1-Score : ', np.round(f1*100, 2))\n",
    "dt_metrics = dt_metrics.append([['Organisation', acc*100, f1*100]]) \n",
    "orgMetrics = orgMetrics.append([['SVC linear', acc*100, f1*100]]) "
   ]
  },
  {
   "cell_type": "code",
   "execution_count": 60,
   "metadata": {},
   "outputs": [
    {
     "name": "stdout",
     "output_type": "stream",
     "text": [
      "Accuracy Score :  64.64\n",
      "F1-Score :  47.24\n"
     ]
    }
   ],
   "source": [
    "acc, f1 = decision_tree(XTraindataIT, XTestdataIT, YTraindataIT, YTestdataIT)\n",
    "print('Accuracy Score : ', np.round(acc*100, 2))\n",
    "print('F1-Score : ', np.round(f1*100, 2))\n",
    "dt_metrics = dt_metrics.append([['IT', acc*100, f1*100]]) \n",
    "ITMetrics = ITMetrics.append([['SVC linear', acc*100, f1*100]]) "
   ]
  },
  {
   "cell_type": "code",
   "execution_count": 61,
   "metadata": {},
   "outputs": [
    {
     "name": "stdout",
     "output_type": "stream",
     "text": [
      "Accuracy Score :  71.79\n",
      "F1-Score :  58.49\n"
     ]
    }
   ],
   "source": [
    "acc, f1 = decision_tree(XTraindataLogistics, XTestdataLogistics, YTraindataLogistics, YTestdataLogistics)\n",
    "print('Accuracy Score : ', np.round(acc*100, 2))\n",
    "print('F1-Score : ', np.round(f1*100, 2))\n",
    "dt_metrics = dt_metrics.append([['Logistics', acc*100, f1*100]]) \n",
    "LogisticsMetrics = LogisticsMetrics.append([['SVC linear', acc*100, f1*100]]) "
   ]
  },
  {
   "cell_type": "code",
   "execution_count": 62,
   "metadata": {},
   "outputs": [
    {
     "name": "stdout",
     "output_type": "stream",
     "text": [
      "Accuracy Score :  96.15\n",
      "F1-Score :  95.24\n"
     ]
    }
   ],
   "source": [
    "acc, f1 = decision_tree(XTraindataQuality, XTestdataQuality, YTraindataQuality,YTestdataQuality)\n",
    "print('Accuracy Score : ', np.round(acc*100, 2))\n",
    "print('F1-Score : ', np.round(f1*100, 2))\n",
    "dt_metrics = dt_metrics.append([['Quality', acc*100, f1*100]]) \n",
    "QualityMetrics = QualityMetrics.append([['SVC linear', acc*100, f1*100]]) "
   ]
  },
  {
   "cell_type": "code",
   "execution_count": 63,
   "metadata": {},
   "outputs": [
    {
     "name": "stdout",
     "output_type": "stream",
     "text": [
      "Accuracy Score :  98.91\n",
      "F1-Score :  98.95\n"
     ]
    }
   ],
   "source": [
    "acc, f1 = decision_tree(XTraindataHR, XTestdataHR, YTraindataHR, YTestdataHR)\n",
    "print('Accuracy Score : ', np.round(acc*100, 2))\n",
    "print('F1-Score : ', np.round(f1*100, 2))\n",
    "dt_metrics = dt_metrics.append([['HR', acc*100, f1*100]]) \n",
    "HRMetrics = HRMetrics.append([['SVC linear', acc*100, f1*100]]) "
   ]
  },
  {
   "cell_type": "code",
   "execution_count": 64,
   "metadata": {},
   "outputs": [
    {
     "name": "stdout",
     "output_type": "stream",
     "text": [
      "Accuracy Score :  83.33\n",
      "F1-Score :  77.55\n"
     ]
    }
   ],
   "source": [
    "acc, f1 = decision_tree(XTraindataPurchasing, XTestdataPurchasing, YTraindataPurchasing, YTestdataPurchasing)\n",
    "print('Accuracy Score : ', np.round(acc*100, 2))\n",
    "print('F1-Score : ', np.round(f1*100, 2))\n",
    "dt_metrics = dt_metrics.append([['Purchasing', acc*100, f1*100]]) \n",
    "PurchasingMetrics = PurchasingMetrics.append([['SVC linear', acc*100, f1*100]]) "
   ]
  },
  {
   "cell_type": "code",
   "execution_count": 65,
   "metadata": {},
   "outputs": [
    {
     "name": "stdout",
     "output_type": "stream",
     "text": [
      "Accuracy Score :  68.55\n",
      "F1-Score :  60.0\n"
     ]
    }
   ],
   "source": [
    "acc, f1 = decision_tree(XTraindataSales, XTestdataSales, YTraindataSales, YTestdataSales)\n",
    "print('Accuracy Score : ', np.round(acc*100, 2))\n",
    "print('F1-Score : ', np.round(f1*100))\n",
    "dt_metrics = dt_metrics.append([['Sales', acc*100, f1*100]]) \n",
    "SalesMetrics = SalesMetrics.append([['SVC linear', acc*100, f1*100]]) "
   ]
  },
  {
   "cell_type": "code",
   "execution_count": 66,
   "metadata": {},
   "outputs": [
    {
     "name": "stdout",
     "output_type": "stream",
     "text": [
      "Accuracy Score :  71.59\n",
      "F1-Score :  63.77\n"
     ]
    }
   ],
   "source": [
    "acc, f1 = decision_tree(XTraindataOperarions, XTestdataOperarions, YTraindataOperarions, YTestdataOperarions)\n",
    "print('Accuracy Score : ', np.round(acc*100, 2))\n",
    "print('F1-Score : ', np.round(f1*100, 2))\n",
    "dt_metrics = dt_metrics.append([['Operations', acc*100, f1*100]]) \n",
    "OperarionsMetrics = OperarionsMetrics.append([['SVC linear', acc*100, f1*100]]) "
   ]
  },
  {
   "cell_type": "code",
   "execution_count": 67,
   "metadata": {},
   "outputs": [
    {
     "name": "stdout",
     "output_type": "stream",
     "text": [
      "Accuracy Score :  98.21\n",
      "F1-Score :  98.18\n"
     ]
    }
   ],
   "source": [
    "acc, f1 = decision_tree(XTraindataProduction, XTestdataProduction, YTraindataProduction, YTestdataProduction)\n",
    "print('Accuracy Score : ', np.round(acc*100, 2))\n",
    "print('F1-Score : ', np.round(f1*100, 2))\n",
    "dt_metrics = dt_metrics.append([['Production', acc*100, f1*100]]) \n",
    "ProductionMetrics = ProductionMetrics.append([['SVC linear', acc*100, f1*100]]) "
   ]
  },
  {
   "cell_type": "code",
   "execution_count": 68,
   "metadata": {},
   "outputs": [
    {
     "name": "stdout",
     "output_type": "stream",
     "text": [
      "Accuracy Score :  91.97\n",
      "F1-Score :  91.47\n"
     ]
    }
   ],
   "source": [
    "acc, f1 = decision_tree(XTraindataAcconting, XTestdataAcconting, YTraindataAcconting, YTestdataAcconting)\n",
    "print('Accuracy Score : ', np.round(acc*100, 2))\n",
    "print('F1-Score : ', np.round(f1*100, 2))\n",
    "dt_metrics = dt_metrics.append([['Accounting', acc*100, f1*100]]) \n",
    "AccontingMetrics = AccontingMetrics.append([['SVC linear', acc*100, f1*100]]) "
   ]
  },
  {
   "cell_type": "code",
   "execution_count": 69,
   "metadata": {},
   "outputs": [
    {
     "name": "stdout",
     "output_type": "stream",
     "text": [
      "Accuracy Score :  98.25\n",
      "F1-Score :  98.11\n"
     ]
    }
   ],
   "source": [
    "acc, f1 = decision_tree(XTraindataMarketing, XTestdataMarketing, YTraindataMarketing, YTestdataMarketing)\n",
    "print('Accuracy Score : ', np.round(acc*100, 2))\n",
    "print('F1-Score : ', np.round(f1*100, 2))\n",
    "dt_metrics = dt_metrics.append([['Marketing', acc*100, f1*100]]) \n",
    "MarketingMetrics = MarketingMetrics.append([['SVC linear', acc*100, f1*100]]) "
   ]
  },
  {
   "cell_type": "code",
   "execution_count": 70,
   "metadata": {},
   "outputs": [
    {
     "name": "stdout",
     "output_type": "stream",
     "text": [
      "Accuracy Score :  70.35\n",
      "F1-Score :  65.31\n"
     ]
    }
   ],
   "source": [
    "acc, f1 = decision_tree(XTraindataRnD, XTestdataRnD, YTraindataRnD, YTestdataRnD)\n",
    "print('Accuracy Score : ', np.round(acc*100, 2))\n",
    "print('F1-Score : ', np.round(f1*100, 2))\n",
    "dt_metrics = dt_metrics.append([['RnD', acc*100, f1*100]]) \n",
    "RnDMetrics = RnDMetrics.append([['SVC linear', acc*100, f1*100]]) "
   ]
  },
  {
   "cell_type": "code",
   "execution_count": 71,
   "metadata": {},
   "outputs": [
    {
     "name": "stdout",
     "output_type": "stream",
     "text": [
      "Accuracy Score :  97.37\n",
      "F1-Score :  97.87\n"
     ]
    }
   ],
   "source": [
    "acc, f1 = decision_tree(XTraindataSecurity, XTestdataSecurity, YTraindataSecurity, YTestdataSecurity)\n",
    "print('Accuracy Score : ', np.round(acc*100, 2))\n",
    "print('F1-Score : ', np.round(f1*100, 2))\n",
    "dt_metrics = dt_metrics.append([['Security', acc*100, f1*100]]) \n",
    "SecurityMetrics = SecurityMetrics.append([['SVC linear', acc*100, f1*100]]) "
   ]
  },
  {
   "cell_type": "code",
   "execution_count": 72,
   "metadata": {},
   "outputs": [],
   "source": [
    "dt_metrics.columns = ['Department', 'Accuracy', 'F1-Score']"
   ]
  },
  {
   "cell_type": "code",
   "execution_count": 73,
   "metadata": {},
   "outputs": [
    {
     "data": {
      "text/html": [
       "<div>\n",
       "<style scoped>\n",
       "    .dataframe tbody tr th:only-of-type {\n",
       "        vertical-align: middle;\n",
       "    }\n",
       "\n",
       "    .dataframe tbody tr th {\n",
       "        vertical-align: top;\n",
       "    }\n",
       "\n",
       "    .dataframe thead th {\n",
       "        text-align: right;\n",
       "    }\n",
       "</style>\n",
       "<table border=\"1\" class=\"dataframe\">\n",
       "  <thead>\n",
       "    <tr style=\"text-align: right;\">\n",
       "      <th></th>\n",
       "      <th>Department</th>\n",
       "      <th>Accuracy</th>\n",
       "      <th>F1-Score</th>\n",
       "    </tr>\n",
       "  </thead>\n",
       "  <tbody>\n",
       "    <tr>\n",
       "      <th>0</th>\n",
       "      <td>Organisation</td>\n",
       "      <td>51.815718</td>\n",
       "      <td>24.978903</td>\n",
       "    </tr>\n",
       "    <tr>\n",
       "      <th>0</th>\n",
       "      <td>IT</td>\n",
       "      <td>64.643799</td>\n",
       "      <td>47.244094</td>\n",
       "    </tr>\n",
       "    <tr>\n",
       "      <th>0</th>\n",
       "      <td>Logistics</td>\n",
       "      <td>71.794872</td>\n",
       "      <td>58.490566</td>\n",
       "    </tr>\n",
       "    <tr>\n",
       "      <th>0</th>\n",
       "      <td>Quality</td>\n",
       "      <td>96.153846</td>\n",
       "      <td>95.238095</td>\n",
       "    </tr>\n",
       "    <tr>\n",
       "      <th>0</th>\n",
       "      <td>HR</td>\n",
       "      <td>98.913043</td>\n",
       "      <td>98.947368</td>\n",
       "    </tr>\n",
       "    <tr>\n",
       "      <th>0</th>\n",
       "      <td>Purchasing</td>\n",
       "      <td>83.333333</td>\n",
       "      <td>77.551020</td>\n",
       "    </tr>\n",
       "    <tr>\n",
       "      <th>0</th>\n",
       "      <td>Sales</td>\n",
       "      <td>68.548387</td>\n",
       "      <td>60.204082</td>\n",
       "    </tr>\n",
       "    <tr>\n",
       "      <th>0</th>\n",
       "      <td>Operations</td>\n",
       "      <td>71.590909</td>\n",
       "      <td>63.768116</td>\n",
       "    </tr>\n",
       "    <tr>\n",
       "      <th>0</th>\n",
       "      <td>Production</td>\n",
       "      <td>98.214286</td>\n",
       "      <td>98.181818</td>\n",
       "    </tr>\n",
       "    <tr>\n",
       "      <th>0</th>\n",
       "      <td>Accounting</td>\n",
       "      <td>91.970803</td>\n",
       "      <td>91.472868</td>\n",
       "    </tr>\n",
       "    <tr>\n",
       "      <th>0</th>\n",
       "      <td>Marketing</td>\n",
       "      <td>98.245614</td>\n",
       "      <td>98.113208</td>\n",
       "    </tr>\n",
       "    <tr>\n",
       "      <th>0</th>\n",
       "      <td>RnD</td>\n",
       "      <td>70.348837</td>\n",
       "      <td>65.306122</td>\n",
       "    </tr>\n",
       "    <tr>\n",
       "      <th>0</th>\n",
       "      <td>Security</td>\n",
       "      <td>97.368421</td>\n",
       "      <td>97.872340</td>\n",
       "    </tr>\n",
       "  </tbody>\n",
       "</table>\n",
       "</div>"
      ],
      "text/plain": [
       "     Department   Accuracy   F1-Score\n",
       "0  Organisation  51.815718  24.978903\n",
       "0            IT  64.643799  47.244094\n",
       "0     Logistics  71.794872  58.490566\n",
       "0       Quality  96.153846  95.238095\n",
       "0            HR  98.913043  98.947368\n",
       "0    Purchasing  83.333333  77.551020\n",
       "0         Sales  68.548387  60.204082\n",
       "0    Operations  71.590909  63.768116\n",
       "0    Production  98.214286  98.181818\n",
       "0    Accounting  91.970803  91.472868\n",
       "0     Marketing  98.245614  98.113208\n",
       "0           RnD  70.348837  65.306122\n",
       "0      Security  97.368421  97.872340"
      ]
     },
     "execution_count": 73,
     "metadata": {},
     "output_type": "execute_result"
    }
   ],
   "source": [
    "dt_metrics"
   ]
  },
  {
   "cell_type": "code",
   "execution_count": 74,
   "metadata": {},
   "outputs": [
    {
     "data": {
      "image/png": "[encoded data removed]",
      "text/plain": [
       "<Figure size 432x288 with 1 Axes>"
      ]
     },
     "metadata": {
      "needs_background": "light"
     },
     "output_type": "display_data"
    }
   ],
   "source": [
    "fig = plt.figure()\n",
    "ax = fig.add_axes([0,0,1,1])\n",
    "ax.bar(dt_metrics['Department'], dt_metrics['Accuracy'], color = 'g', width = 0.25)\n",
    "ax.plot(dt_metrics['Department'], dt_metrics['Accuracy'])\n",
    "ax.set_xticklabels(dt_metrics.Department, rotation=45)\n",
    "plt.show()"
   ]
  },
  {
   "cell_type": "code",
   "execution_count": 75,
   "metadata": {},
   "outputs": [
    {
     "data": {
      "image/png": "[encoded data removed]",
      "text/plain": [
       "<Figure size 432x288 with 1 Axes>"
      ]
     },
     "metadata": {
      "needs_background": "light"
     },
     "output_type": "display_data"
    }
   ],
   "source": [
    "fig = plt.figure()\n",
    "ax = fig.add_axes([0,0,1,1])\n",
    "ax.bar(dt_metrics['Department'], dt_metrics['F1-Score'], color = 'g', width = 0.25)\n",
    "ax.plot(dt_metrics['Department'], dt_metrics['F1-Score'])\n",
    "ax.set_xticklabels(dt_metrics.Department, rotation=45)\n",
    "plt.show()"
   ]
  },
  {
   "cell_type": "markdown",
   "metadata": {},
   "source": [
    "#  SVM RBF"
   ]
  },
  {
   "cell_type": "code",
   "execution_count": 76,
   "metadata": {},
   "outputs": [],
   "source": [
    "rf_metrics = pd.DataFrame()\n",
    "\n",
    "def rf_tree(xtrain, xtest, ytrain, ytest):\n",
    "    rf = SVC(kernel='rbf')\n",
    "    rf.fit(xtrain, ytrain)\n",
    "    pred =  rf.predict(xtest)\n",
    "    acc = accuracy_score(ytest, pred)\n",
    "    f1 = f1_score(ytest, pred)\n",
    "    return acc, f1"
   ]
  },
  {
   "cell_type": "code",
   "execution_count": 77,
   "metadata": {},
   "outputs": [
    {
     "name": "stdout",
     "output_type": "stream",
     "text": [
      "Accuracy Score :  51.33\n",
      "F1-Score :  41.23\n"
     ]
    }
   ],
   "source": [
    "acc, f1 = rf_tree(XTrain, XTest, YTrain, YTest)\n",
    "print('Accuracy Score : ', np.round(acc*100, 2))\n",
    "print('F1-Score : ', np.round(f1*100, 2))\n",
    "rf_metrics = rf_metrics.append([['Organisation', acc*100, f1*100]]) \n",
    "orgMetrics = orgMetrics.append([['SVC rbf', acc*100, f1*100]]) "
   ]
  },
  {
   "cell_type": "code",
   "execution_count": 78,
   "metadata": {},
   "outputs": [
    {
     "name": "stdout",
     "output_type": "stream",
     "text": [
      "Accuracy Score :  54.35\n",
      "F1-Score :  60.77\n"
     ]
    }
   ],
   "source": [
    "acc, f1 = rf_tree(XTraindataIT, XTestdataIT, YTraindataIT, YTestdataIT)\n",
    "print('Accuracy Score : ', np.round(acc*100, 2))\n",
    "print('F1-Score : ', np.round(f1*100, 2))\n",
    "rf_metrics = rf_metrics.append([['IT', acc*100, f1*100]]) \n",
    "ITMetrics = ITMetrics.append([['SVC rbf', acc*100, f1*100]]) "
   ]
  },
  {
   "cell_type": "code",
   "execution_count": 79,
   "metadata": {},
   "outputs": [
    {
     "name": "stdout",
     "output_type": "stream",
     "text": [
      "Accuracy Score :  61.54\n",
      "F1-Score :  61.29\n"
     ]
    }
   ],
   "source": [
    "acc, f1 = rf_tree(XTraindataLogistics, XTestdataLogistics, YTraindataLogistics, YTestdataLogistics)\n",
    "print('Accuracy Score : ', np.round(acc*100, 2))\n",
    "print('F1-Score : ', np.round(f1*100, 2))\n",
    "rf_metrics = rf_metrics.append([['Logistics', acc*100, f1*100]]) \n",
    "LogisticsMetrics = LogisticsMetrics.append([['SVC rbf', acc*100, f1*100]]) "
   ]
  },
  {
   "cell_type": "code",
   "execution_count": 80,
   "metadata": {},
   "outputs": [
    {
     "name": "stdout",
     "output_type": "stream",
     "text": [
      "Accuracy Score :  57.69\n",
      "F1-Score :  63.33\n"
     ]
    }
   ],
   "source": [
    "acc, f1 = rf_tree(XTraindataQuality, XTestdataQuality, YTraindataQuality,YTestdataQuality)\n",
    "print('Accuracy Score : ', np.round(acc*100, 2))\n",
    "print('F1-Score : ', np.round(f1*100, 2))\n",
    "rf_metrics = rf_metrics.append([['Quality', acc*100, f1*100]]) \n",
    "QualityMetrics = QualityMetrics.append([['SVC rbf', acc*100, f1*100]]) "
   ]
  },
  {
   "cell_type": "code",
   "execution_count": 81,
   "metadata": {},
   "outputs": [
    {
     "name": "stdout",
     "output_type": "stream",
     "text": [
      "Accuracy Score :  72.83\n",
      "F1-Score :  74.75\n"
     ]
    }
   ],
   "source": [
    "acc, f1 = rf_tree(XTraindataHR, XTestdataHR, YTraindataHR, YTestdataHR)\n",
    "print('Accuracy Score : ', np.round(acc*100, 2))\n",
    "print('F1-Score : ', np.round(f1*100, 2))\n",
    "rf_metrics = rf_metrics.append([['HR', acc*100, f1*100]]) \n",
    "HRMetrics = HRMetrics.append([['SVC rbf', acc*100, f1*100]]) "
   ]
  },
  {
   "cell_type": "code",
   "execution_count": 82,
   "metadata": {},
   "outputs": [
    {
     "name": "stdout",
     "output_type": "stream",
     "text": [
      "Accuracy Score :  65.15\n",
      "F1-Score :  67.61\n"
     ]
    }
   ],
   "source": [
    "acc, f1 = rf_tree(XTraindataPurchasing, XTestdataPurchasing, YTraindataPurchasing, YTestdataPurchasing)\n",
    "print('Accuracy Score : ', np.round(acc*100, 2))\n",
    "print('F1-Score : ', np.round(f1*100, 2))\n",
    "rf_metrics = rf_metrics.append([['Purchasing', acc*100, f1*100]]) \n",
    "PurchasingMetrics = PurchasingMetrics.append([['SVC rbf', acc*100, f1*100]]) "
   ]
  },
  {
   "cell_type": "code",
   "execution_count": 83,
   "metadata": {},
   "outputs": [
    {
     "name": "stdout",
     "output_type": "stream",
     "text": [
      "Accuracy Score :  60.89\n",
      "F1-Score :  57.27\n"
     ]
    }
   ],
   "source": [
    "acc, f1 = rf_tree(XTraindataSales, XTestdataSales, YTraindataSales, YTestdataSales)\n",
    "print('Accuracy Score : ', np.round(acc*100, 2))\n",
    "print('F1-Score : ', np.round(f1*100, 2))\n",
    "rf_metrics = rf_metrics.append([['Sales', acc*100, f1*100]]) \n",
    "SalesMetrics = SalesMetrics.append([['SVC rbf', acc*100, f1*100]]) "
   ]
  },
  {
   "cell_type": "code",
   "execution_count": 84,
   "metadata": {},
   "outputs": [
    {
     "name": "stdout",
     "output_type": "stream",
     "text": [
      "Accuracy Score :  57.39\n",
      "F1-Score :  46.81\n"
     ]
    }
   ],
   "source": [
    "acc, f1 = rf_tree(XTraindataOperarions, XTestdataOperarions, YTraindataOperarions, YTestdataOperarions)\n",
    "print('Accuracy Score : ', np.round(acc*100, 2))\n",
    "print('F1-Score : ', np.round(f1*100, 2))\n",
    "rf_metrics = rf_metrics.append([['Operations', acc*100, f1*100]]) \n",
    "OperarionsMetrics = OperarionsMetrics.append([['SVC rbf', acc*100, f1*100]]) "
   ]
  },
  {
   "cell_type": "code",
   "execution_count": 85,
   "metadata": {},
   "outputs": [
    {
     "name": "stdout",
     "output_type": "stream",
     "text": [
      "Accuracy Score :  64.29\n",
      "F1-Score :  68.75\n"
     ]
    }
   ],
   "source": [
    "acc, f1 = rf_tree(XTraindataProduction, XTestdataProduction, YTraindataProduction, YTestdataProduction)\n",
    "print('Accuracy Score : ', np.round(acc*100, 2))\n",
    "print('F1-Score : ', np.round(f1*100, 2))\n",
    "rf_metrics = rf_metrics.append([['Production', acc*100, f1*100]]) \n",
    "ProductionMetrics = ProductionMetrics.append([['SVC rbf', acc*100, f1*100]]) "
   ]
  },
  {
   "cell_type": "code",
   "execution_count": 86,
   "metadata": {},
   "outputs": [
    {
     "name": "stdout",
     "output_type": "stream",
     "text": [
      "Accuracy Score :  56.2\n",
      "F1-Score :  58.9\n"
     ]
    }
   ],
   "source": [
    "acc, f1 = rf_tree(XTraindataAcconting, XTestdataAcconting, YTraindataAcconting, YTestdataAcconting)\n",
    "print('Accuracy Score : ', np.round(acc*100, 2))\n",
    "print('F1-Score : ', np.round(f1*100, 2))\n",
    "rf_metrics = rf_metrics.append([['Accounting', acc*100, f1*100]]) \n",
    "AccontingMetrics = AccontingMetrics.append([['SVC rbf', acc*100, f1*100]]) "
   ]
  },
  {
   "cell_type": "code",
   "execution_count": 87,
   "metadata": {},
   "outputs": [
    {
     "name": "stdout",
     "output_type": "stream",
     "text": [
      "Accuracy Score :  49.12\n",
      "F1-Score :  62.34\n"
     ]
    }
   ],
   "source": [
    "acc, f1 = rf_tree(XTraindataMarketing, XTestdataMarketing, YTraindataMarketing, YTestdataMarketing)\n",
    "print('Accuracy Score : ', np.round(acc*100, 2))\n",
    "print('F1-Score : ', np.round(f1*100, 2))\n",
    "rf_metrics = rf_metrics.append([['Marketing', acc*100, f1*100]]) \n",
    "MarketingMetrics = MarketingMetrics.append([['SVC rbf', acc*100, f1*100]]) "
   ]
  },
  {
   "cell_type": "code",
   "execution_count": 88,
   "metadata": {},
   "outputs": [
    {
     "name": "stdout",
     "output_type": "stream",
     "text": [
      "Accuracy Score :  58.14\n",
      "F1-Score :  63.27\n"
     ]
    }
   ],
   "source": [
    "acc, f1 = rf_tree(XTraindataRnD, XTestdataRnD, YTraindataRnD, YTestdataRnD)\n",
    "print('Accuracy Score : ', np.round(acc*100, 2))\n",
    "print('F1-Score : ', np.round(f1*100, 2))\n",
    "rf_metrics = rf_metrics.append([['RnD', acc*100, f1*100]]) \n",
    "RnDMetrics = RnDMetrics.append([['SVC rbf', acc*100, f1*100]]) "
   ]
  },
  {
   "cell_type": "code",
   "execution_count": 89,
   "metadata": {},
   "outputs": [
    {
     "name": "stdout",
     "output_type": "stream",
     "text": [
      "Accuracy Score :  68.42\n",
      "F1-Score :  66.67\n"
     ]
    }
   ],
   "source": [
    "acc, f1 = rf_tree(XTraindataSecurity, XTestdataSecurity, YTraindataSecurity, YTestdataSecurity)\n",
    "print('Accuracy Score : ', np.round(acc*100, 2))\n",
    "print('F1-Score : ', np.round(f1*100, 2))\n",
    "rf_metrics = rf_metrics.append([['Security', acc*100, f1*100]]) \n",
    "SecurityMetrics = SecurityMetrics.append([['SVC rbf', acc*100, f1*100]]) "
   ]
  },
  {
   "cell_type": "code",
   "execution_count": 90,
   "metadata": {},
   "outputs": [
    {
     "data": {
      "text/html": [
       "<div>\n",
       "<style scoped>\n",
       "    .dataframe tbody tr th:only-of-type {\n",
       "        vertical-align: middle;\n",
       "    }\n",
       "\n",
       "    .dataframe tbody tr th {\n",
       "        vertical-align: top;\n",
       "    }\n",
       "\n",
       "    .dataframe thead th {\n",
       "        text-align: right;\n",
       "    }\n",
       "</style>\n",
       "<table border=\"1\" class=\"dataframe\">\n",
       "  <thead>\n",
       "    <tr style=\"text-align: right;\">\n",
       "      <th></th>\n",
       "      <th>Department</th>\n",
       "      <th>Accuracy</th>\n",
       "      <th>F1-Score</th>\n",
       "    </tr>\n",
       "  </thead>\n",
       "  <tbody>\n",
       "    <tr>\n",
       "      <th>0</th>\n",
       "      <td>Organisation</td>\n",
       "      <td>51.327913</td>\n",
       "      <td>41.230366</td>\n",
       "    </tr>\n",
       "    <tr>\n",
       "      <th>0</th>\n",
       "      <td>IT</td>\n",
       "      <td>54.353562</td>\n",
       "      <td>60.770975</td>\n",
       "    </tr>\n",
       "    <tr>\n",
       "      <th>0</th>\n",
       "      <td>Logistics</td>\n",
       "      <td>61.538462</td>\n",
       "      <td>61.290323</td>\n",
       "    </tr>\n",
       "    <tr>\n",
       "      <th>0</th>\n",
       "      <td>Quality</td>\n",
       "      <td>57.692308</td>\n",
       "      <td>63.333333</td>\n",
       "    </tr>\n",
       "    <tr>\n",
       "      <th>0</th>\n",
       "      <td>HR</td>\n",
       "      <td>72.826087</td>\n",
       "      <td>74.747475</td>\n",
       "    </tr>\n",
       "    <tr>\n",
       "      <th>0</th>\n",
       "      <td>Purchasing</td>\n",
       "      <td>65.151515</td>\n",
       "      <td>67.605634</td>\n",
       "    </tr>\n",
       "    <tr>\n",
       "      <th>0</th>\n",
       "      <td>Sales</td>\n",
       "      <td>60.887097</td>\n",
       "      <td>57.268722</td>\n",
       "    </tr>\n",
       "    <tr>\n",
       "      <th>0</th>\n",
       "      <td>Operations</td>\n",
       "      <td>57.386364</td>\n",
       "      <td>46.808511</td>\n",
       "    </tr>\n",
       "    <tr>\n",
       "      <th>0</th>\n",
       "      <td>Production</td>\n",
       "      <td>64.285714</td>\n",
       "      <td>68.750000</td>\n",
       "    </tr>\n",
       "    <tr>\n",
       "      <th>0</th>\n",
       "      <td>Accounting</td>\n",
       "      <td>56.204380</td>\n",
       "      <td>58.904110</td>\n",
       "    </tr>\n",
       "    <tr>\n",
       "      <th>0</th>\n",
       "      <td>Marketing</td>\n",
       "      <td>49.122807</td>\n",
       "      <td>62.337662</td>\n",
       "    </tr>\n",
       "    <tr>\n",
       "      <th>0</th>\n",
       "      <td>RnD</td>\n",
       "      <td>58.139535</td>\n",
       "      <td>63.265306</td>\n",
       "    </tr>\n",
       "    <tr>\n",
       "      <th>0</th>\n",
       "      <td>Security</td>\n",
       "      <td>68.421053</td>\n",
       "      <td>66.666667</td>\n",
       "    </tr>\n",
       "  </tbody>\n",
       "</table>\n",
       "</div>"
      ],
      "text/plain": [
       "     Department   Accuracy   F1-Score\n",
       "0  Organisation  51.327913  41.230366\n",
       "0            IT  54.353562  60.770975\n",
       "0     Logistics  61.538462  61.290323\n",
       "0       Quality  57.692308  63.333333\n",
       "0            HR  72.826087  74.747475\n",
       "0    Purchasing  65.151515  67.605634\n",
       "0         Sales  60.887097  57.268722\n",
       "0    Operations  57.386364  46.808511\n",
       "0    Production  64.285714  68.750000\n",
       "0    Accounting  56.204380  58.904110\n",
       "0     Marketing  49.122807  62.337662\n",
       "0           RnD  58.139535  63.265306\n",
       "0      Security  68.421053  66.666667"
      ]
     },
     "execution_count": 90,
     "metadata": {},
     "output_type": "execute_result"
    }
   ],
   "source": [
    "rf_metrics.columns = ['Department', 'Accuracy', 'F1-Score']\n",
    "rf_metrics"
   ]
  },
  {
   "cell_type": "code",
   "execution_count": 91,
   "metadata": {},
   "outputs": [
    {
     "data": {
      "image/png": "[encoded data removed]",
      "text/plain": [
       "<Figure size 432x288 with 1 Axes>"
      ]
     },
     "metadata": {
      "needs_background": "light"
     },
     "output_type": "display_data"
    }
   ],
   "source": [
    "fig = plt.figure()\n",
    "ax = fig.add_axes([0,0,1,1])\n",
    "ax.bar(rf_metrics['Department'], rf_metrics['Accuracy'], color = 'g', width = 0.25)\n",
    "ax.plot(rf_metrics['Department'], rf_metrics['Accuracy'])\n",
    "ax.set_xticklabels(rf_metrics.Department, rotation=45)\n",
    "plt.show()"
   ]
  },
  {
   "cell_type": "code",
   "execution_count": 92,
   "metadata": {},
   "outputs": [
    {
     "data": {
      "image/png": "[encoded data removed]",
      "text/plain": [
       "<Figure size 432x288 with 1 Axes>"
      ]
     },
     "metadata": {
      "needs_background": "light"
     },
     "output_type": "display_data"
    }
   ],
   "source": [
    "fig = plt.figure()\n",
    "ax = fig.add_axes([0,0,1,1])\n",
    "ax.bar(rf_metrics['Department'], rf_metrics['F1-Score'], color = 'g', width = 0.25)\n",
    "ax.plot(rf_metrics['Department'], rf_metrics['F1-Score'])\n",
    "ax.set_xticklabels(rf_metrics.Department, rotation=45)\n",
    "plt.show()"
   ]
  },
  {
   "cell_type": "markdown",
   "metadata": {},
   "source": [
    "#  SVM"
   ]
  },
  {
   "cell_type": "code",
   "execution_count": 93,
   "metadata": {},
   "outputs": [],
   "source": [
    "svm_metrics = pd.DataFrame()\n",
    "\n",
    "def svm_model(xtrain, xtest, ytrain, ytest):\n",
    "    svm = SVC(kernel='sigmoid')\n",
    "    svm.fit(xtrain, ytrain)\n",
    "    pred =  svm.predict(xtest)\n",
    "    acc = accuracy_score(ytest, pred)\n",
    "    f1 = f1_score(ytest, pred)\n",
    "    return acc, f1"
   ]
  },
  {
   "cell_type": "code",
   "execution_count": 94,
   "metadata": {
    "scrolled": true
   },
   "outputs": [
    {
     "name": "stdout",
     "output_type": "stream",
     "text": [
      "Accuracy Score :  49.11\n",
      "F1-Score :  50.29\n"
     ]
    }
   ],
   "source": [
    "acc, f1 = svm_model(XTrain, XTest, YTrain, YTest)\n",
    "print('Accuracy Score : ', np.round(acc*100, 2))\n",
    "print('F1-Score : ', np.round(f1*100, 2))\n",
    "svm_metrics = svm_metrics.append([['Organisation', acc*100, f1*100]]) \n",
    "orgMetrics = orgMetrics.append([['SVM sigmoid', acc*100, f1*100]]) "
   ]
  },
  {
   "cell_type": "code",
   "execution_count": 95,
   "metadata": {},
   "outputs": [
    {
     "name": "stdout",
     "output_type": "stream",
     "text": [
      "Accuracy Score :  53.3\n",
      "F1-Score :  54.26\n"
     ]
    }
   ],
   "source": [
    "acc, f1 = svm_model(XTraindataIT, XTestdataIT, YTraindataIT, YTestdataIT)\n",
    "print('Accuracy Score : ', np.round(acc*100, 2))\n",
    "print('F1-Score : ', np.round(f1*100, 2))\n",
    "svm_metrics = svm_metrics.append([['IT', acc*100, f1*100]]) \n",
    "ITMetrics = ITMetrics.append([['SVM sigmoid', acc*100, f1*100]]) "
   ]
  },
  {
   "cell_type": "code",
   "execution_count": 96,
   "metadata": {},
   "outputs": [
    {
     "name": "stdout",
     "output_type": "stream",
     "text": [
      "Accuracy Score :  44.87\n",
      "F1-Score :  43.05\n"
     ]
    }
   ],
   "source": [
    "acc, f1 = svm_model(XTraindataLogistics, XTestdataLogistics, YTraindataLogistics, YTestdataLogistics)\n",
    "print('Accuracy Score : ', np.round(acc*100, 2))\n",
    "print('F1-Score : ', np.round(f1*100, 2))\n",
    "svm_metrics = svm_metrics.append([['Logistics', acc*100, f1*100]]) \n",
    "LogisticsMetrics = LogisticsMetrics.append([['SVM sigmoid', acc*100, f1*100]]) "
   ]
  },
  {
   "cell_type": "code",
   "execution_count": 97,
   "metadata": {},
   "outputs": [
    {
     "name": "stdout",
     "output_type": "stream",
     "text": [
      "Accuracy Score :  40.38\n",
      "F1-Score :  57.53\n"
     ]
    }
   ],
   "source": [
    "acc, f1 = svm_model(XTraindataQuality, XTestdataQuality, YTraindataQuality,YTestdataQuality)\n",
    "print('Accuracy Score : ', np.round(acc*100, 2))\n",
    "print('F1-Score : ', np.round(f1*100, 2))\n",
    "svm_metrics = svm_metrics.append([['Quality', acc*100, f1*100]]) \n",
    "QualityMetrics = QualityMetrics.append([['SVM sigmoid', acc*100, f1*100]]) "
   ]
  },
  {
   "cell_type": "code",
   "execution_count": 98,
   "metadata": {},
   "outputs": [
    {
     "name": "stdout",
     "output_type": "stream",
     "text": [
      "Accuracy Score :  53.26\n",
      "F1-Score :  53.76\n"
     ]
    }
   ],
   "source": [
    "acc, f1 = svm_model(XTraindataHR, XTestdataHR, YTraindataHR, YTestdataHR)\n",
    "print('Accuracy Score : ', np.round(acc*100, 2))\n",
    "print('F1-Score : ', np.round(f1*100, 2))\n",
    "svm_metrics = svm_metrics.append([['HR', acc*100, f1*100]]) \n",
    "HRMetrics = HRMetrics.append([['SVM sigmoid', acc*100, f1*100]]) "
   ]
  },
  {
   "cell_type": "code",
   "execution_count": 99,
   "metadata": {},
   "outputs": [
    {
     "name": "stdout",
     "output_type": "stream",
     "text": [
      "Accuracy Score :  38.64\n",
      "F1-Score :  37.21\n"
     ]
    }
   ],
   "source": [
    "acc, f1 = svm_model(XTraindataPurchasing, XTestdataPurchasing, YTraindataPurchasing, YTestdataPurchasing)\n",
    "print('Accuracy Score : ', np.round(acc*100, 2))\n",
    "print('F1-Score : ', np.round(f1*100, 2))\n",
    "svm_metrics = svm_metrics.append([['Purchasing', acc*100, f1*100]]) \n",
    "PurchasingMetrics = PurchasingMetrics.append([['SVM sigmoid', acc*100, f1*100]]) "
   ]
  },
  {
   "cell_type": "code",
   "execution_count": 100,
   "metadata": {},
   "outputs": [
    {
     "name": "stdout",
     "output_type": "stream",
     "text": [
      "Accuracy Score :  48.39\n",
      "F1-Score :  48.8\n"
     ]
    }
   ],
   "source": [
    "acc, f1 = svm_model(XTraindataSales, XTestdataSales, YTraindataSales, YTestdataSales)\n",
    "print('Accuracy Score : ', np.round(acc*100, 2))\n",
    "print('F1-Score : ', np.round(f1*100, 2))\n",
    "svm_metrics = svm_metrics.append([['Sales', acc*100, f1*100]]) \n",
    "SalesMetrics = SalesMetrics.append([['SVM sigmoid', acc*100, f1*100]]) "
   ]
  },
  {
   "cell_type": "code",
   "execution_count": 101,
   "metadata": {},
   "outputs": [
    {
     "name": "stdout",
     "output_type": "stream",
     "text": [
      "Accuracy Score :  48.21\n",
      "F1-Score :  50.85\n"
     ]
    }
   ],
   "source": [
    "acc, f1 = svm_model(XTraindataProduction, XTestdataProduction, YTraindataProduction, YTestdataProduction)\n",
    "print('Accuracy Score : ', np.round(acc*100, 2))\n",
    "print('F1-Score : ', np.round(f1*100, 2))\n",
    "svm_metrics = svm_metrics.append([['Production', acc*100, f1*100]]) \n",
    "ProductionMetrics = ProductionMetrics.append([['SVM  sigmoid', acc*100, f1*100]]) "
   ]
  },
  {
   "cell_type": "code",
   "execution_count": 102,
   "metadata": {},
   "outputs": [
    {
     "name": "stdout",
     "output_type": "stream",
     "text": [
      "Accuracy Score :  40.91\n",
      "F1-Score :  38.82\n"
     ]
    }
   ],
   "source": [
    "acc, f1 = svm_model(XTraindataOperarions, XTestdataOperarions, YTraindataOperarions, YTestdataOperarions)\n",
    "print('Accuracy Score : ', np.round(acc*100, 2))\n",
    "print('F1-Score : ', np.round(f1*100, 2))\n",
    "svm_metrics = svm_metrics.append([['Operations', acc*100, f1*100]]) \n",
    "OperarionsMetrics = OperarionsMetrics.append([['SVM sigmoid', acc*100, f1*100]]) "
   ]
  },
  {
   "cell_type": "code",
   "execution_count": 103,
   "metadata": {},
   "outputs": [
    {
     "name": "stdout",
     "output_type": "stream",
     "text": [
      "Accuracy Score :  51.82\n",
      "F1-Score :  59.26\n"
     ]
    }
   ],
   "source": [
    "acc, f1 = svm_model(XTraindataAcconting, XTestdataAcconting, YTraindataAcconting, YTestdataAcconting)\n",
    "print('Accuracy Score : ', np.round(acc*100, 2))\n",
    "print('F1-Score : ', np.round(f1*100, 2))\n",
    "svm_metrics = svm_metrics.append([['Accounting', acc*100, f1*100]]) \n",
    "AccontingMetrics = AccontingMetrics.append([['SVM sigmoid', acc*100, f1*100]]) "
   ]
  },
  {
   "cell_type": "code",
   "execution_count": 104,
   "metadata": {},
   "outputs": [
    {
     "name": "stdout",
     "output_type": "stream",
     "text": [
      "Accuracy Score :  56.14\n",
      "F1-Score :  62.69\n"
     ]
    }
   ],
   "source": [
    "acc, f1 = svm_model(XTraindataMarketing, XTestdataMarketing, YTraindataMarketing, YTestdataMarketing)\n",
    "print('Accuracy Score : ', np.round(acc*100, 2))\n",
    "print('F1-Score : ', np.round(f1*100, 2))\n",
    "svm_metrics = svm_metrics.append([['Marketing', acc*100, f1*100]]) \n",
    "MarketingMetrics = MarketingMetrics.append([['SVM sigmoid', acc*100, f1*100]]) "
   ]
  },
  {
   "cell_type": "code",
   "execution_count": 105,
   "metadata": {},
   "outputs": [
    {
     "name": "stdout",
     "output_type": "stream",
     "text": [
      "Accuracy Score :  45.35\n",
      "F1-Score :  44.05\n"
     ]
    }
   ],
   "source": [
    "acc, f1 = svm_model(XTraindataRnD, XTestdataRnD, YTraindataRnD, YTestdataRnD)\n",
    "print('Accuracy Score : ', np.round(acc*100, 2))\n",
    "print('F1-Score : ', np.round(f1*100, 2))\n",
    "svm_metrics = svm_metrics.append([['RnD', acc*100, f1*100]]) \n",
    "RnDMetrics = RnDMetrics.append([['SVM sigmoid', acc*100, f1*100]]) "
   ]
  },
  {
   "cell_type": "code",
   "execution_count": 106,
   "metadata": {},
   "outputs": [
    {
     "name": "stdout",
     "output_type": "stream",
     "text": [
      "Accuracy Score :  39.47\n",
      "F1-Score :  0.0\n"
     ]
    }
   ],
   "source": [
    "acc, f1 = svm_model(XTraindataSecurity, XTestdataSecurity, YTraindataSecurity, YTestdataSecurity)\n",
    "print('Accuracy Score : ', np.round(acc*100, 2))\n",
    "print('F1-Score : ', np.round(f1*100, 2))\n",
    "svm_metrics = svm_metrics.append([['Security', acc*100, f1*100]]) \n",
    "SecurityMetrics = SecurityMetrics.append([['SVM sigmoid', acc*100, f1*100]]) "
   ]
  },
  {
   "cell_type": "code",
   "execution_count": 107,
   "metadata": {},
   "outputs": [
    {
     "data": {
      "text/plain": [
       "<bound method DataFrame.info of      Department   Accuracy   F1-Score\n",
       "0  Organisation  49.105691  50.291159\n",
       "0            IT  53.298153  54.263566\n",
       "0     Logistics  44.871795  43.046358\n",
       "0       Quality  40.384615  57.534247\n",
       "0            HR  53.260870  53.763441\n",
       "0    Purchasing  38.636364  37.209302\n",
       "0         Sales  48.387097  48.800000\n",
       "0    Production  48.214286  50.847458\n",
       "0    Operations  40.909091  38.823529\n",
       "0    Accounting  51.824818  59.259259\n",
       "0     Marketing  56.140351  62.686567\n",
       "0           RnD  45.348837  44.047619\n",
       "0      Security  39.473684   0.000000>"
      ]
     },
     "execution_count": 107,
     "metadata": {},
     "output_type": "execute_result"
    }
   ],
   "source": [
    "svm_metrics.columns = ['Department', 'Accuracy', 'F1-Score']\n",
    "svm_metrics.info"
   ]
  },
  {
   "cell_type": "code",
   "execution_count": 108,
   "metadata": {},
   "outputs": [
    {
     "data": {
      "image/png": "[encoded data removed]",
      "text/plain": [
       "<Figure size 432x288 with 1 Axes>"
      ]
     },
     "metadata": {
      "needs_background": "light"
     },
     "output_type": "display_data"
    }
   ],
   "source": [
    "fig = plt.figure()\n",
    "ax = fig.add_axes([0,0,1,1])\n",
    "ax.bar(svm_metrics['Department'], svm_metrics['Accuracy'], color = 'g', width = 0.25)\n",
    "ax.plot(svm_metrics['Department'], svm_metrics['Accuracy'])\n",
    "ax.set_xticklabels(svm_metrics.Department, rotation=45)\n",
    "plt.show()"
   ]
  },
  {
   "cell_type": "code",
   "execution_count": 109,
   "metadata": {},
   "outputs": [
    {
     "data": {
      "image/png": "[encoded data removed]",
      "text/plain": [
       "<Figure size 432x288 with 1 Axes>"
      ]
     },
     "metadata": {
      "needs_background": "light"
     },
     "output_type": "display_data"
    }
   ],
   "source": [
    "fig = plt.figure()\n",
    "ax = fig.add_axes([0,0,1,1])\n",
    "ax.bar(svm_metrics['Department'], svm_metrics['F1-Score'], color = 'g', width = 0.25)\n",
    "ax.plot(svm_metrics['Department'], svm_metrics['F1-Score'])\n",
    "ax.set_xticklabels(svm_metrics.Department, rotation=45)\n",
    "plt.show()"
   ]
  },
  {
   "cell_type": "markdown",
   "metadata": {},
   "source": [
    "#  Department Wise Comparison"
   ]
  },
  {
   "cell_type": "markdown",
   "metadata": {},
   "source": [
    "## Organisation"
   ]
  },
  {
   "cell_type": "code",
   "execution_count": 110,
   "metadata": {},
   "outputs": [
    {
     "data": {
      "text/html": [
       "<div>\n",
       "<style scoped>\n",
       "    .dataframe tbody tr th:only-of-type {\n",
       "        vertical-align: middle;\n",
       "    }\n",
       "\n",
       "    .dataframe tbody tr th {\n",
       "        vertical-align: top;\n",
       "    }\n",
       "\n",
       "    .dataframe thead th {\n",
       "        text-align: right;\n",
       "    }\n",
       "</style>\n",
       "<table border=\"1\" class=\"dataframe\">\n",
       "  <thead>\n",
       "    <tr style=\"text-align: right;\">\n",
       "      <th></th>\n",
       "      <th>Model</th>\n",
       "      <th>Accuracy</th>\n",
       "      <th>F1-Score</th>\n",
       "    </tr>\n",
       "  </thead>\n",
       "  <tbody>\n",
       "    <tr>\n",
       "      <th>0</th>\n",
       "      <td>SVC linear</td>\n",
       "      <td>51.815718</td>\n",
       "      <td>24.978903</td>\n",
       "    </tr>\n",
       "    <tr>\n",
       "      <th>0</th>\n",
       "      <td>SVC rbf</td>\n",
       "      <td>51.327913</td>\n",
       "      <td>41.230366</td>\n",
       "    </tr>\n",
       "    <tr>\n",
       "      <th>0</th>\n",
       "      <td>SVM sigmoid</td>\n",
       "      <td>49.105691</td>\n",
       "      <td>50.291159</td>\n",
       "    </tr>\n",
       "  </tbody>\n",
       "</table>\n",
       "</div>"
      ],
      "text/plain": [
       "         Model   Accuracy   F1-Score\n",
       "0   SVC linear  51.815718  24.978903\n",
       "0      SVC rbf  51.327913  41.230366\n",
       "0  SVM sigmoid  49.105691  50.291159"
      ]
     },
     "execution_count": 110,
     "metadata": {},
     "output_type": "execute_result"
    }
   ],
   "source": [
    "orgMetrics.columns = ['Model', 'Accuracy', 'F1-Score']\n",
    "orgMetrics"
   ]
  },
  {
   "cell_type": "code",
   "execution_count": 111,
   "metadata": {},
   "outputs": [
    {
     "data": {
      "image/png": "[encoded data removed]",
      "text/plain": [
       "<Figure size 432x288 with 1 Axes>"
      ]
     },
     "metadata": {
      "needs_background": "light"
     },
     "output_type": "display_data"
    }
   ],
   "source": [
    "fig = plt.figure()\n",
    "ax = fig.add_axes([0,0,1,1])\n",
    "ax.bar(orgMetrics['Model'], orgMetrics['Accuracy'], color = 'g', width = 0.25)\n",
    "ax.plot(orgMetrics['Model'], orgMetrics['Accuracy'])\n",
    "ax.set_xticklabels(orgMetrics.Model, rotation=45)\n",
    "plt.show()"
   ]
  },
  {
   "cell_type": "code",
   "execution_count": 112,
   "metadata": {},
   "outputs": [
    {
     "data": {
      "image/png": "[encoded data removed]",
      "text/plain": [
       "<Figure size 432x288 with 1 Axes>"
      ]
     },
     "metadata": {
      "needs_background": "light"
     },
     "output_type": "display_data"
    }
   ],
   "source": [
    "fig = plt.figure()\n",
    "ax = fig.add_axes([0,0,1,1])\n",
    "ax.bar(orgMetrics['Model'], orgMetrics['F1-Score'], color = 'g', width = 0.25)\n",
    "ax.plot(orgMetrics['Model'], orgMetrics['F1-Score'])\n",
    "ax.set_xticklabels(orgMetrics.Model, rotation=45)\n",
    "plt.show()"
   ]
  },
  {
   "cell_type": "markdown",
   "metadata": {},
   "source": [
    "## IT"
   ]
  },
  {
   "cell_type": "code",
   "execution_count": 113,
   "metadata": {},
   "outputs": [
    {
     "data": {
      "text/html": [
       "<div>\n",
       "<style scoped>\n",
       "    .dataframe tbody tr th:only-of-type {\n",
       "        vertical-align: middle;\n",
       "    }\n",
       "\n",
       "    .dataframe tbody tr th {\n",
       "        vertical-align: top;\n",
       "    }\n",
       "\n",
       "    .dataframe thead th {\n",
       "        text-align: right;\n",
       "    }\n",
       "</style>\n",
       "<table border=\"1\" class=\"dataframe\">\n",
       "  <thead>\n",
       "    <tr style=\"text-align: right;\">\n",
       "      <th></th>\n",
       "      <th>Model</th>\n",
       "      <th>Accuracy</th>\n",
       "      <th>F1-Score</th>\n",
       "    </tr>\n",
       "  </thead>\n",
       "  <tbody>\n",
       "    <tr>\n",
       "      <th>0</th>\n",
       "      <td>SVC linear</td>\n",
       "      <td>64.643799</td>\n",
       "      <td>47.244094</td>\n",
       "    </tr>\n",
       "    <tr>\n",
       "      <th>0</th>\n",
       "      <td>SVC rbf</td>\n",
       "      <td>54.353562</td>\n",
       "      <td>60.770975</td>\n",
       "    </tr>\n",
       "    <tr>\n",
       "      <th>0</th>\n",
       "      <td>SVM sigmoid</td>\n",
       "      <td>53.298153</td>\n",
       "      <td>54.263566</td>\n",
       "    </tr>\n",
       "  </tbody>\n",
       "</table>\n",
       "</div>"
      ],
      "text/plain": [
       "         Model   Accuracy   F1-Score\n",
       "0   SVC linear  64.643799  47.244094\n",
       "0      SVC rbf  54.353562  60.770975\n",
       "0  SVM sigmoid  53.298153  54.263566"
      ]
     },
     "execution_count": 113,
     "metadata": {},
     "output_type": "execute_result"
    }
   ],
   "source": [
    "ITMetrics.columns = ['Model', 'Accuracy', 'F1-Score']\n",
    "ITMetrics"
   ]
  },
  {
   "cell_type": "code",
   "execution_count": 114,
   "metadata": {},
   "outputs": [
    {
     "data": {
      "image/png": "[encoded data removed]",
      "text/plain": [
       "<Figure size 432x288 with 1 Axes>"
      ]
     },
     "metadata": {
      "needs_background": "light"
     },
     "output_type": "display_data"
    }
   ],
   "source": [
    "fig = plt.figure()\n",
    "ax = fig.add_axes([0,0,1,1])\n",
    "ax.bar(ITMetrics['Model'], ITMetrics['Accuracy'], color = 'g', width = 0.25)\n",
    "ax.plot(ITMetrics['Model'], ITMetrics['Accuracy'])\n",
    "ax.set_xticklabels(ITMetrics.Model, rotation=45)\n",
    "plt.show()"
   ]
  },
  {
   "cell_type": "code",
   "execution_count": 115,
   "metadata": {},
   "outputs": [
    {
     "data": {
      "image/png": "[encoded data removed]",
      "text/plain": [
       "<Figure size 432x288 with 1 Axes>"
      ]
     },
     "metadata": {
      "needs_background": "light"
     },
     "output_type": "display_data"
    }
   ],
   "source": [
    "fig = plt.figure()\n",
    "ax = fig.add_axes([0,0,1,1])\n",
    "ax.bar(ITMetrics['Model'], ITMetrics['F1-Score'], color = 'g', width = 0.25)\n",
    "ax.plot(ITMetrics['Model'], ITMetrics['F1-Score'])\n",
    "ax.set_xticklabels(ITMetrics.Model, rotation=45)\n",
    "plt.show()"
   ]
  },
  {
   "cell_type": "markdown",
   "metadata": {},
   "source": [
    "## Logistics"
   ]
  },
  {
   "cell_type": "code",
   "execution_count": 116,
   "metadata": {},
   "outputs": [
    {
     "data": {
      "text/html": [
       "<div>\n",
       "<style scoped>\n",
       "    .dataframe tbody tr th:only-of-type {\n",
       "        vertical-align: middle;\n",
       "    }\n",
       "\n",
       "    .dataframe tbody tr th {\n",
       "        vertical-align: top;\n",
       "    }\n",
       "\n",
       "    .dataframe thead th {\n",
       "        text-align: right;\n",
       "    }\n",
       "</style>\n",
       "<table border=\"1\" class=\"dataframe\">\n",
       "  <thead>\n",
       "    <tr style=\"text-align: right;\">\n",
       "      <th></th>\n",
       "      <th>Model</th>\n",
       "      <th>Accuracy</th>\n",
       "      <th>F1-Score</th>\n",
       "    </tr>\n",
       "  </thead>\n",
       "  <tbody>\n",
       "    <tr>\n",
       "      <th>0</th>\n",
       "      <td>SVC linear</td>\n",
       "      <td>71.794872</td>\n",
       "      <td>58.490566</td>\n",
       "    </tr>\n",
       "    <tr>\n",
       "      <th>0</th>\n",
       "      <td>SVC rbf</td>\n",
       "      <td>61.538462</td>\n",
       "      <td>61.290323</td>\n",
       "    </tr>\n",
       "    <tr>\n",
       "      <th>0</th>\n",
       "      <td>SVM sigmoid</td>\n",
       "      <td>44.871795</td>\n",
       "      <td>43.046358</td>\n",
       "    </tr>\n",
       "  </tbody>\n",
       "</table>\n",
       "</div>"
      ],
      "text/plain": [
       "         Model   Accuracy   F1-Score\n",
       "0   SVC linear  71.794872  58.490566\n",
       "0      SVC rbf  61.538462  61.290323\n",
       "0  SVM sigmoid  44.871795  43.046358"
      ]
     },
     "execution_count": 116,
     "metadata": {},
     "output_type": "execute_result"
    }
   ],
   "source": [
    "LogisticsMetrics.columns = ['Model', 'Accuracy', 'F1-Score']\n",
    "LogisticsMetrics"
   ]
  },
  {
   "cell_type": "code",
   "execution_count": 117,
   "metadata": {},
   "outputs": [
    {
     "data": {
      "image/png": "[encoded data removed]",
      "text/plain": [
       "<Figure size 432x288 with 1 Axes>"
      ]
     },
     "metadata": {
      "needs_background": "light"
     },
     "output_type": "display_data"
    }
   ],
   "source": [
    "fig = plt.figure()\n",
    "ax = fig.add_axes([0,0,1,1])\n",
    "ax.bar(LogisticsMetrics['Model'], LogisticsMetrics['Accuracy'], color = 'g', width = 0.25)\n",
    "ax.plot(LogisticsMetrics['Model'], LogisticsMetrics['Accuracy'])\n",
    "ax.set_xticklabels(LogisticsMetrics.Model, rotation=45)\n",
    "plt.show()"
   ]
  },
  {
   "cell_type": "code",
   "execution_count": 118,
   "metadata": {},
   "outputs": [
    {
     "data": {
      "image/png": "[encoded data removed]",
      "text/plain": [
       "<Figure size 432x288 with 1 Axes>"
      ]
     },
     "metadata": {
      "needs_background": "light"
     },
     "output_type": "display_data"
    }
   ],
   "source": [
    "fig = plt.figure()\n",
    "ax = fig.add_axes([0,0,1,1])\n",
    "ax.bar(LogisticsMetrics['Model'], LogisticsMetrics['F1-Score'], color = 'g', width = 0.25)\n",
    "ax.plot(LogisticsMetrics['Model'], LogisticsMetrics['F1-Score'])\n",
    "ax.set_xticklabels(LogisticsMetrics.Model, rotation=45)\n",
    "plt.show()"
   ]
  },
  {
   "cell_type": "markdown",
   "metadata": {},
   "source": [
    "##  Quality"
   ]
  },
  {
   "cell_type": "code",
   "execution_count": 119,
   "metadata": {},
   "outputs": [
    {
     "data": {
      "text/html": [
       "<div>\n",
       "<style scoped>\n",
       "    .dataframe tbody tr th:only-of-type {\n",
       "        vertical-align: middle;\n",
       "    }\n",
       "\n",
       "    .dataframe tbody tr th {\n",
       "        vertical-align: top;\n",
       "    }\n",
       "\n",
       "    .dataframe thead th {\n",
       "        text-align: right;\n",
       "    }\n",
       "</style>\n",
       "<table border=\"1\" class=\"dataframe\">\n",
       "  <thead>\n",
       "    <tr style=\"text-align: right;\">\n",
       "      <th></th>\n",
       "      <th>Model</th>\n",
       "      <th>Accuracy</th>\n",
       "      <th>F1-Score</th>\n",
       "    </tr>\n",
       "  </thead>\n",
       "  <tbody>\n",
       "    <tr>\n",
       "      <th>0</th>\n",
       "      <td>SVC linear</td>\n",
       "      <td>96.153846</td>\n",
       "      <td>95.238095</td>\n",
       "    </tr>\n",
       "    <tr>\n",
       "      <th>0</th>\n",
       "      <td>SVC rbf</td>\n",
       "      <td>57.692308</td>\n",
       "      <td>63.333333</td>\n",
       "    </tr>\n",
       "    <tr>\n",
       "      <th>0</th>\n",
       "      <td>SVM sigmoid</td>\n",
       "      <td>40.384615</td>\n",
       "      <td>57.534247</td>\n",
       "    </tr>\n",
       "  </tbody>\n",
       "</table>\n",
       "</div>"
      ],
      "text/plain": [
       "         Model   Accuracy   F1-Score\n",
       "0   SVC linear  96.153846  95.238095\n",
       "0      SVC rbf  57.692308  63.333333\n",
       "0  SVM sigmoid  40.384615  57.534247"
      ]
     },
     "execution_count": 119,
     "metadata": {},
     "output_type": "execute_result"
    }
   ],
   "source": [
    "QualityMetrics.columns = ['Model', 'Accuracy', 'F1-Score']\n",
    "QualityMetrics"
   ]
  },
  {
   "cell_type": "code",
   "execution_count": 120,
   "metadata": {},
   "outputs": [
    {
     "data": {
      "image/png": "[encoded data removed]",
      "text/plain": [
       "<Figure size 432x288 with 1 Axes>"
      ]
     },
     "metadata": {
      "needs_background": "light"
     },
     "output_type": "display_data"
    }
   ],
   "source": [
    "fig = plt.figure()\n",
    "ax = fig.add_axes([0,0,1,1])\n",
    "ax.bar(QualityMetrics['Model'], QualityMetrics['Accuracy'], color = 'g', width = 0.25)\n",
    "ax.plot(QualityMetrics['Model'], QualityMetrics['Accuracy'])\n",
    "ax.set_xticklabels(QualityMetrics.Model, rotation=45)\n",
    "plt.show()"
   ]
  },
  {
   "cell_type": "code",
   "execution_count": 121,
   "metadata": {},
   "outputs": [
    {
     "data": {
      "image/png": "[encoded data removed]",
      "text/plain": [
       "<Figure size 432x288 with 1 Axes>"
      ]
     },
     "metadata": {
      "needs_background": "light"
     },
     "output_type": "display_data"
    }
   ],
   "source": [
    "fig = plt.figure()\n",
    "ax = fig.add_axes([0,0,1,1])\n",
    "ax.bar(QualityMetrics['Model'], QualityMetrics['F1-Score'], color = 'g', width = 0.25)\n",
    "ax.plot(QualityMetrics['Model'], QualityMetrics['F1-Score'])\n",
    "ax.set_xticklabels(QualityMetrics.Model, rotation=45)\n",
    "plt.show()"
   ]
  },
  {
   "cell_type": "markdown",
   "metadata": {},
   "source": [
    "## Human Resources "
   ]
  },
  {
   "cell_type": "code",
   "execution_count": 122,
   "metadata": {},
   "outputs": [
    {
     "data": {
      "text/html": [
       "<div>\n",
       "<style scoped>\n",
       "    .dataframe tbody tr th:only-of-type {\n",
       "        vertical-align: middle;\n",
       "    }\n",
       "\n",
       "    .dataframe tbody tr th {\n",
       "        vertical-align: top;\n",
       "    }\n",
       "\n",
       "    .dataframe thead th {\n",
       "        text-align: right;\n",
       "    }\n",
       "</style>\n",
       "<table border=\"1\" class=\"dataframe\">\n",
       "  <thead>\n",
       "    <tr style=\"text-align: right;\">\n",
       "      <th></th>\n",
       "      <th>Model</th>\n",
       "      <th>Accuracy</th>\n",
       "      <th>F1-Score</th>\n",
       "    </tr>\n",
       "  </thead>\n",
       "  <tbody>\n",
       "    <tr>\n",
       "      <th>0</th>\n",
       "      <td>SVC linear</td>\n",
       "      <td>98.913043</td>\n",
       "      <td>98.947368</td>\n",
       "    </tr>\n",
       "    <tr>\n",
       "      <th>0</th>\n",
       "      <td>SVC rbf</td>\n",
       "      <td>72.826087</td>\n",
       "      <td>74.747475</td>\n",
       "    </tr>\n",
       "    <tr>\n",
       "      <th>0</th>\n",
       "      <td>SVM sigmoid</td>\n",
       "      <td>53.260870</td>\n",
       "      <td>53.763441</td>\n",
       "    </tr>\n",
       "  </tbody>\n",
       "</table>\n",
       "</div>"
      ],
      "text/plain": [
       "         Model   Accuracy   F1-Score\n",
       "0   SVC linear  98.913043  98.947368\n",
       "0      SVC rbf  72.826087  74.747475\n",
       "0  SVM sigmoid  53.260870  53.763441"
      ]
     },
     "execution_count": 122,
     "metadata": {},
     "output_type": "execute_result"
    }
   ],
   "source": [
    "HRMetrics.columns = ['Model', 'Accuracy', 'F1-Score']\n",
    "HRMetrics"
   ]
  },
  {
   "cell_type": "code",
   "execution_count": 123,
   "metadata": {},
   "outputs": [
    {
     "data": {
      "image/png": "[encoded data removed]",
      "text/plain": [
       "<Figure size 432x288 with 1 Axes>"
      ]
     },
     "metadata": {
      "needs_background": "light"
     },
     "output_type": "display_data"
    }
   ],
   "source": [
    "fig = plt.figure()\n",
    "ax = fig.add_axes([0,0,1,1])\n",
    "ax.bar(HRMetrics['Model'], HRMetrics['Accuracy'], color = 'g', width = 0.25)\n",
    "ax.plot(HRMetrics['Model'], HRMetrics['Accuracy'])\n",
    "ax.set_xticklabels(HRMetrics.Model, rotation=45)\n",
    "plt.show()"
   ]
  },
  {
   "cell_type": "code",
   "execution_count": 124,
   "metadata": {},
   "outputs": [
    {
     "data": {
      "image/png": "[encoded data removed]",
      "text/plain": [
       "<Figure size 432x288 with 1 Axes>"
      ]
     },
     "metadata": {
      "needs_background": "light"
     },
     "output_type": "display_data"
    }
   ],
   "source": [
    "fig = plt.figure()\n",
    "ax = fig.add_axes([0,0,1,1])\n",
    "ax.bar(HRMetrics['Model'], HRMetrics['F1-Score'], color = 'g', width = 0.25)\n",
    "ax.plot(HRMetrics['Model'], HRMetrics['F1-Score'])\n",
    "ax.set_xticklabels(HRMetrics.Model, rotation=45)\n",
    "plt.show()"
   ]
  },
  {
   "cell_type": "markdown",
   "metadata": {},
   "source": [
    "## Purchasing "
   ]
  },
  {
   "cell_type": "code",
   "execution_count": 125,
   "metadata": {},
   "outputs": [
    {
     "data": {
      "text/html": [
       "<div>\n",
       "<style scoped>\n",
       "    .dataframe tbody tr th:only-of-type {\n",
       "        vertical-align: middle;\n",
       "    }\n",
       "\n",
       "    .dataframe tbody tr th {\n",
       "        vertical-align: top;\n",
       "    }\n",
       "\n",
       "    .dataframe thead th {\n",
       "        text-align: right;\n",
       "    }\n",
       "</style>\n",
       "<table border=\"1\" class=\"dataframe\">\n",
       "  <thead>\n",
       "    <tr style=\"text-align: right;\">\n",
       "      <th></th>\n",
       "      <th>Model</th>\n",
       "      <th>Accuracy</th>\n",
       "      <th>F1-Score</th>\n",
       "    </tr>\n",
       "  </thead>\n",
       "  <tbody>\n",
       "    <tr>\n",
       "      <th>0</th>\n",
       "      <td>SVC linear</td>\n",
       "      <td>83.333333</td>\n",
       "      <td>77.551020</td>\n",
       "    </tr>\n",
       "    <tr>\n",
       "      <th>0</th>\n",
       "      <td>SVC rbf</td>\n",
       "      <td>65.151515</td>\n",
       "      <td>67.605634</td>\n",
       "    </tr>\n",
       "    <tr>\n",
       "      <th>0</th>\n",
       "      <td>SVM sigmoid</td>\n",
       "      <td>38.636364</td>\n",
       "      <td>37.209302</td>\n",
       "    </tr>\n",
       "  </tbody>\n",
       "</table>\n",
       "</div>"
      ],
      "text/plain": [
       "         Model   Accuracy   F1-Score\n",
       "0   SVC linear  83.333333  77.551020\n",
       "0      SVC rbf  65.151515  67.605634\n",
       "0  SVM sigmoid  38.636364  37.209302"
      ]
     },
     "execution_count": 125,
     "metadata": {},
     "output_type": "execute_result"
    }
   ],
   "source": [
    "PurchasingMetrics.columns = ['Model', 'Accuracy', 'F1-Score']\n",
    "PurchasingMetrics"
   ]
  },
  {
   "cell_type": "code",
   "execution_count": 126,
   "metadata": {},
   "outputs": [
    {
     "data": {
      "image/png": "[encoded data removed]",
      "text/plain": [
       "<Figure size 432x288 with 1 Axes>"
      ]
     },
     "metadata": {
      "needs_background": "light"
     },
     "output_type": "display_data"
    }
   ],
   "source": [
    "fig = plt.figure()\n",
    "ax = fig.add_axes([0,0,1,1])\n",
    "ax.bar(PurchasingMetrics['Model'], PurchasingMetrics['Accuracy'], color = 'g', width = 0.25)\n",
    "ax.plot(PurchasingMetrics['Model'], PurchasingMetrics['Accuracy'])\n",
    "ax.set_xticklabels(PurchasingMetrics.Model, rotation=45)\n",
    "plt.show()"
   ]
  },
  {
   "cell_type": "code",
   "execution_count": 127,
   "metadata": {},
   "outputs": [
    {
     "data": {
      "image/png": "[encoded data removed]",
      "text/plain": [
       "<Figure size 432x288 with 1 Axes>"
      ]
     },
     "metadata": {
      "needs_background": "light"
     },
     "output_type": "display_data"
    }
   ],
   "source": [
    "fig = plt.figure()\n",
    "ax = fig.add_axes([0,0,1,1])\n",
    "ax.bar(PurchasingMetrics['Model'], PurchasingMetrics['F1-Score'], color = 'g', width = 0.25)\n",
    "ax.plot(PurchasingMetrics['Model'], PurchasingMetrics['F1-Score'])\n",
    "ax.set_xticklabels(PurchasingMetrics.Model, rotation=45)\n",
    "plt.show()"
   ]
  },
  {
   "cell_type": "markdown",
   "metadata": {},
   "source": [
    "## Sales "
   ]
  },
  {
   "cell_type": "code",
   "execution_count": 128,
   "metadata": {},
   "outputs": [
    {
     "data": {
      "text/html": [
       "<div>\n",
       "<style scoped>\n",
       "    .dataframe tbody tr th:only-of-type {\n",
       "        vertical-align: middle;\n",
       "    }\n",
       "\n",
       "    .dataframe tbody tr th {\n",
       "        vertical-align: top;\n",
       "    }\n",
       "\n",
       "    .dataframe thead th {\n",
       "        text-align: right;\n",
       "    }\n",
       "</style>\n",
       "<table border=\"1\" class=\"dataframe\">\n",
       "  <thead>\n",
       "    <tr style=\"text-align: right;\">\n",
       "      <th></th>\n",
       "      <th>Model</th>\n",
       "      <th>Accuracy</th>\n",
       "      <th>F1-Score</th>\n",
       "    </tr>\n",
       "  </thead>\n",
       "  <tbody>\n",
       "    <tr>\n",
       "      <th>0</th>\n",
       "      <td>SVC linear</td>\n",
       "      <td>68.548387</td>\n",
       "      <td>60.204082</td>\n",
       "    </tr>\n",
       "    <tr>\n",
       "      <th>0</th>\n",
       "      <td>SVC rbf</td>\n",
       "      <td>60.887097</td>\n",
       "      <td>57.268722</td>\n",
       "    </tr>\n",
       "    <tr>\n",
       "      <th>0</th>\n",
       "      <td>SVM sigmoid</td>\n",
       "      <td>48.387097</td>\n",
       "      <td>48.800000</td>\n",
       "    </tr>\n",
       "  </tbody>\n",
       "</table>\n",
       "</div>"
      ],
      "text/plain": [
       "         Model   Accuracy   F1-Score\n",
       "0   SVC linear  68.548387  60.204082\n",
       "0      SVC rbf  60.887097  57.268722\n",
       "0  SVM sigmoid  48.387097  48.800000"
      ]
     },
     "execution_count": 128,
     "metadata": {},
     "output_type": "execute_result"
    }
   ],
   "source": [
    "SalesMetrics.columns = ['Model', 'Accuracy', 'F1-Score']\n",
    "SalesMetrics"
   ]
  },
  {
   "cell_type": "code",
   "execution_count": 129,
   "metadata": {},
   "outputs": [
    {
     "data": {
      "image/png": "[encoded data removed]",
      "text/plain": [
       "<Figure size 432x288 with 1 Axes>"
      ]
     },
     "metadata": {
      "needs_background": "light"
     },
     "output_type": "display_data"
    }
   ],
   "source": [
    "fig = plt.figure()\n",
    "ax = fig.add_axes([0,0,1,1])\n",
    "ax.bar(SalesMetrics['Model'], SalesMetrics['Accuracy'], color = 'g', width = 0.25)\n",
    "ax.plot(SalesMetrics['Model'], SalesMetrics['Accuracy'])\n",
    "ax.set_xticklabels(SalesMetrics.Model, rotation=45)\n",
    "plt.show()"
   ]
  },
  {
   "cell_type": "code",
   "execution_count": 130,
   "metadata": {},
   "outputs": [
    {
     "data": {
      "image/png": "[encoded data removed]",
      "text/plain": [
       "<Figure size 432x288 with 1 Axes>"
      ]
     },
     "metadata": {
      "needs_background": "light"
     },
     "output_type": "display_data"
    }
   ],
   "source": [
    "fig = plt.figure()\n",
    "ax = fig.add_axes([0,0,1,1])\n",
    "ax.bar(SalesMetrics['Model'], SalesMetrics['F1-Score'], color = 'g', width = 0.25)\n",
    "ax.plot(SalesMetrics['Model'], SalesMetrics['F1-Score'])\n",
    "ax.set_xticklabels(SalesMetrics.Model, rotation=45)\n",
    "plt.show()"
   ]
  },
  {
   "cell_type": "markdown",
   "metadata": {},
   "source": [
    "## Operations"
   ]
  },
  {
   "cell_type": "code",
   "execution_count": 131,
   "metadata": {},
   "outputs": [
    {
     "data": {
      "text/html": [
       "<div>\n",
       "<style scoped>\n",
       "    .dataframe tbody tr th:only-of-type {\n",
       "        vertical-align: middle;\n",
       "    }\n",
       "\n",
       "    .dataframe tbody tr th {\n",
       "        vertical-align: top;\n",
       "    }\n",
       "\n",
       "    .dataframe thead th {\n",
       "        text-align: right;\n",
       "    }\n",
       "</style>\n",
       "<table border=\"1\" class=\"dataframe\">\n",
       "  <thead>\n",
       "    <tr style=\"text-align: right;\">\n",
       "      <th></th>\n",
       "      <th>Model</th>\n",
       "      <th>Accuracy</th>\n",
       "      <th>F1-Score</th>\n",
       "    </tr>\n",
       "  </thead>\n",
       "  <tbody>\n",
       "    <tr>\n",
       "      <th>0</th>\n",
       "      <td>SVC linear</td>\n",
       "      <td>71.590909</td>\n",
       "      <td>63.768116</td>\n",
       "    </tr>\n",
       "    <tr>\n",
       "      <th>0</th>\n",
       "      <td>SVC rbf</td>\n",
       "      <td>57.386364</td>\n",
       "      <td>46.808511</td>\n",
       "    </tr>\n",
       "    <tr>\n",
       "      <th>0</th>\n",
       "      <td>SVM sigmoid</td>\n",
       "      <td>40.909091</td>\n",
       "      <td>38.823529</td>\n",
       "    </tr>\n",
       "  </tbody>\n",
       "</table>\n",
       "</div>"
      ],
      "text/plain": [
       "         Model   Accuracy   F1-Score\n",
       "0   SVC linear  71.590909  63.768116\n",
       "0      SVC rbf  57.386364  46.808511\n",
       "0  SVM sigmoid  40.909091  38.823529"
      ]
     },
     "execution_count": 131,
     "metadata": {},
     "output_type": "execute_result"
    }
   ],
   "source": [
    "OperarionsMetrics.columns = ['Model', 'Accuracy', 'F1-Score']\n",
    "OperarionsMetrics"
   ]
  },
  {
   "cell_type": "code",
   "execution_count": 132,
   "metadata": {},
   "outputs": [
    {
     "data": {
      "image/png": "[encoded data removed]",
      "text/plain": [
       "<Figure size 432x288 with 1 Axes>"
      ]
     },
     "metadata": {
      "needs_background": "light"
     },
     "output_type": "display_data"
    }
   ],
   "source": [
    "fig = plt.figure()\n",
    "ax = fig.add_axes([0,0,1,1])\n",
    "ax.bar(OperarionsMetrics['Model'], OperarionsMetrics['Accuracy'], color = 'g', width = 0.25)\n",
    "ax.plot(OperarionsMetrics['Model'], OperarionsMetrics['Accuracy'])\n",
    "ax.set_xticklabels(OperarionsMetrics.Model, rotation=45)\n",
    "plt.show()"
   ]
  },
  {
   "cell_type": "code",
   "execution_count": 133,
   "metadata": {},
   "outputs": [
    {
     "data": {
      "image/png": "[encoded data removed]",
      "text/plain": [
       "<Figure size 432x288 with 1 Axes>"
      ]
     },
     "metadata": {
      "needs_background": "light"
     },
     "output_type": "display_data"
    }
   ],
   "source": [
    "fig = plt.figure()\n",
    "ax = fig.add_axes([0,0,1,1])\n",
    "ax.bar(OperarionsMetrics['Model'], OperarionsMetrics['F1-Score'], color = 'g', width = 0.25)\n",
    "ax.plot(OperarionsMetrics['Model'], OperarionsMetrics['F1-Score'])\n",
    "ax.set_xticklabels(OperarionsMetrics.Model, rotation=45)\n",
    "plt.show()"
   ]
  },
  {
   "cell_type": "markdown",
   "metadata": {},
   "source": [
    "## Production "
   ]
  },
  {
   "cell_type": "code",
   "execution_count": 134,
   "metadata": {},
   "outputs": [
    {
     "data": {
      "text/html": [
       "<div>\n",
       "<style scoped>\n",
       "    .dataframe tbody tr th:only-of-type {\n",
       "        vertical-align: middle;\n",
       "    }\n",
       "\n",
       "    .dataframe tbody tr th {\n",
       "        vertical-align: top;\n",
       "    }\n",
       "\n",
       "    .dataframe thead th {\n",
       "        text-align: right;\n",
       "    }\n",
       "</style>\n",
       "<table border=\"1\" class=\"dataframe\">\n",
       "  <thead>\n",
       "    <tr style=\"text-align: right;\">\n",
       "      <th></th>\n",
       "      <th>Model</th>\n",
       "      <th>Accuracy</th>\n",
       "      <th>F1-Score</th>\n",
       "    </tr>\n",
       "  </thead>\n",
       "  <tbody>\n",
       "    <tr>\n",
       "      <th>0</th>\n",
       "      <td>SVC linear</td>\n",
       "      <td>98.214286</td>\n",
       "      <td>98.181818</td>\n",
       "    </tr>\n",
       "    <tr>\n",
       "      <th>0</th>\n",
       "      <td>SVC rbf</td>\n",
       "      <td>64.285714</td>\n",
       "      <td>68.750000</td>\n",
       "    </tr>\n",
       "    <tr>\n",
       "      <th>0</th>\n",
       "      <td>SVM  sigmoid</td>\n",
       "      <td>48.214286</td>\n",
       "      <td>50.847458</td>\n",
       "    </tr>\n",
       "  </tbody>\n",
       "</table>\n",
       "</div>"
      ],
      "text/plain": [
       "          Model   Accuracy   F1-Score\n",
       "0    SVC linear  98.214286  98.181818\n",
       "0       SVC rbf  64.285714  68.750000\n",
       "0  SVM  sigmoid  48.214286  50.847458"
      ]
     },
     "execution_count": 134,
     "metadata": {},
     "output_type": "execute_result"
    }
   ],
   "source": [
    "ProductionMetrics.columns = ['Model', 'Accuracy', 'F1-Score']\n",
    "ProductionMetrics"
   ]
  },
  {
   "cell_type": "code",
   "execution_count": 135,
   "metadata": {},
   "outputs": [
    {
     "data": {
      "image/png": "[encoded data removed]",
      "text/plain": [
       "<Figure size 432x288 with 1 Axes>"
      ]
     },
     "metadata": {
      "needs_background": "light"
     },
     "output_type": "display_data"
    }
   ],
   "source": [
    "fig = plt.figure()\n",
    "ax = fig.add_axes([0,0,1,1])\n",
    "ax.bar(ProductionMetrics['Model'], ProductionMetrics['Accuracy'], color = 'g', width = 0.25)\n",
    "ax.plot(ProductionMetrics['Model'], ProductionMetrics['Accuracy'])\n",
    "ax.set_xticklabels(ProductionMetrics.Model, rotation=45)\n",
    "plt.show()"
   ]
  },
  {
   "cell_type": "code",
   "execution_count": 136,
   "metadata": {},
   "outputs": [
    {
     "data": {
      "image/png": "[encoded data removed]",
      "text/plain": [
       "<Figure size 432x288 with 1 Axes>"
      ]
     },
     "metadata": {
      "needs_background": "light"
     },
     "output_type": "display_data"
    }
   ],
   "source": [
    "fig = plt.figure()\n",
    "ax = fig.add_axes([0,0,1,1])\n",
    "ax.bar(ProductionMetrics['Model'], ProductionMetrics['F1-Score'], color = 'g', width = 0.25)\n",
    "ax.plot(ProductionMetrics['Model'], ProductionMetrics['F1-Score'])\n",
    "ax.set_xticklabels(ProductionMetrics.Model, rotation=45)\n",
    "plt.show()"
   ]
  },
  {
   "cell_type": "markdown",
   "metadata": {},
   "source": [
    "## Accounting "
   ]
  },
  {
   "cell_type": "code",
   "execution_count": 137,
   "metadata": {},
   "outputs": [
    {
     "data": {
      "text/html": [
       "<div>\n",
       "<style scoped>\n",
       "    .dataframe tbody tr th:only-of-type {\n",
       "        vertical-align: middle;\n",
       "    }\n",
       "\n",
       "    .dataframe tbody tr th {\n",
       "        vertical-align: top;\n",
       "    }\n",
       "\n",
       "    .dataframe thead th {\n",
       "        text-align: right;\n",
       "    }\n",
       "</style>\n",
       "<table border=\"1\" class=\"dataframe\">\n",
       "  <thead>\n",
       "    <tr style=\"text-align: right;\">\n",
       "      <th></th>\n",
       "      <th>Model</th>\n",
       "      <th>Accuracy</th>\n",
       "      <th>F1-Score</th>\n",
       "    </tr>\n",
       "  </thead>\n",
       "  <tbody>\n",
       "    <tr>\n",
       "      <th>0</th>\n",
       "      <td>SVC linear</td>\n",
       "      <td>91.970803</td>\n",
       "      <td>91.472868</td>\n",
       "    </tr>\n",
       "    <tr>\n",
       "      <th>0</th>\n",
       "      <td>SVC rbf</td>\n",
       "      <td>56.204380</td>\n",
       "      <td>58.904110</td>\n",
       "    </tr>\n",
       "    <tr>\n",
       "      <th>0</th>\n",
       "      <td>SVM sigmoid</td>\n",
       "      <td>51.824818</td>\n",
       "      <td>59.259259</td>\n",
       "    </tr>\n",
       "  </tbody>\n",
       "</table>\n",
       "</div>"
      ],
      "text/plain": [
       "         Model   Accuracy   F1-Score\n",
       "0   SVC linear  91.970803  91.472868\n",
       "0      SVC rbf  56.204380  58.904110\n",
       "0  SVM sigmoid  51.824818  59.259259"
      ]
     },
     "execution_count": 137,
     "metadata": {},
     "output_type": "execute_result"
    }
   ],
   "source": [
    "AccontingMetrics.columns = ['Model', 'Accuracy', 'F1-Score']\n",
    "AccontingMetrics"
   ]
  },
  {
   "cell_type": "code",
   "execution_count": 138,
   "metadata": {},
   "outputs": [
    {
     "data": {
      "image/png": "[encoded data removed]",
      "text/plain": [
       "<Figure size 432x288 with 1 Axes>"
      ]
     },
     "metadata": {
      "needs_background": "light"
     },
     "output_type": "display_data"
    }
   ],
   "source": [
    "fig = plt.figure()\n",
    "ax = fig.add_axes([0,0,1,1])\n",
    "ax.bar(AccontingMetrics['Model'], AccontingMetrics['Accuracy'], color = 'g', width = 0.25)\n",
    "ax.plot(AccontingMetrics['Model'], AccontingMetrics['Accuracy'])\n",
    "ax.set_xticklabels(AccontingMetrics.Model, rotation=45)\n",
    "plt.show()"
   ]
  },
  {
   "cell_type": "code",
   "execution_count": 139,
   "metadata": {},
   "outputs": [
    {
     "data": {
      "image/png": "[encoded data removed]",
      "text/plain": [
       "<Figure size 432x288 with 1 Axes>"
      ]
     },
     "metadata": {
      "needs_background": "light"
     },
     "output_type": "display_data"
    }
   ],
   "source": [
    "fig = plt.figure()\n",
    "ax = fig.add_axes([0,0,1,1])\n",
    "ax.bar(AccontingMetrics['Model'], AccontingMetrics['F1-Score'], color = 'g', width = 0.25)\n",
    "ax.plot(AccontingMetrics['Model'], AccontingMetrics['F1-Score'])\n",
    "ax.set_xticklabels(AccontingMetrics.Model, rotation=45)\n",
    "plt.show()"
   ]
  },
  {
   "cell_type": "markdown",
   "metadata": {},
   "source": [
    "## Marketing "
   ]
  },
  {
   "cell_type": "code",
   "execution_count": 140,
   "metadata": {},
   "outputs": [
    {
     "data": {
      "text/html": [
       "<div>\n",
       "<style scoped>\n",
       "    .dataframe tbody tr th:only-of-type {\n",
       "        vertical-align: middle;\n",
       "    }\n",
       "\n",
       "    .dataframe tbody tr th {\n",
       "        vertical-align: top;\n",
       "    }\n",
       "\n",
       "    .dataframe thead th {\n",
       "        text-align: right;\n",
       "    }\n",
       "</style>\n",
       "<table border=\"1\" class=\"dataframe\">\n",
       "  <thead>\n",
       "    <tr style=\"text-align: right;\">\n",
       "      <th></th>\n",
       "      <th>Model</th>\n",
       "      <th>Accuracy</th>\n",
       "      <th>F1-Score</th>\n",
       "    </tr>\n",
       "  </thead>\n",
       "  <tbody>\n",
       "    <tr>\n",
       "      <th>0</th>\n",
       "      <td>SVC linear</td>\n",
       "      <td>98.245614</td>\n",
       "      <td>98.113208</td>\n",
       "    </tr>\n",
       "    <tr>\n",
       "      <th>0</th>\n",
       "      <td>SVC rbf</td>\n",
       "      <td>49.122807</td>\n",
       "      <td>62.337662</td>\n",
       "    </tr>\n",
       "    <tr>\n",
       "      <th>0</th>\n",
       "      <td>SVM sigmoid</td>\n",
       "      <td>56.140351</td>\n",
       "      <td>62.686567</td>\n",
       "    </tr>\n",
       "  </tbody>\n",
       "</table>\n",
       "</div>"
      ],
      "text/plain": [
       "         Model   Accuracy   F1-Score\n",
       "0   SVC linear  98.245614  98.113208\n",
       "0      SVC rbf  49.122807  62.337662\n",
       "0  SVM sigmoid  56.140351  62.686567"
      ]
     },
     "execution_count": 140,
     "metadata": {},
     "output_type": "execute_result"
    }
   ],
   "source": [
    "MarketingMetrics.columns = ['Model', 'Accuracy', 'F1-Score']\n",
    "MarketingMetrics"
   ]
  },
  {
   "cell_type": "code",
   "execution_count": 141,
   "metadata": {},
   "outputs": [
    {
     "data": {
      "image/png": "[encoded data removed]",
      "text/plain": [
       "<Figure size 432x288 with 1 Axes>"
      ]
     },
     "metadata": {
      "needs_background": "light"
     },
     "output_type": "display_data"
    }
   ],
   "source": [
    "fig = plt.figure()\n",
    "ax = fig.add_axes([0,0,1,1])\n",
    "ax.bar(MarketingMetrics['Model'], MarketingMetrics['Accuracy'], color = 'g', width = 0.25)\n",
    "ax.plot(MarketingMetrics['Model'], MarketingMetrics['Accuracy'])\n",
    "ax.set_xticklabels(MarketingMetrics.Model, rotation=45)\n",
    "plt.show()"
   ]
  },
  {
   "cell_type": "code",
   "execution_count": 142,
   "metadata": {},
   "outputs": [
    {
     "data": {
      "image/png": "[encoded data removed]",
      "text/plain": [
       "<Figure size 432x288 with 1 Axes>"
      ]
     },
     "metadata": {
      "needs_background": "light"
     },
     "output_type": "display_data"
    }
   ],
   "source": [
    "fig = plt.figure()\n",
    "ax = fig.add_axes([0,0,1,1])\n",
    "ax.bar(MarketingMetrics['Model'], MarketingMetrics['F1-Score'], color = 'g', width = 0.25)\n",
    "ax.plot(MarketingMetrics['Model'], MarketingMetrics['F1-Score'])\n",
    "ax.set_xticklabels(MarketingMetrics.Model, rotation=45)\n",
    "plt.show()"
   ]
  },
  {
   "cell_type": "markdown",
   "metadata": {},
   "source": [
    "## Research and Development"
   ]
  },
  {
   "cell_type": "code",
   "execution_count": 143,
   "metadata": {},
   "outputs": [
    {
     "data": {
      "text/html": [
       "<div>\n",
       "<style scoped>\n",
       "    .dataframe tbody tr th:only-of-type {\n",
       "        vertical-align: middle;\n",
       "    }\n",
       "\n",
       "    .dataframe tbody tr th {\n",
       "        vertical-align: top;\n",
       "    }\n",
       "\n",
       "    .dataframe thead th {\n",
       "        text-align: right;\n",
       "    }\n",
       "</style>\n",
       "<table border=\"1\" class=\"dataframe\">\n",
       "  <thead>\n",
       "    <tr style=\"text-align: right;\">\n",
       "      <th></th>\n",
       "      <th>Model</th>\n",
       "      <th>Accuracy</th>\n",
       "      <th>F1-Score</th>\n",
       "    </tr>\n",
       "  </thead>\n",
       "  <tbody>\n",
       "    <tr>\n",
       "      <th>0</th>\n",
       "      <td>SVC linear</td>\n",
       "      <td>70.348837</td>\n",
       "      <td>65.306122</td>\n",
       "    </tr>\n",
       "    <tr>\n",
       "      <th>0</th>\n",
       "      <td>SVC rbf</td>\n",
       "      <td>58.139535</td>\n",
       "      <td>63.265306</td>\n",
       "    </tr>\n",
       "    <tr>\n",
       "      <th>0</th>\n",
       "      <td>SVM sigmoid</td>\n",
       "      <td>45.348837</td>\n",
       "      <td>44.047619</td>\n",
       "    </tr>\n",
       "  </tbody>\n",
       "</table>\n",
       "</div>"
      ],
      "text/plain": [
       "         Model   Accuracy   F1-Score\n",
       "0   SVC linear  70.348837  65.306122\n",
       "0      SVC rbf  58.139535  63.265306\n",
       "0  SVM sigmoid  45.348837  44.047619"
      ]
     },
     "execution_count": 143,
     "metadata": {},
     "output_type": "execute_result"
    }
   ],
   "source": [
    "RnDMetrics.columns = ['Model', 'Accuracy', 'F1-Score']\n",
    "RnDMetrics"
   ]
  },
  {
   "cell_type": "code",
   "execution_count": 144,
   "metadata": {},
   "outputs": [
    {
     "data": {
      "image/png": "[encoded data removed]",
      "text/plain": [
       "<Figure size 432x288 with 1 Axes>"
      ]
     },
     "metadata": {
      "needs_background": "light"
     },
     "output_type": "display_data"
    }
   ],
   "source": [
    "fig = plt.figure()\n",
    "ax = fig.add_axes([0,0,1,1])\n",
    "ax.bar(RnDMetrics['Model'], RnDMetrics['Accuracy'], color = 'g', width = 0.25)\n",
    "ax.plot(RnDMetrics['Model'], RnDMetrics['Accuracy'])\n",
    "ax.set_xticklabels(RnDMetrics.Model, rotation=45)\n",
    "plt.show()"
   ]
  },
  {
   "cell_type": "code",
   "execution_count": 145,
   "metadata": {},
   "outputs": [
    {
     "data": {
      "image/png": "[encoded data removed]",
      "text/plain": [
       "<Figure size 432x288 with 1 Axes>"
      ]
     },
     "metadata": {
      "needs_background": "light"
     },
     "output_type": "display_data"
    }
   ],
   "source": [
    "fig = plt.figure()\n",
    "ax = fig.add_axes([0,0,1,1])\n",
    "ax.bar(RnDMetrics['Model'], RnDMetrics['F1-Score'], color = 'g', width = 0.25)\n",
    "ax.plot(RnDMetrics['Model'], RnDMetrics['F1-Score'])\n",
    "ax.set_xticklabels(RnDMetrics.Model, rotation=45)\n",
    "plt.show()"
   ]
  },
  {
   "cell_type": "markdown",
   "metadata": {},
   "source": [
    "## Security "
   ]
  },
  {
   "cell_type": "code",
   "execution_count": 146,
   "metadata": {},
   "outputs": [
    {
     "data": {
      "text/html": [
       "<div>\n",
       "<style scoped>\n",
       "    .dataframe tbody tr th:only-of-type {\n",
       "        vertical-align: middle;\n",
       "    }\n",
       "\n",
       "    .dataframe tbody tr th {\n",
       "        vertical-align: top;\n",
       "    }\n",
       "\n",
       "    .dataframe thead th {\n",
       "        text-align: right;\n",
       "    }\n",
       "</style>\n",
       "<table border=\"1\" class=\"dataframe\">\n",
       "  <thead>\n",
       "    <tr style=\"text-align: right;\">\n",
       "      <th></th>\n",
       "      <th>Model</th>\n",
       "      <th>Accuracy</th>\n",
       "      <th>F1-Score</th>\n",
       "    </tr>\n",
       "  </thead>\n",
       "  <tbody>\n",
       "    <tr>\n",
       "      <th>0</th>\n",
       "      <td>SVC linear</td>\n",
       "      <td>97.368421</td>\n",
       "      <td>97.872340</td>\n",
       "    </tr>\n",
       "    <tr>\n",
       "      <th>0</th>\n",
       "      <td>SVC rbf</td>\n",
       "      <td>68.421053</td>\n",
       "      <td>66.666667</td>\n",
       "    </tr>\n",
       "    <tr>\n",
       "      <th>0</th>\n",
       "      <td>SVM sigmoid</td>\n",
       "      <td>39.473684</td>\n",
       "      <td>0.000000</td>\n",
       "    </tr>\n",
       "  </tbody>\n",
       "</table>\n",
       "</div>"
      ],
      "text/plain": [
       "         Model   Accuracy   F1-Score\n",
       "0   SVC linear  97.368421  97.872340\n",
       "0      SVC rbf  68.421053  66.666667\n",
       "0  SVM sigmoid  39.473684   0.000000"
      ]
     },
     "execution_count": 146,
     "metadata": {},
     "output_type": "execute_result"
    }
   ],
   "source": [
    "SecurityMetrics.columns = ['Model', 'Accuracy', 'F1-Score']\n",
    "SecurityMetrics"
   ]
  },
  {
   "cell_type": "code",
   "execution_count": 147,
   "metadata": {},
   "outputs": [
    {
     "data": {
      "image/png": "[encoded data removed]",
      "text/plain": [
       "<Figure size 432x288 with 1 Axes>"
      ]
     },
     "metadata": {
      "needs_background": "light"
     },
     "output_type": "display_data"
    }
   ],
   "source": [
    "fig = plt.figure()\n",
    "ax = fig.add_axes([0,0,1,1])\n",
    "ax.bar(SecurityMetrics['Model'], SecurityMetrics['Accuracy'], color = 'g', width = 0.25)\n",
    "ax.plot(SecurityMetrics['Model'], SecurityMetrics['Accuracy'])\n",
    "ax.set_xticklabels(SecurityMetrics.Model, rotation=45)\n",
    "plt.show()"
   ]
  },
  {
   "cell_type": "code",
   "execution_count": 148,
   "metadata": {},
   "outputs": [
    {
     "data": {
      "image/png": "[encoded data removed]",
      "text/plain": [
       "<Figure size 432x288 with 1 Axes>"
      ]
     },
     "metadata": {
      "needs_background": "light"
     },
     "output_type": "display_data"
    }
   ],
   "source": [
    "fig = plt.figure()\n",
    "ax = fig.add_axes([0,0,1,1])\n",
    "ax.bar(SecurityMetrics['Model'], SecurityMetrics['F1-Score'], color = 'g', width = 0.25)\n",
    "ax.plot(SecurityMetrics['Model'], SecurityMetrics['F1-Score'])\n",
    "ax.set_xticklabels(SecurityMetrics.Model, rotation=45)\n",
    "plt.show()"
   ]
  },
  {
   "cell_type": "code",
   "execution_count": null,
   "metadata": {},
   "outputs": [],
   "source": []
  }
 ],
 "metadata": {
  "kernelspec": {
   "display_name": "Python 3",
   "language": "python",
   "name": "python3"
  },
  "language_info": {
   "codemirror_mode": {
    "name": "ipython",
    "version": 3
   },
   "file_extension": ".py",
   "mimetype": "text/x-python",
   "name": "python",
   "nbconvert_exporter": "python",
   "pygments_lexer": "ipython3",
   "version": "3.7.6"
  }
 },
 "nbformat": 4,
 "nbformat_minor": 4
}
