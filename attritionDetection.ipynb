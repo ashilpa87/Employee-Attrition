{
  "nbformat": 4,
  "nbformat_minor": 0,
  "metadata": {
    "kernelspec": {
      "display_name": "Python 3",
      "language": "python",
      "name": "python3"
    },
    "language_info": {
      "codemirror_mode": {
        "name": "ipython",
        "version": 3
      },
      "file_extension": ".py",
      "mimetype": "text/x-python",
      "name": "python",
      "nbconvert_exporter": "python",
      "pygments_lexer": "ipython3",
      "version": "3.7.4"
    },
    "colab": {
      "name": "attritionDetection.ipynb",
      "provenance": [],
      "collapsed_sections": [
        "CAn5I6TIeLOz",
        "JVvA-sRoeLPh",
        "j7W3zHMZeLPS",
        "Jq-QsvmDeLO-",
        "T4yklczlUwt-",
        "Q88Dd1OLeLPF",
        "iJf4wfOXUvfO"
      ]
    }
  },
  "cells": [
    {
      "cell_type": "markdown",
      "metadata": {
        "id": "hvBI96oSeLN1"
      },
      "source": [
        "## Importing required libraries"
      ]
    },
    {
      "cell_type": "code",
      "metadata": {
        "id": "kzZ7keANzN9c",
        "colab": {
          "base_uri": "https://localhost:8080/"
        },
        "outputId": "3da0dde5-3db9-401a-ca8b-16b2515892d8"
      },
      "source": [
        "## Installing h2o library\n",
        "! pip install h2o "
      ],
      "execution_count": 1,
      "outputs": [
        {
          "output_type": "stream",
          "text": [
            "Requirement already satisfied: h2o in /usr/local/lib/python3.7/dist-packages (3.32.1.5)\n",
            "Requirement already satisfied: colorama>=0.3.8 in /usr/local/lib/python3.7/dist-packages (from h2o) (0.4.4)\n",
            "Requirement already satisfied: tabulate in /usr/local/lib/python3.7/dist-packages (from h2o) (0.8.9)\n",
            "Requirement already satisfied: requests in /usr/local/lib/python3.7/dist-packages (from h2o) (2.23.0)\n",
            "Requirement already satisfied: future in /usr/local/lib/python3.7/dist-packages (from h2o) (0.16.0)\n",
            "Requirement already satisfied: certifi>=2017.4.17 in /usr/local/lib/python3.7/dist-packages (from requests->h2o) (2021.5.30)\n",
            "Requirement already satisfied: chardet<4,>=3.0.2 in /usr/local/lib/python3.7/dist-packages (from requests->h2o) (3.0.4)\n",
            "Requirement already satisfied: idna<3,>=2.5 in /usr/local/lib/python3.7/dist-packages (from requests->h2o) (2.10)\n",
            "Requirement already satisfied: urllib3!=1.25.0,!=1.25.1,<1.26,>=1.21.1 in /usr/local/lib/python3.7/dist-packages (from requests->h2o) (1.24.3)\n"
          ],
          "name": "stdout"
        }
      ]
    },
    {
      "cell_type": "code",
      "metadata": {
        "scrolled": true,
        "id": "AX5EiTFEeLN2"
      },
      "source": [
        "# Importing all the required packages\n",
        "import pandas as pd         #  For data manipulation\n",
        "import numpy as np          #  For mathematical calculations\n",
        "from functools import reduce\n",
        "%matplotlib inline         \n",
        "import matplotlib.pyplot as plt   # For Graphs\n",
        "import matplotlib.lines as mlines  # For Graphs\n",
        "from mpl_toolkits.mplot3d import Axes3D  # For Graphs\n",
        "import seaborn as sns  # For Graphs\n",
        "import warnings  # For warnings \n",
        "from sklearn.preprocessing import LabelEncoder\n",
        "from sklearn.feature_selection import chi2\n",
        "import h2o        # For h2o model\n",
        "from sklearn.model_selection import train_test_split        # For dividing data into training and test set\n",
        "warnings.filterwarnings(\"ignore\", category=DeprecationWarning)       \n",
        "from h2o.estimators.gbm import H2OGradientBoostingEstimator        # For h2o Gradient Boosting model\n",
        "from h2o.estimators import H2ODeepLearningEstimator\n",
        "from h2o.estimators import H2ORandomForestEstimator\n",
        "from h2o.estimators.gam import H2OGeneralizedAdditiveEstimator\n",
        "from h2o.estimators import H2ONaiveBayesEstimator\n",
        "from h2o.estimators import H2ORuleFitEstimator\n",
        "from h2o.estimators import H2OXGBoostEstimator\n",
        "from h2o.estimators import H2OStackedEnsembleEstimator\n",
        "import time"
      ],
      "execution_count": 2,
      "outputs": []
    },
    {
      "cell_type": "code",
      "metadata": {
        "colab": {
          "base_uri": "https://localhost:8080/"
        },
        "id": "xugylkrv1vUo",
        "outputId": "28882570-78f5-4d43-aecc-97b9cf21dbfd"
      },
      "source": [
        "from google.colab import drive\n",
        "drive.mount('/content/drive')"
      ],
      "execution_count": 3,
      "outputs": [
        {
          "output_type": "stream",
          "text": [
            "Drive already mounted at /content/drive; to attempt to forcibly remount, call drive.mount(\"/content/drive\", force_remount=True).\n"
          ],
          "name": "stdout"
        }
      ]
    },
    {
      "cell_type": "code",
      "metadata": {
        "id": "AHZc2QabeLN8",
        "colab": {
          "base_uri": "https://localhost:8080/",
          "height": 520
        },
        "outputId": "2e7b70f8-1981-4f4a-fe10-9500026bee56"
      },
      "source": [
        "# initialize h2o\n",
        "h2o.init()"
      ],
      "execution_count": 4,
      "outputs": [
        {
          "output_type": "stream",
          "text": [
            "Checking whether there is an H2O instance running at http://localhost:54321 ..... not found.\n",
            "Attempting to start a local H2O server...\n",
            "  Java Version: openjdk version \"11.0.11\" 2021-04-20; OpenJDK Runtime Environment (build 11.0.11+9-Ubuntu-0ubuntu2.18.04); OpenJDK 64-Bit Server VM (build 11.0.11+9-Ubuntu-0ubuntu2.18.04, mixed mode, sharing)\n",
            "  Starting server from /usr/local/lib/python3.7/dist-packages/h2o/backend/bin/h2o.jar\n",
            "  Ice root: /tmp/tmpqfk566u8\n",
            "  JVM stdout: /tmp/tmpqfk566u8/h2o_unknownUser_started_from_python.out\n",
            "  JVM stderr: /tmp/tmpqfk566u8/h2o_unknownUser_started_from_python.err\n",
            "  Server is running at http://127.0.0.1:54321\n",
            "Connecting to H2O server at http://127.0.0.1:54321 ... successful.\n"
          ],
          "name": "stdout"
        },
        {
          "output_type": "display_data",
          "data": {
            "text/html": [
              "<div style=\"overflow:auto\"><table style=\"width:50%\"><tr><td>H2O_cluster_uptime:</td>\n",
              "<td>03 secs</td></tr>\n",
              "<tr><td>H2O_cluster_timezone:</td>\n",
              "<td>Etc/UTC</td></tr>\n",
              "<tr><td>H2O_data_parsing_timezone:</td>\n",
              "<td>UTC</td></tr>\n",
              "<tr><td>H2O_cluster_version:</td>\n",
              "<td>3.32.1.5</td></tr>\n",
              "<tr><td>H2O_cluster_version_age:</td>\n",
              "<td>7 days, 9 hours and 52 minutes </td></tr>\n",
              "<tr><td>H2O_cluster_name:</td>\n",
              "<td>H2O_from_python_unknownUser_8hgxt6</td></tr>\n",
              "<tr><td>H2O_cluster_total_nodes:</td>\n",
              "<td>1</td></tr>\n",
              "<tr><td>H2O_cluster_free_memory:</td>\n",
              "<td>3.172 Gb</td></tr>\n",
              "<tr><td>H2O_cluster_total_cores:</td>\n",
              "<td>2</td></tr>\n",
              "<tr><td>H2O_cluster_allowed_cores:</td>\n",
              "<td>2</td></tr>\n",
              "<tr><td>H2O_cluster_status:</td>\n",
              "<td>accepting new members, healthy</td></tr>\n",
              "<tr><td>H2O_connection_url:</td>\n",
              "<td>http://127.0.0.1:54321</td></tr>\n",
              "<tr><td>H2O_connection_proxy:</td>\n",
              "<td>{\"http\": null, \"https\": null}</td></tr>\n",
              "<tr><td>H2O_internal_security:</td>\n",
              "<td>False</td></tr>\n",
              "<tr><td>H2O_API_Extensions:</td>\n",
              "<td>Amazon S3, XGBoost, Algos, AutoML, Core V3, TargetEncoder, Core V4</td></tr>\n",
              "<tr><td>Python_version:</td>\n",
              "<td>3.7.11 final</td></tr></table></div>"
            ],
            "text/plain": [
              "--------------------------  ------------------------------------------------------------------\n",
              "H2O_cluster_uptime:         03 secs\n",
              "H2O_cluster_timezone:       Etc/UTC\n",
              "H2O_data_parsing_timezone:  UTC\n",
              "H2O_cluster_version:        3.32.1.5\n",
              "H2O_cluster_version_age:    7 days, 9 hours and 52 minutes\n",
              "H2O_cluster_name:           H2O_from_python_unknownUser_8hgxt6\n",
              "H2O_cluster_total_nodes:    1\n",
              "H2O_cluster_free_memory:    3.172 Gb\n",
              "H2O_cluster_total_cores:    2\n",
              "H2O_cluster_allowed_cores:  2\n",
              "H2O_cluster_status:         accepting new members, healthy\n",
              "H2O_connection_url:         http://127.0.0.1:54321\n",
              "H2O_connection_proxy:       {\"http\": null, \"https\": null}\n",
              "H2O_internal_security:      False\n",
              "H2O_API_Extensions:         Amazon S3, XGBoost, Algos, AutoML, Core V3, TargetEncoder, Core V4\n",
              "Python_version:             3.7.11 final\n",
              "--------------------------  ------------------------------------------------------------------"
            ]
          },
          "metadata": {
            "tags": []
          }
        }
      ]
    },
    {
      "cell_type": "markdown",
      "metadata": {
        "id": "j6dX54UxeLN_"
      },
      "source": [
        "## Data Preparation"
      ]
    },
    {
      "cell_type": "code",
      "metadata": {
        "id": "6F0yW1-ceLOA"
      },
      "source": [
        "# importing data file using pandas library\n",
        "data= pd.read_csv(\"/content/drive/MyDrive/general_data.csv\")\n",
        "empSurvey = pd.read_csv(\"/content/drive/MyDrive/employee_survey_data.csv\")\n",
        "mngSurvey = pd.read_csv(\"/content/drive/MyDrive/manager_survey_data.csv\")\n",
        "dfs = [data, empSurvey, mngSurvey]\n",
        "data = reduce(lambda left,right: pd.merge(left,right,on='EmployeeID'), dfs)"
      ],
      "execution_count": 5,
      "outputs": []
    },
    {
      "cell_type": "code",
      "metadata": {
        "id": "T_AqGcZu4D8Z"
      },
      "source": [
        "# For comparitive anaysis\n",
        "score= pd.DataFrame()"
      ],
      "execution_count": 6,
      "outputs": []
    },
    {
      "cell_type": "markdown",
      "metadata": {
        "id": "QEPnFXd1eLOD"
      },
      "source": [
        "## Exploratory Data Analysis"
      ]
    },
    {
      "cell_type": "code",
      "metadata": {
        "id": "Hq7zlzTYeLOD",
        "colab": {
          "base_uri": "https://localhost:8080/"
        },
        "outputId": "1bd8dff7-3dc6-4688-c4f2-c5739b34cd07"
      },
      "source": [
        "# checking for null values in data\n",
        "data.isnull().any()"
      ],
      "execution_count": 7,
      "outputs": [
        {
          "output_type": "execute_result",
          "data": {
            "text/plain": [
              "Age                        False\n",
              "Attrition                  False\n",
              "BusinessTravel             False\n",
              "Department                 False\n",
              "DistanceFromHome           False\n",
              "Education                  False\n",
              "EducationField             False\n",
              "EmployeeCount              False\n",
              "EmployeeID                 False\n",
              "Gender                     False\n",
              "JobLevel                   False\n",
              "JobRole                    False\n",
              "MaritalStatus              False\n",
              "MonthlyIncome              False\n",
              "NumCompaniesWorked          True\n",
              "Over18                     False\n",
              "PercentSalaryHike          False\n",
              "StandardHours              False\n",
              "StockOptionLevel           False\n",
              "TotalWorkingYears           True\n",
              "TrainingTimesLastYear      False\n",
              "YearsAtCompany             False\n",
              "YearsSinceLastPromotion    False\n",
              "YearsWithCurrManager       False\n",
              "EnvironmentSatisfaction     True\n",
              "JobSatisfaction             True\n",
              "WorkLifeBalance             True\n",
              "JobInvolvement             False\n",
              "PerformanceRating          False\n",
              "dtype: bool"
            ]
          },
          "metadata": {
            "tags": []
          },
          "execution_count": 7
        }
      ]
    },
    {
      "cell_type": "code",
      "metadata": {
        "id": "NNfTHaHjeLOH",
        "colab": {
          "base_uri": "https://localhost:8080/"
        },
        "outputId": "63dbaa0a-4e62-45a8-d019-fca8f555839c"
      },
      "source": [
        "data.isnull().sum()"
      ],
      "execution_count": 8,
      "outputs": [
        {
          "output_type": "execute_result",
          "data": {
            "text/plain": [
              "Age                         0\n",
              "Attrition                   0\n",
              "BusinessTravel              0\n",
              "Department                  0\n",
              "DistanceFromHome            0\n",
              "Education                   0\n",
              "EducationField              0\n",
              "EmployeeCount               0\n",
              "EmployeeID                  0\n",
              "Gender                      0\n",
              "JobLevel                    0\n",
              "JobRole                     0\n",
              "MaritalStatus               0\n",
              "MonthlyIncome               0\n",
              "NumCompaniesWorked         19\n",
              "Over18                      0\n",
              "PercentSalaryHike           0\n",
              "StandardHours               0\n",
              "StockOptionLevel            0\n",
              "TotalWorkingYears           9\n",
              "TrainingTimesLastYear       0\n",
              "YearsAtCompany              0\n",
              "YearsSinceLastPromotion     0\n",
              "YearsWithCurrManager        0\n",
              "EnvironmentSatisfaction    25\n",
              "JobSatisfaction            20\n",
              "WorkLifeBalance            38\n",
              "JobInvolvement              0\n",
              "PerformanceRating           0\n",
              "dtype: int64"
            ]
          },
          "metadata": {
            "tags": []
          },
          "execution_count": 8
        }
      ]
    },
    {
      "cell_type": "code",
      "metadata": {
        "id": "sFGQUxjEeLOK",
        "colab": {
          "base_uri": "https://localhost:8080/"
        },
        "outputId": "e6f8921e-ce4a-4d6f-a448-a9f76bc22a68"
      },
      "source": [
        "data=data.dropna()\n",
        "data.info()"
      ],
      "execution_count": 9,
      "outputs": [
        {
          "output_type": "stream",
          "text": [
            "<class 'pandas.core.frame.DataFrame'>\n",
            "Int64Index: 4300 entries, 0 to 4408\n",
            "Data columns (total 29 columns):\n",
            " #   Column                   Non-Null Count  Dtype  \n",
            "---  ------                   --------------  -----  \n",
            " 0   Age                      4300 non-null   int64  \n",
            " 1   Attrition                4300 non-null   object \n",
            " 2   BusinessTravel           4300 non-null   object \n",
            " 3   Department               4300 non-null   object \n",
            " 4   DistanceFromHome         4300 non-null   int64  \n",
            " 5   Education                4300 non-null   int64  \n",
            " 6   EducationField           4300 non-null   object \n",
            " 7   EmployeeCount            4300 non-null   int64  \n",
            " 8   EmployeeID               4300 non-null   int64  \n",
            " 9   Gender                   4300 non-null   object \n",
            " 10  JobLevel                 4300 non-null   int64  \n",
            " 11  JobRole                  4300 non-null   object \n",
            " 12  MaritalStatus            4300 non-null   object \n",
            " 13  MonthlyIncome            4300 non-null   int64  \n",
            " 14  NumCompaniesWorked       4300 non-null   float64\n",
            " 15  Over18                   4300 non-null   object \n",
            " 16  PercentSalaryHike        4300 non-null   int64  \n",
            " 17  StandardHours            4300 non-null   int64  \n",
            " 18  StockOptionLevel         4300 non-null   int64  \n",
            " 19  TotalWorkingYears        4300 non-null   float64\n",
            " 20  TrainingTimesLastYear    4300 non-null   int64  \n",
            " 21  YearsAtCompany           4300 non-null   int64  \n",
            " 22  YearsSinceLastPromotion  4300 non-null   int64  \n",
            " 23  YearsWithCurrManager     4300 non-null   int64  \n",
            " 24  EnvironmentSatisfaction  4300 non-null   float64\n",
            " 25  JobSatisfaction          4300 non-null   float64\n",
            " 26  WorkLifeBalance          4300 non-null   float64\n",
            " 27  JobInvolvement           4300 non-null   int64  \n",
            " 28  PerformanceRating        4300 non-null   int64  \n",
            "dtypes: float64(5), int64(16), object(8)\n",
            "memory usage: 1007.8+ KB\n"
          ],
          "name": "stdout"
        }
      ]
    },
    {
      "cell_type": "code",
      "metadata": {
        "id": "Os-1OluGeLOX",
        "colab": {
          "base_uri": "https://localhost:8080/"
        },
        "outputId": "1dc6aa45-cd95-4c5e-8693-3027c4153ff1"
      },
      "source": [
        "data.Attrition.value_counts()"
      ],
      "execution_count": 10,
      "outputs": [
        {
          "output_type": "execute_result",
          "data": {
            "text/plain": [
              "No     3605\n",
              "Yes     695\n",
              "Name: Attrition, dtype: int64"
            ]
          },
          "metadata": {
            "tags": []
          },
          "execution_count": 10
        }
      ]
    },
    {
      "cell_type": "code",
      "metadata": {
        "id": "oljKS9NaeLOa",
        "colab": {
          "base_uri": "https://localhost:8080/",
          "height": 342
        },
        "outputId": "cfe751eb-3da7-4429-9815-01324bb14dc8"
      },
      "source": [
        "target_count = data.Attrition.value_counts()\n",
        "print('Class no:', target_count[0])\n",
        "print('Class Yes:', target_count[1])\n",
        "print('Proportion:', round(target_count[0] / target_count[1], 2), ': 1')\n",
        "\n",
        "plt.figure(figsize=(6,4))\n",
        "target_count.plot(kind='bar',title='Count (target)', color='b', hatch='x');"
      ],
      "execution_count": 11,
      "outputs": [
        {
          "output_type": "stream",
          "text": [
            "Class no: 3605\n",
            "Class Yes: 695\n",
            "Proportion: 5.19 : 1\n"
          ],
          "name": "stdout"
        },
        {
          "output_type": "display_data",
          "data": {
            "image/png": "[encoded data removed]",
            "text/plain": [
              "<Figure size 432x288 with 1 Axes>"
            ]
          },
          "metadata": {
            "tags": [],
            "needs_background": "light"
          }
        }
      ]
    },
    {
      "cell_type": "code",
      "metadata": {
        "colab": {
          "base_uri": "https://localhost:8080/",
          "height": 283
        },
        "id": "IvJq1dgTumYU",
        "outputId": "3cb6bed1-cc7f-4370-eed8-122e83521ea6"
      },
      "source": [
        "plt.figure(figsize=(6,4))\n",
        "plt.plot(target_count,marker='o') "
      ],
      "execution_count": 12,
      "outputs": [
        {
          "output_type": "execute_result",
          "data": {
            "text/plain": [
              "[<matplotlib.lines.Line2D at 0x7f4e291334d0>]"
            ]
          },
          "metadata": {
            "tags": []
          },
          "execution_count": 12
        },
        {
          "output_type": "display_data",
          "data": {
            "image/png": "[encoded data removed]",
            "text/plain": [
              "<Figure size 432x288 with 1 Axes>"
            ]
          },
          "metadata": {
            "tags": [],
            "needs_background": "light"
          }
        }
      ]
    },
    {
      "cell_type": "code",
      "metadata": {
        "id": "UYOx_CpyeLON"
      },
      "source": [
        "count_class_0, count_class_1 = data.Attrition.value_counts()\n",
        "\n",
        "# Divide by class\n",
        "data_class_0 = data[data['Attrition'] == 'No']\n",
        "data_class_1 = data[data['Attrition'] == 'Yes']"
      ],
      "execution_count": 13,
      "outputs": []
    },
    {
      "cell_type": "code",
      "metadata": {
        "scrolled": false,
        "id": "mA2QmNYDeLOR",
        "colab": {
          "base_uri": "https://localhost:8080/",
          "height": 378
        },
        "outputId": "512350fe-e7ce-46c3-fab9-e41efca3e595"
      },
      "source": [
        "data_class_1_over = data_class_1.sample(count_class_0, replace=True)\n",
        "data_over = pd.concat([data_class_0, data_class_1_over], axis=0)\n",
        "\n",
        "print('Random over-sampling:')\n",
        "print(data_over.Attrition.value_counts())\n",
        "\n",
        "plt.figure(figsize=(6,4))\n",
        "data_over.Attrition.value_counts().plot(kind='bar', title='Count (target)',color='b', hatch='x')"
      ],
      "execution_count": 14,
      "outputs": [
        {
          "output_type": "stream",
          "text": [
            "Random over-sampling:\n",
            "Yes    3605\n",
            "No     3605\n",
            "Name: Attrition, dtype: int64\n"
          ],
          "name": "stdout"
        },
        {
          "output_type": "execute_result",
          "data": {
            "text/plain": [
              "<matplotlib.axes._subplots.AxesSubplot at 0x7f4e28b69710>"
            ]
          },
          "metadata": {
            "tags": []
          },
          "execution_count": 14
        },
        {
          "output_type": "display_data",
          "data": {
            "image/png": "[encoded data removed]",
            "text/plain": [
              "<Figure size 432x288 with 1 Axes>"
            ]
          },
          "metadata": {
            "tags": [],
            "needs_background": "light"
          }
        }
      ]
    },
    {
      "cell_type": "code",
      "metadata": {
        "colab": {
          "base_uri": "https://localhost:8080/",
          "height": 286
        },
        "id": "5_TrJtz3w6LA",
        "outputId": "e5bfb561-33de-4075-e432-10b5f1134b6a"
      },
      "source": [
        "plt.figure(figsize=(6,4))\n",
        "plt.plot(data_over.Attrition.value_counts(),marker='o')"
      ],
      "execution_count": 15,
      "outputs": [
        {
          "output_type": "execute_result",
          "data": {
            "text/plain": [
              "[<matplotlib.lines.Line2D at 0x7f4e28a567d0>]"
            ]
          },
          "metadata": {
            "tags": []
          },
          "execution_count": 15
        },
        {
          "output_type": "display_data",
          "data": {
            "image/png": "[encoded data removed]",
            "text/plain": [
              "<Figure size 432x288 with 1 Axes>"
            ]
          },
          "metadata": {
            "tags": [],
            "needs_background": "light"
          }
        }
      ]
    },
    {
      "cell_type": "code",
      "metadata": {
        "id": "JaHkb8oueLOe",
        "colab": {
          "base_uri": "https://localhost:8080/",
          "height": 710
        },
        "outputId": "779a989c-f91c-4a1f-bf63-2e60412dcb90"
      },
      "source": [
        "#Using Pearson Correlation\n",
        "plt.figure(figsize=(12,10))\n",
        "cor = data.corr()\n",
        "sns.heatmap(cor, annot=True, cmap=plt.cm.Blues)\n",
        "plt.show()"
      ],
      "execution_count": 16,
      "outputs": [
        {
          "output_type": "display_data",
          "data": {
            "image/png": "[encoded data removed]",
            "text/plain": [
              "<Figure size 864x720 with 2 Axes>"
            ]
          },
          "metadata": {
            "tags": [],
            "needs_background": "light"
          }
        }
      ]
    },
    {
      "cell_type": "code",
      "metadata": {
        "id": "Wov49ruheLOg"
      },
      "source": [
        "#Label Encoding for object to numeric conversion\n",
        "le = LabelEncoder()"
      ],
      "execution_count": 17,
      "outputs": []
    },
    {
      "cell_type": "code",
      "metadata": {
        "id": "e4uQvkTAeLOU",
        "colab": {
          "base_uri": "https://localhost:8080/",
          "height": 615
        },
        "outputId": "b41391ca-e882-4372-a359-6fe5542d5598"
      },
      "source": [
        "le.fit(data['Attrition'])\n",
        "data['Attrition']= le.transform(data['Attrition'])\n",
        "data"
      ],
      "execution_count": 18,
      "outputs": [
        {
          "output_type": "execute_result",
          "data": {
            "text/html": [
              "<div>\n",
              "<style scoped>\n",
              "    .dataframe tbody tr th:only-of-type {\n",
              "        vertical-align: middle;\n",
              "    }\n",
              "\n",
              "    .dataframe tbody tr th {\n",
              "        vertical-align: top;\n",
              "    }\n",
              "\n",
              "    .dataframe thead th {\n",
              "        text-align: right;\n",
              "    }\n",
              "</style>\n",
              "<table border=\"1\" class=\"dataframe\">\n",
              "  <thead>\n",
              "    <tr style=\"text-align: right;\">\n",
              "      <th></th>\n",
              "      <th>Age</th>\n",
              "      <th>Attrition</th>\n",
              "      <th>BusinessTravel</th>\n",
              "      <th>Department</th>\n",
              "      <th>DistanceFromHome</th>\n",
              "      <th>Education</th>\n",
              "      <th>EducationField</th>\n",
              "      <th>EmployeeCount</th>\n",
              "      <th>EmployeeID</th>\n",
              "      <th>Gender</th>\n",
              "      <th>JobLevel</th>\n",
              "      <th>JobRole</th>\n",
              "      <th>MaritalStatus</th>\n",
              "      <th>MonthlyIncome</th>\n",
              "      <th>NumCompaniesWorked</th>\n",
              "      <th>Over18</th>\n",
              "      <th>PercentSalaryHike</th>\n",
              "      <th>StandardHours</th>\n",
              "      <th>StockOptionLevel</th>\n",
              "      <th>TotalWorkingYears</th>\n",
              "      <th>TrainingTimesLastYear</th>\n",
              "      <th>YearsAtCompany</th>\n",
              "      <th>YearsSinceLastPromotion</th>\n",
              "      <th>YearsWithCurrManager</th>\n",
              "      <th>EnvironmentSatisfaction</th>\n",
              "      <th>JobSatisfaction</th>\n",
              "      <th>WorkLifeBalance</th>\n",
              "      <th>JobInvolvement</th>\n",
              "      <th>PerformanceRating</th>\n",
              "    </tr>\n",
              "  </thead>\n",
              "  <tbody>\n",
              "    <tr>\n",
              "      <th>0</th>\n",
              "      <td>51</td>\n",
              "      <td>0</td>\n",
              "      <td>Travel_Rarely</td>\n",
              "      <td>Sales</td>\n",
              "      <td>6</td>\n",
              "      <td>2</td>\n",
              "      <td>Life Sciences</td>\n",
              "      <td>1</td>\n",
              "      <td>1</td>\n",
              "      <td>Female</td>\n",
              "      <td>1</td>\n",
              "      <td>Healthcare Representative</td>\n",
              "      <td>Married</td>\n",
              "      <td>131160</td>\n",
              "      <td>1.0</td>\n",
              "      <td>Y</td>\n",
              "      <td>11</td>\n",
              "      <td>8</td>\n",
              "      <td>0</td>\n",
              "      <td>1.0</td>\n",
              "      <td>6</td>\n",
              "      <td>1</td>\n",
              "      <td>0</td>\n",
              "      <td>0</td>\n",
              "      <td>3.0</td>\n",
              "      <td>4.0</td>\n",
              "      <td>2.0</td>\n",
              "      <td>3</td>\n",
              "      <td>3</td>\n",
              "    </tr>\n",
              "    <tr>\n",
              "      <th>1</th>\n",
              "      <td>31</td>\n",
              "      <td>1</td>\n",
              "      <td>Travel_Frequently</td>\n",
              "      <td>Research &amp; Development</td>\n",
              "      <td>10</td>\n",
              "      <td>1</td>\n",
              "      <td>Life Sciences</td>\n",
              "      <td>1</td>\n",
              "      <td>2</td>\n",
              "      <td>Female</td>\n",
              "      <td>1</td>\n",
              "      <td>Research Scientist</td>\n",
              "      <td>Single</td>\n",
              "      <td>41890</td>\n",
              "      <td>0.0</td>\n",
              "      <td>Y</td>\n",
              "      <td>23</td>\n",
              "      <td>8</td>\n",
              "      <td>1</td>\n",
              "      <td>6.0</td>\n",
              "      <td>3</td>\n",
              "      <td>5</td>\n",
              "      <td>1</td>\n",
              "      <td>4</td>\n",
              "      <td>3.0</td>\n",
              "      <td>2.0</td>\n",
              "      <td>4.0</td>\n",
              "      <td>2</td>\n",
              "      <td>4</td>\n",
              "    </tr>\n",
              "    <tr>\n",
              "      <th>2</th>\n",
              "      <td>32</td>\n",
              "      <td>0</td>\n",
              "      <td>Travel_Frequently</td>\n",
              "      <td>Research &amp; Development</td>\n",
              "      <td>17</td>\n",
              "      <td>4</td>\n",
              "      <td>Other</td>\n",
              "      <td>1</td>\n",
              "      <td>3</td>\n",
              "      <td>Male</td>\n",
              "      <td>4</td>\n",
              "      <td>Sales Executive</td>\n",
              "      <td>Married</td>\n",
              "      <td>193280</td>\n",
              "      <td>1.0</td>\n",
              "      <td>Y</td>\n",
              "      <td>15</td>\n",
              "      <td>8</td>\n",
              "      <td>3</td>\n",
              "      <td>5.0</td>\n",
              "      <td>2</td>\n",
              "      <td>5</td>\n",
              "      <td>0</td>\n",
              "      <td>3</td>\n",
              "      <td>2.0</td>\n",
              "      <td>2.0</td>\n",
              "      <td>1.0</td>\n",
              "      <td>3</td>\n",
              "      <td>3</td>\n",
              "    </tr>\n",
              "    <tr>\n",
              "      <th>3</th>\n",
              "      <td>38</td>\n",
              "      <td>0</td>\n",
              "      <td>Non-Travel</td>\n",
              "      <td>Research &amp; Development</td>\n",
              "      <td>2</td>\n",
              "      <td>5</td>\n",
              "      <td>Life Sciences</td>\n",
              "      <td>1</td>\n",
              "      <td>4</td>\n",
              "      <td>Male</td>\n",
              "      <td>3</td>\n",
              "      <td>Human Resources</td>\n",
              "      <td>Married</td>\n",
              "      <td>83210</td>\n",
              "      <td>3.0</td>\n",
              "      <td>Y</td>\n",
              "      <td>11</td>\n",
              "      <td>8</td>\n",
              "      <td>3</td>\n",
              "      <td>13.0</td>\n",
              "      <td>5</td>\n",
              "      <td>8</td>\n",
              "      <td>7</td>\n",
              "      <td>5</td>\n",
              "      <td>4.0</td>\n",
              "      <td>4.0</td>\n",
              "      <td>3.0</td>\n",
              "      <td>2</td>\n",
              "      <td>3</td>\n",
              "    </tr>\n",
              "    <tr>\n",
              "      <th>4</th>\n",
              "      <td>32</td>\n",
              "      <td>0</td>\n",
              "      <td>Travel_Rarely</td>\n",
              "      <td>Research &amp; Development</td>\n",
              "      <td>10</td>\n",
              "      <td>1</td>\n",
              "      <td>Medical</td>\n",
              "      <td>1</td>\n",
              "      <td>5</td>\n",
              "      <td>Male</td>\n",
              "      <td>1</td>\n",
              "      <td>Sales Executive</td>\n",
              "      <td>Single</td>\n",
              "      <td>23420</td>\n",
              "      <td>4.0</td>\n",
              "      <td>Y</td>\n",
              "      <td>12</td>\n",
              "      <td>8</td>\n",
              "      <td>2</td>\n",
              "      <td>9.0</td>\n",
              "      <td>2</td>\n",
              "      <td>6</td>\n",
              "      <td>0</td>\n",
              "      <td>4</td>\n",
              "      <td>4.0</td>\n",
              "      <td>1.0</td>\n",
              "      <td>3.0</td>\n",
              "      <td>3</td>\n",
              "      <td>3</td>\n",
              "    </tr>\n",
              "    <tr>\n",
              "      <th>...</th>\n",
              "      <td>...</td>\n",
              "      <td>...</td>\n",
              "      <td>...</td>\n",
              "      <td>...</td>\n",
              "      <td>...</td>\n",
              "      <td>...</td>\n",
              "      <td>...</td>\n",
              "      <td>...</td>\n",
              "      <td>...</td>\n",
              "      <td>...</td>\n",
              "      <td>...</td>\n",
              "      <td>...</td>\n",
              "      <td>...</td>\n",
              "      <td>...</td>\n",
              "      <td>...</td>\n",
              "      <td>...</td>\n",
              "      <td>...</td>\n",
              "      <td>...</td>\n",
              "      <td>...</td>\n",
              "      <td>...</td>\n",
              "      <td>...</td>\n",
              "      <td>...</td>\n",
              "      <td>...</td>\n",
              "      <td>...</td>\n",
              "      <td>...</td>\n",
              "      <td>...</td>\n",
              "      <td>...</td>\n",
              "      <td>...</td>\n",
              "      <td>...</td>\n",
              "    </tr>\n",
              "    <tr>\n",
              "      <th>4404</th>\n",
              "      <td>29</td>\n",
              "      <td>0</td>\n",
              "      <td>Travel_Rarely</td>\n",
              "      <td>Sales</td>\n",
              "      <td>4</td>\n",
              "      <td>3</td>\n",
              "      <td>Other</td>\n",
              "      <td>1</td>\n",
              "      <td>4405</td>\n",
              "      <td>Female</td>\n",
              "      <td>2</td>\n",
              "      <td>Human Resources</td>\n",
              "      <td>Single</td>\n",
              "      <td>35390</td>\n",
              "      <td>1.0</td>\n",
              "      <td>Y</td>\n",
              "      <td>18</td>\n",
              "      <td>8</td>\n",
              "      <td>0</td>\n",
              "      <td>6.0</td>\n",
              "      <td>2</td>\n",
              "      <td>6</td>\n",
              "      <td>1</td>\n",
              "      <td>5</td>\n",
              "      <td>3.0</td>\n",
              "      <td>4.0</td>\n",
              "      <td>3.0</td>\n",
              "      <td>2</td>\n",
              "      <td>3</td>\n",
              "    </tr>\n",
              "    <tr>\n",
              "      <th>4405</th>\n",
              "      <td>42</td>\n",
              "      <td>0</td>\n",
              "      <td>Travel_Rarely</td>\n",
              "      <td>Research &amp; Development</td>\n",
              "      <td>5</td>\n",
              "      <td>4</td>\n",
              "      <td>Medical</td>\n",
              "      <td>1</td>\n",
              "      <td>4406</td>\n",
              "      <td>Female</td>\n",
              "      <td>1</td>\n",
              "      <td>Research Scientist</td>\n",
              "      <td>Single</td>\n",
              "      <td>60290</td>\n",
              "      <td>3.0</td>\n",
              "      <td>Y</td>\n",
              "      <td>17</td>\n",
              "      <td>8</td>\n",
              "      <td>1</td>\n",
              "      <td>10.0</td>\n",
              "      <td>5</td>\n",
              "      <td>3</td>\n",
              "      <td>0</td>\n",
              "      <td>2</td>\n",
              "      <td>4.0</td>\n",
              "      <td>1.0</td>\n",
              "      <td>3.0</td>\n",
              "      <td>3</td>\n",
              "      <td>3</td>\n",
              "    </tr>\n",
              "    <tr>\n",
              "      <th>4406</th>\n",
              "      <td>29</td>\n",
              "      <td>0</td>\n",
              "      <td>Travel_Rarely</td>\n",
              "      <td>Research &amp; Development</td>\n",
              "      <td>2</td>\n",
              "      <td>4</td>\n",
              "      <td>Medical</td>\n",
              "      <td>1</td>\n",
              "      <td>4407</td>\n",
              "      <td>Male</td>\n",
              "      <td>1</td>\n",
              "      <td>Laboratory Technician</td>\n",
              "      <td>Divorced</td>\n",
              "      <td>26790</td>\n",
              "      <td>2.0</td>\n",
              "      <td>Y</td>\n",
              "      <td>15</td>\n",
              "      <td>8</td>\n",
              "      <td>0</td>\n",
              "      <td>10.0</td>\n",
              "      <td>2</td>\n",
              "      <td>3</td>\n",
              "      <td>0</td>\n",
              "      <td>2</td>\n",
              "      <td>4.0</td>\n",
              "      <td>4.0</td>\n",
              "      <td>3.0</td>\n",
              "      <td>2</td>\n",
              "      <td>3</td>\n",
              "    </tr>\n",
              "    <tr>\n",
              "      <th>4407</th>\n",
              "      <td>25</td>\n",
              "      <td>0</td>\n",
              "      <td>Travel_Rarely</td>\n",
              "      <td>Research &amp; Development</td>\n",
              "      <td>25</td>\n",
              "      <td>2</td>\n",
              "      <td>Life Sciences</td>\n",
              "      <td>1</td>\n",
              "      <td>4408</td>\n",
              "      <td>Male</td>\n",
              "      <td>2</td>\n",
              "      <td>Sales Executive</td>\n",
              "      <td>Married</td>\n",
              "      <td>37020</td>\n",
              "      <td>0.0</td>\n",
              "      <td>Y</td>\n",
              "      <td>20</td>\n",
              "      <td>8</td>\n",
              "      <td>0</td>\n",
              "      <td>5.0</td>\n",
              "      <td>4</td>\n",
              "      <td>4</td>\n",
              "      <td>1</td>\n",
              "      <td>2</td>\n",
              "      <td>1.0</td>\n",
              "      <td>3.0</td>\n",
              "      <td>3.0</td>\n",
              "      <td>3</td>\n",
              "      <td>4</td>\n",
              "    </tr>\n",
              "    <tr>\n",
              "      <th>4408</th>\n",
              "      <td>42</td>\n",
              "      <td>0</td>\n",
              "      <td>Travel_Rarely</td>\n",
              "      <td>Sales</td>\n",
              "      <td>18</td>\n",
              "      <td>2</td>\n",
              "      <td>Medical</td>\n",
              "      <td>1</td>\n",
              "      <td>4409</td>\n",
              "      <td>Male</td>\n",
              "      <td>1</td>\n",
              "      <td>Laboratory Technician</td>\n",
              "      <td>Divorced</td>\n",
              "      <td>23980</td>\n",
              "      <td>0.0</td>\n",
              "      <td>Y</td>\n",
              "      <td>14</td>\n",
              "      <td>8</td>\n",
              "      <td>1</td>\n",
              "      <td>10.0</td>\n",
              "      <td>2</td>\n",
              "      <td>9</td>\n",
              "      <td>7</td>\n",
              "      <td>8</td>\n",
              "      <td>4.0</td>\n",
              "      <td>1.0</td>\n",
              "      <td>3.0</td>\n",
              "      <td>2</td>\n",
              "      <td>3</td>\n",
              "    </tr>\n",
              "  </tbody>\n",
              "</table>\n",
              "<p>4300 rows × 29 columns</p>\n",
              "</div>"
            ],
            "text/plain": [
              "      Age  Attrition  ... JobInvolvement PerformanceRating\n",
              "0      51          0  ...              3                 3\n",
              "1      31          1  ...              2                 4\n",
              "2      32          0  ...              3                 3\n",
              "3      38          0  ...              2                 3\n",
              "4      32          0  ...              3                 3\n",
              "...   ...        ...  ...            ...               ...\n",
              "4404   29          0  ...              2                 3\n",
              "4405   42          0  ...              3                 3\n",
              "4406   29          0  ...              2                 3\n",
              "4407   25          0  ...              3                 4\n",
              "4408   42          0  ...              2                 3\n",
              "\n",
              "[4300 rows x 29 columns]"
            ]
          },
          "metadata": {
            "tags": []
          },
          "execution_count": 18
        }
      ]
    },
    {
      "cell_type": "code",
      "metadata": {
        "id": "9hbcwnA2eLOj"
      },
      "source": [
        "#Label Encoding for object to numeric conversion\n",
        "ole = LabelEncoder()"
      ],
      "execution_count": 19,
      "outputs": []
    },
    {
      "cell_type": "code",
      "metadata": {
        "id": "FM89u_lJeLOl",
        "colab": {
          "base_uri": "https://localhost:8080/"
        },
        "outputId": "6648c547-bbc8-4f70-c180-fc9816a573b0"
      },
      "source": [
        "objList = data.select_dtypes(include = \"object\").columns\n",
        "objList"
      ],
      "execution_count": 20,
      "outputs": [
        {
          "output_type": "execute_result",
          "data": {
            "text/plain": [
              "Index(['BusinessTravel', 'Department', 'EducationField', 'Gender', 'JobRole',\n",
              "       'MaritalStatus', 'Over18'],\n",
              "      dtype='object')"
            ]
          },
          "metadata": {
            "tags": []
          },
          "execution_count": 20
        }
      ]
    },
    {
      "cell_type": "code",
      "metadata": {
        "id": "mEx-Wa3meLOp",
        "colab": {
          "base_uri": "https://localhost:8080/"
        },
        "outputId": "e7d96bf6-c690-4acf-f7b4-5392395cd29d"
      },
      "source": [
        "for feat in objList:\n",
        "    data[feat] = ole.fit_transform(data[feat].astype(str))\n",
        "data.info()"
      ],
      "execution_count": 21,
      "outputs": [
        {
          "output_type": "stream",
          "text": [
            "<class 'pandas.core.frame.DataFrame'>\n",
            "Int64Index: 4300 entries, 0 to 4408\n",
            "Data columns (total 29 columns):\n",
            " #   Column                   Non-Null Count  Dtype  \n",
            "---  ------                   --------------  -----  \n",
            " 0   Age                      4300 non-null   int64  \n",
            " 1   Attrition                4300 non-null   int64  \n",
            " 2   BusinessTravel           4300 non-null   int64  \n",
            " 3   Department               4300 non-null   int64  \n",
            " 4   DistanceFromHome         4300 non-null   int64  \n",
            " 5   Education                4300 non-null   int64  \n",
            " 6   EducationField           4300 non-null   int64  \n",
            " 7   EmployeeCount            4300 non-null   int64  \n",
            " 8   EmployeeID               4300 non-null   int64  \n",
            " 9   Gender                   4300 non-null   int64  \n",
            " 10  JobLevel                 4300 non-null   int64  \n",
            " 11  JobRole                  4300 non-null   int64  \n",
            " 12  MaritalStatus            4300 non-null   int64  \n",
            " 13  MonthlyIncome            4300 non-null   int64  \n",
            " 14  NumCompaniesWorked       4300 non-null   float64\n",
            " 15  Over18                   4300 non-null   int64  \n",
            " 16  PercentSalaryHike        4300 non-null   int64  \n",
            " 17  StandardHours            4300 non-null   int64  \n",
            " 18  StockOptionLevel         4300 non-null   int64  \n",
            " 19  TotalWorkingYears        4300 non-null   float64\n",
            " 20  TrainingTimesLastYear    4300 non-null   int64  \n",
            " 21  YearsAtCompany           4300 non-null   int64  \n",
            " 22  YearsSinceLastPromotion  4300 non-null   int64  \n",
            " 23  YearsWithCurrManager     4300 non-null   int64  \n",
            " 24  EnvironmentSatisfaction  4300 non-null   float64\n",
            " 25  JobSatisfaction          4300 non-null   float64\n",
            " 26  WorkLifeBalance          4300 non-null   float64\n",
            " 27  JobInvolvement           4300 non-null   int64  \n",
            " 28  PerformanceRating        4300 non-null   int64  \n",
            "dtypes: float64(5), int64(24)\n",
            "memory usage: 1007.8 KB\n"
          ],
          "name": "stdout"
        }
      ]
    },
    {
      "cell_type": "code",
      "metadata": {
        "id": "ldn4XUK7eLOr"
      },
      "source": [
        "X = data.drop(\"Attrition\", axis=1)\n",
        "y = data[\"Attrition\"]"
      ],
      "execution_count": 22,
      "outputs": []
    },
    {
      "cell_type": "code",
      "metadata": {
        "id": "XSunR6smeLOu",
        "colab": {
          "base_uri": "https://localhost:8080/"
        },
        "outputId": "4df05237-36cc-4caf-fc6d-de108c4d70d8"
      },
      "source": [
        "chi_scores = chi2(X,y)\n",
        "chi_scores"
      ],
      "execution_count": 23,
      "outputs": [
        {
          "output_type": "execute_result",
          "data": {
            "text/plain": [
              "(array([2.35758507e+02, 4.22677433e-03, 1.88234960e+00, 2.11815804e+00,\n",
              "        3.59785239e-01, 1.04485118e+01, 0.00000000e+00, 9.16724689e+00,\n",
              "        5.99735824e-01, 5.41982258e-01, 4.68600961e+00, 5.39519081e+01,\n",
              "        1.55698877e+05, 1.91944075e+01,            nan, 4.49364238e+00,\n",
              "        0.00000000e+00, 2.50176091e-01, 6.57425307e+02, 5.47104437e+00,\n",
              "        4.12878655e+02, 1.83569673e+01, 3.19510598e+02, 2.02209262e+01,\n",
              "        2.03601839e+01, 2.79088210e+00, 1.72095478e-01, 1.22472976e-01]),\n",
              " array([3.30806599e-053, 9.48163134e-001, 1.70067341e-001, 1.45561515e-001,\n",
              "        5.48625532e-001, 1.22748310e-003, 1.00000000e+000, 2.46384943e-003,\n",
              "        4.38678839e-001, 4.61612374e-001, 3.04091888e-002, 2.05457394e-013,\n",
              "        0.00000000e+000, 1.18058756e-005,             nan, 3.40211177e-002,\n",
              "        1.00000000e+000, 6.16951114e-001, 5.42334546e-145, 1.93340686e-002,\n",
              "        8.66008972e-092, 1.83148006e-005, 1.85141568e-071, 6.89940647e-006,\n",
              "        6.41507665e-006, 9.48020295e-002, 6.78256165e-001, 7.26367673e-001]))"
            ]
          },
          "metadata": {
            "tags": []
          },
          "execution_count": 23
        }
      ]
    },
    {
      "cell_type": "code",
      "metadata": {
        "id": "v-_PZZyMeLOx"
      },
      "source": [
        "probabilty = pd.Series(chi_scores[1],index = X.columns)\n",
        "probabilty.sort_values(ascending = False , inplace = True)"
      ],
      "execution_count": 24,
      "outputs": []
    },
    {
      "cell_type": "code",
      "metadata": {
        "colab": {
          "base_uri": "https://localhost:8080/",
          "height": 398
        },
        "id": "0tXmAbOMBeTq",
        "outputId": "140e4cdb-c49a-45e6-d61d-89dd4184acd2"
      },
      "source": [
        "plt.figure(figsize=(6,4))\n",
        "probabilty.plot.bar(hatch='/')"
      ],
      "execution_count": 25,
      "outputs": [
        {
          "output_type": "execute_result",
          "data": {
            "text/plain": [
              "<matplotlib.axes._subplots.AxesSubplot at 0x7f4e1fe722d0>"
            ]
          },
          "metadata": {
            "tags": []
          },
          "execution_count": 25
        },
        {
          "output_type": "display_data",
          "data": {
            "image/png": "[encoded data removed]",
            "text/plain": [
              "<Figure size 432x288 with 1 Axes>"
            ]
          },
          "metadata": {
            "tags": [],
            "needs_background": "light"
          }
        }
      ]
    },
    {
      "cell_type": "code",
      "metadata": {
        "colab": {
          "base_uri": "https://localhost:8080/",
          "height": 283
        },
        "id": "q6AsUyVowzLd",
        "outputId": "3fb5e8ae-46a2-4fb3-8512-64abeec1e12b"
      },
      "source": [
        "plt.figure(figsize=(6,4))\n",
        "plt.plot(probabilty,marker='o')"
      ],
      "execution_count": 26,
      "outputs": [
        {
          "output_type": "execute_result",
          "data": {
            "text/plain": [
              "[<matplotlib.lines.Line2D at 0x7f4e1fdd5f10>]"
            ]
          },
          "metadata": {
            "tags": []
          },
          "execution_count": 26
        },
        {
          "output_type": "display_data",
          "data": {
            "image/png": "[encoded data removed]",
            "text/plain": [
              "<Figure size 432x288 with 1 Axes>"
            ]
          },
          "metadata": {
            "tags": [],
            "needs_background": "light"
          }
        }
      ]
    },
    {
      "cell_type": "code",
      "metadata": {
        "colab": {
          "base_uri": "https://localhost:8080/",
          "height": 925
        },
        "id": "xOXVh6kLBeZn",
        "outputId": "4622d877-2c87-4fc8-cdb0-12fb4d1e2a7b"
      },
      "source": [
        "dfscores = pd.DataFrame(chi_scores[0])\n",
        "dfprobability = pd.DataFrame(chi_scores[1])\n",
        "dfcolumns = pd.DataFrame(X.columns)\n",
        "featureScores = pd.concat([dfcolumns,dfprobability,dfscores],axis=1)\n",
        "featureScores.columns = ['Features','probability','Score'] \n",
        "featureScores"
      ],
      "execution_count": 27,
      "outputs": [
        {
          "output_type": "execute_result",
          "data": {
            "text/html": [
              "<div>\n",
              "<style scoped>\n",
              "    .dataframe tbody tr th:only-of-type {\n",
              "        vertical-align: middle;\n",
              "    }\n",
              "\n",
              "    .dataframe tbody tr th {\n",
              "        vertical-align: top;\n",
              "    }\n",
              "\n",
              "    .dataframe thead th {\n",
              "        text-align: right;\n",
              "    }\n",
              "</style>\n",
              "<table border=\"1\" class=\"dataframe\">\n",
              "  <thead>\n",
              "    <tr style=\"text-align: right;\">\n",
              "      <th></th>\n",
              "      <th>Features</th>\n",
              "      <th>probability</th>\n",
              "      <th>Score</th>\n",
              "    </tr>\n",
              "  </thead>\n",
              "  <tbody>\n",
              "    <tr>\n",
              "      <th>0</th>\n",
              "      <td>Age</td>\n",
              "      <td>3.308066e-53</td>\n",
              "      <td>235.758507</td>\n",
              "    </tr>\n",
              "    <tr>\n",
              "      <th>1</th>\n",
              "      <td>BusinessTravel</td>\n",
              "      <td>9.481631e-01</td>\n",
              "      <td>0.004227</td>\n",
              "    </tr>\n",
              "    <tr>\n",
              "      <th>2</th>\n",
              "      <td>Department</td>\n",
              "      <td>1.700673e-01</td>\n",
              "      <td>1.882350</td>\n",
              "    </tr>\n",
              "    <tr>\n",
              "      <th>3</th>\n",
              "      <td>DistanceFromHome</td>\n",
              "      <td>1.455615e-01</td>\n",
              "      <td>2.118158</td>\n",
              "    </tr>\n",
              "    <tr>\n",
              "      <th>4</th>\n",
              "      <td>Education</td>\n",
              "      <td>5.486255e-01</td>\n",
              "      <td>0.359785</td>\n",
              "    </tr>\n",
              "    <tr>\n",
              "      <th>5</th>\n",
              "      <td>EducationField</td>\n",
              "      <td>1.227483e-03</td>\n",
              "      <td>10.448512</td>\n",
              "    </tr>\n",
              "    <tr>\n",
              "      <th>6</th>\n",
              "      <td>EmployeeCount</td>\n",
              "      <td>1.000000e+00</td>\n",
              "      <td>0.000000</td>\n",
              "    </tr>\n",
              "    <tr>\n",
              "      <th>7</th>\n",
              "      <td>EmployeeID</td>\n",
              "      <td>2.463849e-03</td>\n",
              "      <td>9.167247</td>\n",
              "    </tr>\n",
              "    <tr>\n",
              "      <th>8</th>\n",
              "      <td>Gender</td>\n",
              "      <td>4.386788e-01</td>\n",
              "      <td>0.599736</td>\n",
              "    </tr>\n",
              "    <tr>\n",
              "      <th>9</th>\n",
              "      <td>JobLevel</td>\n",
              "      <td>4.616124e-01</td>\n",
              "      <td>0.541982</td>\n",
              "    </tr>\n",
              "    <tr>\n",
              "      <th>10</th>\n",
              "      <td>JobRole</td>\n",
              "      <td>3.040919e-02</td>\n",
              "      <td>4.686010</td>\n",
              "    </tr>\n",
              "    <tr>\n",
              "      <th>11</th>\n",
              "      <td>MaritalStatus</td>\n",
              "      <td>2.054574e-13</td>\n",
              "      <td>53.951908</td>\n",
              "    </tr>\n",
              "    <tr>\n",
              "      <th>12</th>\n",
              "      <td>MonthlyIncome</td>\n",
              "      <td>0.000000e+00</td>\n",
              "      <td>155698.877006</td>\n",
              "    </tr>\n",
              "    <tr>\n",
              "      <th>13</th>\n",
              "      <td>NumCompaniesWorked</td>\n",
              "      <td>1.180588e-05</td>\n",
              "      <td>19.194407</td>\n",
              "    </tr>\n",
              "    <tr>\n",
              "      <th>14</th>\n",
              "      <td>Over18</td>\n",
              "      <td>NaN</td>\n",
              "      <td>NaN</td>\n",
              "    </tr>\n",
              "    <tr>\n",
              "      <th>15</th>\n",
              "      <td>PercentSalaryHike</td>\n",
              "      <td>3.402112e-02</td>\n",
              "      <td>4.493642</td>\n",
              "    </tr>\n",
              "    <tr>\n",
              "      <th>16</th>\n",
              "      <td>StandardHours</td>\n",
              "      <td>1.000000e+00</td>\n",
              "      <td>0.000000</td>\n",
              "    </tr>\n",
              "    <tr>\n",
              "      <th>17</th>\n",
              "      <td>StockOptionLevel</td>\n",
              "      <td>6.169511e-01</td>\n",
              "      <td>0.250176</td>\n",
              "    </tr>\n",
              "    <tr>\n",
              "      <th>18</th>\n",
              "      <td>TotalWorkingYears</td>\n",
              "      <td>5.423345e-145</td>\n",
              "      <td>657.425307</td>\n",
              "    </tr>\n",
              "    <tr>\n",
              "      <th>19</th>\n",
              "      <td>TrainingTimesLastYear</td>\n",
              "      <td>1.933407e-02</td>\n",
              "      <td>5.471044</td>\n",
              "    </tr>\n",
              "    <tr>\n",
              "      <th>20</th>\n",
              "      <td>YearsAtCompany</td>\n",
              "      <td>8.660090e-92</td>\n",
              "      <td>412.878655</td>\n",
              "    </tr>\n",
              "    <tr>\n",
              "      <th>21</th>\n",
              "      <td>YearsSinceLastPromotion</td>\n",
              "      <td>1.831480e-05</td>\n",
              "      <td>18.356967</td>\n",
              "    </tr>\n",
              "    <tr>\n",
              "      <th>22</th>\n",
              "      <td>YearsWithCurrManager</td>\n",
              "      <td>1.851416e-71</td>\n",
              "      <td>319.510598</td>\n",
              "    </tr>\n",
              "    <tr>\n",
              "      <th>23</th>\n",
              "      <td>EnvironmentSatisfaction</td>\n",
              "      <td>6.899406e-06</td>\n",
              "      <td>20.220926</td>\n",
              "    </tr>\n",
              "    <tr>\n",
              "      <th>24</th>\n",
              "      <td>JobSatisfaction</td>\n",
              "      <td>6.415077e-06</td>\n",
              "      <td>20.360184</td>\n",
              "    </tr>\n",
              "    <tr>\n",
              "      <th>25</th>\n",
              "      <td>WorkLifeBalance</td>\n",
              "      <td>9.480203e-02</td>\n",
              "      <td>2.790882</td>\n",
              "    </tr>\n",
              "    <tr>\n",
              "      <th>26</th>\n",
              "      <td>JobInvolvement</td>\n",
              "      <td>6.782562e-01</td>\n",
              "      <td>0.172095</td>\n",
              "    </tr>\n",
              "    <tr>\n",
              "      <th>27</th>\n",
              "      <td>PerformanceRating</td>\n",
              "      <td>7.263677e-01</td>\n",
              "      <td>0.122473</td>\n",
              "    </tr>\n",
              "  </tbody>\n",
              "</table>\n",
              "</div>"
            ],
            "text/plain": [
              "                   Features    probability          Score\n",
              "0                       Age   3.308066e-53     235.758507\n",
              "1            BusinessTravel   9.481631e-01       0.004227\n",
              "2                Department   1.700673e-01       1.882350\n",
              "3          DistanceFromHome   1.455615e-01       2.118158\n",
              "4                 Education   5.486255e-01       0.359785\n",
              "5            EducationField   1.227483e-03      10.448512\n",
              "6             EmployeeCount   1.000000e+00       0.000000\n",
              "7                EmployeeID   2.463849e-03       9.167247\n",
              "8                    Gender   4.386788e-01       0.599736\n",
              "9                  JobLevel   4.616124e-01       0.541982\n",
              "10                  JobRole   3.040919e-02       4.686010\n",
              "11            MaritalStatus   2.054574e-13      53.951908\n",
              "12            MonthlyIncome   0.000000e+00  155698.877006\n",
              "13       NumCompaniesWorked   1.180588e-05      19.194407\n",
              "14                   Over18            NaN            NaN\n",
              "15        PercentSalaryHike   3.402112e-02       4.493642\n",
              "16            StandardHours   1.000000e+00       0.000000\n",
              "17         StockOptionLevel   6.169511e-01       0.250176\n",
              "18        TotalWorkingYears  5.423345e-145     657.425307\n",
              "19    TrainingTimesLastYear   1.933407e-02       5.471044\n",
              "20           YearsAtCompany   8.660090e-92     412.878655\n",
              "21  YearsSinceLastPromotion   1.831480e-05      18.356967\n",
              "22     YearsWithCurrManager   1.851416e-71     319.510598\n",
              "23  EnvironmentSatisfaction   6.899406e-06      20.220926\n",
              "24          JobSatisfaction   6.415077e-06      20.360184\n",
              "25          WorkLifeBalance   9.480203e-02       2.790882\n",
              "26           JobInvolvement   6.782562e-01       0.172095\n",
              "27        PerformanceRating   7.263677e-01       0.122473"
            ]
          },
          "metadata": {
            "tags": []
          },
          "execution_count": 27
        }
      ]
    },
    {
      "cell_type": "code",
      "metadata": {
        "colab": {
          "base_uri": "https://localhost:8080/",
          "height": 518
        },
        "id": "wzliGFK6Beg_",
        "outputId": "0efd57ba-d821-41ea-a3b5-2c576d3386a2"
      },
      "source": [
        "featureScores = featureScores[featureScores['probability']<0.05]\n",
        "featureScores.sort_values(by='Score')"
      ],
      "execution_count": 28,
      "outputs": [
        {
          "output_type": "execute_result",
          "data": {
            "text/html": [
              "<div>\n",
              "<style scoped>\n",
              "    .dataframe tbody tr th:only-of-type {\n",
              "        vertical-align: middle;\n",
              "    }\n",
              "\n",
              "    .dataframe tbody tr th {\n",
              "        vertical-align: top;\n",
              "    }\n",
              "\n",
              "    .dataframe thead th {\n",
              "        text-align: right;\n",
              "    }\n",
              "</style>\n",
              "<table border=\"1\" class=\"dataframe\">\n",
              "  <thead>\n",
              "    <tr style=\"text-align: right;\">\n",
              "      <th></th>\n",
              "      <th>Features</th>\n",
              "      <th>probability</th>\n",
              "      <th>Score</th>\n",
              "    </tr>\n",
              "  </thead>\n",
              "  <tbody>\n",
              "    <tr>\n",
              "      <th>15</th>\n",
              "      <td>PercentSalaryHike</td>\n",
              "      <td>3.402112e-02</td>\n",
              "      <td>4.493642</td>\n",
              "    </tr>\n",
              "    <tr>\n",
              "      <th>10</th>\n",
              "      <td>JobRole</td>\n",
              "      <td>3.040919e-02</td>\n",
              "      <td>4.686010</td>\n",
              "    </tr>\n",
              "    <tr>\n",
              "      <th>19</th>\n",
              "      <td>TrainingTimesLastYear</td>\n",
              "      <td>1.933407e-02</td>\n",
              "      <td>5.471044</td>\n",
              "    </tr>\n",
              "    <tr>\n",
              "      <th>7</th>\n",
              "      <td>EmployeeID</td>\n",
              "      <td>2.463849e-03</td>\n",
              "      <td>9.167247</td>\n",
              "    </tr>\n",
              "    <tr>\n",
              "      <th>5</th>\n",
              "      <td>EducationField</td>\n",
              "      <td>1.227483e-03</td>\n",
              "      <td>10.448512</td>\n",
              "    </tr>\n",
              "    <tr>\n",
              "      <th>21</th>\n",
              "      <td>YearsSinceLastPromotion</td>\n",
              "      <td>1.831480e-05</td>\n",
              "      <td>18.356967</td>\n",
              "    </tr>\n",
              "    <tr>\n",
              "      <th>13</th>\n",
              "      <td>NumCompaniesWorked</td>\n",
              "      <td>1.180588e-05</td>\n",
              "      <td>19.194407</td>\n",
              "    </tr>\n",
              "    <tr>\n",
              "      <th>23</th>\n",
              "      <td>EnvironmentSatisfaction</td>\n",
              "      <td>6.899406e-06</td>\n",
              "      <td>20.220926</td>\n",
              "    </tr>\n",
              "    <tr>\n",
              "      <th>24</th>\n",
              "      <td>JobSatisfaction</td>\n",
              "      <td>6.415077e-06</td>\n",
              "      <td>20.360184</td>\n",
              "    </tr>\n",
              "    <tr>\n",
              "      <th>11</th>\n",
              "      <td>MaritalStatus</td>\n",
              "      <td>2.054574e-13</td>\n",
              "      <td>53.951908</td>\n",
              "    </tr>\n",
              "    <tr>\n",
              "      <th>0</th>\n",
              "      <td>Age</td>\n",
              "      <td>3.308066e-53</td>\n",
              "      <td>235.758507</td>\n",
              "    </tr>\n",
              "    <tr>\n",
              "      <th>22</th>\n",
              "      <td>YearsWithCurrManager</td>\n",
              "      <td>1.851416e-71</td>\n",
              "      <td>319.510598</td>\n",
              "    </tr>\n",
              "    <tr>\n",
              "      <th>20</th>\n",
              "      <td>YearsAtCompany</td>\n",
              "      <td>8.660090e-92</td>\n",
              "      <td>412.878655</td>\n",
              "    </tr>\n",
              "    <tr>\n",
              "      <th>18</th>\n",
              "      <td>TotalWorkingYears</td>\n",
              "      <td>5.423345e-145</td>\n",
              "      <td>657.425307</td>\n",
              "    </tr>\n",
              "    <tr>\n",
              "      <th>12</th>\n",
              "      <td>MonthlyIncome</td>\n",
              "      <td>0.000000e+00</td>\n",
              "      <td>155698.877006</td>\n",
              "    </tr>\n",
              "  </tbody>\n",
              "</table>\n",
              "</div>"
            ],
            "text/plain": [
              "                   Features    probability          Score\n",
              "15        PercentSalaryHike   3.402112e-02       4.493642\n",
              "10                  JobRole   3.040919e-02       4.686010\n",
              "19    TrainingTimesLastYear   1.933407e-02       5.471044\n",
              "7                EmployeeID   2.463849e-03       9.167247\n",
              "5            EducationField   1.227483e-03      10.448512\n",
              "21  YearsSinceLastPromotion   1.831480e-05      18.356967\n",
              "13       NumCompaniesWorked   1.180588e-05      19.194407\n",
              "23  EnvironmentSatisfaction   6.899406e-06      20.220926\n",
              "24          JobSatisfaction   6.415077e-06      20.360184\n",
              "11            MaritalStatus   2.054574e-13      53.951908\n",
              "0                       Age   3.308066e-53     235.758507\n",
              "22     YearsWithCurrManager   1.851416e-71     319.510598\n",
              "20           YearsAtCompany   8.660090e-92     412.878655\n",
              "18        TotalWorkingYears  5.423345e-145     657.425307\n",
              "12            MonthlyIncome   0.000000e+00  155698.877006"
            ]
          },
          "metadata": {
            "tags": []
          },
          "execution_count": 28
        }
      ]
    },
    {
      "cell_type": "code",
      "metadata": {
        "colab": {
          "base_uri": "https://localhost:8080/"
        },
        "id": "4J5GrtKdBeoc",
        "outputId": "ce593c54-fa7b-43f9-f432-d9ba0809b1c2"
      },
      "source": [
        "X=X[featureScores['Features']]\n",
        "X.info()"
      ],
      "execution_count": 29,
      "outputs": [
        {
          "output_type": "stream",
          "text": [
            "<class 'pandas.core.frame.DataFrame'>\n",
            "Int64Index: 4300 entries, 0 to 4408\n",
            "Data columns (total 15 columns):\n",
            " #   Column                   Non-Null Count  Dtype  \n",
            "---  ------                   --------------  -----  \n",
            " 0   Age                      4300 non-null   int64  \n",
            " 1   EducationField           4300 non-null   int64  \n",
            " 2   EmployeeID               4300 non-null   int64  \n",
            " 3   JobRole                  4300 non-null   int64  \n",
            " 4   MaritalStatus            4300 non-null   int64  \n",
            " 5   MonthlyIncome            4300 non-null   int64  \n",
            " 6   NumCompaniesWorked       4300 non-null   float64\n",
            " 7   PercentSalaryHike        4300 non-null   int64  \n",
            " 8   TotalWorkingYears        4300 non-null   float64\n",
            " 9   TrainingTimesLastYear    4300 non-null   int64  \n",
            " 10  YearsAtCompany           4300 non-null   int64  \n",
            " 11  YearsSinceLastPromotion  4300 non-null   int64  \n",
            " 12  YearsWithCurrManager     4300 non-null   int64  \n",
            " 13  EnvironmentSatisfaction  4300 non-null   float64\n",
            " 14  JobSatisfaction          4300 non-null   float64\n",
            "dtypes: float64(4), int64(11)\n",
            "memory usage: 537.5 KB\n"
          ],
          "name": "stdout"
        }
      ]
    },
    {
      "cell_type": "markdown",
      "metadata": {
        "id": "CAn5I6TIeLOz"
      },
      "source": [
        "## Data PreProcessing"
      ]
    },
    {
      "cell_type": "code",
      "metadata": {
        "id": "4XElelnieLO2",
        "colab": {
          "base_uri": "https://localhost:8080/"
        },
        "outputId": "9a7256fa-e444-45d3-bd90-c887e0476665"
      },
      "source": [
        "# initialize h2o\n",
        "hf = h2o.H2OFrame(data)"
      ],
      "execution_count": 30,
      "outputs": [
        {
          "output_type": "stream",
          "text": [
            "Parse progress: |█████████████████████████████████████████████████████████| 100%\n"
          ],
          "name": "stdout"
        }
      ]
    },
    {
      "cell_type": "code",
      "metadata": {
        "id": "vq6YzjWGPxZ0"
      },
      "source": [
        "hf['Attrition']= hf['Attrition'].asfactor()"
      ],
      "execution_count": 31,
      "outputs": []
    },
    {
      "cell_type": "code",
      "metadata": {
        "id": "0pTtiVZVeLO6",
        "colab": {
          "base_uri": "https://localhost:8080/",
          "height": 0
        },
        "outputId": "e9f5b6c3-c1e4-4cfc-949b-e52fdcba025c"
      },
      "source": [
        "# initialize h2o\n",
        "features = X.columns.to_list()\n",
        "target = \"Attrition\"\n",
        "train,test,valid = hf.split_frame(ratios=[.7,.15])\n",
        "train"
      ],
      "execution_count": 32,
      "outputs": [
        {
          "output_type": "display_data",
          "data": {
            "text/html": [
              "<table>\n",
              "<thead>\n",
              "<tr><th style=\"text-align: right;\">  Age</th><th style=\"text-align: right;\">  Attrition</th><th style=\"text-align: right;\">  BusinessTravel</th><th style=\"text-align: right;\">  Department</th><th style=\"text-align: right;\">  DistanceFromHome</th><th style=\"text-align: right;\">  Education</th><th style=\"text-align: right;\">  EducationField</th><th style=\"text-align: right;\">  EmployeeCount</th><th style=\"text-align: right;\">  EmployeeID</th><th style=\"text-align: right;\">  Gender</th><th style=\"text-align: right;\">  JobLevel</th><th style=\"text-align: right;\">  JobRole</th><th style=\"text-align: right;\">  MaritalStatus</th><th style=\"text-align: right;\">  MonthlyIncome</th><th style=\"text-align: right;\">  NumCompaniesWorked</th><th style=\"text-align: right;\">  Over18</th><th style=\"text-align: right;\">  PercentSalaryHike</th><th style=\"text-align: right;\">  StandardHours</th><th style=\"text-align: right;\">  StockOptionLevel</th><th style=\"text-align: right;\">  TotalWorkingYears</th><th style=\"text-align: right;\">  TrainingTimesLastYear</th><th style=\"text-align: right;\">  YearsAtCompany</th><th style=\"text-align: right;\">  YearsSinceLastPromotion</th><th style=\"text-align: right;\">  YearsWithCurrManager</th><th style=\"text-align: right;\">  EnvironmentSatisfaction</th><th style=\"text-align: right;\">  JobSatisfaction</th><th style=\"text-align: right;\">  WorkLifeBalance</th><th style=\"text-align: right;\">  JobInvolvement</th><th style=\"text-align: right;\">  PerformanceRating</th></tr>\n",
              "</thead>\n",
              "<tbody>\n",
              "<tr><td style=\"text-align: right;\">   31</td><td style=\"text-align: right;\">          1</td><td style=\"text-align: right;\">               1</td><td style=\"text-align: right;\">           1</td><td style=\"text-align: right;\">                10</td><td style=\"text-align: right;\">          1</td><td style=\"text-align: right;\">               1</td><td style=\"text-align: right;\">              1</td><td style=\"text-align: right;\">           2</td><td style=\"text-align: right;\">       0</td><td style=\"text-align: right;\">         1</td><td style=\"text-align: right;\">        6</td><td style=\"text-align: right;\">              2</td><td style=\"text-align: right;\">          41890</td><td style=\"text-align: right;\">                   0</td><td style=\"text-align: right;\">       0</td><td style=\"text-align: right;\">                 23</td><td style=\"text-align: right;\">              8</td><td style=\"text-align: right;\">                 1</td><td style=\"text-align: right;\">                  6</td><td style=\"text-align: right;\">                      3</td><td style=\"text-align: right;\">               5</td><td style=\"text-align: right;\">                        1</td><td style=\"text-align: right;\">                     4</td><td style=\"text-align: right;\">                        3</td><td style=\"text-align: right;\">                2</td><td style=\"text-align: right;\">                4</td><td style=\"text-align: right;\">               2</td><td style=\"text-align: right;\">                  4</td></tr>\n",
              "<tr><td style=\"text-align: right;\">   32</td><td style=\"text-align: right;\">          0</td><td style=\"text-align: right;\">               1</td><td style=\"text-align: right;\">           1</td><td style=\"text-align: right;\">                17</td><td style=\"text-align: right;\">          4</td><td style=\"text-align: right;\">               4</td><td style=\"text-align: right;\">              1</td><td style=\"text-align: right;\">           3</td><td style=\"text-align: right;\">       1</td><td style=\"text-align: right;\">         4</td><td style=\"text-align: right;\">        7</td><td style=\"text-align: right;\">              1</td><td style=\"text-align: right;\">         193280</td><td style=\"text-align: right;\">                   1</td><td style=\"text-align: right;\">       0</td><td style=\"text-align: right;\">                 15</td><td style=\"text-align: right;\">              8</td><td style=\"text-align: right;\">                 3</td><td style=\"text-align: right;\">                  5</td><td style=\"text-align: right;\">                      2</td><td style=\"text-align: right;\">               5</td><td style=\"text-align: right;\">                        0</td><td style=\"text-align: right;\">                     3</td><td style=\"text-align: right;\">                        2</td><td style=\"text-align: right;\">                2</td><td style=\"text-align: right;\">                1</td><td style=\"text-align: right;\">               3</td><td style=\"text-align: right;\">                  3</td></tr>\n",
              "<tr><td style=\"text-align: right;\">   38</td><td style=\"text-align: right;\">          0</td><td style=\"text-align: right;\">               0</td><td style=\"text-align: right;\">           1</td><td style=\"text-align: right;\">                 2</td><td style=\"text-align: right;\">          5</td><td style=\"text-align: right;\">               1</td><td style=\"text-align: right;\">              1</td><td style=\"text-align: right;\">           4</td><td style=\"text-align: right;\">       1</td><td style=\"text-align: right;\">         3</td><td style=\"text-align: right;\">        1</td><td style=\"text-align: right;\">              1</td><td style=\"text-align: right;\">          83210</td><td style=\"text-align: right;\">                   3</td><td style=\"text-align: right;\">       0</td><td style=\"text-align: right;\">                 11</td><td style=\"text-align: right;\">              8</td><td style=\"text-align: right;\">                 3</td><td style=\"text-align: right;\">                 13</td><td style=\"text-align: right;\">                      5</td><td style=\"text-align: right;\">               8</td><td style=\"text-align: right;\">                        7</td><td style=\"text-align: right;\">                     5</td><td style=\"text-align: right;\">                        4</td><td style=\"text-align: right;\">                4</td><td style=\"text-align: right;\">                3</td><td style=\"text-align: right;\">               2</td><td style=\"text-align: right;\">                  3</td></tr>\n",
              "<tr><td style=\"text-align: right;\">   46</td><td style=\"text-align: right;\">          0</td><td style=\"text-align: right;\">               2</td><td style=\"text-align: right;\">           1</td><td style=\"text-align: right;\">                 8</td><td style=\"text-align: right;\">          3</td><td style=\"text-align: right;\">               1</td><td style=\"text-align: right;\">              1</td><td style=\"text-align: right;\">           6</td><td style=\"text-align: right;\">       0</td><td style=\"text-align: right;\">         4</td><td style=\"text-align: right;\">        5</td><td style=\"text-align: right;\">              1</td><td style=\"text-align: right;\">          40710</td><td style=\"text-align: right;\">                   3</td><td style=\"text-align: right;\">       0</td><td style=\"text-align: right;\">                 13</td><td style=\"text-align: right;\">              8</td><td style=\"text-align: right;\">                 0</td><td style=\"text-align: right;\">                 28</td><td style=\"text-align: right;\">                      5</td><td style=\"text-align: right;\">               7</td><td style=\"text-align: right;\">                        7</td><td style=\"text-align: right;\">                     7</td><td style=\"text-align: right;\">                        3</td><td style=\"text-align: right;\">                2</td><td style=\"text-align: right;\">                2</td><td style=\"text-align: right;\">               3</td><td style=\"text-align: right;\">                  3</td></tr>\n",
              "<tr><td style=\"text-align: right;\">   28</td><td style=\"text-align: right;\">          1</td><td style=\"text-align: right;\">               2</td><td style=\"text-align: right;\">           1</td><td style=\"text-align: right;\">                11</td><td style=\"text-align: right;\">          2</td><td style=\"text-align: right;\">               3</td><td style=\"text-align: right;\">              1</td><td style=\"text-align: right;\">           7</td><td style=\"text-align: right;\">       1</td><td style=\"text-align: right;\">         2</td><td style=\"text-align: right;\">        7</td><td style=\"text-align: right;\">              2</td><td style=\"text-align: right;\">          58130</td><td style=\"text-align: right;\">                   2</td><td style=\"text-align: right;\">       0</td><td style=\"text-align: right;\">                 20</td><td style=\"text-align: right;\">              8</td><td style=\"text-align: right;\">                 1</td><td style=\"text-align: right;\">                  5</td><td style=\"text-align: right;\">                      2</td><td style=\"text-align: right;\">               0</td><td style=\"text-align: right;\">                        0</td><td style=\"text-align: right;\">                     0</td><td style=\"text-align: right;\">                        1</td><td style=\"text-align: right;\">                3</td><td style=\"text-align: right;\">                1</td><td style=\"text-align: right;\">               3</td><td style=\"text-align: right;\">                  4</td></tr>\n",
              "<tr><td style=\"text-align: right;\">   29</td><td style=\"text-align: right;\">          0</td><td style=\"text-align: right;\">               2</td><td style=\"text-align: right;\">           1</td><td style=\"text-align: right;\">                18</td><td style=\"text-align: right;\">          3</td><td style=\"text-align: right;\">               1</td><td style=\"text-align: right;\">              1</td><td style=\"text-align: right;\">           8</td><td style=\"text-align: right;\">       1</td><td style=\"text-align: right;\">         2</td><td style=\"text-align: right;\">        7</td><td style=\"text-align: right;\">              1</td><td style=\"text-align: right;\">          31430</td><td style=\"text-align: right;\">                   2</td><td style=\"text-align: right;\">       0</td><td style=\"text-align: right;\">                 22</td><td style=\"text-align: right;\">              8</td><td style=\"text-align: right;\">                 3</td><td style=\"text-align: right;\">                 10</td><td style=\"text-align: right;\">                      2</td><td style=\"text-align: right;\">               0</td><td style=\"text-align: right;\">                        0</td><td style=\"text-align: right;\">                     0</td><td style=\"text-align: right;\">                        1</td><td style=\"text-align: right;\">                2</td><td style=\"text-align: right;\">                3</td><td style=\"text-align: right;\">               3</td><td style=\"text-align: right;\">                  4</td></tr>\n",
              "<tr><td style=\"text-align: right;\">   31</td><td style=\"text-align: right;\">          0</td><td style=\"text-align: right;\">               2</td><td style=\"text-align: right;\">           1</td><td style=\"text-align: right;\">                 1</td><td style=\"text-align: right;\">          3</td><td style=\"text-align: right;\">               1</td><td style=\"text-align: right;\">              1</td><td style=\"text-align: right;\">           9</td><td style=\"text-align: right;\">       1</td><td style=\"text-align: right;\">         3</td><td style=\"text-align: right;\">        2</td><td style=\"text-align: right;\">              1</td><td style=\"text-align: right;\">          20440</td><td style=\"text-align: right;\">                   0</td><td style=\"text-align: right;\">       0</td><td style=\"text-align: right;\">                 21</td><td style=\"text-align: right;\">              8</td><td style=\"text-align: right;\">                 0</td><td style=\"text-align: right;\">                 10</td><td style=\"text-align: right;\">                      2</td><td style=\"text-align: right;\">               9</td><td style=\"text-align: right;\">                        7</td><td style=\"text-align: right;\">                     8</td><td style=\"text-align: right;\">                        2</td><td style=\"text-align: right;\">                4</td><td style=\"text-align: right;\">                3</td><td style=\"text-align: right;\">               3</td><td style=\"text-align: right;\">                  4</td></tr>\n",
              "<tr><td style=\"text-align: right;\">   45</td><td style=\"text-align: right;\">          0</td><td style=\"text-align: right;\">               2</td><td style=\"text-align: right;\">           1</td><td style=\"text-align: right;\">                17</td><td style=\"text-align: right;\">          2</td><td style=\"text-align: right;\">               3</td><td style=\"text-align: right;\">              1</td><td style=\"text-align: right;\">          11</td><td style=\"text-align: right;\">       1</td><td style=\"text-align: right;\">         2</td><td style=\"text-align: right;\">        2</td><td style=\"text-align: right;\">              1</td><td style=\"text-align: right;\">          79910</td><td style=\"text-align: right;\">                   0</td><td style=\"text-align: right;\">       0</td><td style=\"text-align: right;\">                 13</td><td style=\"text-align: right;\">              8</td><td style=\"text-align: right;\">                 2</td><td style=\"text-align: right;\">                 21</td><td style=\"text-align: right;\">                      2</td><td style=\"text-align: right;\">              20</td><td style=\"text-align: right;\">                        4</td><td style=\"text-align: right;\">                    10</td><td style=\"text-align: right;\">                        3</td><td style=\"text-align: right;\">                4</td><td style=\"text-align: right;\">                3</td><td style=\"text-align: right;\">               2</td><td style=\"text-align: right;\">                  3</td></tr>\n",
              "<tr><td style=\"text-align: right;\">   55</td><td style=\"text-align: right;\">          0</td><td style=\"text-align: right;\">               2</td><td style=\"text-align: right;\">           1</td><td style=\"text-align: right;\">                14</td><td style=\"text-align: right;\">          4</td><td style=\"text-align: right;\">               1</td><td style=\"text-align: right;\">              1</td><td style=\"text-align: right;\">          13</td><td style=\"text-align: right;\">       0</td><td style=\"text-align: right;\">         1</td><td style=\"text-align: right;\">        7</td><td style=\"text-align: right;\">              2</td><td style=\"text-align: right;\">          55380</td><td style=\"text-align: right;\">                   0</td><td style=\"text-align: right;\">       0</td><td style=\"text-align: right;\">                 17</td><td style=\"text-align: right;\">              8</td><td style=\"text-align: right;\">                 0</td><td style=\"text-align: right;\">                 37</td><td style=\"text-align: right;\">                      2</td><td style=\"text-align: right;\">              36</td><td style=\"text-align: right;\">                        4</td><td style=\"text-align: right;\">                    13</td><td style=\"text-align: right;\">                        4</td><td style=\"text-align: right;\">                1</td><td style=\"text-align: right;\">                3</td><td style=\"text-align: right;\">               3</td><td style=\"text-align: right;\">                  3</td></tr>\n",
              "<tr><td style=\"text-align: right;\">   47</td><td style=\"text-align: right;\">          1</td><td style=\"text-align: right;\">               0</td><td style=\"text-align: right;\">           1</td><td style=\"text-align: right;\">                 1</td><td style=\"text-align: right;\">          1</td><td style=\"text-align: right;\">               3</td><td style=\"text-align: right;\">              1</td><td style=\"text-align: right;\">          14</td><td style=\"text-align: right;\">       1</td><td style=\"text-align: right;\">         1</td><td style=\"text-align: right;\">        6</td><td style=\"text-align: right;\">              1</td><td style=\"text-align: right;\">          57620</td><td style=\"text-align: right;\">                   1</td><td style=\"text-align: right;\">       0</td><td style=\"text-align: right;\">                 11</td><td style=\"text-align: right;\">              8</td><td style=\"text-align: right;\">                 2</td><td style=\"text-align: right;\">                 10</td><td style=\"text-align: right;\">                      4</td><td style=\"text-align: right;\">              10</td><td style=\"text-align: right;\">                        9</td><td style=\"text-align: right;\">                     9</td><td style=\"text-align: right;\">                        1</td><td style=\"text-align: right;\">                2</td><td style=\"text-align: right;\">                2</td><td style=\"text-align: right;\">               2</td><td style=\"text-align: right;\">                  3</td></tr>\n",
              "</tbody>\n",
              "</table>"
            ]
          },
          "metadata": {
            "tags": []
          }
        },
        {
          "output_type": "execute_result",
          "data": {
            "text/plain": [
              ""
            ]
          },
          "metadata": {
            "tags": []
          },
          "execution_count": 32
        }
      ]
    },
    {
      "cell_type": "code",
      "metadata": {
        "colab": {
          "base_uri": "https://localhost:8080/",
          "height": 0
        },
        "id": "t2xqmKnKCdbi",
        "outputId": "a152b131-d9d7-4cc4-e984-bbdc51265cc8"
      },
      "source": [
        "test"
      ],
      "execution_count": 33,
      "outputs": [
        {
          "output_type": "display_data",
          "data": {
            "text/html": [
              "<table>\n",
              "<thead>\n",
              "<tr><th style=\"text-align: right;\">  Age</th><th style=\"text-align: right;\">  Attrition</th><th style=\"text-align: right;\">  BusinessTravel</th><th style=\"text-align: right;\">  Department</th><th style=\"text-align: right;\">  DistanceFromHome</th><th style=\"text-align: right;\">  Education</th><th style=\"text-align: right;\">  EducationField</th><th style=\"text-align: right;\">  EmployeeCount</th><th style=\"text-align: right;\">  EmployeeID</th><th style=\"text-align: right;\">  Gender</th><th style=\"text-align: right;\">  JobLevel</th><th style=\"text-align: right;\">  JobRole</th><th style=\"text-align: right;\">  MaritalStatus</th><th style=\"text-align: right;\">  MonthlyIncome</th><th style=\"text-align: right;\">  NumCompaniesWorked</th><th style=\"text-align: right;\">  Over18</th><th style=\"text-align: right;\">  PercentSalaryHike</th><th style=\"text-align: right;\">  StandardHours</th><th style=\"text-align: right;\">  StockOptionLevel</th><th style=\"text-align: right;\">  TotalWorkingYears</th><th style=\"text-align: right;\">  TrainingTimesLastYear</th><th style=\"text-align: right;\">  YearsAtCompany</th><th style=\"text-align: right;\">  YearsSinceLastPromotion</th><th style=\"text-align: right;\">  YearsWithCurrManager</th><th style=\"text-align: right;\">  EnvironmentSatisfaction</th><th style=\"text-align: right;\">  JobSatisfaction</th><th style=\"text-align: right;\">  WorkLifeBalance</th><th style=\"text-align: right;\">  JobInvolvement</th><th style=\"text-align: right;\">  PerformanceRating</th></tr>\n",
              "</thead>\n",
              "<tbody>\n",
              "<tr><td style=\"text-align: right;\">   51</td><td style=\"text-align: right;\">          0</td><td style=\"text-align: right;\">               2</td><td style=\"text-align: right;\">           2</td><td style=\"text-align: right;\">                 6</td><td style=\"text-align: right;\">          2</td><td style=\"text-align: right;\">               1</td><td style=\"text-align: right;\">              1</td><td style=\"text-align: right;\">           1</td><td style=\"text-align: right;\">       0</td><td style=\"text-align: right;\">         1</td><td style=\"text-align: right;\">        0</td><td style=\"text-align: right;\">              1</td><td style=\"text-align: right;\">         131160</td><td style=\"text-align: right;\">                   1</td><td style=\"text-align: right;\">       0</td><td style=\"text-align: right;\">                 11</td><td style=\"text-align: right;\">              8</td><td style=\"text-align: right;\">                 0</td><td style=\"text-align: right;\">                  1</td><td style=\"text-align: right;\">                      6</td><td style=\"text-align: right;\">               1</td><td style=\"text-align: right;\">                        0</td><td style=\"text-align: right;\">                     0</td><td style=\"text-align: right;\">                        3</td><td style=\"text-align: right;\">                4</td><td style=\"text-align: right;\">                2</td><td style=\"text-align: right;\">               3</td><td style=\"text-align: right;\">                  3</td></tr>\n",
              "<tr><td style=\"text-align: right;\">   25</td><td style=\"text-align: right;\">          0</td><td style=\"text-align: right;\">               0</td><td style=\"text-align: right;\">           1</td><td style=\"text-align: right;\">                 7</td><td style=\"text-align: right;\">          4</td><td style=\"text-align: right;\">               3</td><td style=\"text-align: right;\">              1</td><td style=\"text-align: right;\">          10</td><td style=\"text-align: right;\">       0</td><td style=\"text-align: right;\">         4</td><td style=\"text-align: right;\">        2</td><td style=\"text-align: right;\">              0</td><td style=\"text-align: right;\">         134640</td><td style=\"text-align: right;\">                   1</td><td style=\"text-align: right;\">       0</td><td style=\"text-align: right;\">                 13</td><td style=\"text-align: right;\">              8</td><td style=\"text-align: right;\">                 1</td><td style=\"text-align: right;\">                  6</td><td style=\"text-align: right;\">                      2</td><td style=\"text-align: right;\">               6</td><td style=\"text-align: right;\">                        1</td><td style=\"text-align: right;\">                     5</td><td style=\"text-align: right;\">                        2</td><td style=\"text-align: right;\">                1</td><td style=\"text-align: right;\">                3</td><td style=\"text-align: right;\">               3</td><td style=\"text-align: right;\">                  3</td></tr>\n",
              "<tr><td style=\"text-align: right;\">   35</td><td style=\"text-align: right;\">          0</td><td style=\"text-align: right;\">               2</td><td style=\"text-align: right;\">           2</td><td style=\"text-align: right;\">                 7</td><td style=\"text-align: right;\">          4</td><td style=\"text-align: right;\">               1</td><td style=\"text-align: right;\">              1</td><td style=\"text-align: right;\">          19</td><td style=\"text-align: right;\">       1</td><td style=\"text-align: right;\">         1</td><td style=\"text-align: right;\">        8</td><td style=\"text-align: right;\">              0</td><td style=\"text-align: right;\">          24380</td><td style=\"text-align: right;\">                   7</td><td style=\"text-align: right;\">       0</td><td style=\"text-align: right;\">                 16</td><td style=\"text-align: right;\">              8</td><td style=\"text-align: right;\">                 0</td><td style=\"text-align: right;\">                 10</td><td style=\"text-align: right;\">                      5</td><td style=\"text-align: right;\">               7</td><td style=\"text-align: right;\">                        6</td><td style=\"text-align: right;\">                     2</td><td style=\"text-align: right;\">                        2</td><td style=\"text-align: right;\">                2</td><td style=\"text-align: right;\">                2</td><td style=\"text-align: right;\">               2</td><td style=\"text-align: right;\">                  3</td></tr>\n",
              "<tr><td style=\"text-align: right;\">   26</td><td style=\"text-align: right;\">          0</td><td style=\"text-align: right;\">               1</td><td style=\"text-align: right;\">           1</td><td style=\"text-align: right;\">                 9</td><td style=\"text-align: right;\">          3</td><td style=\"text-align: right;\">               1</td><td style=\"text-align: right;\">              1</td><td style=\"text-align: right;\">          27</td><td style=\"text-align: right;\">       0</td><td style=\"text-align: right;\">         1</td><td style=\"text-align: right;\">        3</td><td style=\"text-align: right;\">              1</td><td style=\"text-align: right;\">         162910</td><td style=\"text-align: right;\">                   1</td><td style=\"text-align: right;\">       0</td><td style=\"text-align: right;\">                 22</td><td style=\"text-align: right;\">              8</td><td style=\"text-align: right;\">                 0</td><td style=\"text-align: right;\">                  5</td><td style=\"text-align: right;\">                      3</td><td style=\"text-align: right;\">               5</td><td style=\"text-align: right;\">                        3</td><td style=\"text-align: right;\">                     3</td><td style=\"text-align: right;\">                        1</td><td style=\"text-align: right;\">                1</td><td style=\"text-align: right;\">                3</td><td style=\"text-align: right;\">               3</td><td style=\"text-align: right;\">                  4</td></tr>\n",
              "<tr><td style=\"text-align: right;\">   26</td><td style=\"text-align: right;\">          1</td><td style=\"text-align: right;\">               2</td><td style=\"text-align: right;\">           1</td><td style=\"text-align: right;\">                 4</td><td style=\"text-align: right;\">          3</td><td style=\"text-align: right;\">               3</td><td style=\"text-align: right;\">              1</td><td style=\"text-align: right;\">          31</td><td style=\"text-align: right;\">       1</td><td style=\"text-align: right;\">         3</td><td style=\"text-align: right;\">        6</td><td style=\"text-align: right;\">              0</td><td style=\"text-align: right;\">          68540</td><td style=\"text-align: right;\">                   2</td><td style=\"text-align: right;\">       0</td><td style=\"text-align: right;\">                 11</td><td style=\"text-align: right;\">              8</td><td style=\"text-align: right;\">                 0</td><td style=\"text-align: right;\">                  5</td><td style=\"text-align: right;\">                      5</td><td style=\"text-align: right;\">               3</td><td style=\"text-align: right;\">                        0</td><td style=\"text-align: right;\">                     2</td><td style=\"text-align: right;\">                        1</td><td style=\"text-align: right;\">                2</td><td style=\"text-align: right;\">                3</td><td style=\"text-align: right;\">               2</td><td style=\"text-align: right;\">                  3</td></tr>\n",
              "<tr><td style=\"text-align: right;\">   35</td><td style=\"text-align: right;\">          0</td><td style=\"text-align: right;\">               2</td><td style=\"text-align: right;\">           2</td><td style=\"text-align: right;\">                20</td><td style=\"text-align: right;\">          2</td><td style=\"text-align: right;\">               1</td><td style=\"text-align: right;\">              1</td><td style=\"text-align: right;\">          40</td><td style=\"text-align: right;\">       1</td><td style=\"text-align: right;\">         1</td><td style=\"text-align: right;\">        2</td><td style=\"text-align: right;\">              1</td><td style=\"text-align: right;\">          51540</td><td style=\"text-align: right;\">                   0</td><td style=\"text-align: right;\">       0</td><td style=\"text-align: right;\">                 19</td><td style=\"text-align: right;\">              8</td><td style=\"text-align: right;\">                 0</td><td style=\"text-align: right;\">                 12</td><td style=\"text-align: right;\">                      2</td><td style=\"text-align: right;\">              11</td><td style=\"text-align: right;\">                        6</td><td style=\"text-align: right;\">                     9</td><td style=\"text-align: right;\">                        3</td><td style=\"text-align: right;\">                2</td><td style=\"text-align: right;\">                2</td><td style=\"text-align: right;\">               2</td><td style=\"text-align: right;\">                  3</td></tr>\n",
              "<tr><td style=\"text-align: right;\">   39</td><td style=\"text-align: right;\">          0</td><td style=\"text-align: right;\">               2</td><td style=\"text-align: right;\">           2</td><td style=\"text-align: right;\">                 1</td><td style=\"text-align: right;\">          4</td><td style=\"text-align: right;\">               1</td><td style=\"text-align: right;\">              1</td><td style=\"text-align: right;\">          57</td><td style=\"text-align: right;\">       1</td><td style=\"text-align: right;\">         1</td><td style=\"text-align: right;\">        7</td><td style=\"text-align: right;\">              1</td><td style=\"text-align: right;\">         196650</td><td style=\"text-align: right;\">                   1</td><td style=\"text-align: right;\">       0</td><td style=\"text-align: right;\">                 22</td><td style=\"text-align: right;\">              8</td><td style=\"text-align: right;\">                 1</td><td style=\"text-align: right;\">                 21</td><td style=\"text-align: right;\">                      6</td><td style=\"text-align: right;\">              21</td><td style=\"text-align: right;\">                       11</td><td style=\"text-align: right;\">                    10</td><td style=\"text-align: right;\">                        3</td><td style=\"text-align: right;\">                1</td><td style=\"text-align: right;\">                3</td><td style=\"text-align: right;\">               3</td><td style=\"text-align: right;\">                  4</td></tr>\n",
              "<tr><td style=\"text-align: right;\">   52</td><td style=\"text-align: right;\">          1</td><td style=\"text-align: right;\">               2</td><td style=\"text-align: right;\">           1</td><td style=\"text-align: right;\">                 7</td><td style=\"text-align: right;\">          1</td><td style=\"text-align: right;\">               1</td><td style=\"text-align: right;\">              1</td><td style=\"text-align: right;\">          60</td><td style=\"text-align: right;\">       0</td><td style=\"text-align: right;\">         2</td><td style=\"text-align: right;\">        6</td><td style=\"text-align: right;\">              1</td><td style=\"text-align: right;\">          47740</td><td style=\"text-align: right;\">                   2</td><td style=\"text-align: right;\">       0</td><td style=\"text-align: right;\">                 18</td><td style=\"text-align: right;\">              8</td><td style=\"text-align: right;\">                 1</td><td style=\"text-align: right;\">                 11</td><td style=\"text-align: right;\">                      2</td><td style=\"text-align: right;\">               8</td><td style=\"text-align: right;\">                        7</td><td style=\"text-align: right;\">                     7</td><td style=\"text-align: right;\">                        3</td><td style=\"text-align: right;\">                2</td><td style=\"text-align: right;\">                2</td><td style=\"text-align: right;\">               3</td><td style=\"text-align: right;\">                  3</td></tr>\n",
              "<tr><td style=\"text-align: right;\">   32</td><td style=\"text-align: right;\">          0</td><td style=\"text-align: right;\">               2</td><td style=\"text-align: right;\">           1</td><td style=\"text-align: right;\">                 7</td><td style=\"text-align: right;\">          3</td><td style=\"text-align: right;\">               5</td><td style=\"text-align: right;\">              1</td><td style=\"text-align: right;\">          65</td><td style=\"text-align: right;\">       1</td><td style=\"text-align: right;\">         2</td><td style=\"text-align: right;\">        0</td><td style=\"text-align: right;\">              2</td><td style=\"text-align: right;\">          24720</td><td style=\"text-align: right;\">                   7</td><td style=\"text-align: right;\">       0</td><td style=\"text-align: right;\">                 13</td><td style=\"text-align: right;\">              8</td><td style=\"text-align: right;\">                 0</td><td style=\"text-align: right;\">                 10</td><td style=\"text-align: right;\">                      2</td><td style=\"text-align: right;\">               7</td><td style=\"text-align: right;\">                        0</td><td style=\"text-align: right;\">                     7</td><td style=\"text-align: right;\">                        1</td><td style=\"text-align: right;\">                4</td><td style=\"text-align: right;\">                2</td><td style=\"text-align: right;\">               3</td><td style=\"text-align: right;\">                  3</td></tr>\n",
              "<tr><td style=\"text-align: right;\">   43</td><td style=\"text-align: right;\">          0</td><td style=\"text-align: right;\">               1</td><td style=\"text-align: right;\">           1</td><td style=\"text-align: right;\">                14</td><td style=\"text-align: right;\">          3</td><td style=\"text-align: right;\">               3</td><td style=\"text-align: right;\">              1</td><td style=\"text-align: right;\">          73</td><td style=\"text-align: right;\">       0</td><td style=\"text-align: right;\">         5</td><td style=\"text-align: right;\">        5</td><td style=\"text-align: right;\">              0</td><td style=\"text-align: right;\">          38860</td><td style=\"text-align: right;\">                   1</td><td style=\"text-align: right;\">       0</td><td style=\"text-align: right;\">                 17</td><td style=\"text-align: right;\">              8</td><td style=\"text-align: right;\">                 2</td><td style=\"text-align: right;\">                  9</td><td style=\"text-align: right;\">                      2</td><td style=\"text-align: right;\">               9</td><td style=\"text-align: right;\">                        0</td><td style=\"text-align: right;\">                     0</td><td style=\"text-align: right;\">                        3</td><td style=\"text-align: right;\">                3</td><td style=\"text-align: right;\">                4</td><td style=\"text-align: right;\">               3</td><td style=\"text-align: right;\">                  3</td></tr>\n",
              "</tbody>\n",
              "</table>"
            ]
          },
          "metadata": {
            "tags": []
          }
        },
        {
          "output_type": "execute_result",
          "data": {
            "text/plain": [
              ""
            ]
          },
          "metadata": {
            "tags": []
          },
          "execution_count": 33
        }
      ]
    },
    {
      "cell_type": "markdown",
      "metadata": {
        "id": "JVvA-sRoeLPh"
      },
      "source": [
        "##Deep Learning"
      ]
    },
    {
      "cell_type": "code",
      "metadata": {
        "colab": {
          "base_uri": "https://localhost:8080/"
        },
        "id": "g6OOZfPWUJ7y",
        "outputId": "3cc080ac-8fcb-40f9-b23a-0a82a82aa6bb"
      },
      "source": [
        "start = time.time()\n",
        "print(\"timer started\")"
      ],
      "execution_count": 34,
      "outputs": [
        {
          "output_type": "stream",
          "text": [
            "timer started\n"
          ],
          "name": "stdout"
        }
      ]
    },
    {
      "cell_type": "code",
      "metadata": {
        "id": "9i_ZGLpNeLPi"
      },
      "source": [
        "# Build and train the model:\n",
        "dl = H2ODeepLearningEstimator(distribution=\"bernoulli\",\n",
        "                               hidden=[1],\n",
        "                               epochs=1000,\n",
        "                               train_samples_per_iteration=-1,\n",
        "                               reproducible=True,\n",
        "                               activation=\"Tanh\",\n",
        "                               single_node_mode=False,\n",
        "                               balance_classes=False,\n",
        "                               force_load_balance=False,\n",
        "                               seed=23123,\n",
        "                               tweedie_power=1.5,\n",
        "                               score_training_samples=0,\n",
        "                               score_validation_samples=0,\n",
        "                               stopping_rounds=0)"
      ],
      "execution_count": 35,
      "outputs": []
    },
    {
      "cell_type": "code",
      "metadata": {
        "id": "4UsuxyUAeLPl",
        "colab": {
          "base_uri": "https://localhost:8080/"
        },
        "outputId": "dbb287bb-d2ef-474c-f8f2-0f3738e9137a"
      },
      "source": [
        " dl.train(x=features, y=target, training_frame=train, validation_frame=test)"
      ],
      "execution_count": 36,
      "outputs": [
        {
          "output_type": "stream",
          "text": [
            "deeplearning Model Build progress: |██████████████████████████████████████| 100%\n"
          ],
          "name": "stdout"
        }
      ]
    },
    {
      "cell_type": "code",
      "metadata": {
        "id": "_6fay9i-eLPn",
        "colab": {
          "base_uri": "https://localhost:8080/"
        },
        "outputId": "ee97a0aa-55be-4a5c-972e-92fc457c9acf"
      },
      "source": [
        "# Generate predictions on a test set (if necessary):\n",
        "pred = dl.predict(valid)"
      ],
      "execution_count": 37,
      "outputs": [
        {
          "output_type": "stream",
          "text": [
            "deeplearning prediction progress: |███████████████████████████████████████| 100%\n"
          ],
          "name": "stdout"
        }
      ]
    },
    {
      "cell_type": "code",
      "metadata": {
        "id": "4BdBv7XeeLPp"
      },
      "source": [
        "# Eval performance:\n",
        "perf = dl.model_performance()"
      ],
      "execution_count": 38,
      "outputs": []
    },
    {
      "cell_type": "code",
      "metadata": {
        "id": "PzQ73O0GeLPs",
        "colab": {
          "base_uri": "https://localhost:8080/",
          "height": 0
        },
        "outputId": "324250c8-8703-4698-d1ef-2259586f271f"
      },
      "source": [
        "perf.confusion_matrix()"
      ],
      "execution_count": 39,
      "outputs": [
        {
          "output_type": "stream",
          "text": [
            "\n",
            "Confusion Matrix (Act/Pred) for max f1 @ threshold = 0.1802913813612: \n"
          ],
          "name": "stdout"
        },
        {
          "output_type": "display_data",
          "data": {
            "text/html": [
              "<div>\n",
              "<style scoped>\n",
              "    .dataframe tbody tr th:only-of-type {\n",
              "        vertical-align: middle;\n",
              "    }\n",
              "\n",
              "    .dataframe tbody tr th {\n",
              "        vertical-align: top;\n",
              "    }\n",
              "\n",
              "    .dataframe thead th {\n",
              "        text-align: right;\n",
              "    }\n",
              "</style>\n",
              "<table border=\"1\" class=\"dataframe\">\n",
              "  <thead>\n",
              "    <tr style=\"text-align: right;\">\n",
              "      <th></th>\n",
              "      <th></th>\n",
              "      <th>0</th>\n",
              "      <th>1</th>\n",
              "      <th>Error</th>\n",
              "      <th>Rate</th>\n",
              "    </tr>\n",
              "  </thead>\n",
              "  <tbody>\n",
              "    <tr>\n",
              "      <th>0</th>\n",
              "      <td>0</td>\n",
              "      <td>1996.0</td>\n",
              "      <td>551.0</td>\n",
              "      <td>0.2163</td>\n",
              "      <td>(551.0/2547.0)</td>\n",
              "    </tr>\n",
              "    <tr>\n",
              "      <th>1</th>\n",
              "      <td>1</td>\n",
              "      <td>192.0</td>\n",
              "      <td>295.0</td>\n",
              "      <td>0.3943</td>\n",
              "      <td>(192.0/487.0)</td>\n",
              "    </tr>\n",
              "    <tr>\n",
              "      <th>2</th>\n",
              "      <td>Total</td>\n",
              "      <td>2188.0</td>\n",
              "      <td>846.0</td>\n",
              "      <td>0.2449</td>\n",
              "      <td>(743.0/3034.0)</td>\n",
              "    </tr>\n",
              "  </tbody>\n",
              "</table>\n",
              "</div>"
            ],
            "text/plain": [
              "               0      1   Error             Rate\n",
              "0      0  1996.0  551.0  0.2163   (551.0/2547.0)\n",
              "1      1   192.0  295.0  0.3943    (192.0/487.0)\n",
              "2  Total  2188.0  846.0  0.2449   (743.0/3034.0)"
            ]
          },
          "metadata": {
            "tags": []
          }
        },
        {
          "output_type": "execute_result",
          "data": {
            "text/plain": [
              ""
            ]
          },
          "metadata": {
            "tags": []
          },
          "execution_count": 39
        }
      ]
    },
    {
      "cell_type": "code",
      "metadata": {
        "colab": {
          "base_uri": "https://localhost:8080/",
          "height": 0
        },
        "id": "cHMGx86YRUFA",
        "outputId": "aa74677c-0bdc-4d1b-e846-cb954ee9f12a"
      },
      "source": [
        "accuracy = np.round(perf.accuracy()[0][1],2)\n",
        "f1 = np.round(perf.F1()[0][1],2)\n",
        "auc = np.round(perf.auc(),2)\n",
        "exec =(time.time() - start)\n",
        "score=score.append([[\"DL\",accuracy,f1,auc,exec]])\n",
        "score"
      ],
      "execution_count": 40,
      "outputs": [
        {
          "output_type": "execute_result",
          "data": {
            "text/html": [
              "<div>\n",
              "<style scoped>\n",
              "    .dataframe tbody tr th:only-of-type {\n",
              "        vertical-align: middle;\n",
              "    }\n",
              "\n",
              "    .dataframe tbody tr th {\n",
              "        vertical-align: top;\n",
              "    }\n",
              "\n",
              "    .dataframe thead th {\n",
              "        text-align: right;\n",
              "    }\n",
              "</style>\n",
              "<table border=\"1\" class=\"dataframe\">\n",
              "  <thead>\n",
              "    <tr style=\"text-align: right;\">\n",
              "      <th></th>\n",
              "      <th>0</th>\n",
              "      <th>1</th>\n",
              "      <th>2</th>\n",
              "      <th>3</th>\n",
              "      <th>4</th>\n",
              "    </tr>\n",
              "  </thead>\n",
              "  <tbody>\n",
              "    <tr>\n",
              "      <th>0</th>\n",
              "      <td>DL</td>\n",
              "      <td>0.85</td>\n",
              "      <td>0.44</td>\n",
              "      <td>0.75</td>\n",
              "      <td>49.952567</td>\n",
              "    </tr>\n",
              "  </tbody>\n",
              "</table>\n",
              "</div>"
            ],
            "text/plain": [
              "    0     1     2     3          4\n",
              "0  DL  0.85  0.44  0.75  49.952567"
            ]
          },
          "metadata": {
            "tags": []
          },
          "execution_count": 40
        }
      ]
    },
    {
      "cell_type": "markdown",
      "metadata": {
        "id": "j7W3zHMZeLPS"
      },
      "source": [
        "## Distributed Random Forest (DRF)"
      ]
    },
    {
      "cell_type": "code",
      "metadata": {
        "colab": {
          "base_uri": "https://localhost:8080/"
        },
        "id": "Xe4x46qGUIng",
        "outputId": "b5b9be6e-0f37-4dd4-8283-f9896bcaa451"
      },
      "source": [
        "start = time.time()\n",
        "print(\"timer started\")"
      ],
      "execution_count": 41,
      "outputs": [
        {
          "output_type": "stream",
          "text": [
            "timer started\n"
          ],
          "name": "stdout"
        }
      ]
    },
    {
      "cell_type": "code",
      "metadata": {
        "id": "sd_5IicXeLPT"
      },
      "source": [
        "# Build and train the model:\n",
        "drf = H2ORandomForestEstimator(ntrees=10,\n",
        "                                    max_depth=5,\n",
        "                                    min_rows=10,\n",
        "                                    calibrate_model=True,\n",
        "                                    calibration_frame=valid,\n",
        "                                    binomial_double_trees=True)"
      ],
      "execution_count": 42,
      "outputs": []
    },
    {
      "cell_type": "code",
      "metadata": {
        "id": "rYjrWGuLeLPW",
        "colab": {
          "base_uri": "https://localhost:8080/"
        },
        "outputId": "29419096-00b5-4674-800b-3ab7b7511cf4"
      },
      "source": [
        "drf.train(x=features, y=target, training_frame=train, validation_frame=test)"
      ],
      "execution_count": 43,
      "outputs": [
        {
          "output_type": "stream",
          "text": [
            "drf Model Build progress: |███████████████████████████████████████████████| 100%\n"
          ],
          "name": "stdout"
        }
      ]
    },
    {
      "cell_type": "code",
      "metadata": {
        "id": "eq0OSSkoeLPc",
        "colab": {
          "base_uri": "https://localhost:8080/"
        },
        "outputId": "bc9367df-a684-49aa-8125-3effbd14c770"
      },
      "source": [
        "# Generate predictions on a validation set (if necessary):\n",
        "pred = drf.predict(valid)"
      ],
      "execution_count": 44,
      "outputs": [
        {
          "output_type": "stream",
          "text": [
            "drf prediction progress: |████████████████████████████████████████████████| 100%\n"
          ],
          "name": "stdout"
        }
      ]
    },
    {
      "cell_type": "code",
      "metadata": {
        "id": "zas4nIj8eLPZ",
        "colab": {
          "base_uri": "https://localhost:8080/",
          "height": 0
        },
        "outputId": "62496764-963f-4342-da51-8e45271f2cdc"
      },
      "source": [
        "# Eval performance:\n",
        "perf = drf.model_performance()\n",
        "perf.confusion_matrix()"
      ],
      "execution_count": 45,
      "outputs": [
        {
          "output_type": "stream",
          "text": [
            "\n",
            "Confusion Matrix (Act/Pred) for max f1 @ threshold = 0.22533181982855058: \n"
          ],
          "name": "stdout"
        },
        {
          "output_type": "display_data",
          "data": {
            "text/html": [
              "<div>\n",
              "<style scoped>\n",
              "    .dataframe tbody tr th:only-of-type {\n",
              "        vertical-align: middle;\n",
              "    }\n",
              "\n",
              "    .dataframe tbody tr th {\n",
              "        vertical-align: top;\n",
              "    }\n",
              "\n",
              "    .dataframe thead th {\n",
              "        text-align: right;\n",
              "    }\n",
              "</style>\n",
              "<table border=\"1\" class=\"dataframe\">\n",
              "  <thead>\n",
              "    <tr style=\"text-align: right;\">\n",
              "      <th></th>\n",
              "      <th></th>\n",
              "      <th>0</th>\n",
              "      <th>1</th>\n",
              "      <th>Error</th>\n",
              "      <th>Rate</th>\n",
              "    </tr>\n",
              "  </thead>\n",
              "  <tbody>\n",
              "    <tr>\n",
              "      <th>0</th>\n",
              "      <td>0</td>\n",
              "      <td>2188.0</td>\n",
              "      <td>338.0</td>\n",
              "      <td>0.1338</td>\n",
              "      <td>(338.0/2526.0)</td>\n",
              "    </tr>\n",
              "    <tr>\n",
              "      <th>1</th>\n",
              "      <td>1</td>\n",
              "      <td>228.0</td>\n",
              "      <td>255.0</td>\n",
              "      <td>0.472</td>\n",
              "      <td>(228.0/483.0)</td>\n",
              "    </tr>\n",
              "    <tr>\n",
              "      <th>2</th>\n",
              "      <td>Total</td>\n",
              "      <td>2416.0</td>\n",
              "      <td>593.0</td>\n",
              "      <td>0.1881</td>\n",
              "      <td>(566.0/3009.0)</td>\n",
              "    </tr>\n",
              "  </tbody>\n",
              "</table>\n",
              "</div>"
            ],
            "text/plain": [
              "               0      1   Error             Rate\n",
              "0      0  2188.0  338.0  0.1338   (338.0/2526.0)\n",
              "1      1   228.0  255.0   0.472    (228.0/483.0)\n",
              "2  Total  2416.0  593.0  0.1881   (566.0/3009.0)"
            ]
          },
          "metadata": {
            "tags": []
          }
        },
        {
          "output_type": "execute_result",
          "data": {
            "text/plain": [
              ""
            ]
          },
          "metadata": {
            "tags": []
          },
          "execution_count": 45
        }
      ]
    },
    {
      "cell_type": "code",
      "metadata": {
        "id": "CsXl-GnmeLPP",
        "colab": {
          "base_uri": "https://localhost:8080/",
          "height": 0
        },
        "outputId": "ba3fed53-82a5-4a3a-9a2c-1bba284565cf"
      },
      "source": [
        "accuracy = np.round(perf.accuracy()[0][1],2)\n",
        "f1 = np.round(perf.F1()[0][1],2)\n",
        "auc = np.round(perf.auc(),2)\n",
        "exec =(time.time() - start)\n",
        "score=score.append([[\"DRF\",accuracy,f1,auc,exec]])\n",
        "score"
      ],
      "execution_count": 46,
      "outputs": [
        {
          "output_type": "execute_result",
          "data": {
            "text/html": [
              "<div>\n",
              "<style scoped>\n",
              "    .dataframe tbody tr th:only-of-type {\n",
              "        vertical-align: middle;\n",
              "    }\n",
              "\n",
              "    .dataframe tbody tr th {\n",
              "        vertical-align: top;\n",
              "    }\n",
              "\n",
              "    .dataframe thead th {\n",
              "        text-align: right;\n",
              "    }\n",
              "</style>\n",
              "<table border=\"1\" class=\"dataframe\">\n",
              "  <thead>\n",
              "    <tr style=\"text-align: right;\">\n",
              "      <th></th>\n",
              "      <th>0</th>\n",
              "      <th>1</th>\n",
              "      <th>2</th>\n",
              "      <th>3</th>\n",
              "      <th>4</th>\n",
              "    </tr>\n",
              "  </thead>\n",
              "  <tbody>\n",
              "    <tr>\n",
              "      <th>0</th>\n",
              "      <td>DL</td>\n",
              "      <td>0.85</td>\n",
              "      <td>0.44</td>\n",
              "      <td>0.75</td>\n",
              "      <td>49.952567</td>\n",
              "    </tr>\n",
              "    <tr>\n",
              "      <th>0</th>\n",
              "      <td>DRF</td>\n",
              "      <td>0.86</td>\n",
              "      <td>0.47</td>\n",
              "      <td>0.75</td>\n",
              "      <td>2.175508</td>\n",
              "    </tr>\n",
              "  </tbody>\n",
              "</table>\n",
              "</div>"
            ],
            "text/plain": [
              "     0     1     2     3          4\n",
              "0   DL  0.85  0.44  0.75  49.952567\n",
              "0  DRF  0.86  0.47  0.75   2.175508"
            ]
          },
          "metadata": {
            "tags": []
          },
          "execution_count": 46
        }
      ]
    },
    {
      "cell_type": "markdown",
      "metadata": {
        "id": "Jq-QsvmDeLO-"
      },
      "source": [
        "## Gradient Boosting Machine (GBM)"
      ]
    },
    {
      "cell_type": "code",
      "metadata": {
        "colab": {
          "base_uri": "https://localhost:8080/"
        },
        "id": "JGf__F5oQFut",
        "outputId": "a2a72741-39bd-4f9a-e973-a9d92e40db78"
      },
      "source": [
        "start = time.time()\n",
        "print(\"timer started\")"
      ],
      "execution_count": 47,
      "outputs": [
        {
          "output_type": "stream",
          "text": [
            "timer started\n"
          ],
          "name": "stdout"
        }
      ]
    },
    {
      "cell_type": "code",
      "metadata": {
        "id": "stmlc1hFeLO-",
        "colab": {
          "base_uri": "https://localhost:8080/"
        },
        "outputId": "6bcf5190-443e-448b-f2c5-8fb73e9f92e3"
      },
      "source": [
        "#We only provide the required parameters, everything else is default\n",
        "gbm = H2OGradientBoostingEstimator(nfolds=5, seed=123, keep_cross_validation_predictions = True)\n",
        "gbm.train(x=features, y=target, training_frame=train, validation_frame=test)"
      ],
      "execution_count": 48,
      "outputs": [
        {
          "output_type": "stream",
          "text": [
            "gbm Model Build progress: |███████████████████████████████████████████████| 100%\n"
          ],
          "name": "stdout"
        }
      ]
    },
    {
      "cell_type": "code",
      "metadata": {
        "id": "l56EMxAoeLPA",
        "colab": {
          "base_uri": "https://localhost:8080/",
          "height": 0
        },
        "outputId": "5451ecf4-8226-47c0-9e54-0f75160eb05e"
      },
      "source": [
        "## Get the AUC on the validation set\n",
        "perf = gbm.model_performance(valid)\n",
        "perf.confusion_matrix()"
      ],
      "execution_count": 49,
      "outputs": [
        {
          "output_type": "stream",
          "text": [
            "\n",
            "Confusion Matrix (Act/Pred) for max f1 @ threshold = 0.29191123928594304: \n"
          ],
          "name": "stdout"
        },
        {
          "output_type": "display_data",
          "data": {
            "text/html": [
              "<div>\n",
              "<style scoped>\n",
              "    .dataframe tbody tr th:only-of-type {\n",
              "        vertical-align: middle;\n",
              "    }\n",
              "\n",
              "    .dataframe tbody tr th {\n",
              "        vertical-align: top;\n",
              "    }\n",
              "\n",
              "    .dataframe thead th {\n",
              "        text-align: right;\n",
              "    }\n",
              "</style>\n",
              "<table border=\"1\" class=\"dataframe\">\n",
              "  <thead>\n",
              "    <tr style=\"text-align: right;\">\n",
              "      <th></th>\n",
              "      <th></th>\n",
              "      <th>0</th>\n",
              "      <th>1</th>\n",
              "      <th>Error</th>\n",
              "      <th>Rate</th>\n",
              "    </tr>\n",
              "  </thead>\n",
              "  <tbody>\n",
              "    <tr>\n",
              "      <th>0</th>\n",
              "      <td>0</td>\n",
              "      <td>529.0</td>\n",
              "      <td>19.0</td>\n",
              "      <td>0.0347</td>\n",
              "      <td>(19.0/548.0)</td>\n",
              "    </tr>\n",
              "    <tr>\n",
              "      <th>1</th>\n",
              "      <td>1</td>\n",
              "      <td>30.0</td>\n",
              "      <td>66.0</td>\n",
              "      <td>0.3125</td>\n",
              "      <td>(30.0/96.0)</td>\n",
              "    </tr>\n",
              "    <tr>\n",
              "      <th>2</th>\n",
              "      <td>Total</td>\n",
              "      <td>559.0</td>\n",
              "      <td>85.0</td>\n",
              "      <td>0.0761</td>\n",
              "      <td>(49.0/644.0)</td>\n",
              "    </tr>\n",
              "  </tbody>\n",
              "</table>\n",
              "</div>"
            ],
            "text/plain": [
              "              0     1   Error           Rate\n",
              "0      0  529.0  19.0  0.0347   (19.0/548.0)\n",
              "1      1   30.0  66.0  0.3125    (30.0/96.0)\n",
              "2  Total  559.0  85.0  0.0761   (49.0/644.0)"
            ]
          },
          "metadata": {
            "tags": []
          }
        },
        {
          "output_type": "execute_result",
          "data": {
            "text/plain": [
              ""
            ]
          },
          "metadata": {
            "tags": []
          },
          "execution_count": 49
        }
      ]
    },
    {
      "cell_type": "code",
      "metadata": {
        "colab": {
          "base_uri": "https://localhost:8080/",
          "height": 0
        },
        "id": "_HtCVcQgOfzx",
        "outputId": "551e0526-9746-4e3f-9a3b-011694127c84"
      },
      "source": [
        "accuracy = np.round(perf.accuracy()[0][1],2)\n",
        "f1 = np.round(perf.F1()[0][1],2)\n",
        "auc = np.round(perf.auc(),2)\n",
        "exec =(time.time() - start)\n",
        "score=score.append([[\"GBM\",accuracy,f1,auc,exec]])\n",
        "score"
      ],
      "execution_count": 50,
      "outputs": [
        {
          "output_type": "execute_result",
          "data": {
            "text/html": [
              "<div>\n",
              "<style scoped>\n",
              "    .dataframe tbody tr th:only-of-type {\n",
              "        vertical-align: middle;\n",
              "    }\n",
              "\n",
              "    .dataframe tbody tr th {\n",
              "        vertical-align: top;\n",
              "    }\n",
              "\n",
              "    .dataframe thead th {\n",
              "        text-align: right;\n",
              "    }\n",
              "</style>\n",
              "<table border=\"1\" class=\"dataframe\">\n",
              "  <thead>\n",
              "    <tr style=\"text-align: right;\">\n",
              "      <th></th>\n",
              "      <th>0</th>\n",
              "      <th>1</th>\n",
              "      <th>2</th>\n",
              "      <th>3</th>\n",
              "      <th>4</th>\n",
              "    </tr>\n",
              "  </thead>\n",
              "  <tbody>\n",
              "    <tr>\n",
              "      <th>0</th>\n",
              "      <td>DL</td>\n",
              "      <td>0.85</td>\n",
              "      <td>0.44</td>\n",
              "      <td>0.75</td>\n",
              "      <td>49.952567</td>\n",
              "    </tr>\n",
              "    <tr>\n",
              "      <th>0</th>\n",
              "      <td>DRF</td>\n",
              "      <td>0.86</td>\n",
              "      <td>0.47</td>\n",
              "      <td>0.75</td>\n",
              "      <td>2.175508</td>\n",
              "    </tr>\n",
              "    <tr>\n",
              "      <th>0</th>\n",
              "      <td>GBM</td>\n",
              "      <td>0.92</td>\n",
              "      <td>0.73</td>\n",
              "      <td>0.92</td>\n",
              "      <td>14.109959</td>\n",
              "    </tr>\n",
              "  </tbody>\n",
              "</table>\n",
              "</div>"
            ],
            "text/plain": [
              "     0     1     2     3          4\n",
              "0   DL  0.85  0.44  0.75  49.952567\n",
              "0  DRF  0.86  0.47  0.75   2.175508\n",
              "0  GBM  0.92  0.73  0.92  14.109959"
            ]
          },
          "metadata": {
            "tags": []
          },
          "execution_count": 50
        }
      ]
    },
    {
      "cell_type": "markdown",
      "metadata": {
        "id": "T4yklczlUwt-"
      },
      "source": [
        "## RuleFit"
      ]
    },
    {
      "cell_type": "code",
      "metadata": {
        "colab": {
          "base_uri": "https://localhost:8080/"
        },
        "id": "z_8TI1OdUOOm",
        "outputId": "aac57bb6-2e4e-459c-c37a-71ae5d82986d"
      },
      "source": [
        "start = time.time()\n",
        "print(\"timer started\")"
      ],
      "execution_count": 51,
      "outputs": [
        {
          "output_type": "stream",
          "text": [
            "timer started\n"
          ],
          "name": "stdout"
        }
      ]
    },
    {
      "cell_type": "code",
      "metadata": {
        "colab": {
          "base_uri": "https://localhost:8080/"
        },
        "id": "nEFPHHmEyDKk",
        "outputId": "d13d8b3d-b399-47a2-cfbd-08f746e6be84"
      },
      "source": [
        "rfit = H2ORuleFitEstimator(max_rule_length=10, max_num_rules=100, seed=123)\n",
        "rfit.train(training_frame=train, x=features, y=target, validation_frame=test)"
      ],
      "execution_count": 52,
      "outputs": [
        {
          "output_type": "stream",
          "text": [
            "rulefit Model Build progress: |███████████████████████████████████████████| 100%\n"
          ],
          "name": "stdout"
        }
      ]
    },
    {
      "cell_type": "code",
      "metadata": {
        "colab": {
          "base_uri": "https://localhost:8080/",
          "height": 0
        },
        "id": "AgGMPxR5yDZA",
        "outputId": "c3f16300-261a-4dbc-f948-76fdaf648c8a"
      },
      "source": [
        "# Retrieve the rule importance:\n",
        "print(rfit._model_json['output']['rule_importance'])"
      ],
      "execution_count": 53,
      "outputs": [
        {
          "output_type": "stream",
          "text": [
            "\n",
            "Rule Importance: \n"
          ],
          "name": "stdout"
        },
        {
          "output_type": "display_data",
          "data": {
            "text/html": [
              "<div>\n",
              "<style scoped>\n",
              "    .dataframe tbody tr th:only-of-type {\n",
              "        vertical-align: middle;\n",
              "    }\n",
              "\n",
              "    .dataframe tbody tr th {\n",
              "        vertical-align: top;\n",
              "    }\n",
              "\n",
              "    .dataframe thead th {\n",
              "        text-align: right;\n",
              "    }\n",
              "</style>\n",
              "<table border=\"1\" class=\"dataframe\">\n",
              "  <thead>\n",
              "    <tr style=\"text-align: right;\">\n",
              "      <th></th>\n",
              "      <th></th>\n",
              "      <th>variable</th>\n",
              "      <th>coefficient</th>\n",
              "      <th>rule</th>\n",
              "    </tr>\n",
              "  </thead>\n",
              "  <tbody>\n",
              "    <tr>\n",
              "      <th>0</th>\n",
              "      <td></td>\n",
              "      <td>M3T0N98</td>\n",
              "      <td>-0.521431</td>\n",
              "      <td>(YearsWithCurrManager &gt;= 0.5 or YearsWithCurrManager is NA) &amp; (Yea...</td>\n",
              "    </tr>\n",
              "    <tr>\n",
              "      <th>1</th>\n",
              "      <td></td>\n",
              "      <td>M6T49N221</td>\n",
              "      <td>-0.378169</td>\n",
              "      <td>(TotalWorkingYears &gt;= 1.5 or TotalWorkingYears is NA) &amp; (PercentSa...</td>\n",
              "    </tr>\n",
              "    <tr>\n",
              "      <th>2</th>\n",
              "      <td></td>\n",
              "      <td>M0T34N22</td>\n",
              "      <td>-0.328211</td>\n",
              "      <td>(YearsWithCurrManager &gt;= 0.5 or YearsWithCurrManager is NA) &amp; (Env...</td>\n",
              "    </tr>\n",
              "    <tr>\n",
              "      <th>3</th>\n",
              "      <td></td>\n",
              "      <td>M3T14N88</td>\n",
              "      <td>-0.325508</td>\n",
              "      <td>(TotalWorkingYears &gt;= 1.5 or TotalWorkingYears is NA) &amp; (Environme...</td>\n",
              "    </tr>\n",
              "    <tr>\n",
              "      <th>4</th>\n",
              "      <td></td>\n",
              "      <td>M5T40N230</td>\n",
              "      <td>-0.301480</td>\n",
              "      <td>(Age &gt;= 31.5 or Age is NA) &amp; (PercentSalaryHike &lt; 24.5 or PercentS...</td>\n",
              "    </tr>\n",
              "    <tr>\n",
              "      <th>5</th>\n",
              "      <td></td>\n",
              "      <td>linear.MaritalStatus</td>\n",
              "      <td>0.283637</td>\n",
              "      <td></td>\n",
              "    </tr>\n",
              "    <tr>\n",
              "      <th>6</th>\n",
              "      <td></td>\n",
              "      <td>linear.JobSatisfaction</td>\n",
              "      <td>-0.212694</td>\n",
              "      <td></td>\n",
              "    </tr>\n",
              "    <tr>\n",
              "      <th>7</th>\n",
              "      <td></td>\n",
              "      <td>M3T1N88</td>\n",
              "      <td>-0.211883</td>\n",
              "      <td>(YearsAtCompany &gt;= 1.5 or YearsAtCompany is NA) &amp; (TotalWorkingYea...</td>\n",
              "    </tr>\n",
              "    <tr>\n",
              "      <th>8</th>\n",
              "      <td></td>\n",
              "      <td>M2T33N72</td>\n",
              "      <td>-0.205779</td>\n",
              "      <td>(YearsAtCompany &gt;= 1.5 or YearsAtCompany is NA) &amp; (TotalWorkingYea...</td>\n",
              "    </tr>\n",
              "    <tr>\n",
              "      <th>9</th>\n",
              "      <td></td>\n",
              "      <td>M0T39N15</td>\n",
              "      <td>-0.192473</td>\n",
              "      <td>(NumCompaniesWorked &lt; 4.5 or NumCompaniesWorked is NA) &amp; (TotalWor...</td>\n",
              "    </tr>\n",
              "    <tr>\n",
              "      <th>10</th>\n",
              "      <td></td>\n",
              "      <td>M0T17N19</td>\n",
              "      <td>-0.124335</td>\n",
              "      <td>(Age &gt;= 31.5 or Age is NA) &amp; (MaritalStatus &lt; 1.5 or MaritalStatus...</td>\n",
              "    </tr>\n",
              "    <tr>\n",
              "      <th>11</th>\n",
              "      <td></td>\n",
              "      <td>M4T34N148</td>\n",
              "      <td>-0.120168</td>\n",
              "      <td>(YearsWithCurrManager &gt;= 0.5 or YearsWithCurrManager is NA) &amp; (Env...</td>\n",
              "    </tr>\n",
              "    <tr>\n",
              "      <th>12</th>\n",
              "      <td></td>\n",
              "      <td>M0T1N17</td>\n",
              "      <td>-0.110124</td>\n",
              "      <td>(YearsAtCompany &gt;= 1.5 or YearsAtCompany is NA) &amp; (TotalWorkingYea...</td>\n",
              "    </tr>\n",
              "    <tr>\n",
              "      <th>13</th>\n",
              "      <td></td>\n",
              "      <td>M2T47N65</td>\n",
              "      <td>-0.096972</td>\n",
              "      <td>(TotalWorkingYears &gt;= 1.5 or TotalWorkingYears is NA) &amp; (YearsWith...</td>\n",
              "    </tr>\n",
              "    <tr>\n",
              "      <th>14</th>\n",
              "      <td></td>\n",
              "      <td>linear.TotalWorkingYears</td>\n",
              "      <td>-0.029283</td>\n",
              "      <td></td>\n",
              "    </tr>\n",
              "    <tr>\n",
              "      <th>15</th>\n",
              "      <td></td>\n",
              "      <td>M1T40N36</td>\n",
              "      <td>-0.024195</td>\n",
              "      <td>(Age &gt;= 31.5 or Age is NA) &amp; (PercentSalaryHike &lt; 24.5 or PercentS...</td>\n",
              "    </tr>\n",
              "    <tr>\n",
              "      <th>16</th>\n",
              "      <td></td>\n",
              "      <td>M0T47N21</td>\n",
              "      <td>-0.009500</td>\n",
              "      <td>(TotalWorkingYears &gt;= 1.5 or TotalWorkingYears is NA) &amp; (YearsWith...</td>\n",
              "    </tr>\n",
              "    <tr>\n",
              "      <th>17</th>\n",
              "      <td></td>\n",
              "      <td>linear.Age</td>\n",
              "      <td>-0.006478</td>\n",
              "      <td></td>\n",
              "    </tr>\n",
              "  </tbody>\n",
              "</table>\n",
              "</div>"
            ],
            "text/plain": [
              "      ...                                                                   rule\n",
              "0     ...  (YearsWithCurrManager >= 0.5 or YearsWithCurrManager is NA) & (Yea...\n",
              "1     ...  (TotalWorkingYears >= 1.5 or TotalWorkingYears is NA) & (PercentSa...\n",
              "2     ...  (YearsWithCurrManager >= 0.5 or YearsWithCurrManager is NA) & (Env...\n",
              "3     ...  (TotalWorkingYears >= 1.5 or TotalWorkingYears is NA) & (Environme...\n",
              "4     ...  (Age >= 31.5 or Age is NA) & (PercentSalaryHike < 24.5 or PercentS...\n",
              "5     ...                                                                       \n",
              "6     ...                                                                       \n",
              "7     ...  (YearsAtCompany >= 1.5 or YearsAtCompany is NA) & (TotalWorkingYea...\n",
              "8     ...  (YearsAtCompany >= 1.5 or YearsAtCompany is NA) & (TotalWorkingYea...\n",
              "9     ...  (NumCompaniesWorked < 4.5 or NumCompaniesWorked is NA) & (TotalWor...\n",
              "10    ...  (Age >= 31.5 or Age is NA) & (MaritalStatus < 1.5 or MaritalStatus...\n",
              "11    ...  (YearsWithCurrManager >= 0.5 or YearsWithCurrManager is NA) & (Env...\n",
              "12    ...  (YearsAtCompany >= 1.5 or YearsAtCompany is NA) & (TotalWorkingYea...\n",
              "13    ...  (TotalWorkingYears >= 1.5 or TotalWorkingYears is NA) & (YearsWith...\n",
              "14    ...                                                                       \n",
              "15    ...  (Age >= 31.5 or Age is NA) & (PercentSalaryHike < 24.5 or PercentS...\n",
              "16    ...  (TotalWorkingYears >= 1.5 or TotalWorkingYears is NA) & (YearsWith...\n",
              "17    ...                                                                       \n",
              "\n",
              "[18 rows x 4 columns]"
            ]
          },
          "metadata": {
            "tags": []
          }
        },
        {
          "output_type": "stream",
          "text": [
            "\n"
          ],
          "name": "stdout"
        }
      ]
    },
    {
      "cell_type": "code",
      "metadata": {
        "colab": {
          "base_uri": "https://localhost:8080/",
          "height": 0
        },
        "id": "Qo8E71LvyEA7",
        "outputId": "7f7818ee-5e2c-43cd-b82d-ba1851dba526"
      },
      "source": [
        "## Get the AUC on the validation set\n",
        "perf = rfit.model_performance(valid)\n",
        "perf.confusion_matrix()"
      ],
      "execution_count": 54,
      "outputs": [
        {
          "output_type": "stream",
          "text": [
            "\n",
            "Confusion Matrix (Act/Pred) for max f1 @ threshold = 0.26719713404401124: \n"
          ],
          "name": "stdout"
        },
        {
          "output_type": "display_data",
          "data": {
            "text/html": [
              "<div>\n",
              "<style scoped>\n",
              "    .dataframe tbody tr th:only-of-type {\n",
              "        vertical-align: middle;\n",
              "    }\n",
              "\n",
              "    .dataframe tbody tr th {\n",
              "        vertical-align: top;\n",
              "    }\n",
              "\n",
              "    .dataframe thead th {\n",
              "        text-align: right;\n",
              "    }\n",
              "</style>\n",
              "<table border=\"1\" class=\"dataframe\">\n",
              "  <thead>\n",
              "    <tr style=\"text-align: right;\">\n",
              "      <th></th>\n",
              "      <th></th>\n",
              "      <th>0</th>\n",
              "      <th>1</th>\n",
              "      <th>Error</th>\n",
              "      <th>Rate</th>\n",
              "    </tr>\n",
              "  </thead>\n",
              "  <tbody>\n",
              "    <tr>\n",
              "      <th>0</th>\n",
              "      <td>0</td>\n",
              "      <td>479.0</td>\n",
              "      <td>69.0</td>\n",
              "      <td>0.1259</td>\n",
              "      <td>(69.0/548.0)</td>\n",
              "    </tr>\n",
              "    <tr>\n",
              "      <th>1</th>\n",
              "      <td>1</td>\n",
              "      <td>46.0</td>\n",
              "      <td>50.0</td>\n",
              "      <td>0.4792</td>\n",
              "      <td>(46.0/96.0)</td>\n",
              "    </tr>\n",
              "    <tr>\n",
              "      <th>2</th>\n",
              "      <td>Total</td>\n",
              "      <td>525.0</td>\n",
              "      <td>119.0</td>\n",
              "      <td>0.1786</td>\n",
              "      <td>(115.0/644.0)</td>\n",
              "    </tr>\n",
              "  </tbody>\n",
              "</table>\n",
              "</div>"
            ],
            "text/plain": [
              "              0      1   Error            Rate\n",
              "0      0  479.0   69.0  0.1259    (69.0/548.0)\n",
              "1      1   46.0   50.0  0.4792     (46.0/96.0)\n",
              "2  Total  525.0  119.0  0.1786   (115.0/644.0)"
            ]
          },
          "metadata": {
            "tags": []
          }
        },
        {
          "output_type": "execute_result",
          "data": {
            "text/plain": [
              ""
            ]
          },
          "metadata": {
            "tags": []
          },
          "execution_count": 54
        }
      ]
    },
    {
      "cell_type": "code",
      "metadata": {
        "colab": {
          "base_uri": "https://localhost:8080/",
          "height": 0
        },
        "id": "NHik8b2DREAI",
        "outputId": "8861568e-42b1-417c-9336-bcbb4774b5bd"
      },
      "source": [
        "accuracy = np.round(perf.accuracy()[0][1],2)\n",
        "f1 = np.round(perf.F1()[0][1],2)\n",
        "auc = np.round(perf.auc(),2)\n",
        "exec =(time.time() - start)\n",
        "score=score.append([[\"RuleFit\",accuracy,f1,auc,exec]])\n",
        "score"
      ],
      "execution_count": 55,
      "outputs": [
        {
          "output_type": "execute_result",
          "data": {
            "text/html": [
              "<div>\n",
              "<style scoped>\n",
              "    .dataframe tbody tr th:only-of-type {\n",
              "        vertical-align: middle;\n",
              "    }\n",
              "\n",
              "    .dataframe tbody tr th {\n",
              "        vertical-align: top;\n",
              "    }\n",
              "\n",
              "    .dataframe thead th {\n",
              "        text-align: right;\n",
              "    }\n",
              "</style>\n",
              "<table border=\"1\" class=\"dataframe\">\n",
              "  <thead>\n",
              "    <tr style=\"text-align: right;\">\n",
              "      <th></th>\n",
              "      <th>0</th>\n",
              "      <th>1</th>\n",
              "      <th>2</th>\n",
              "      <th>3</th>\n",
              "      <th>4</th>\n",
              "    </tr>\n",
              "  </thead>\n",
              "  <tbody>\n",
              "    <tr>\n",
              "      <th>0</th>\n",
              "      <td>DL</td>\n",
              "      <td>0.85</td>\n",
              "      <td>0.44</td>\n",
              "      <td>0.75</td>\n",
              "      <td>49.952567</td>\n",
              "    </tr>\n",
              "    <tr>\n",
              "      <th>0</th>\n",
              "      <td>DRF</td>\n",
              "      <td>0.86</td>\n",
              "      <td>0.47</td>\n",
              "      <td>0.75</td>\n",
              "      <td>2.175508</td>\n",
              "    </tr>\n",
              "    <tr>\n",
              "      <th>0</th>\n",
              "      <td>GBM</td>\n",
              "      <td>0.92</td>\n",
              "      <td>0.73</td>\n",
              "      <td>0.92</td>\n",
              "      <td>14.109959</td>\n",
              "    </tr>\n",
              "    <tr>\n",
              "      <th>0</th>\n",
              "      <td>RuleFit</td>\n",
              "      <td>0.86</td>\n",
              "      <td>0.47</td>\n",
              "      <td>0.76</td>\n",
              "      <td>48.870723</td>\n",
              "    </tr>\n",
              "  </tbody>\n",
              "</table>\n",
              "</div>"
            ],
            "text/plain": [
              "         0     1     2     3          4\n",
              "0       DL  0.85  0.44  0.75  49.952567\n",
              "0      DRF  0.86  0.47  0.75   2.175508\n",
              "0      GBM  0.92  0.73  0.92  14.109959\n",
              "0  RuleFit  0.86  0.47  0.76  48.870723"
            ]
          },
          "metadata": {
            "tags": []
          },
          "execution_count": 55
        }
      ]
    },
    {
      "cell_type": "markdown",
      "metadata": {
        "id": "Q88Dd1OLeLPF"
      },
      "source": [
        "## XGBoost"
      ]
    },
    {
      "cell_type": "code",
      "metadata": {
        "colab": {
          "base_uri": "https://localhost:8080/"
        },
        "id": "O3KDZXGmUGbW",
        "outputId": "c362b5ce-b67a-452b-9aff-58ef27374933"
      },
      "source": [
        "start = time.time()\n",
        "print(\"timer started\")"
      ],
      "execution_count": 56,
      "outputs": [
        {
          "output_type": "stream",
          "text": [
            "timer started\n"
          ],
          "name": "stdout"
        }
      ]
    },
    {
      "cell_type": "code",
      "metadata": {
        "id": "zuP2RU5geLPG"
      },
      "source": [
        "xgb = H2OXGBoostEstimator(booster='dart', normalize_type=\"tree\", seed=123,nfolds=5,  keep_cross_validation_predictions = True)"
      ],
      "execution_count": 57,
      "outputs": []
    },
    {
      "cell_type": "code",
      "metadata": {
        "id": "2fsQIS6-eLPI",
        "colab": {
          "base_uri": "https://localhost:8080/"
        },
        "outputId": "945d615b-57a6-41ad-886a-573ac0f5868e"
      },
      "source": [
        "xgb.train(x=features, y=target, training_frame=train, validation_frame=test)"
      ],
      "execution_count": 58,
      "outputs": [
        {
          "output_type": "stream",
          "text": [
            "xgboost Model Build progress: |███████████████████████████████████████████| 100%\n"
          ],
          "name": "stdout"
        }
      ]
    },
    {
      "cell_type": "code",
      "metadata": {
        "id": "f4Q2LHr1eLPL"
      },
      "source": [
        "# Eval performance:\n",
        "perf = xgb.model_performance()"
      ],
      "execution_count": 59,
      "outputs": []
    },
    {
      "cell_type": "code",
      "metadata": {
        "id": "7htHRLbzeLPN",
        "colab": {
          "base_uri": "https://localhost:8080/"
        },
        "outputId": "0e9e1fda-f1fc-4593-f4db-238919de239f"
      },
      "source": [
        "# Generate predictions on a test set (if necessary):\n",
        "pred = xgb.predict(valid)"
      ],
      "execution_count": 60,
      "outputs": [
        {
          "output_type": "stream",
          "text": [
            "xgboost prediction progress: |████████████████████████████████████████████| 100%\n"
          ],
          "name": "stdout"
        }
      ]
    },
    {
      "cell_type": "code",
      "metadata": {
        "colab": {
          "base_uri": "https://localhost:8080/",
          "height": 0
        },
        "id": "3Q0Mg3e_SeiE",
        "outputId": "d5f3123a-4be0-42f6-9901-57a0415f6588"
      },
      "source": [
        "## Get the AUC on the validation set\n",
        "perf = xgb.model_performance(valid)\n",
        "perf.confusion_matrix()"
      ],
      "execution_count": 61,
      "outputs": [
        {
          "output_type": "stream",
          "text": [
            "\n",
            "Confusion Matrix (Act/Pred) for max f1 @ threshold = 0.3130705952644348: \n"
          ],
          "name": "stdout"
        },
        {
          "output_type": "display_data",
          "data": {
            "text/html": [
              "<div>\n",
              "<style scoped>\n",
              "    .dataframe tbody tr th:only-of-type {\n",
              "        vertical-align: middle;\n",
              "    }\n",
              "\n",
              "    .dataframe tbody tr th {\n",
              "        vertical-align: top;\n",
              "    }\n",
              "\n",
              "    .dataframe thead th {\n",
              "        text-align: right;\n",
              "    }\n",
              "</style>\n",
              "<table border=\"1\" class=\"dataframe\">\n",
              "  <thead>\n",
              "    <tr style=\"text-align: right;\">\n",
              "      <th></th>\n",
              "      <th></th>\n",
              "      <th>0</th>\n",
              "      <th>1</th>\n",
              "      <th>Error</th>\n",
              "      <th>Rate</th>\n",
              "    </tr>\n",
              "  </thead>\n",
              "  <tbody>\n",
              "    <tr>\n",
              "      <th>0</th>\n",
              "      <td>0</td>\n",
              "      <td>543.0</td>\n",
              "      <td>5.0</td>\n",
              "      <td>0.0091</td>\n",
              "      <td>(5.0/548.0)</td>\n",
              "    </tr>\n",
              "    <tr>\n",
              "      <th>1</th>\n",
              "      <td>1</td>\n",
              "      <td>4.0</td>\n",
              "      <td>92.0</td>\n",
              "      <td>0.0417</td>\n",
              "      <td>(4.0/96.0)</td>\n",
              "    </tr>\n",
              "    <tr>\n",
              "      <th>2</th>\n",
              "      <td>Total</td>\n",
              "      <td>547.0</td>\n",
              "      <td>97.0</td>\n",
              "      <td>0.014</td>\n",
              "      <td>(9.0/644.0)</td>\n",
              "    </tr>\n",
              "  </tbody>\n",
              "</table>\n",
              "</div>"
            ],
            "text/plain": [
              "              0     1   Error          Rate\n",
              "0      0  543.0   5.0  0.0091   (5.0/548.0)\n",
              "1      1    4.0  92.0  0.0417    (4.0/96.0)\n",
              "2  Total  547.0  97.0   0.014   (9.0/644.0)"
            ]
          },
          "metadata": {
            "tags": []
          }
        },
        {
          "output_type": "execute_result",
          "data": {
            "text/plain": [
              ""
            ]
          },
          "metadata": {
            "tags": []
          },
          "execution_count": 61
        }
      ]
    },
    {
      "cell_type": "code",
      "metadata": {
        "colab": {
          "base_uri": "https://localhost:8080/",
          "height": 0
        },
        "id": "-QTSzqWvQ-3E",
        "outputId": "29b1af9b-059a-44aa-fb3e-5f7e39114b48"
      },
      "source": [
        "accuracy = np.round(perf.accuracy()[0][1],2)\n",
        "f1 = np.round(perf.F1()[0][1],2)\n",
        "auc = np.round(perf.auc(),2)\n",
        "exec =(time.time() - start)\n",
        "score=score.append([[\"XGBoost\",accuracy,f1,auc,exec]])\n",
        "score"
      ],
      "execution_count": 62,
      "outputs": [
        {
          "output_type": "execute_result",
          "data": {
            "text/html": [
              "<div>\n",
              "<style scoped>\n",
              "    .dataframe tbody tr th:only-of-type {\n",
              "        vertical-align: middle;\n",
              "    }\n",
              "\n",
              "    .dataframe tbody tr th {\n",
              "        vertical-align: top;\n",
              "    }\n",
              "\n",
              "    .dataframe thead th {\n",
              "        text-align: right;\n",
              "    }\n",
              "</style>\n",
              "<table border=\"1\" class=\"dataframe\">\n",
              "  <thead>\n",
              "    <tr style=\"text-align: right;\">\n",
              "      <th></th>\n",
              "      <th>0</th>\n",
              "      <th>1</th>\n",
              "      <th>2</th>\n",
              "      <th>3</th>\n",
              "      <th>4</th>\n",
              "    </tr>\n",
              "  </thead>\n",
              "  <tbody>\n",
              "    <tr>\n",
              "      <th>0</th>\n",
              "      <td>DL</td>\n",
              "      <td>0.85</td>\n",
              "      <td>0.44</td>\n",
              "      <td>0.75</td>\n",
              "      <td>49.952567</td>\n",
              "    </tr>\n",
              "    <tr>\n",
              "      <th>0</th>\n",
              "      <td>DRF</td>\n",
              "      <td>0.86</td>\n",
              "      <td>0.47</td>\n",
              "      <td>0.75</td>\n",
              "      <td>2.175508</td>\n",
              "    </tr>\n",
              "    <tr>\n",
              "      <th>0</th>\n",
              "      <td>GBM</td>\n",
              "      <td>0.92</td>\n",
              "      <td>0.73</td>\n",
              "      <td>0.92</td>\n",
              "      <td>14.109959</td>\n",
              "    </tr>\n",
              "    <tr>\n",
              "      <th>0</th>\n",
              "      <td>RuleFit</td>\n",
              "      <td>0.86</td>\n",
              "      <td>0.47</td>\n",
              "      <td>0.76</td>\n",
              "      <td>48.870723</td>\n",
              "    </tr>\n",
              "    <tr>\n",
              "      <th>0</th>\n",
              "      <td>XGBoost</td>\n",
              "      <td>0.99</td>\n",
              "      <td>0.95</td>\n",
              "      <td>0.98</td>\n",
              "      <td>14.486776</td>\n",
              "    </tr>\n",
              "  </tbody>\n",
              "</table>\n",
              "</div>"
            ],
            "text/plain": [
              "         0     1     2     3          4\n",
              "0       DL  0.85  0.44  0.75  49.952567\n",
              "0      DRF  0.86  0.47  0.75   2.175508\n",
              "0      GBM  0.92  0.73  0.92  14.109959\n",
              "0  RuleFit  0.86  0.47  0.76  48.870723\n",
              "0  XGBoost  0.99  0.95  0.98  14.486776"
            ]
          },
          "metadata": {
            "tags": []
          },
          "execution_count": 62
        }
      ]
    },
    {
      "cell_type": "markdown",
      "metadata": {
        "id": "iJf4wfOXUvfO"
      },
      "source": [
        "# Stacked Ensemble"
      ]
    },
    {
      "cell_type": "code",
      "metadata": {
        "id": "JBmDplSSeLPx",
        "colab": {
          "base_uri": "https://localhost:8080/"
        },
        "outputId": "9c70bcde-3849-45fa-ac23-52c88da67e03"
      },
      "source": [
        "start = time.time()\n",
        "print(\"timer started\")"
      ],
      "execution_count": 63,
      "outputs": [
        {
          "output_type": "stream",
          "text": [
            "timer started\n"
          ],
          "name": "stdout"
        }
      ]
    },
    {
      "cell_type": "code",
      "metadata": {
        "id": "b-AYdgfg0VCq"
      },
      "source": [
        "# Train a stacked ensemble using the GBM and GLM above\n",
        "ensemble = H2OStackedEnsembleEstimator(model_id=\"stackedEnsemble\", base_models=[xgb, gbm])"
      ],
      "execution_count": 64,
      "outputs": []
    },
    {
      "cell_type": "code",
      "metadata": {
        "colab": {
          "base_uri": "https://localhost:8080/"
        },
        "id": "EOc8PJtL0VRq",
        "outputId": "e2540011-7f90-46be-e9c5-52409cef300a"
      },
      "source": [
        "ensemble.train(x=features, y=target, training_frame=train, validation_frame=test)"
      ],
      "execution_count": 65,
      "outputs": [
        {
          "output_type": "stream",
          "text": [
            "stackedensemble Model Build progress: |███████████████████████████████████| 100%\n"
          ],
          "name": "stdout"
        }
      ]
    },
    {
      "cell_type": "code",
      "metadata": {
        "id": "zzwhTZHE0aA4"
      },
      "source": [
        "# Eval ensemble performance on the valid data\n",
        "perf = ensemble.model_performance(valid)"
      ],
      "execution_count": 66,
      "outputs": []
    },
    {
      "cell_type": "code",
      "metadata": {
        "colab": {
          "base_uri": "https://localhost:8080/",
          "height": 0
        },
        "id": "5T1T0plX0aQu",
        "outputId": "e0d32afb-3226-4166-aa69-837891ae9d6e"
      },
      "source": [
        "perf.confusion_matrix()"
      ],
      "execution_count": 67,
      "outputs": [
        {
          "output_type": "stream",
          "text": [
            "\n",
            "Confusion Matrix (Act/Pred) for max f1 @ threshold = 0.2519356283489413: \n"
          ],
          "name": "stdout"
        },
        {
          "output_type": "display_data",
          "data": {
            "text/html": [
              "<div>\n",
              "<style scoped>\n",
              "    .dataframe tbody tr th:only-of-type {\n",
              "        vertical-align: middle;\n",
              "    }\n",
              "\n",
              "    .dataframe tbody tr th {\n",
              "        vertical-align: top;\n",
              "    }\n",
              "\n",
              "    .dataframe thead th {\n",
              "        text-align: right;\n",
              "    }\n",
              "</style>\n",
              "<table border=\"1\" class=\"dataframe\">\n",
              "  <thead>\n",
              "    <tr style=\"text-align: right;\">\n",
              "      <th></th>\n",
              "      <th></th>\n",
              "      <th>0</th>\n",
              "      <th>1</th>\n",
              "      <th>Error</th>\n",
              "      <th>Rate</th>\n",
              "    </tr>\n",
              "  </thead>\n",
              "  <tbody>\n",
              "    <tr>\n",
              "      <th>0</th>\n",
              "      <td>0</td>\n",
              "      <td>543.0</td>\n",
              "      <td>5.0</td>\n",
              "      <td>0.0091</td>\n",
              "      <td>(5.0/548.0)</td>\n",
              "    </tr>\n",
              "    <tr>\n",
              "      <th>1</th>\n",
              "      <td>1</td>\n",
              "      <td>4.0</td>\n",
              "      <td>92.0</td>\n",
              "      <td>0.0417</td>\n",
              "      <td>(4.0/96.0)</td>\n",
              "    </tr>\n",
              "    <tr>\n",
              "      <th>2</th>\n",
              "      <td>Total</td>\n",
              "      <td>547.0</td>\n",
              "      <td>97.0</td>\n",
              "      <td>0.014</td>\n",
              "      <td>(9.0/644.0)</td>\n",
              "    </tr>\n",
              "  </tbody>\n",
              "</table>\n",
              "</div>"
            ],
            "text/plain": [
              "              0     1   Error          Rate\n",
              "0      0  543.0   5.0  0.0091   (5.0/548.0)\n",
              "1      1    4.0  92.0  0.0417    (4.0/96.0)\n",
              "2  Total  547.0  97.0   0.014   (9.0/644.0)"
            ]
          },
          "metadata": {
            "tags": []
          }
        },
        {
          "output_type": "execute_result",
          "data": {
            "text/plain": [
              ""
            ]
          },
          "metadata": {
            "tags": []
          },
          "execution_count": 67
        }
      ]
    },
    {
      "cell_type": "code",
      "metadata": {
        "colab": {
          "base_uri": "https://localhost:8080/",
          "height": 0
        },
        "id": "0kDdV5mfQWVY",
        "outputId": "a92d9fd9-7094-4358-e6e8-d0c725673b03"
      },
      "source": [
        "accuracy = np.round(perf.accuracy()[0][1],2)\n",
        "f1 = np.round(perf.F1()[0][1],2)\n",
        "auc = np.round(perf.auc(),2)\n",
        "exec =(time.time() - start)\n",
        "score=score.append([[\"StackedEnsemble\",accuracy,f1,auc,exec]])\n",
        "score"
      ],
      "execution_count": 68,
      "outputs": [
        {
          "output_type": "execute_result",
          "data": {
            "text/html": [
              "<div>\n",
              "<style scoped>\n",
              "    .dataframe tbody tr th:only-of-type {\n",
              "        vertical-align: middle;\n",
              "    }\n",
              "\n",
              "    .dataframe tbody tr th {\n",
              "        vertical-align: top;\n",
              "    }\n",
              "\n",
              "    .dataframe thead th {\n",
              "        text-align: right;\n",
              "    }\n",
              "</style>\n",
              "<table border=\"1\" class=\"dataframe\">\n",
              "  <thead>\n",
              "    <tr style=\"text-align: right;\">\n",
              "      <th></th>\n",
              "      <th>0</th>\n",
              "      <th>1</th>\n",
              "      <th>2</th>\n",
              "      <th>3</th>\n",
              "      <th>4</th>\n",
              "    </tr>\n",
              "  </thead>\n",
              "  <tbody>\n",
              "    <tr>\n",
              "      <th>0</th>\n",
              "      <td>DL</td>\n",
              "      <td>0.85</td>\n",
              "      <td>0.44</td>\n",
              "      <td>0.75</td>\n",
              "      <td>49.952567</td>\n",
              "    </tr>\n",
              "    <tr>\n",
              "      <th>0</th>\n",
              "      <td>DRF</td>\n",
              "      <td>0.86</td>\n",
              "      <td>0.47</td>\n",
              "      <td>0.75</td>\n",
              "      <td>2.175508</td>\n",
              "    </tr>\n",
              "    <tr>\n",
              "      <th>0</th>\n",
              "      <td>GBM</td>\n",
              "      <td>0.92</td>\n",
              "      <td>0.73</td>\n",
              "      <td>0.92</td>\n",
              "      <td>14.109959</td>\n",
              "    </tr>\n",
              "    <tr>\n",
              "      <th>0</th>\n",
              "      <td>RuleFit</td>\n",
              "      <td>0.86</td>\n",
              "      <td>0.47</td>\n",
              "      <td>0.76</td>\n",
              "      <td>48.870723</td>\n",
              "    </tr>\n",
              "    <tr>\n",
              "      <th>0</th>\n",
              "      <td>XGBoost</td>\n",
              "      <td>0.99</td>\n",
              "      <td>0.95</td>\n",
              "      <td>0.98</td>\n",
              "      <td>14.486776</td>\n",
              "    </tr>\n",
              "    <tr>\n",
              "      <th>0</th>\n",
              "      <td>StackedEnsemble</td>\n",
              "      <td>0.99</td>\n",
              "      <td>0.95</td>\n",
              "      <td>0.98</td>\n",
              "      <td>1.319890</td>\n",
              "    </tr>\n",
              "  </tbody>\n",
              "</table>\n",
              "</div>"
            ],
            "text/plain": [
              "                 0     1     2     3          4\n",
              "0               DL  0.85  0.44  0.75  49.952567\n",
              "0              DRF  0.86  0.47  0.75   2.175508\n",
              "0              GBM  0.92  0.73  0.92  14.109959\n",
              "0          RuleFit  0.86  0.47  0.76  48.870723\n",
              "0          XGBoost  0.99  0.95  0.98  14.486776\n",
              "0  StackedEnsemble  0.99  0.95  0.98   1.319890"
            ]
          },
          "metadata": {
            "tags": []
          },
          "execution_count": 68
        }
      ]
    },
    {
      "cell_type": "code",
      "metadata": {
        "id": "OCRdXoovzbli",
        "colab": {
          "base_uri": "https://localhost:8080/"
        },
        "outputId": "ed4d6a39-ea9d-4bdb-9211-f5410a87ec91"
      },
      "source": [
        "# initialize h2o\n",
        "h2o.shutdown()"
      ],
      "execution_count": 69,
      "outputs": [
        {
          "output_type": "stream",
          "text": [
            "H2O session _sid_a62d closed.\n"
          ],
          "name": "stdout"
        }
      ]
    },
    {
      "cell_type": "markdown",
      "metadata": {
        "id": "PpUEI6WnVV8r"
      },
      "source": [
        "#Comparitive Analysis"
      ]
    },
    {
      "cell_type": "code",
      "metadata": {
        "id": "oZTmnGtXWbSY"
      },
      "source": [
        "score.columns=['Model',\"Accuracy\",'F1-Score','AUC','Time Taken']"
      ],
      "execution_count": 70,
      "outputs": []
    },
    {
      "cell_type": "code",
      "metadata": {
        "colab": {
          "base_uri": "https://localhost:8080/",
          "height": 236
        },
        "id": "Ol1o0wqHN423",
        "outputId": "69a7a41a-93ff-453b-b2f5-71ea74a5166a"
      },
      "source": [
        "score"
      ],
      "execution_count": 71,
      "outputs": [
        {
          "output_type": "execute_result",
          "data": {
            "text/html": [
              "<div>\n",
              "<style scoped>\n",
              "    .dataframe tbody tr th:only-of-type {\n",
              "        vertical-align: middle;\n",
              "    }\n",
              "\n",
              "    .dataframe tbody tr th {\n",
              "        vertical-align: top;\n",
              "    }\n",
              "\n",
              "    .dataframe thead th {\n",
              "        text-align: right;\n",
              "    }\n",
              "</style>\n",
              "<table border=\"1\" class=\"dataframe\">\n",
              "  <thead>\n",
              "    <tr style=\"text-align: right;\">\n",
              "      <th></th>\n",
              "      <th>Model</th>\n",
              "      <th>Accuracy</th>\n",
              "      <th>F1-Score</th>\n",
              "      <th>AUC</th>\n",
              "      <th>Time Taken</th>\n",
              "    </tr>\n",
              "  </thead>\n",
              "  <tbody>\n",
              "    <tr>\n",
              "      <th>0</th>\n",
              "      <td>DL</td>\n",
              "      <td>0.85</td>\n",
              "      <td>0.44</td>\n",
              "      <td>0.75</td>\n",
              "      <td>49.952567</td>\n",
              "    </tr>\n",
              "    <tr>\n",
              "      <th>0</th>\n",
              "      <td>DRF</td>\n",
              "      <td>0.86</td>\n",
              "      <td>0.47</td>\n",
              "      <td>0.75</td>\n",
              "      <td>2.175508</td>\n",
              "    </tr>\n",
              "    <tr>\n",
              "      <th>0</th>\n",
              "      <td>GBM</td>\n",
              "      <td>0.92</td>\n",
              "      <td>0.73</td>\n",
              "      <td>0.92</td>\n",
              "      <td>14.109959</td>\n",
              "    </tr>\n",
              "    <tr>\n",
              "      <th>0</th>\n",
              "      <td>RuleFit</td>\n",
              "      <td>0.86</td>\n",
              "      <td>0.47</td>\n",
              "      <td>0.76</td>\n",
              "      <td>48.870723</td>\n",
              "    </tr>\n",
              "    <tr>\n",
              "      <th>0</th>\n",
              "      <td>XGBoost</td>\n",
              "      <td>0.99</td>\n",
              "      <td>0.95</td>\n",
              "      <td>0.98</td>\n",
              "      <td>14.486776</td>\n",
              "    </tr>\n",
              "    <tr>\n",
              "      <th>0</th>\n",
              "      <td>StackedEnsemble</td>\n",
              "      <td>0.99</td>\n",
              "      <td>0.95</td>\n",
              "      <td>0.98</td>\n",
              "      <td>1.319890</td>\n",
              "    </tr>\n",
              "  </tbody>\n",
              "</table>\n",
              "</div>"
            ],
            "text/plain": [
              "             Model  Accuracy  F1-Score   AUC  Time Taken\n",
              "0               DL      0.85      0.44  0.75   49.952567\n",
              "0              DRF      0.86      0.47  0.75    2.175508\n",
              "0              GBM      0.92      0.73  0.92   14.109959\n",
              "0          RuleFit      0.86      0.47  0.76   48.870723\n",
              "0          XGBoost      0.99      0.95  0.98   14.486776\n",
              "0  StackedEnsemble      0.99      0.95  0.98    1.319890"
            ]
          },
          "metadata": {
            "tags": []
          },
          "execution_count": 71
        }
      ]
    },
    {
      "cell_type": "code",
      "metadata": {
        "colab": {
          "base_uri": "https://localhost:8080/",
          "height": 336
        },
        "id": "7crc8y8UWeOa",
        "outputId": "b996495c-951b-4cc9-c005-710c8171d976"
      },
      "source": [
        "fig = plt.figure(figsize=(6,4))\n",
        "ax = fig.add_axes([0,0,1,1])\n",
        "ax.bar(score['Model'],score['Accuracy'],  color = 'b', width = 0.25, hatch='x')\n",
        "plt.show()"
      ],
      "execution_count": 72,
      "outputs": [
        {
          "output_type": "display_data",
          "data": {
            "image/png": "[encoded data removed]",
            "text/plain": [
              "<Figure size 432x288 with 1 Axes>"
            ]
          },
          "metadata": {
            "tags": [],
            "needs_background": "light"
          }
        }
      ]
    },
    {
      "cell_type": "code",
      "metadata": {
        "colab": {
          "base_uri": "https://localhost:8080/",
          "height": 336
        },
        "id": "Tfil1FFuwqph",
        "outputId": "56fd9dac-852b-4262-b6b2-20a7084914ad"
      },
      "source": [
        "fig = plt.figure(figsize=(6,4))\n",
        "ax = fig.add_axes([0,0,1,1])\n",
        "plt.plot(score['Model'],score['Accuracy'],marker='o') \n",
        "plt.show()"
      ],
      "execution_count": 73,
      "outputs": [
        {
          "output_type": "display_data",
          "data": {
            "image/png": "[encoded data removed]",
            "text/plain": [
              "<Figure size 432x288 with 1 Axes>"
            ]
          },
          "metadata": {
            "tags": [],
            "needs_background": "light"
          }
        }
      ]
    },
    {
      "cell_type": "code",
      "metadata": {
        "colab": {
          "base_uri": "https://localhost:8080/",
          "height": 336
        },
        "id": "0j5Ghwu-Wec8",
        "outputId": "e17e1f07-0b73-4474-98d4-c8a75fee04e7"
      },
      "source": [
        "fig = plt.figure(figsize=(6,4))\n",
        "ax = fig.add_axes([0,0,1,1])\n",
        "ax.bar(score['Model'], score['F1-Score'], color = 'b', width = 0.25, hatch='x')\n",
        "plt.show()"
      ],
      "execution_count": 74,
      "outputs": [
        {
          "output_type": "display_data",
          "data": {
            "image/png": "[encoded data removed]",
            "text/plain": [
              "<Figure size 432x288 with 1 Axes>"
            ]
          },
          "metadata": {
            "tags": [],
            "needs_background": "light"
          }
        }
      ]
    },
    {
      "cell_type": "code",
      "metadata": {
        "colab": {
          "base_uri": "https://localhost:8080/",
          "height": 336
        },
        "id": "G8Z0DOeDwvDR",
        "outputId": "00d3c91f-47e9-490d-b267-ac791050dd45"
      },
      "source": [
        "fig = plt.figure(figsize=(6,4))\n",
        "ax = fig.add_axes([0,0,1,1])\n",
        "plt.plot(score['Model'],score['F1-Score'],marker='o') \n",
        "plt.show()"
      ],
      "execution_count": 75,
      "outputs": [
        {
          "output_type": "display_data",
          "data": {
            "image/png": "[encoded data removed]",
            "text/plain": [
              "<Figure size 432x288 with 1 Axes>"
            ]
          },
          "metadata": {
            "tags": [],
            "needs_background": "light"
          }
        }
      ]
    },
    {
      "cell_type": "code",
      "metadata": {
        "colab": {
          "base_uri": "https://localhost:8080/",
          "height": 336
        },
        "id": "5nAjuU4EWerh",
        "outputId": "6c6315c8-51ec-4420-d4ad-943dde79cefa"
      },
      "source": [
        "fig = plt.figure(figsize=(6,4))\n",
        "ax = fig.add_axes([0,0,1,1])\n",
        "ax.bar(score['Model'], score['AUC'], color = 'b', width = 0.25, hatch='x')\n",
        "plt.show()"
      ],
      "execution_count": 76,
      "outputs": [
        {
          "output_type": "display_data",
          "data": {
            "image/png": "[encoded data removed]",
            "text/plain": [
              "<Figure size 432x288 with 1 Axes>"
            ]
          },
          "metadata": {
            "tags": [],
            "needs_background": "light"
          }
        }
      ]
    },
    {
      "cell_type": "code",
      "metadata": {
        "colab": {
          "base_uri": "https://localhost:8080/",
          "height": 336
        },
        "id": "aMvuCK74wmOB",
        "outputId": "d7091f13-a6af-4b5f-d0e5-293f514f5bed"
      },
      "source": [
        "fig = plt.figure(figsize=(6,4))\n",
        "ax = fig.add_axes([0,0,1,1])\n",
        "plt.plot(score['Model'],score['AUC'],marker='o') \n",
        "plt.show()"
      ],
      "execution_count": 77,
      "outputs": [
        {
          "output_type": "display_data",
          "data": {
            "image/png": "[encoded data removed]",
            "text/plain": [
              "<Figure size 432x288 with 1 Axes>"
            ]
          },
          "metadata": {
            "tags": [],
            "needs_background": "light"
          }
        }
      ]
    },
    {
      "cell_type": "code",
      "metadata": {
        "colab": {
          "base_uri": "https://localhost:8080/",
          "height": 336
        },
        "id": "nNcrrFKxWbcy",
        "outputId": "61e347f2-2ee9-4deb-d031-181844e0a61e"
      },
      "source": [
        "fig = plt.figure(figsize=(6,4))\n",
        "ax = fig.add_axes([0,0,1,1])\n",
        "ax.bar(score['Model'], score['Time Taken'], color = 'b', width = 0.25, hatch='x')\n",
        "plt.show()"
      ],
      "execution_count": 78,
      "outputs": [
        {
          "output_type": "display_data",
          "data": {
            "image/png": "[encoded data removed]",
            "text/plain": [
              "<Figure size 432x288 with 1 Axes>"
            ]
          },
          "metadata": {
            "tags": [],
            "needs_background": "light"
          }
        }
      ]
    },
    {
      "cell_type": "code",
      "metadata": {
        "colab": {
          "base_uri": "https://localhost:8080/",
          "height": 336
        },
        "id": "fmpNH_X3wf5-",
        "outputId": "11cdd179-7a5c-465c-aa66-0d413059e634"
      },
      "source": [
        "fig = plt.figure(figsize=(6,4))\n",
        "ax = fig.add_axes([0,0,1,1])\n",
        "plt.plot(score['Model'],score['Time Taken'],marker='o') \n",
        "plt.show()"
      ],
      "execution_count": 79,
      "outputs": [
        {
          "output_type": "display_data",
          "data": {
            "image/png": "[encoded data removed]",
            "text/plain": [
              "<Figure size 432x288 with 1 Axes>"
            ]
          },
          "metadata": {
            "tags": [],
            "needs_background": "light"
          }
        }
      ]
    }
  ]
}