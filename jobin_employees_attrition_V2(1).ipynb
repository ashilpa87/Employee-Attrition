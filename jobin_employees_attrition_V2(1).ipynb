{
 "cells": [
  {
   "cell_type": "markdown",
   "metadata": {
    "id": "MIQ65xL37hxO"
   },
   "source": [
    "# Load your dataset"
   ]
  },
  {
   "cell_type": "code",
   "execution_count": 1,
   "metadata": {
    "id": "IskVbCkDOKKz"
   },
   "outputs": [],
   "source": [
    "#  https://www.kaggle.com/datasets/junglisher/employees-attrition-analysis\n",
    "import pandas as pd\n",
    "empl_df = pd.read_csv(\"whole data.csv\")"
   ]
  },
  {
   "cell_type": "code",
   "execution_count": 2,
   "metadata": {
    "colab": {
     "base_uri": "https://localhost:8080/",
     "height": 1000
    },
    "id": "V6FX33W_OKHb",
    "outputId": "518bbcd3-52ed-4be2-f8b3-70c39837512f"
   },
   "outputs": [
    {
     "data": {
      "text/html": [
       "<div>\n",
       "<style scoped>\n",
       "    .dataframe tbody tr th:only-of-type {\n",
       "        vertical-align: middle;\n",
       "    }\n",
       "\n",
       "    .dataframe tbody tr th {\n",
       "        vertical-align: top;\n",
       "    }\n",
       "\n",
       "    .dataframe thead th {\n",
       "        text-align: right;\n",
       "    }\n",
       "</style>\n",
       "<table border=\"1\" class=\"dataframe\">\n",
       "  <thead>\n",
       "    <tr style=\"text-align: right;\">\n",
       "      <th></th>\n",
       "      <th>EmployeeID</th>\n",
       "      <th>JobInvolvement</th>\n",
       "      <th>PerformanceRating</th>\n",
       "      <th>EnvironmentSatisfaction</th>\n",
       "      <th>JobSatisfaction</th>\n",
       "      <th>WorkLifeBalance</th>\n",
       "      <th>Age</th>\n",
       "      <th>Attrition</th>\n",
       "      <th>BusinessTravel</th>\n",
       "      <th>Department</th>\n",
       "      <th>...</th>\n",
       "      <th>NumCompaniesWorked</th>\n",
       "      <th>Over18</th>\n",
       "      <th>PercentSalaryHike</th>\n",
       "      <th>StandardHours</th>\n",
       "      <th>StockOptionLevel</th>\n",
       "      <th>TotalWorkingYears</th>\n",
       "      <th>TrainingTimesLastYear</th>\n",
       "      <th>YearsAtCompany</th>\n",
       "      <th>YearsSinceLastPromotion</th>\n",
       "      <th>YearsWithCurrManager</th>\n",
       "    </tr>\n",
       "  </thead>\n",
       "  <tbody>\n",
       "    <tr>\n",
       "      <th>0</th>\n",
       "      <td>1</td>\n",
       "      <td>3</td>\n",
       "      <td>3</td>\n",
       "      <td>3.0</td>\n",
       "      <td>4.0</td>\n",
       "      <td>2.0</td>\n",
       "      <td>51</td>\n",
       "      <td>No</td>\n",
       "      <td>Travel_Rarely</td>\n",
       "      <td>Sales</td>\n",
       "      <td>...</td>\n",
       "      <td>1.0</td>\n",
       "      <td>Y</td>\n",
       "      <td>11</td>\n",
       "      <td>8</td>\n",
       "      <td>0</td>\n",
       "      <td>1.0</td>\n",
       "      <td>6</td>\n",
       "      <td>1</td>\n",
       "      <td>0</td>\n",
       "      <td>0</td>\n",
       "    </tr>\n",
       "    <tr>\n",
       "      <th>1</th>\n",
       "      <td>2</td>\n",
       "      <td>2</td>\n",
       "      <td>4</td>\n",
       "      <td>3.0</td>\n",
       "      <td>2.0</td>\n",
       "      <td>4.0</td>\n",
       "      <td>31</td>\n",
       "      <td>Yes</td>\n",
       "      <td>Travel_Frequently</td>\n",
       "      <td>Research &amp; Development</td>\n",
       "      <td>...</td>\n",
       "      <td>0.0</td>\n",
       "      <td>Y</td>\n",
       "      <td>23</td>\n",
       "      <td>8</td>\n",
       "      <td>1</td>\n",
       "      <td>6.0</td>\n",
       "      <td>3</td>\n",
       "      <td>5</td>\n",
       "      <td>1</td>\n",
       "      <td>4</td>\n",
       "    </tr>\n",
       "    <tr>\n",
       "      <th>2</th>\n",
       "      <td>3</td>\n",
       "      <td>3</td>\n",
       "      <td>3</td>\n",
       "      <td>2.0</td>\n",
       "      <td>2.0</td>\n",
       "      <td>1.0</td>\n",
       "      <td>32</td>\n",
       "      <td>No</td>\n",
       "      <td>Travel_Frequently</td>\n",
       "      <td>Research &amp; Development</td>\n",
       "      <td>...</td>\n",
       "      <td>1.0</td>\n",
       "      <td>Y</td>\n",
       "      <td>15</td>\n",
       "      <td>8</td>\n",
       "      <td>3</td>\n",
       "      <td>5.0</td>\n",
       "      <td>2</td>\n",
       "      <td>5</td>\n",
       "      <td>0</td>\n",
       "      <td>3</td>\n",
       "    </tr>\n",
       "    <tr>\n",
       "      <th>3</th>\n",
       "      <td>4</td>\n",
       "      <td>2</td>\n",
       "      <td>3</td>\n",
       "      <td>4.0</td>\n",
       "      <td>4.0</td>\n",
       "      <td>3.0</td>\n",
       "      <td>38</td>\n",
       "      <td>No</td>\n",
       "      <td>Non-Travel</td>\n",
       "      <td>Research &amp; Development</td>\n",
       "      <td>...</td>\n",
       "      <td>3.0</td>\n",
       "      <td>Y</td>\n",
       "      <td>11</td>\n",
       "      <td>8</td>\n",
       "      <td>3</td>\n",
       "      <td>13.0</td>\n",
       "      <td>5</td>\n",
       "      <td>8</td>\n",
       "      <td>7</td>\n",
       "      <td>5</td>\n",
       "    </tr>\n",
       "    <tr>\n",
       "      <th>4</th>\n",
       "      <td>5</td>\n",
       "      <td>3</td>\n",
       "      <td>3</td>\n",
       "      <td>4.0</td>\n",
       "      <td>1.0</td>\n",
       "      <td>3.0</td>\n",
       "      <td>32</td>\n",
       "      <td>No</td>\n",
       "      <td>Travel_Rarely</td>\n",
       "      <td>Research &amp; Development</td>\n",
       "      <td>...</td>\n",
       "      <td>4.0</td>\n",
       "      <td>Y</td>\n",
       "      <td>12</td>\n",
       "      <td>8</td>\n",
       "      <td>2</td>\n",
       "      <td>9.0</td>\n",
       "      <td>2</td>\n",
       "      <td>6</td>\n",
       "      <td>0</td>\n",
       "      <td>4</td>\n",
       "    </tr>\n",
       "    <tr>\n",
       "      <th>5</th>\n",
       "      <td>6</td>\n",
       "      <td>3</td>\n",
       "      <td>3</td>\n",
       "      <td>3.0</td>\n",
       "      <td>2.0</td>\n",
       "      <td>2.0</td>\n",
       "      <td>46</td>\n",
       "      <td>No</td>\n",
       "      <td>Travel_Rarely</td>\n",
       "      <td>Research &amp; Development</td>\n",
       "      <td>...</td>\n",
       "      <td>3.0</td>\n",
       "      <td>Y</td>\n",
       "      <td>13</td>\n",
       "      <td>8</td>\n",
       "      <td>0</td>\n",
       "      <td>28.0</td>\n",
       "      <td>5</td>\n",
       "      <td>7</td>\n",
       "      <td>7</td>\n",
       "      <td>7</td>\n",
       "    </tr>\n",
       "    <tr>\n",
       "      <th>6</th>\n",
       "      <td>7</td>\n",
       "      <td>3</td>\n",
       "      <td>4</td>\n",
       "      <td>1.0</td>\n",
       "      <td>3.0</td>\n",
       "      <td>1.0</td>\n",
       "      <td>28</td>\n",
       "      <td>Yes</td>\n",
       "      <td>Travel_Rarely</td>\n",
       "      <td>Research &amp; Development</td>\n",
       "      <td>...</td>\n",
       "      <td>2.0</td>\n",
       "      <td>Y</td>\n",
       "      <td>20</td>\n",
       "      <td>8</td>\n",
       "      <td>1</td>\n",
       "      <td>5.0</td>\n",
       "      <td>2</td>\n",
       "      <td>0</td>\n",
       "      <td>0</td>\n",
       "      <td>0</td>\n",
       "    </tr>\n",
       "    <tr>\n",
       "      <th>7</th>\n",
       "      <td>8</td>\n",
       "      <td>3</td>\n",
       "      <td>4</td>\n",
       "      <td>1.0</td>\n",
       "      <td>2.0</td>\n",
       "      <td>3.0</td>\n",
       "      <td>29</td>\n",
       "      <td>No</td>\n",
       "      <td>Travel_Rarely</td>\n",
       "      <td>Research &amp; Development</td>\n",
       "      <td>...</td>\n",
       "      <td>2.0</td>\n",
       "      <td>Y</td>\n",
       "      <td>22</td>\n",
       "      <td>8</td>\n",
       "      <td>3</td>\n",
       "      <td>10.0</td>\n",
       "      <td>2</td>\n",
       "      <td>0</td>\n",
       "      <td>0</td>\n",
       "      <td>0</td>\n",
       "    </tr>\n",
       "    <tr>\n",
       "      <th>8</th>\n",
       "      <td>9</td>\n",
       "      <td>3</td>\n",
       "      <td>4</td>\n",
       "      <td>2.0</td>\n",
       "      <td>4.0</td>\n",
       "      <td>3.0</td>\n",
       "      <td>31</td>\n",
       "      <td>No</td>\n",
       "      <td>Travel_Rarely</td>\n",
       "      <td>Research &amp; Development</td>\n",
       "      <td>...</td>\n",
       "      <td>0.0</td>\n",
       "      <td>Y</td>\n",
       "      <td>21</td>\n",
       "      <td>8</td>\n",
       "      <td>0</td>\n",
       "      <td>10.0</td>\n",
       "      <td>2</td>\n",
       "      <td>9</td>\n",
       "      <td>7</td>\n",
       "      <td>8</td>\n",
       "    </tr>\n",
       "    <tr>\n",
       "      <th>9</th>\n",
       "      <td>10</td>\n",
       "      <td>3</td>\n",
       "      <td>3</td>\n",
       "      <td>2.0</td>\n",
       "      <td>1.0</td>\n",
       "      <td>3.0</td>\n",
       "      <td>25</td>\n",
       "      <td>No</td>\n",
       "      <td>Non-Travel</td>\n",
       "      <td>Research &amp; Development</td>\n",
       "      <td>...</td>\n",
       "      <td>1.0</td>\n",
       "      <td>Y</td>\n",
       "      <td>13</td>\n",
       "      <td>8</td>\n",
       "      <td>1</td>\n",
       "      <td>6.0</td>\n",
       "      <td>2</td>\n",
       "      <td>6</td>\n",
       "      <td>1</td>\n",
       "      <td>5</td>\n",
       "    </tr>\n",
       "    <tr>\n",
       "      <th>10</th>\n",
       "      <td>11</td>\n",
       "      <td>2</td>\n",
       "      <td>3</td>\n",
       "      <td>3.0</td>\n",
       "      <td>4.0</td>\n",
       "      <td>3.0</td>\n",
       "      <td>45</td>\n",
       "      <td>No</td>\n",
       "      <td>Travel_Rarely</td>\n",
       "      <td>Research &amp; Development</td>\n",
       "      <td>...</td>\n",
       "      <td>0.0</td>\n",
       "      <td>Y</td>\n",
       "      <td>13</td>\n",
       "      <td>8</td>\n",
       "      <td>2</td>\n",
       "      <td>21.0</td>\n",
       "      <td>2</td>\n",
       "      <td>20</td>\n",
       "      <td>4</td>\n",
       "      <td>10</td>\n",
       "    </tr>\n",
       "    <tr>\n",
       "      <th>11</th>\n",
       "      <td>12</td>\n",
       "      <td>3</td>\n",
       "      <td>3</td>\n",
       "      <td>NaN</td>\n",
       "      <td>4.0</td>\n",
       "      <td>3.0</td>\n",
       "      <td>36</td>\n",
       "      <td>No</td>\n",
       "      <td>Travel_Rarely</td>\n",
       "      <td>Research &amp; Development</td>\n",
       "      <td>...</td>\n",
       "      <td>0.0</td>\n",
       "      <td>Y</td>\n",
       "      <td>12</td>\n",
       "      <td>8</td>\n",
       "      <td>2</td>\n",
       "      <td>16.0</td>\n",
       "      <td>2</td>\n",
       "      <td>15</td>\n",
       "      <td>10</td>\n",
       "      <td>11</td>\n",
       "    </tr>\n",
       "    <tr>\n",
       "      <th>12</th>\n",
       "      <td>13</td>\n",
       "      <td>3</td>\n",
       "      <td>3</td>\n",
       "      <td>4.0</td>\n",
       "      <td>1.0</td>\n",
       "      <td>3.0</td>\n",
       "      <td>55</td>\n",
       "      <td>No</td>\n",
       "      <td>Travel_Rarely</td>\n",
       "      <td>Research &amp; Development</td>\n",
       "      <td>...</td>\n",
       "      <td>0.0</td>\n",
       "      <td>Y</td>\n",
       "      <td>17</td>\n",
       "      <td>8</td>\n",
       "      <td>0</td>\n",
       "      <td>37.0</td>\n",
       "      <td>2</td>\n",
       "      <td>36</td>\n",
       "      <td>4</td>\n",
       "      <td>13</td>\n",
       "    </tr>\n",
       "    <tr>\n",
       "      <th>13</th>\n",
       "      <td>14</td>\n",
       "      <td>2</td>\n",
       "      <td>3</td>\n",
       "      <td>1.0</td>\n",
       "      <td>2.0</td>\n",
       "      <td>2.0</td>\n",
       "      <td>47</td>\n",
       "      <td>Yes</td>\n",
       "      <td>Non-Travel</td>\n",
       "      <td>Research &amp; Development</td>\n",
       "      <td>...</td>\n",
       "      <td>1.0</td>\n",
       "      <td>Y</td>\n",
       "      <td>11</td>\n",
       "      <td>8</td>\n",
       "      <td>2</td>\n",
       "      <td>10.0</td>\n",
       "      <td>4</td>\n",
       "      <td>10</td>\n",
       "      <td>9</td>\n",
       "      <td>9</td>\n",
       "    </tr>\n",
       "    <tr>\n",
       "      <th>14</th>\n",
       "      <td>15</td>\n",
       "      <td>3</td>\n",
       "      <td>3</td>\n",
       "      <td>4.0</td>\n",
       "      <td>4.0</td>\n",
       "      <td>2.0</td>\n",
       "      <td>28</td>\n",
       "      <td>No</td>\n",
       "      <td>Travel_Rarely</td>\n",
       "      <td>Research &amp; Development</td>\n",
       "      <td>...</td>\n",
       "      <td>1.0</td>\n",
       "      <td>Y</td>\n",
       "      <td>14</td>\n",
       "      <td>8</td>\n",
       "      <td>0</td>\n",
       "      <td>5.0</td>\n",
       "      <td>2</td>\n",
       "      <td>5</td>\n",
       "      <td>0</td>\n",
       "      <td>4</td>\n",
       "    </tr>\n",
       "    <tr>\n",
       "      <th>15</th>\n",
       "      <td>16</td>\n",
       "      <td>3</td>\n",
       "      <td>3</td>\n",
       "      <td>3.0</td>\n",
       "      <td>4.0</td>\n",
       "      <td>4.0</td>\n",
       "      <td>37</td>\n",
       "      <td>No</td>\n",
       "      <td>Travel_Rarely</td>\n",
       "      <td>Research &amp; Development</td>\n",
       "      <td>...</td>\n",
       "      <td>4.0</td>\n",
       "      <td>Y</td>\n",
       "      <td>11</td>\n",
       "      <td>8</td>\n",
       "      <td>0</td>\n",
       "      <td>7.0</td>\n",
       "      <td>2</td>\n",
       "      <td>5</td>\n",
       "      <td>0</td>\n",
       "      <td>1</td>\n",
       "    </tr>\n",
       "    <tr>\n",
       "      <th>16</th>\n",
       "      <td>17</td>\n",
       "      <td>2</td>\n",
       "      <td>3</td>\n",
       "      <td>4.0</td>\n",
       "      <td>3.0</td>\n",
       "      <td>4.0</td>\n",
       "      <td>21</td>\n",
       "      <td>No</td>\n",
       "      <td>Travel_Rarely</td>\n",
       "      <td>Research &amp; Development</td>\n",
       "      <td>...</td>\n",
       "      <td>1.0</td>\n",
       "      <td>Y</td>\n",
       "      <td>12</td>\n",
       "      <td>8</td>\n",
       "      <td>3</td>\n",
       "      <td>3.0</td>\n",
       "      <td>3</td>\n",
       "      <td>3</td>\n",
       "      <td>1</td>\n",
       "      <td>0</td>\n",
       "    </tr>\n",
       "    <tr>\n",
       "      <th>17</th>\n",
       "      <td>18</td>\n",
       "      <td>3</td>\n",
       "      <td>3</td>\n",
       "      <td>1.0</td>\n",
       "      <td>4.0</td>\n",
       "      <td>3.0</td>\n",
       "      <td>37</td>\n",
       "      <td>No</td>\n",
       "      <td>Non-Travel</td>\n",
       "      <td>Research &amp; Development</td>\n",
       "      <td>...</td>\n",
       "      <td>2.0</td>\n",
       "      <td>Y</td>\n",
       "      <td>13</td>\n",
       "      <td>8</td>\n",
       "      <td>1</td>\n",
       "      <td>15.0</td>\n",
       "      <td>2</td>\n",
       "      <td>5</td>\n",
       "      <td>0</td>\n",
       "      <td>2</td>\n",
       "    </tr>\n",
       "    <tr>\n",
       "      <th>18</th>\n",
       "      <td>19</td>\n",
       "      <td>2</td>\n",
       "      <td>3</td>\n",
       "      <td>2.0</td>\n",
       "      <td>2.0</td>\n",
       "      <td>2.0</td>\n",
       "      <td>35</td>\n",
       "      <td>No</td>\n",
       "      <td>Travel_Rarely</td>\n",
       "      <td>Sales</td>\n",
       "      <td>...</td>\n",
       "      <td>7.0</td>\n",
       "      <td>Y</td>\n",
       "      <td>16</td>\n",
       "      <td>8</td>\n",
       "      <td>0</td>\n",
       "      <td>10.0</td>\n",
       "      <td>5</td>\n",
       "      <td>7</td>\n",
       "      <td>6</td>\n",
       "      <td>2</td>\n",
       "    </tr>\n",
       "    <tr>\n",
       "      <th>19</th>\n",
       "      <td>20</td>\n",
       "      <td>3</td>\n",
       "      <td>3</td>\n",
       "      <td>1.0</td>\n",
       "      <td>1.0</td>\n",
       "      <td>3.0</td>\n",
       "      <td>38</td>\n",
       "      <td>No</td>\n",
       "      <td>Travel_Rarely</td>\n",
       "      <td>Research &amp; Development</td>\n",
       "      <td>...</td>\n",
       "      <td>1.0</td>\n",
       "      <td>Y</td>\n",
       "      <td>11</td>\n",
       "      <td>8</td>\n",
       "      <td>1</td>\n",
       "      <td>8.0</td>\n",
       "      <td>5</td>\n",
       "      <td>8</td>\n",
       "      <td>7</td>\n",
       "      <td>7</td>\n",
       "    </tr>\n",
       "  </tbody>\n",
       "</table>\n",
       "<p>20 rows × 29 columns</p>\n",
       "</div>"
      ],
      "text/plain": [
       "    EmployeeID  JobInvolvement  PerformanceRating  EnvironmentSatisfaction  \\\n",
       "0            1               3                  3                      3.0   \n",
       "1            2               2                  4                      3.0   \n",
       "2            3               3                  3                      2.0   \n",
       "3            4               2                  3                      4.0   \n",
       "4            5               3                  3                      4.0   \n",
       "5            6               3                  3                      3.0   \n",
       "6            7               3                  4                      1.0   \n",
       "7            8               3                  4                      1.0   \n",
       "8            9               3                  4                      2.0   \n",
       "9           10               3                  3                      2.0   \n",
       "10          11               2                  3                      3.0   \n",
       "11          12               3                  3                      NaN   \n",
       "12          13               3                  3                      4.0   \n",
       "13          14               2                  3                      1.0   \n",
       "14          15               3                  3                      4.0   \n",
       "15          16               3                  3                      3.0   \n",
       "16          17               2                  3                      4.0   \n",
       "17          18               3                  3                      1.0   \n",
       "18          19               2                  3                      2.0   \n",
       "19          20               3                  3                      1.0   \n",
       "\n",
       "    JobSatisfaction  WorkLifeBalance  Age Attrition     BusinessTravel  \\\n",
       "0               4.0              2.0   51        No      Travel_Rarely   \n",
       "1               2.0              4.0   31       Yes  Travel_Frequently   \n",
       "2               2.0              1.0   32        No  Travel_Frequently   \n",
       "3               4.0              3.0   38        No         Non-Travel   \n",
       "4               1.0              3.0   32        No      Travel_Rarely   \n",
       "5               2.0              2.0   46        No      Travel_Rarely   \n",
       "6               3.0              1.0   28       Yes      Travel_Rarely   \n",
       "7               2.0              3.0   29        No      Travel_Rarely   \n",
       "8               4.0              3.0   31        No      Travel_Rarely   \n",
       "9               1.0              3.0   25        No         Non-Travel   \n",
       "10              4.0              3.0   45        No      Travel_Rarely   \n",
       "11              4.0              3.0   36        No      Travel_Rarely   \n",
       "12              1.0              3.0   55        No      Travel_Rarely   \n",
       "13              2.0              2.0   47       Yes         Non-Travel   \n",
       "14              4.0              2.0   28        No      Travel_Rarely   \n",
       "15              4.0              4.0   37        No      Travel_Rarely   \n",
       "16              3.0              4.0   21        No      Travel_Rarely   \n",
       "17              4.0              3.0   37        No         Non-Travel   \n",
       "18              2.0              2.0   35        No      Travel_Rarely   \n",
       "19              1.0              3.0   38        No      Travel_Rarely   \n",
       "\n",
       "                Department  ...  NumCompaniesWorked  Over18 PercentSalaryHike  \\\n",
       "0                    Sales  ...                 1.0       Y                11   \n",
       "1   Research & Development  ...                 0.0       Y                23   \n",
       "2   Research & Development  ...                 1.0       Y                15   \n",
       "3   Research & Development  ...                 3.0       Y                11   \n",
       "4   Research & Development  ...                 4.0       Y                12   \n",
       "5   Research & Development  ...                 3.0       Y                13   \n",
       "6   Research & Development  ...                 2.0       Y                20   \n",
       "7   Research & Development  ...                 2.0       Y                22   \n",
       "8   Research & Development  ...                 0.0       Y                21   \n",
       "9   Research & Development  ...                 1.0       Y                13   \n",
       "10  Research & Development  ...                 0.0       Y                13   \n",
       "11  Research & Development  ...                 0.0       Y                12   \n",
       "12  Research & Development  ...                 0.0       Y                17   \n",
       "13  Research & Development  ...                 1.0       Y                11   \n",
       "14  Research & Development  ...                 1.0       Y                14   \n",
       "15  Research & Development  ...                 4.0       Y                11   \n",
       "16  Research & Development  ...                 1.0       Y                12   \n",
       "17  Research & Development  ...                 2.0       Y                13   \n",
       "18                   Sales  ...                 7.0       Y                16   \n",
       "19  Research & Development  ...                 1.0       Y                11   \n",
       "\n",
       "    StandardHours StockOptionLevel  TotalWorkingYears TrainingTimesLastYear  \\\n",
       "0               8                0                1.0                     6   \n",
       "1               8                1                6.0                     3   \n",
       "2               8                3                5.0                     2   \n",
       "3               8                3               13.0                     5   \n",
       "4               8                2                9.0                     2   \n",
       "5               8                0               28.0                     5   \n",
       "6               8                1                5.0                     2   \n",
       "7               8                3               10.0                     2   \n",
       "8               8                0               10.0                     2   \n",
       "9               8                1                6.0                     2   \n",
       "10              8                2               21.0                     2   \n",
       "11              8                2               16.0                     2   \n",
       "12              8                0               37.0                     2   \n",
       "13              8                2               10.0                     4   \n",
       "14              8                0                5.0                     2   \n",
       "15              8                0                7.0                     2   \n",
       "16              8                3                3.0                     3   \n",
       "17              8                1               15.0                     2   \n",
       "18              8                0               10.0                     5   \n",
       "19              8                1                8.0                     5   \n",
       "\n",
       "   YearsAtCompany  YearsSinceLastPromotion  YearsWithCurrManager  \n",
       "0               1                        0                     0  \n",
       "1               5                        1                     4  \n",
       "2               5                        0                     3  \n",
       "3               8                        7                     5  \n",
       "4               6                        0                     4  \n",
       "5               7                        7                     7  \n",
       "6               0                        0                     0  \n",
       "7               0                        0                     0  \n",
       "8               9                        7                     8  \n",
       "9               6                        1                     5  \n",
       "10             20                        4                    10  \n",
       "11             15                       10                    11  \n",
       "12             36                        4                    13  \n",
       "13             10                        9                     9  \n",
       "14              5                        0                     4  \n",
       "15              5                        0                     1  \n",
       "16              3                        1                     0  \n",
       "17              5                        0                     2  \n",
       "18              7                        6                     2  \n",
       "19              8                        7                     7  \n",
       "\n",
       "[20 rows x 29 columns]"
      ]
     },
     "execution_count": 2,
     "metadata": {},
     "output_type": "execute_result"
    }
   ],
   "source": [
    "empl_df[:20]"
   ]
  },
  {
   "cell_type": "markdown",
   "metadata": {
    "id": "lQg19zwd8qa1"
   },
   "source": [
    "# Preprocessing steps"
   ]
  },
  {
   "cell_type": "code",
   "execution_count": 3,
   "metadata": {
    "colab": {
     "base_uri": "https://localhost:8080/"
    },
    "id": "YIS_7vv9OKEi",
    "outputId": "d42d9b4d-8452-454f-ff96-4f75d3c2a7fc"
   },
   "outputs": [
    {
     "data": {
      "text/plain": [
       "EmployeeID                  0\n",
       "JobInvolvement              0\n",
       "PerformanceRating           0\n",
       "EnvironmentSatisfaction    25\n",
       "JobSatisfaction            20\n",
       "WorkLifeBalance            38\n",
       "Age                         0\n",
       "Attrition                   0\n",
       "BusinessTravel              0\n",
       "Department                  0\n",
       "DistanceFromHome            0\n",
       "Education                   0\n",
       "EducationField              0\n",
       "EmployeeCount               0\n",
       "Gender                      0\n",
       "JobLevel                    0\n",
       "JobRole                     0\n",
       "MaritalStatus               0\n",
       "MonthlyIncome               0\n",
       "NumCompaniesWorked         19\n",
       "Over18                      0\n",
       "PercentSalaryHike           0\n",
       "StandardHours               0\n",
       "StockOptionLevel            0\n",
       "TotalWorkingYears           9\n",
       "TrainingTimesLastYear       0\n",
       "YearsAtCompany              0\n",
       "YearsSinceLastPromotion     0\n",
       "YearsWithCurrManager        0\n",
       "dtype: int64"
      ]
     },
     "execution_count": 3,
     "metadata": {},
     "output_type": "execute_result"
    }
   ],
   "source": [
    "empl_df.isnull().sum()"
   ]
  },
  {
   "cell_type": "code",
   "execution_count": 4,
   "metadata": {
    "id": "y1B1PymEOJ3f"
   },
   "outputs": [],
   "source": [
    "empl_df['EnvironmentSatisfaction'] = empl_df['EnvironmentSatisfaction'].fillna(empl_df['EnvironmentSatisfaction'].median())"
   ]
  },
  {
   "cell_type": "code",
   "execution_count": 5,
   "metadata": {
    "colab": {
     "base_uri": "https://localhost:8080/"
    },
    "id": "ERazeaw0cgn_",
    "outputId": "240c03c2-d416-4f64-f2c0-0f208b553806"
   },
   "outputs": [
    {
     "data": {
      "text/plain": [
       "0"
      ]
     },
     "execution_count": 5,
     "metadata": {},
     "output_type": "execute_result"
    }
   ],
   "source": [
    "empl_df['EnvironmentSatisfaction'].isnull().sum()"
   ]
  },
  {
   "cell_type": "code",
   "execution_count": 6,
   "metadata": {
    "id": "BslC8Hv9cgkX"
   },
   "outputs": [],
   "source": [
    "empl_df['JobSatisfaction'] = empl_df['JobSatisfaction'].fillna(empl_df['JobSatisfaction'].median())"
   ]
  },
  {
   "cell_type": "code",
   "execution_count": 7,
   "metadata": {
    "colab": {
     "base_uri": "https://localhost:8080/"
    },
    "id": "b9jOmfgMcghK",
    "outputId": "8c284284-5a4c-4a2b-f573-d45604d0a76a"
   },
   "outputs": [
    {
     "data": {
      "text/plain": [
       "0"
      ]
     },
     "execution_count": 7,
     "metadata": {},
     "output_type": "execute_result"
    }
   ],
   "source": [
    "empl_df['JobSatisfaction'].isnull().sum()"
   ]
  },
  {
   "cell_type": "code",
   "execution_count": 8,
   "metadata": {
    "colab": {
     "base_uri": "https://localhost:8080/"
    },
    "id": "e38-i8SXeSg0",
    "outputId": "c742a1bf-084a-441c-ef26-02489581a8af"
   },
   "outputs": [
    {
     "data": {
      "text/plain": [
       "38"
      ]
     },
     "execution_count": 8,
     "metadata": {},
     "output_type": "execute_result"
    }
   ],
   "source": [
    "empl_df['WorkLifeBalance'].isnull().sum()"
   ]
  },
  {
   "cell_type": "code",
   "execution_count": 9,
   "metadata": {
    "id": "0P4MNDGueSde"
   },
   "outputs": [],
   "source": [
    "empl_df['WorkLifeBalance'] = empl_df['WorkLifeBalance'].fillna(empl_df['WorkLifeBalance'].median())"
   ]
  },
  {
   "cell_type": "code",
   "execution_count": 10,
   "metadata": {
    "id": "1HeQyuvFeSaq"
   },
   "outputs": [],
   "source": [
    "empl_df['NumCompaniesWorked'] = empl_df['NumCompaniesWorked'] .fillna(empl_df['NumCompaniesWorked'].median())"
   ]
  },
  {
   "cell_type": "code",
   "execution_count": 11,
   "metadata": {
    "colab": {
     "base_uri": "https://localhost:8080/"
    },
    "id": "0FPl6lsre6IZ",
    "outputId": "0428e25d-7ca7-4cf7-d8e5-e6259bb4c16d"
   },
   "outputs": [
    {
     "data": {
      "text/plain": [
       "EmployeeID                 0\n",
       "JobInvolvement             0\n",
       "PerformanceRating          0\n",
       "EnvironmentSatisfaction    0\n",
       "JobSatisfaction            0\n",
       "WorkLifeBalance            0\n",
       "Age                        0\n",
       "Attrition                  0\n",
       "BusinessTravel             0\n",
       "Department                 0\n",
       "DistanceFromHome           0\n",
       "Education                  0\n",
       "EducationField             0\n",
       "EmployeeCount              0\n",
       "Gender                     0\n",
       "JobLevel                   0\n",
       "JobRole                    0\n",
       "MaritalStatus              0\n",
       "MonthlyIncome              0\n",
       "NumCompaniesWorked         0\n",
       "Over18                     0\n",
       "PercentSalaryHike          0\n",
       "StandardHours              0\n",
       "StockOptionLevel           0\n",
       "TotalWorkingYears          9\n",
       "TrainingTimesLastYear      0\n",
       "YearsAtCompany             0\n",
       "YearsSinceLastPromotion    0\n",
       "YearsWithCurrManager       0\n",
       "dtype: int64"
      ]
     },
     "execution_count": 11,
     "metadata": {},
     "output_type": "execute_result"
    }
   ],
   "source": [
    "empl_df.isnull().sum()"
   ]
  },
  {
   "cell_type": "code",
   "execution_count": 12,
   "metadata": {
    "colab": {
     "base_uri": "https://localhost:8080/"
    },
    "id": "K9pyUIOne6FF",
    "outputId": "cf17d282-8790-4a3c-c417-3786c1b7740c"
   },
   "outputs": [
    {
     "name": "stdout",
     "output_type": "stream",
     "text": [
      "<class 'pandas.core.frame.DataFrame'>\n",
      "RangeIndex: 4410 entries, 0 to 4409\n",
      "Data columns (total 29 columns):\n",
      " #   Column                   Non-Null Count  Dtype  \n",
      "---  ------                   --------------  -----  \n",
      " 0   EmployeeID               4410 non-null   int64  \n",
      " 1   JobInvolvement           4410 non-null   int64  \n",
      " 2   PerformanceRating        4410 non-null   int64  \n",
      " 3   EnvironmentSatisfaction  4410 non-null   float64\n",
      " 4   JobSatisfaction          4410 non-null   float64\n",
      " 5   WorkLifeBalance          4410 non-null   float64\n",
      " 6   Age                      4410 non-null   int64  \n",
      " 7   Attrition                4410 non-null   object \n",
      " 8   BusinessTravel           4410 non-null   object \n",
      " 9   Department               4410 non-null   object \n",
      " 10  DistanceFromHome         4410 non-null   int64  \n",
      " 11  Education                4410 non-null   int64  \n",
      " 12  EducationField           4410 non-null   object \n",
      " 13  EmployeeCount            4410 non-null   int64  \n",
      " 14  Gender                   4410 non-null   object \n",
      " 15  JobLevel                 4410 non-null   int64  \n",
      " 16  JobRole                  4410 non-null   object \n",
      " 17  MaritalStatus            4410 non-null   object \n",
      " 18  MonthlyIncome            4410 non-null   int64  \n",
      " 19  NumCompaniesWorked       4410 non-null   float64\n",
      " 20  Over18                   4410 non-null   object \n",
      " 21  PercentSalaryHike        4410 non-null   int64  \n",
      " 22  StandardHours            4410 non-null   int64  \n",
      " 23  StockOptionLevel         4410 non-null   int64  \n",
      " 24  TotalWorkingYears        4401 non-null   float64\n",
      " 25  TrainingTimesLastYear    4410 non-null   int64  \n",
      " 26  YearsAtCompany           4410 non-null   int64  \n",
      " 27  YearsSinceLastPromotion  4410 non-null   int64  \n",
      " 28  YearsWithCurrManager     4410 non-null   int64  \n",
      "dtypes: float64(5), int64(16), object(8)\n",
      "memory usage: 999.3+ KB\n"
     ]
    }
   ],
   "source": [
    "empl_df.info()"
   ]
  },
  {
   "cell_type": "code",
   "execution_count": 13,
   "metadata": {
    "colab": {
     "base_uri": "https://localhost:8080/"
    },
    "id": "T2uxmU_ce6B4",
    "outputId": "4bfb306a-51c2-477c-ceed-a613126d3616"
   },
   "outputs": [
    {
     "data": {
      "text/plain": [
       "0        No\n",
       "1       Yes\n",
       "2        No\n",
       "3        No\n",
       "4        No\n",
       "       ... \n",
       "4405     No\n",
       "4406     No\n",
       "4407     No\n",
       "4408     No\n",
       "4409     No\n",
       "Name: Attrition, Length: 4410, dtype: object"
      ]
     },
     "execution_count": 13,
     "metadata": {},
     "output_type": "execute_result"
    }
   ],
   "source": [
    "empl_df['Attrition']"
   ]
  },
  {
   "cell_type": "code",
   "execution_count": 14,
   "metadata": {
    "colab": {
     "base_uri": "https://localhost:8080/"
    },
    "id": "7YCl8-W0fQSH",
    "outputId": "9710953c-65d6-4fa8-9f90-a8c0cc529515"
   },
   "outputs": [
    {
     "data": {
      "text/plain": [
       "array(['Travel_Rarely', 'Travel_Frequently', 'Non-Travel'], dtype=object)"
      ]
     },
     "execution_count": 14,
     "metadata": {},
     "output_type": "execute_result"
    }
   ],
   "source": [
    "empl_df['BusinessTravel'].unique()"
   ]
  },
  {
   "cell_type": "code",
   "execution_count": 15,
   "metadata": {
    "colab": {
     "base_uri": "https://localhost:8080/"
    },
    "id": "66PCv7PBidL9",
    "outputId": "41085c9b-5510-433c-ccf9-5d3c158ac468"
   },
   "outputs": [
    {
     "data": {
      "text/plain": [
       "Research & Development    2883\n",
       "Sales                     1338\n",
       "Human Resources            189\n",
       "Name: Department, dtype: int64"
      ]
     },
     "execution_count": 15,
     "metadata": {},
     "output_type": "execute_result"
    }
   ],
   "source": [
    "empl_df.Department.value_counts()"
   ]
  },
  {
   "cell_type": "code",
   "execution_count": 16,
   "metadata": {
    "colab": {
     "base_uri": "https://localhost:8080/"
    },
    "id": "lQ6rAYESkPEU",
    "outputId": "c32a435e-8fc6-44d1-c49a-61832b0a0618"
   },
   "outputs": [
    {
     "data": {
      "text/plain": [
       "Y    4410\n",
       "Name: Over18, dtype: int64"
      ]
     },
     "execution_count": 16,
     "metadata": {},
     "output_type": "execute_result"
    }
   ],
   "source": [
    "empl_df.Over18.value_counts()"
   ]
  },
  {
   "cell_type": "code",
   "execution_count": 17,
   "metadata": {
    "id": "B0VNS2E9d-jb"
   },
   "outputs": [],
   "source": [
    "empl_df['TotalWorkingYears'] = empl_df['TotalWorkingYears'].fillna(empl_df['TotalWorkingYears'].median())"
   ]
  },
  {
   "cell_type": "code",
   "execution_count": 18,
   "metadata": {
    "colab": {
     "base_uri": "https://localhost:8080/"
    },
    "id": "0F36VEXDpRbX",
    "outputId": "be84881b-09b1-44b0-c4e6-48ce62474faf"
   },
   "outputs": [
    {
     "name": "stdout",
     "output_type": "stream",
     "text": [
      "<class 'pandas.core.frame.DataFrame'>\n",
      "RangeIndex: 4410 entries, 0 to 4409\n",
      "Data columns (total 29 columns):\n",
      " #   Column                   Non-Null Count  Dtype  \n",
      "---  ------                   --------------  -----  \n",
      " 0   EmployeeID               4410 non-null   int64  \n",
      " 1   JobInvolvement           4410 non-null   int64  \n",
      " 2   PerformanceRating        4410 non-null   int64  \n",
      " 3   EnvironmentSatisfaction  4410 non-null   float64\n",
      " 4   JobSatisfaction          4410 non-null   float64\n",
      " 5   WorkLifeBalance          4410 non-null   float64\n",
      " 6   Age                      4410 non-null   int64  \n",
      " 7   Attrition                4410 non-null   object \n",
      " 8   BusinessTravel           4410 non-null   object \n",
      " 9   Department               4410 non-null   object \n",
      " 10  DistanceFromHome         4410 non-null   int64  \n",
      " 11  Education                4410 non-null   int64  \n",
      " 12  EducationField           4410 non-null   object \n",
      " 13  EmployeeCount            4410 non-null   int64  \n",
      " 14  Gender                   4410 non-null   object \n",
      " 15  JobLevel                 4410 non-null   int64  \n",
      " 16  JobRole                  4410 non-null   object \n",
      " 17  MaritalStatus            4410 non-null   object \n",
      " 18  MonthlyIncome            4410 non-null   int64  \n",
      " 19  NumCompaniesWorked       4410 non-null   float64\n",
      " 20  Over18                   4410 non-null   object \n",
      " 21  PercentSalaryHike        4410 non-null   int64  \n",
      " 22  StandardHours            4410 non-null   int64  \n",
      " 23  StockOptionLevel         4410 non-null   int64  \n",
      " 24  TotalWorkingYears        4410 non-null   float64\n",
      " 25  TrainingTimesLastYear    4410 non-null   int64  \n",
      " 26  YearsAtCompany           4410 non-null   int64  \n",
      " 27  YearsSinceLastPromotion  4410 non-null   int64  \n",
      " 28  YearsWithCurrManager     4410 non-null   int64  \n",
      "dtypes: float64(5), int64(16), object(8)\n",
      "memory usage: 999.3+ KB\n"
     ]
    }
   ],
   "source": [
    "empl_df.info()"
   ]
  },
  {
   "cell_type": "code",
   "execution_count": 19,
   "metadata": {
    "colab": {
     "base_uri": "https://localhost:8080/"
    },
    "id": "ep2n7kr30Qu-",
    "outputId": "82ad20e0-cef6-4e26-c966-b3874169a9b2"
   },
   "outputs": [
    {
     "data": {
      "text/plain": [
       "Married     2019\n",
       "Single      1410\n",
       "Divorced     981\n",
       "Name: MaritalStatus, dtype: int64"
      ]
     },
     "execution_count": 19,
     "metadata": {},
     "output_type": "execute_result"
    }
   ],
   "source": [
    "empl_df['MaritalStatus'].value_counts()"
   ]
  },
  {
   "cell_type": "code",
   "execution_count": 20,
   "metadata": {
    "colab": {
     "base_uri": "https://localhost:8080/"
    },
    "id": "_xQz6twO0Qrk",
    "outputId": "0c1eb437-7733-4eda-bb80-6f33fae6720e"
   },
   "outputs": [
    {
     "data": {
      "text/plain": [
       "Sales Executive              978\n",
       "Research Scientist           876\n",
       "Laboratory Technician        777\n",
       "Manufacturing Director       435\n",
       "Healthcare Representative    393\n",
       "Manager                      306\n",
       "Sales Representative         249\n",
       "Research Director            240\n",
       "Human Resources              156\n",
       "Name: JobRole, dtype: int64"
      ]
     },
     "execution_count": 20,
     "metadata": {},
     "output_type": "execute_result"
    }
   ],
   "source": [
    "empl_df['JobRole'].value_counts()"
   ]
  },
  {
   "cell_type": "code",
   "execution_count": 21,
   "metadata": {
    "colab": {
     "base_uri": "https://localhost:8080/"
    },
    "id": "DzZmcYBs0cfk",
    "outputId": "6adba651-5da8-46de-be00-c30d29357b05"
   },
   "outputs": [
    {
     "data": {
      "text/plain": [
       "EmployeeID                 False\n",
       "JobInvolvement             False\n",
       "PerformanceRating          False\n",
       "EnvironmentSatisfaction    False\n",
       "JobSatisfaction            False\n",
       "WorkLifeBalance            False\n",
       "Age                        False\n",
       "Attrition                  False\n",
       "BusinessTravel             False\n",
       "Department                 False\n",
       "DistanceFromHome           False\n",
       "Education                  False\n",
       "EducationField             False\n",
       "EmployeeCount              False\n",
       "Gender                      True\n",
       "JobLevel                   False\n",
       "JobRole                    False\n",
       "MaritalStatus              False\n",
       "MonthlyIncome              False\n",
       "NumCompaniesWorked         False\n",
       "Over18                     False\n",
       "PercentSalaryHike          False\n",
       "StandardHours              False\n",
       "StockOptionLevel           False\n",
       "TotalWorkingYears          False\n",
       "TrainingTimesLastYear      False\n",
       "YearsAtCompany             False\n",
       "YearsSinceLastPromotion    False\n",
       "YearsWithCurrManager       False\n",
       "dtype: bool"
      ]
     },
     "execution_count": 21,
     "metadata": {},
     "output_type": "execute_result"
    }
   ],
   "source": [
    "value = 'Female'\n",
    "# mask = empl_df['Department'].str.contains(value)\n",
    "\n",
    "empl_df.apply(lambda row: row.astype(str).str.contains(value).any(), axis=0)"
   ]
  },
  {
   "cell_type": "code",
   "execution_count": 22,
   "metadata": {
    "colab": {
     "base_uri": "https://localhost:8080/"
    },
    "id": "PfB5U0-80ccR",
    "outputId": "3ccd923a-ff83-433e-bb73-8509af8a9353"
   },
   "outputs": [
    {
     "data": {
      "text/plain": [
       "Male      2646\n",
       "Female    1764\n",
       "Name: Gender, dtype: int64"
      ]
     },
     "execution_count": 22,
     "metadata": {},
     "output_type": "execute_result"
    }
   ],
   "source": [
    "empl_df['Gender'].value_counts()"
   ]
  },
  {
   "cell_type": "code",
   "execution_count": 23,
   "metadata": {
    "colab": {
     "base_uri": "https://localhost:8080/"
    },
    "id": "Onyd2cggvMGY",
    "outputId": "32c37963-a197-4980-9a28-16492ba4001c"
   },
   "outputs": [
    {
     "data": {
      "text/plain": [
       "Research & Development    2883\n",
       "Sales                     1338\n",
       "Human Resources            189\n",
       "Name: Department, dtype: int64"
      ]
     },
     "execution_count": 23,
     "metadata": {},
     "output_type": "execute_result"
    }
   ],
   "source": [
    "empl_df.Department.value_counts()"
   ]
  },
  {
   "cell_type": "code",
   "execution_count": 24,
   "metadata": {
    "colab": {
     "base_uri": "https://localhost:8080/"
    },
    "id": "qEBYxd_awsgN",
    "outputId": "05aba316-92c8-4999-96d1-f678d458b0d2"
   },
   "outputs": [
    {
     "data": {
      "text/plain": [
       "EmployeeID                 False\n",
       "JobInvolvement             False\n",
       "PerformanceRating          False\n",
       "EnvironmentSatisfaction    False\n",
       "JobSatisfaction            False\n",
       "WorkLifeBalance            False\n",
       "Age                        False\n",
       "Attrition                  False\n",
       "BusinessTravel             False\n",
       "Department                 False\n",
       "DistanceFromHome           False\n",
       "Education                  False\n",
       "EducationField              True\n",
       "EmployeeCount              False\n",
       "Gender                     False\n",
       "JobLevel                   False\n",
       "JobRole                    False\n",
       "MaritalStatus              False\n",
       "MonthlyIncome              False\n",
       "NumCompaniesWorked         False\n",
       "Over18                     False\n",
       "PercentSalaryHike          False\n",
       "StandardHours              False\n",
       "StockOptionLevel           False\n",
       "TotalWorkingYears          False\n",
       "TrainingTimesLastYear      False\n",
       "YearsAtCompany             False\n",
       "YearsSinceLastPromotion    False\n",
       "YearsWithCurrManager       False\n",
       "dtype: bool"
      ]
     },
     "execution_count": 24,
     "metadata": {},
     "output_type": "execute_result"
    }
   ],
   "source": [
    "value = 'Life Sciences'\n",
    "empl_df.apply(lambda row: row.astype(str).str.contains(value).any(), axis=0)"
   ]
  },
  {
   "cell_type": "code",
   "execution_count": 25,
   "metadata": {
    "colab": {
     "base_uri": "https://localhost:8080/"
    },
    "id": "DGQA19ZNwscq",
    "outputId": "9a5d2870-ca1d-43cd-f1c0-539fe66822a1"
   },
   "outputs": [
    {
     "data": {
      "text/plain": [
       "Life Sciences       1818\n",
       "Medical             1392\n",
       "Marketing            477\n",
       "Technical Degree     396\n",
       "Other                246\n",
       "Human Resources       81\n",
       "Name: EducationField, dtype: int64"
      ]
     },
     "execution_count": 25,
     "metadata": {},
     "output_type": "execute_result"
    }
   ],
   "source": [
    "empl_df['EducationField'].value_counts()"
   ]
  },
  {
   "cell_type": "code",
   "execution_count": 26,
   "metadata": {
    "colab": {
     "base_uri": "https://localhost:8080/"
    },
    "id": "gxPjdPj_zs9p",
    "outputId": "717c9c90-9329-435d-defe-cce727f32ca9"
   },
   "outputs": [
    {
     "data": {
      "text/plain": [
       "0"
      ]
     },
     "execution_count": 26,
     "metadata": {},
     "output_type": "execute_result"
    }
   ],
   "source": [
    "empl_df['EducationField'].isnull().sum()"
   ]
  },
  {
   "cell_type": "markdown",
   "metadata": {
    "id": "FrqMn0PU0Bpo"
   },
   "source": [
    "#  Label Encoder"
   ]
  },
  {
   "cell_type": "code",
   "execution_count": 27,
   "metadata": {
    "id": "GX0ZwwwVzs6B"
   },
   "outputs": [],
   "source": [
    "from sklearn import preprocessing\n",
    "encoder = preprocessing.LabelEncoder()\n",
    "\n",
    "for i in empl_df[['Attrition', 'BusinessTravel', 'Department', 'Over18','EducationField','MaritalStatus','JobRole','Gender']]:\n",
    "    if isinstance(empl_df[i][0],str):\n",
    "        empl_df[i] = encoder.fit_transform(empl_df[i])"
   ]
  },
  {
   "cell_type": "code",
   "execution_count": 28,
   "metadata": {
    "colab": {
     "base_uri": "https://localhost:8080/",
     "height": 488
    },
    "id": "N3EKJtjtzs3D",
    "outputId": "29ea19cf-a982-4df6-a340-ebcda9936561"
   },
   "outputs": [
    {
     "name": "stdout",
     "output_type": "stream",
     "text": [
      "<class 'pandas.core.frame.DataFrame'>\n",
      "RangeIndex: 4410 entries, 0 to 4409\n",
      "Data columns (total 29 columns):\n",
      " #   Column                   Non-Null Count  Dtype  \n",
      "---  ------                   --------------  -----  \n",
      " 0   EmployeeID               4410 non-null   int64  \n",
      " 1   JobInvolvement           4410 non-null   int64  \n",
      " 2   PerformanceRating        4410 non-null   int64  \n",
      " 3   EnvironmentSatisfaction  4410 non-null   float64\n",
      " 4   JobSatisfaction          4410 non-null   float64\n",
      " 5   WorkLifeBalance          4410 non-null   float64\n",
      " 6   Age                      4410 non-null   int64  \n",
      " 7   Attrition                4410 non-null   int32  \n",
      " 8   BusinessTravel           4410 non-null   int32  \n",
      " 9   Department               4410 non-null   int32  \n",
      " 10  DistanceFromHome         4410 non-null   int64  \n",
      " 11  Education                4410 non-null   int64  \n",
      " 12  EducationField           4410 non-null   int32  \n",
      " 13  EmployeeCount            4410 non-null   int64  \n",
      " 14  Gender                   4410 non-null   int32  \n",
      " 15  JobLevel                 4410 non-null   int64  \n",
      " 16  JobRole                  4410 non-null   int32  \n",
      " 17  MaritalStatus            4410 non-null   int32  \n",
      " 18  MonthlyIncome            4410 non-null   int64  \n",
      " 19  NumCompaniesWorked       4410 non-null   float64\n",
      " 20  Over18                   4410 non-null   int32  \n",
      " 21  PercentSalaryHike        4410 non-null   int64  \n",
      " 22  StandardHours            4410 non-null   int64  \n",
      " 23  StockOptionLevel         4410 non-null   int64  \n",
      " 24  TotalWorkingYears        4410 non-null   float64\n",
      " 25  TrainingTimesLastYear    4410 non-null   int64  \n",
      " 26  YearsAtCompany           4410 non-null   int64  \n",
      " 27  YearsSinceLastPromotion  4410 non-null   int64  \n",
      " 28  YearsWithCurrManager     4410 non-null   int64  \n",
      "dtypes: float64(5), int32(8), int64(16)\n",
      "memory usage: 861.5 KB\n"
     ]
    }
   ],
   "source": [
    "empl_df.info()"
   ]
  },
  {
   "cell_type": "code",
   "execution_count": 29,
   "metadata": {
    "colab": {
     "base_uri": "https://localhost:8080/"
    },
    "id": "ORTnXzYkeY7c",
    "outputId": "b6c2b285-3563-4da1-d3a5-3ee0d8f8886b"
   },
   "outputs": [
    {
     "data": {
      "text/plain": [
       "EmployeeID                 0\n",
       "JobInvolvement             0\n",
       "PerformanceRating          0\n",
       "EnvironmentSatisfaction    0\n",
       "JobSatisfaction            0\n",
       "WorkLifeBalance            0\n",
       "Age                        0\n",
       "Attrition                  0\n",
       "BusinessTravel             0\n",
       "Department                 0\n",
       "DistanceFromHome           0\n",
       "Education                  0\n",
       "EducationField             0\n",
       "EmployeeCount              0\n",
       "Gender                     0\n",
       "JobLevel                   0\n",
       "JobRole                    0\n",
       "MaritalStatus              0\n",
       "MonthlyIncome              0\n",
       "NumCompaniesWorked         0\n",
       "Over18                     0\n",
       "PercentSalaryHike          0\n",
       "StandardHours              0\n",
       "StockOptionLevel           0\n",
       "TotalWorkingYears          0\n",
       "TrainingTimesLastYear      0\n",
       "YearsAtCompany             0\n",
       "YearsSinceLastPromotion    0\n",
       "YearsWithCurrManager       0\n",
       "dtype: int64"
      ]
     },
     "execution_count": 29,
     "metadata": {},
     "output_type": "execute_result"
    }
   ],
   "source": [
    "empl_df.isna().sum()"
   ]
  },
  {
   "cell_type": "markdown",
   "metadata": {},
   "source": [
    "#  Class Balancing"
   ]
  },
  {
   "cell_type": "code",
   "execution_count": 30,
   "metadata": {
    "id": "_p_2Rm2cWp0X"
   },
   "outputs": [],
   "source": [
    "# Separating the normal and fraudulent transactions........normal_attr_0\n",
    "attr_1 = empl_df[empl_df['Attrition']== 1]\n",
    "attr_0 = empl_df[empl_df['Attrition']== 0].sample(2500)\n",
    "\n",
    "# Reducing the dataset because of machinery constraints\n",
    "df = attr_0.append(attr_1).reset_index(drop = True)\n",
    "\n",
    "# Separating the dependent and independent variables\n",
    "y = df['Attrition']\n",
    "X = df.drop('Attrition', axis = 1)"
   ]
  },
  {
   "cell_type": "markdown",
   "metadata": {
    "id": "w6tibNVo14PL"
   },
   "source": [
    "# Standard Scaler"
   ]
  },
  {
   "cell_type": "code",
   "execution_count": 31,
   "metadata": {
    "id": "8_yZT1Kg13m2"
   },
   "outputs": [],
   "source": [
    "X = empl_df.drop(['Attrition'], axis=1)\n",
    "y = empl_df.Attrition"
   ]
  },
  {
   "cell_type": "code",
   "execution_count": 32,
   "metadata": {
    "id": "IzXT7Lwo13qO"
   },
   "outputs": [],
   "source": [
    "from numpy import asarray\n",
    "from sklearn.preprocessing import StandardScaler\n",
    "\n",
    "scaler = StandardScaler()\n",
    "X = scaler.fit_transform(X)"
   ]
  },
  {
   "cell_type": "code",
   "execution_count": 33,
   "metadata": {
    "id": "p0YDcT8vGuty"
   },
   "outputs": [],
   "source": [
    "import tensorflow as tf\n",
    "from tensorflow import keras\n",
    "from tensorflow.keras import layers\n",
    "\n",
    "from sklearn.metrics import accuracy_score, f1_score, recall_score, precision_score, confusion_matrix, classification_report"
   ]
  },
  {
   "cell_type": "code",
   "execution_count": 34,
   "metadata": {
    "id": "B-oBqt9hZ2JX"
   },
   "outputs": [],
   "source": [
    "import tensorflow as tf\n",
    "data_list = tf.stack(X)\n",
    "y = tf.stack(y)"
   ]
  },
  {
   "cell_type": "code",
   "execution_count": 35,
   "metadata": {
    "id": "Xu3A7-WhaM9M"
   },
   "outputs": [
    {
     "data": {
      "text/plain": [
       "TensorShape([4410, 28])"
      ]
     },
     "execution_count": 35,
     "metadata": {},
     "output_type": "execute_result"
    }
   ],
   "source": [
    "data_list.shape"
   ]
  },
  {
   "cell_type": "code",
   "execution_count": 36,
   "metadata": {
    "id": "XdY19at6aQAK"
   },
   "outputs": [
    {
     "data": {
      "text/plain": [
       "TensorShape([4410])"
      ]
     },
     "execution_count": 36,
     "metadata": {},
     "output_type": "execute_result"
    }
   ],
   "source": [
    "y.shape"
   ]
  },
  {
   "cell_type": "code",
   "execution_count": 37,
   "metadata": {
    "id": "TQ0fZqDPQaj9"
   },
   "outputs": [],
   "source": [
    "# Cleaning the data to make it suitable for the Auto-encoder\n",
    "\n",
    "# Scaling the data to make it suitable for the auto-encoder\n",
    "from sklearn.preprocessing import MinMaxScaler\n",
    "\n",
    "X_scaled = MinMaxScaler().fit_transform(data_list)\n",
    "\n",
    "X_no_scaled = X_scaled[y == 0]\n",
    "X_yes_scaled = X_scaled[y == 1]"
   ]
  },
  {
   "cell_type": "code",
   "execution_count": 38,
   "metadata": {
    "id": "7cyQK2XVadnI"
   },
   "outputs": [
    {
     "data": {
      "text/plain": [
       "(4410, 28)"
      ]
     },
     "execution_count": 38,
     "metadata": {},
     "output_type": "execute_result"
    }
   ],
   "source": [
    "X_scaled.shape"
   ]
  },
  {
   "cell_type": "markdown",
   "metadata": {
    "id": "4_X-zWUDsqeF"
   },
   "source": [
    "# AutoEncoder Model"
   ]
  },
  {
   "cell_type": "code",
   "execution_count": 39,
   "metadata": {
    "id": "xF1zfFx4UmV_"
   },
   "outputs": [
    {
     "name": "stderr",
     "output_type": "stream",
     "text": [
      "Using TensorFlow backend.\n"
     ]
    }
   ],
   "source": [
    "# Building the Auto-encoder neural network\n",
    "\n",
    "from keras import regularizers\n",
    "from keras.layers import Input, Dense\n",
    "from keras.models import Model, Sequential\n",
    "\n",
    "# Building the Input Layer\n",
    "input_layer = Input(shape =(data_list.shape[1], ))\n",
    "\n",
    "# Building the Encoder network\n",
    "encoded = Dense(100, activation ='tanh',\n",
    "                activity_regularizer = regularizers.l1(10e-5))(input_layer)\n",
    "encoded = Dense(50, activation ='tanh',\n",
    "                activity_regularizer = regularizers.l1(10e-5))(encoded)\n",
    "encoded = Dense(25, activation ='tanh',\n",
    "                activity_regularizer = regularizers.l1(10e-5))(encoded)\n",
    "encoded = Dense(12, activation ='tanh',\n",
    "                activity_regularizer = regularizers.l1(10e-5))(encoded)\n",
    "encoded = Dense(6, activation ='relu')(encoded)\n",
    "\n",
    "# Building the Decoder network\n",
    "decoded = Dense(12, activation ='tanh')(encoded)\n",
    "decoded = Dense(25, activation ='tanh')(decoded)\n",
    "decoded = Dense(50, activation ='tanh')(decoded)\n",
    "decoded = Dense(100, activation ='tanh')(decoded)\n",
    "\n",
    "# Building the Output Layer\n",
    "output_layer = Dense(1, activation ='relu')(decoded)"
   ]
  },
  {
   "cell_type": "code",
   "execution_count": 40,
   "metadata": {
    "id": "E8WNaRKLYhzn"
   },
   "outputs": [
    {
     "data": {
      "text/plain": [
       "<tf.Tensor: shape=(4410, 28), dtype=float64, numpy=\n",
       "array([[-1.7316581 ,  0.37967213, -0.42623002, ..., -0.98101416,\n",
       "        -0.67914568, -1.15593471],\n",
       "       [-1.73087259, -1.02616674,  2.34615106, ..., -0.32789332,\n",
       "        -0.36871529, -0.03451975],\n",
       "       [-1.73008708,  0.37967213, -0.42623002, ..., -0.32789332,\n",
       "        -0.67914568, -0.31487349],\n",
       "       ...,\n",
       "       [ 1.73008708,  0.37967213,  2.34615106, ..., -0.49117353,\n",
       "        -0.36871529, -0.59522723],\n",
       "       [ 1.73087259, -1.02616674, -0.42623002, ...,  0.32522752,\n",
       "         1.49386709,  1.08689522],\n",
       "       [ 1.7316581 ,  1.78551099, -0.42623002, ...,  2.28459003,\n",
       "         0.25214551,  1.36724896]])>"
      ]
     },
     "execution_count": 40,
     "metadata": {},
     "output_type": "execute_result"
    }
   ],
   "source": [
    "data_list"
   ]
  },
  {
   "cell_type": "code",
   "execution_count": 41,
   "metadata": {
    "id": "QasJ4yvedaj1"
   },
   "outputs": [
    {
     "data": {
      "text/plain": [
       "0"
      ]
     },
     "execution_count": 41,
     "metadata": {},
     "output_type": "execute_result"
    }
   ],
   "source": [
    "import numpy as np\n",
    "np.count_nonzero(np.isnan(data_list))"
   ]
  },
  {
   "cell_type": "code",
   "execution_count": 42,
   "metadata": {
    "id": "hjc-iK0CdiFT"
   },
   "outputs": [
    {
     "data": {
      "text/plain": [
       "tensorflow.python.framework.ops.EagerTensor"
      ]
     },
     "execution_count": 42,
     "metadata": {},
     "output_type": "execute_result"
    }
   ],
   "source": [
    "type(data_list)"
   ]
  },
  {
   "cell_type": "code",
   "execution_count": 43,
   "metadata": {
    "id": "XudLQpt5UmS-"
   },
   "outputs": [
    {
     "name": "stdout",
     "output_type": "stream",
     "text": [
      "Train on 3528 samples, validate on 882 samples\n",
      "Epoch 1/10\n",
      "3528/3528 [==============================] - 0s 141us/step - loss: 0.3220 - val_loss: 0.2918\n",
      "Epoch 2/10\n",
      "3528/3528 [==============================] - 0s 100us/step - loss: 0.3063 - val_loss: 0.2821\n",
      "Epoch 3/10\n",
      "3528/3528 [==============================] - 0s 94us/step - loss: 0.2946 - val_loss: 0.2747\n",
      "Epoch 4/10\n",
      "3528/3528 [==============================] - 0s 99us/step - loss: 0.2857 - val_loss: 0.2692\n",
      "Epoch 5/10\n",
      "3528/3528 [==============================] - 0s 99us/step - loss: 0.2788 - val_loss: 0.2651\n",
      "Epoch 6/10\n",
      "3528/3528 [==============================] - 0s 94us/step - loss: 0.2738 - val_loss: 0.2621\n",
      "Epoch 7/10\n",
      "3528/3528 [==============================] - 0s 101us/step - loss: 0.2700 - val_loss: 0.2598\n",
      "Epoch 8/10\n",
      "3528/3528 [==============================] - 0s 93us/step - loss: 0.2672 - val_loss: 0.2582\n",
      "Epoch 9/10\n",
      "3528/3528 [==============================] - 0s 95us/step - loss: 0.2652 - val_loss: 0.2570\n",
      "Epoch 10/10\n",
      "3528/3528 [==============================] - 0s 94us/step - loss: 0.2638 - val_loss: 0.2562\n"
     ]
    },
    {
     "data": {
      "text/plain": [
       "<keras.callbacks.callbacks.History at 0x22e292d34c8>"
      ]
     },
     "execution_count": 43,
     "metadata": {},
     "output_type": "execute_result"
    }
   ],
   "source": [
    "# Defining and Training the Auto-encoder\n",
    "\n",
    "# Defining the parameters of the Auto-encoder network\n",
    "import numpy as np\n",
    "autoencoder_1 = Model(input_layer, output_layer)\n",
    "autoencoder_1.compile(optimizer =\"adadelta\", loss =\"mse\")\n",
    "\n",
    "# Training the Auto-encoder network\n",
    "autoencoder_1.fit(np.array(data_list), np.array(y), batch_size = 16, epochs = 10, shuffle = True, validation_split = 0.20)\n",
    "# model.fit(np.array(data_list), np.array(y), verbose=0, epochs=100)"
   ]
  },
  {
   "cell_type": "markdown",
   "metadata": {
    "id": "7u4lKMtRfHCP"
   },
   "source": [
    "#Retaining the encoder part of the Auto-encoder to encode data"
   ]
  },
  {
   "cell_type": "code",
   "execution_count": 44,
   "metadata": {
    "id": "VYnBnbMdUmPl"
   },
   "outputs": [],
   "source": [
    "hidden_representation_1 = Sequential()"
   ]
  },
  {
   "cell_type": "code",
   "execution_count": 45,
   "metadata": {
    "id": "Fa_apd6ilbxB"
   },
   "outputs": [],
   "source": [
    "# Separating the points encoded by the Auto-encoder as normal and fraud\n",
    "normal_hidden_rep = hidden_representation_1.predict(X_no_scaled)\n",
    "fraud_hidden_rep = hidden_representation_1.predict(X_yes_scaled)\n",
    "\n",
    "# Combining the encoded points into a single table\n",
    "encoded_X = np.append(normal_hidden_rep, fraud_hidden_rep, axis = 0)\n",
    "y_normal = np.zeros(normal_hidden_rep.shape[0])\n",
    "y_fraud = np.ones(fraud_hidden_rep.shape[0])\n",
    "encoded_y = np.append(y_normal, y_fraud)"
   ]
  },
  {
   "cell_type": "markdown",
   "metadata": {
    "id": "r76wS29HnLJq"
   },
   "source": [
    "Splitting the original and encoded data into training and testing data as we want to use encoder in clssification algorithm."
   ]
  },
  {
   "cell_type": "code",
   "execution_count": 46,
   "metadata": {
    "id": "qaPJoPccl9wR"
   },
   "outputs": [],
   "source": [
    "# Splitting the encoded data for linear classification\n",
    "from sklearn.model_selection import train_test_split\n",
    "X_train_encoded, X_test_encoded, y_train_encoded, y_test_encoded = train_test_split(encoded_X, encoded_y, test_size = 0.2)"
   ]
  },
  {
   "cell_type": "code",
   "execution_count": 47,
   "metadata": {
    "id": "PQMBbn1yoKIA"
   },
   "outputs": [
    {
     "data": {
      "text/plain": [
       "EmployeeID                 0\n",
       "JobInvolvement             0\n",
       "PerformanceRating          0\n",
       "EnvironmentSatisfaction    0\n",
       "JobSatisfaction            0\n",
       "WorkLifeBalance            0\n",
       "Age                        0\n",
       "Attrition                  0\n",
       "BusinessTravel             0\n",
       "Department                 0\n",
       "DistanceFromHome           0\n",
       "Education                  0\n",
       "EducationField             0\n",
       "EmployeeCount              0\n",
       "Gender                     0\n",
       "JobLevel                   0\n",
       "JobRole                    0\n",
       "MaritalStatus              0\n",
       "MonthlyIncome              0\n",
       "NumCompaniesWorked         0\n",
       "Over18                     0\n",
       "PercentSalaryHike          0\n",
       "StandardHours              0\n",
       "StockOptionLevel           0\n",
       "TotalWorkingYears          0\n",
       "TrainingTimesLastYear      0\n",
       "YearsAtCompany             0\n",
       "YearsSinceLastPromotion    0\n",
       "YearsWithCurrManager       0\n",
       "dtype: int64"
      ]
     },
     "execution_count": 47,
     "metadata": {},
     "output_type": "execute_result"
    }
   ],
   "source": [
    "empl_df.isna().sum()"
   ]
  },
  {
   "cell_type": "code",
   "execution_count": 48,
   "metadata": {
    "id": "6c3Ke0Mbn4j5"
   },
   "outputs": [],
   "source": [
    "original_X = empl_df.drop(['Attrition'], axis=1)\n",
    "original_y = empl_df.Attrition"
   ]
  },
  {
   "cell_type": "code",
   "execution_count": 49,
   "metadata": {
    "id": "G6bcCrVjl9tn"
   },
   "outputs": [],
   "source": [
    "# Splitting the original data for non-linear classification\n",
    "from sklearn.model_selection import train_test_split\n",
    "\n",
    "X_train, X_test, y_train, y_test = train_test_split(original_X, original_y, test_size = 0.2)"
   ]
  },
  {
   "cell_type": "markdown",
   "metadata": {
    "id": "rSgfzuIeoZcN"
   },
   "source": [
    "Classificatin Report...\n",
    "\n",
    "      Building the Logistic Regression model and evaluating it’s performance"
   ]
  },
  {
   "cell_type": "code",
   "execution_count": 50,
   "metadata": {
    "id": "x4B5AUvIlE1R"
   },
   "outputs": [
    {
     "name": "stdout",
     "output_type": "stream",
     "text": [
      "Accuracy : 0.8480725623582767\n"
     ]
    }
   ],
   "source": [
    "# Building the logistic regression model\n",
    "from sklearn.linear_model import LogisticRegression\n",
    "from sklearn.metrics import accuracy_score\n",
    "lrclf = LogisticRegression()\n",
    "lrclf.fit(X_train_encoded, y_train_encoded)\n",
    "\n",
    "# Storing the predictions of the linear model\n",
    "y_pred_lrclf = lrclf.predict(X_test_encoded)\n",
    "\n",
    "# Evaluating the performance of the linear model\n",
    "print('Accuracy : '+str(accuracy_score(y_test_encoded, y_pred_lrclf)))"
   ]
  },
  {
   "cell_type": "markdown",
   "metadata": {
    "id": "t5vVWPEWGs4X"
   },
   "source": [
    "# Variational Autoencoder"
   ]
  },
  {
   "cell_type": "code",
   "execution_count": 51,
   "metadata": {
    "id": "B6h8ATriI3o9"
   },
   "outputs": [],
   "source": [
    "# x = empl_df.drop(['Attrition'], axis=1)\n",
    "# y = empl_df.Attrition"
   ]
  },
  {
   "cell_type": "markdown",
   "metadata": {
    "id": "F9Up508dS0Ws"
   },
   "source": [
    "You’ll notice the variational encoder is using a log representation of standard deviation instead of standard deviation itself. This is to assist in the convergence of the KL loss term."
   ]
  },
  {
   "cell_type": "code",
   "execution_count": 52,
   "metadata": {
    "id": "VyHMggzkRtC6"
   },
   "outputs": [],
   "source": [
    " train, validate, test = np.split(empl_df.sample(frac=1, random_state=42),[int(.6*len(empl_df)), int(.8*len(empl_df))])"
   ]
  },
  {
   "cell_type": "code",
   "execution_count": 53,
   "metadata": {
    "colab": {
     "base_uri": "https://localhost:8080/",
     "height": 488
    },
    "id": "Ev2YatD9bKP6",
    "outputId": "97326520-3352-4b2a-f49d-aa32f1cdbf1b"
   },
   "outputs": [
    {
     "data": {
      "text/html": [
       "<div>\n",
       "<style scoped>\n",
       "    .dataframe tbody tr th:only-of-type {\n",
       "        vertical-align: middle;\n",
       "    }\n",
       "\n",
       "    .dataframe tbody tr th {\n",
       "        vertical-align: top;\n",
       "    }\n",
       "\n",
       "    .dataframe thead th {\n",
       "        text-align: right;\n",
       "    }\n",
       "</style>\n",
       "<table border=\"1\" class=\"dataframe\">\n",
       "  <thead>\n",
       "    <tr style=\"text-align: right;\">\n",
       "      <th></th>\n",
       "      <th>EmployeeID</th>\n",
       "      <th>JobInvolvement</th>\n",
       "      <th>PerformanceRating</th>\n",
       "      <th>EnvironmentSatisfaction</th>\n",
       "      <th>JobSatisfaction</th>\n",
       "      <th>WorkLifeBalance</th>\n",
       "      <th>Age</th>\n",
       "      <th>Attrition</th>\n",
       "      <th>BusinessTravel</th>\n",
       "      <th>Department</th>\n",
       "      <th>...</th>\n",
       "      <th>NumCompaniesWorked</th>\n",
       "      <th>Over18</th>\n",
       "      <th>PercentSalaryHike</th>\n",
       "      <th>StandardHours</th>\n",
       "      <th>StockOptionLevel</th>\n",
       "      <th>TotalWorkingYears</th>\n",
       "      <th>TrainingTimesLastYear</th>\n",
       "      <th>YearsAtCompany</th>\n",
       "      <th>YearsSinceLastPromotion</th>\n",
       "      <th>YearsWithCurrManager</th>\n",
       "    </tr>\n",
       "  </thead>\n",
       "  <tbody>\n",
       "    <tr>\n",
       "      <th>1413</th>\n",
       "      <td>1414</td>\n",
       "      <td>3</td>\n",
       "      <td>3</td>\n",
       "      <td>4.0</td>\n",
       "      <td>4.0</td>\n",
       "      <td>3.0</td>\n",
       "      <td>49</td>\n",
       "      <td>0</td>\n",
       "      <td>0</td>\n",
       "      <td>1</td>\n",
       "      <td>...</td>\n",
       "      <td>1.0</td>\n",
       "      <td>0</td>\n",
       "      <td>19</td>\n",
       "      <td>8</td>\n",
       "      <td>1</td>\n",
       "      <td>7.0</td>\n",
       "      <td>5</td>\n",
       "      <td>7</td>\n",
       "      <td>1</td>\n",
       "      <td>7</td>\n",
       "    </tr>\n",
       "    <tr>\n",
       "      <th>3352</th>\n",
       "      <td>3353</td>\n",
       "      <td>3</td>\n",
       "      <td>3</td>\n",
       "      <td>2.0</td>\n",
       "      <td>3.0</td>\n",
       "      <td>3.0</td>\n",
       "      <td>27</td>\n",
       "      <td>0</td>\n",
       "      <td>2</td>\n",
       "      <td>1</td>\n",
       "      <td>...</td>\n",
       "      <td>1.0</td>\n",
       "      <td>0</td>\n",
       "      <td>14</td>\n",
       "      <td>8</td>\n",
       "      <td>1</td>\n",
       "      <td>1.0</td>\n",
       "      <td>5</td>\n",
       "      <td>1</td>\n",
       "      <td>0</td>\n",
       "      <td>0</td>\n",
       "    </tr>\n",
       "    <tr>\n",
       "      <th>3970</th>\n",
       "      <td>3971</td>\n",
       "      <td>3</td>\n",
       "      <td>3</td>\n",
       "      <td>2.0</td>\n",
       "      <td>4.0</td>\n",
       "      <td>3.0</td>\n",
       "      <td>35</td>\n",
       "      <td>0</td>\n",
       "      <td>0</td>\n",
       "      <td>2</td>\n",
       "      <td>...</td>\n",
       "      <td>2.0</td>\n",
       "      <td>0</td>\n",
       "      <td>18</td>\n",
       "      <td>8</td>\n",
       "      <td>3</td>\n",
       "      <td>15.0</td>\n",
       "      <td>3</td>\n",
       "      <td>7</td>\n",
       "      <td>1</td>\n",
       "      <td>7</td>\n",
       "    </tr>\n",
       "    <tr>\n",
       "      <th>3629</th>\n",
       "      <td>3630</td>\n",
       "      <td>3</td>\n",
       "      <td>3</td>\n",
       "      <td>2.0</td>\n",
       "      <td>2.0</td>\n",
       "      <td>2.0</td>\n",
       "      <td>52</td>\n",
       "      <td>1</td>\n",
       "      <td>2</td>\n",
       "      <td>1</td>\n",
       "      <td>...</td>\n",
       "      <td>9.0</td>\n",
       "      <td>0</td>\n",
       "      <td>19</td>\n",
       "      <td>8</td>\n",
       "      <td>1</td>\n",
       "      <td>10.0</td>\n",
       "      <td>1</td>\n",
       "      <td>8</td>\n",
       "      <td>7</td>\n",
       "      <td>7</td>\n",
       "    </tr>\n",
       "    <tr>\n",
       "      <th>144</th>\n",
       "      <td>145</td>\n",
       "      <td>3</td>\n",
       "      <td>3</td>\n",
       "      <td>2.0</td>\n",
       "      <td>3.0</td>\n",
       "      <td>3.0</td>\n",
       "      <td>30</td>\n",
       "      <td>0</td>\n",
       "      <td>2</td>\n",
       "      <td>2</td>\n",
       "      <td>...</td>\n",
       "      <td>0.0</td>\n",
       "      <td>0</td>\n",
       "      <td>17</td>\n",
       "      <td>8</td>\n",
       "      <td>1</td>\n",
       "      <td>6.0</td>\n",
       "      <td>2</td>\n",
       "      <td>5</td>\n",
       "      <td>4</td>\n",
       "      <td>4</td>\n",
       "    </tr>\n",
       "    <tr>\n",
       "      <th>...</th>\n",
       "      <td>...</td>\n",
       "      <td>...</td>\n",
       "      <td>...</td>\n",
       "      <td>...</td>\n",
       "      <td>...</td>\n",
       "      <td>...</td>\n",
       "      <td>...</td>\n",
       "      <td>...</td>\n",
       "      <td>...</td>\n",
       "      <td>...</td>\n",
       "      <td>...</td>\n",
       "      <td>...</td>\n",
       "      <td>...</td>\n",
       "      <td>...</td>\n",
       "      <td>...</td>\n",
       "      <td>...</td>\n",
       "      <td>...</td>\n",
       "      <td>...</td>\n",
       "      <td>...</td>\n",
       "      <td>...</td>\n",
       "      <td>...</td>\n",
       "    </tr>\n",
       "    <tr>\n",
       "      <th>3988</th>\n",
       "      <td>3989</td>\n",
       "      <td>3</td>\n",
       "      <td>3</td>\n",
       "      <td>1.0</td>\n",
       "      <td>1.0</td>\n",
       "      <td>3.0</td>\n",
       "      <td>31</td>\n",
       "      <td>0</td>\n",
       "      <td>1</td>\n",
       "      <td>2</td>\n",
       "      <td>...</td>\n",
       "      <td>2.0</td>\n",
       "      <td>0</td>\n",
       "      <td>18</td>\n",
       "      <td>8</td>\n",
       "      <td>0</td>\n",
       "      <td>9.0</td>\n",
       "      <td>2</td>\n",
       "      <td>3</td>\n",
       "      <td>2</td>\n",
       "      <td>2</td>\n",
       "    </tr>\n",
       "    <tr>\n",
       "      <th>3680</th>\n",
       "      <td>3681</td>\n",
       "      <td>3</td>\n",
       "      <td>4</td>\n",
       "      <td>1.0</td>\n",
       "      <td>4.0</td>\n",
       "      <td>3.0</td>\n",
       "      <td>26</td>\n",
       "      <td>0</td>\n",
       "      <td>2</td>\n",
       "      <td>1</td>\n",
       "      <td>...</td>\n",
       "      <td>0.0</td>\n",
       "      <td>0</td>\n",
       "      <td>20</td>\n",
       "      <td>8</td>\n",
       "      <td>1</td>\n",
       "      <td>5.0</td>\n",
       "      <td>2</td>\n",
       "      <td>4</td>\n",
       "      <td>1</td>\n",
       "      <td>1</td>\n",
       "    </tr>\n",
       "    <tr>\n",
       "      <th>4019</th>\n",
       "      <td>4020</td>\n",
       "      <td>4</td>\n",
       "      <td>3</td>\n",
       "      <td>2.0</td>\n",
       "      <td>2.0</td>\n",
       "      <td>3.0</td>\n",
       "      <td>28</td>\n",
       "      <td>0</td>\n",
       "      <td>2</td>\n",
       "      <td>1</td>\n",
       "      <td>...</td>\n",
       "      <td>1.0</td>\n",
       "      <td>0</td>\n",
       "      <td>18</td>\n",
       "      <td>8</td>\n",
       "      <td>1</td>\n",
       "      <td>1.0</td>\n",
       "      <td>2</td>\n",
       "      <td>1</td>\n",
       "      <td>0</td>\n",
       "      <td>0</td>\n",
       "    </tr>\n",
       "    <tr>\n",
       "      <th>737</th>\n",
       "      <td>738</td>\n",
       "      <td>3</td>\n",
       "      <td>3</td>\n",
       "      <td>1.0</td>\n",
       "      <td>3.0</td>\n",
       "      <td>1.0</td>\n",
       "      <td>43</td>\n",
       "      <td>0</td>\n",
       "      <td>2</td>\n",
       "      <td>1</td>\n",
       "      <td>...</td>\n",
       "      <td>1.0</td>\n",
       "      <td>0</td>\n",
       "      <td>14</td>\n",
       "      <td>8</td>\n",
       "      <td>2</td>\n",
       "      <td>20.0</td>\n",
       "      <td>1</td>\n",
       "      <td>20</td>\n",
       "      <td>1</td>\n",
       "      <td>8</td>\n",
       "    </tr>\n",
       "    <tr>\n",
       "      <th>1453</th>\n",
       "      <td>1454</td>\n",
       "      <td>2</td>\n",
       "      <td>3</td>\n",
       "      <td>3.0</td>\n",
       "      <td>4.0</td>\n",
       "      <td>3.0</td>\n",
       "      <td>32</td>\n",
       "      <td>0</td>\n",
       "      <td>0</td>\n",
       "      <td>2</td>\n",
       "      <td>...</td>\n",
       "      <td>0.0</td>\n",
       "      <td>0</td>\n",
       "      <td>13</td>\n",
       "      <td>8</td>\n",
       "      <td>1</td>\n",
       "      <td>4.0</td>\n",
       "      <td>3</td>\n",
       "      <td>3</td>\n",
       "      <td>2</td>\n",
       "      <td>2</td>\n",
       "    </tr>\n",
       "  </tbody>\n",
       "</table>\n",
       "<p>2646 rows × 29 columns</p>\n",
       "</div>"
      ],
      "text/plain": [
       "      EmployeeID  JobInvolvement  PerformanceRating  EnvironmentSatisfaction  \\\n",
       "1413        1414               3                  3                      4.0   \n",
       "3352        3353               3                  3                      2.0   \n",
       "3970        3971               3                  3                      2.0   \n",
       "3629        3630               3                  3                      2.0   \n",
       "144          145               3                  3                      2.0   \n",
       "...          ...             ...                ...                      ...   \n",
       "3988        3989               3                  3                      1.0   \n",
       "3680        3681               3                  4                      1.0   \n",
       "4019        4020               4                  3                      2.0   \n",
       "737          738               3                  3                      1.0   \n",
       "1453        1454               2                  3                      3.0   \n",
       "\n",
       "      JobSatisfaction  WorkLifeBalance  Age  Attrition  BusinessTravel  \\\n",
       "1413              4.0              3.0   49          0               0   \n",
       "3352              3.0              3.0   27          0               2   \n",
       "3970              4.0              3.0   35          0               0   \n",
       "3629              2.0              2.0   52          1               2   \n",
       "144               3.0              3.0   30          0               2   \n",
       "...               ...              ...  ...        ...             ...   \n",
       "3988              1.0              3.0   31          0               1   \n",
       "3680              4.0              3.0   26          0               2   \n",
       "4019              2.0              3.0   28          0               2   \n",
       "737               3.0              1.0   43          0               2   \n",
       "1453              4.0              3.0   32          0               0   \n",
       "\n",
       "      Department  ...  NumCompaniesWorked  Over18  PercentSalaryHike  \\\n",
       "1413           1  ...                 1.0       0                 19   \n",
       "3352           1  ...                 1.0       0                 14   \n",
       "3970           2  ...                 2.0       0                 18   \n",
       "3629           1  ...                 9.0       0                 19   \n",
       "144            2  ...                 0.0       0                 17   \n",
       "...          ...  ...                 ...     ...                ...   \n",
       "3988           2  ...                 2.0       0                 18   \n",
       "3680           1  ...                 0.0       0                 20   \n",
       "4019           1  ...                 1.0       0                 18   \n",
       "737            1  ...                 1.0       0                 14   \n",
       "1453           2  ...                 0.0       0                 13   \n",
       "\n",
       "      StandardHours  StockOptionLevel  TotalWorkingYears  \\\n",
       "1413              8                 1                7.0   \n",
       "3352              8                 1                1.0   \n",
       "3970              8                 3               15.0   \n",
       "3629              8                 1               10.0   \n",
       "144               8                 1                6.0   \n",
       "...             ...               ...                ...   \n",
       "3988              8                 0                9.0   \n",
       "3680              8                 1                5.0   \n",
       "4019              8                 1                1.0   \n",
       "737               8                 2               20.0   \n",
       "1453              8                 1                4.0   \n",
       "\n",
       "      TrainingTimesLastYear  YearsAtCompany  YearsSinceLastPromotion  \\\n",
       "1413                      5               7                        1   \n",
       "3352                      5               1                        0   \n",
       "3970                      3               7                        1   \n",
       "3629                      1               8                        7   \n",
       "144                       2               5                        4   \n",
       "...                     ...             ...                      ...   \n",
       "3988                      2               3                        2   \n",
       "3680                      2               4                        1   \n",
       "4019                      2               1                        0   \n",
       "737                       1              20                        1   \n",
       "1453                      3               3                        2   \n",
       "\n",
       "      YearsWithCurrManager  \n",
       "1413                     7  \n",
       "3352                     0  \n",
       "3970                     7  \n",
       "3629                     7  \n",
       "144                      4  \n",
       "...                    ...  \n",
       "3988                     2  \n",
       "3680                     1  \n",
       "4019                     0  \n",
       "737                      8  \n",
       "1453                     2  \n",
       "\n",
       "[2646 rows x 29 columns]"
      ]
     },
     "execution_count": 53,
     "metadata": {},
     "output_type": "execute_result"
    }
   ],
   "source": [
    "train"
   ]
  },
  {
   "cell_type": "code",
   "execution_count": 54,
   "metadata": {
    "colab": {
     "base_uri": "https://localhost:8080/"
    },
    "id": "EDbnjiReaFxq",
    "outputId": "5ab9d004-bacc-4e6d-ffbb-07de96d0a003"
   },
   "outputs": [
    {
     "data": {
      "text/plain": [
       "((2646, 29), (882, 29), (882, 29))"
      ]
     },
     "execution_count": 54,
     "metadata": {},
     "output_type": "execute_result"
    }
   ],
   "source": [
    "train.shape,test.shape, validate.shape"
   ]
  },
  {
   "cell_type": "code",
   "execution_count": 55,
   "metadata": {
    "id": "4108wUMNRs_h"
   },
   "outputs": [],
   "source": [
    "cols = [c for c in empl_df.columns if c not in ['Attrition']]"
   ]
  },
  {
   "cell_type": "code",
   "execution_count": 56,
   "metadata": {
    "id": "RgdaMce2lbpO"
   },
   "outputs": [
    {
     "data": {
      "text/plain": [
       "['EmployeeID',\n",
       " 'JobInvolvement',\n",
       " 'PerformanceRating',\n",
       " 'EnvironmentSatisfaction',\n",
       " 'JobSatisfaction',\n",
       " 'WorkLifeBalance',\n",
       " 'Age',\n",
       " 'BusinessTravel',\n",
       " 'Department',\n",
       " 'DistanceFromHome',\n",
       " 'Education',\n",
       " 'EducationField',\n",
       " 'EmployeeCount',\n",
       " 'Gender',\n",
       " 'JobLevel',\n",
       " 'JobRole',\n",
       " 'MaritalStatus',\n",
       " 'MonthlyIncome',\n",
       " 'NumCompaniesWorked',\n",
       " 'Over18',\n",
       " 'PercentSalaryHike',\n",
       " 'StandardHours',\n",
       " 'StockOptionLevel',\n",
       " 'TotalWorkingYears',\n",
       " 'TrainingTimesLastYear',\n",
       " 'YearsAtCompany',\n",
       " 'YearsSinceLastPromotion',\n",
       " 'YearsWithCurrManager']"
      ]
     },
     "execution_count": 56,
     "metadata": {},
     "output_type": "execute_result"
    }
   ],
   "source": [
    "cols"
   ]
  },
  {
   "cell_type": "code",
   "execution_count": 57,
   "metadata": {
    "id": "ghvXAkSvaqk1"
   },
   "outputs": [],
   "source": [
    "X_train  = train[cols]"
   ]
  },
  {
   "cell_type": "code",
   "execution_count": 58,
   "metadata": {
    "id": "rCfDg7K-b1ML"
   },
   "outputs": [],
   "source": [
    "y_train = train['Attrition']"
   ]
  },
  {
   "cell_type": "code",
   "execution_count": 59,
   "metadata": {
    "colab": {
     "base_uri": "https://localhost:8080/"
    },
    "id": "GFkAXnKscDa1",
    "outputId": "1172a730-799e-46ab-d1fa-9a6733cf36fb"
   },
   "outputs": [
    {
     "data": {
      "text/plain": [
       "((2646, 28), (2646,))"
      ]
     },
     "execution_count": 59,
     "metadata": {},
     "output_type": "execute_result"
    }
   ],
   "source": [
    "X_train.shape, y_train.shape"
   ]
  },
  {
   "cell_type": "code",
   "execution_count": 60,
   "metadata": {
    "colab": {
     "base_uri": "https://localhost:8080/"
    },
    "id": "SxTGKEsZcDXe",
    "outputId": "5b0402ce-f167-4d5e-9afe-78292b74f506"
   },
   "outputs": [
    {
     "data": {
      "text/plain": [
       "1413    0\n",
       "3352    0\n",
       "3970    0\n",
       "3629    1\n",
       "144     0\n",
       "       ..\n",
       "3988    0\n",
       "3680    0\n",
       "4019    0\n",
       "737     0\n",
       "1453    0\n",
       "Name: Attrition, Length: 2646, dtype: int32"
      ]
     },
     "execution_count": 60,
     "metadata": {},
     "output_type": "execute_result"
    }
   ],
   "source": [
    "y_train"
   ]
  },
  {
   "cell_type": "code",
   "execution_count": 61,
   "metadata": {
    "id": "GxrRLm3JciAM"
   },
   "outputs": [],
   "source": [
    "X_test  = test[cols]"
   ]
  },
  {
   "cell_type": "code",
   "execution_count": 62,
   "metadata": {
    "id": "6gI2Aj0hciAQ"
   },
   "outputs": [],
   "source": [
    "y_test = test['Attrition']"
   ]
  },
  {
   "cell_type": "code",
   "execution_count": 63,
   "metadata": {
    "colab": {
     "base_uri": "https://localhost:8080/"
    },
    "id": "07_sxVz8ciAR",
    "outputId": "352d0774-698a-48fe-d50c-3b0c06c74e76"
   },
   "outputs": [
    {
     "data": {
      "text/plain": [
       "((882, 28), (882,))"
      ]
     },
     "execution_count": 63,
     "metadata": {},
     "output_type": "execute_result"
    }
   ],
   "source": [
    "X_test.shape, y_test.shape"
   ]
  },
  {
   "cell_type": "code",
   "execution_count": 64,
   "metadata": {
    "id": "keOeGsKMcvtW"
   },
   "outputs": [],
   "source": [
    "X_val  = validate[cols]"
   ]
  },
  {
   "cell_type": "code",
   "execution_count": 65,
   "metadata": {
    "id": "UpLsqHtncvtW"
   },
   "outputs": [],
   "source": [
    "y_val = validate['Attrition']"
   ]
  },
  {
   "cell_type": "code",
   "execution_count": 66,
   "metadata": {
    "colab": {
     "base_uri": "https://localhost:8080/"
    },
    "id": "nUdSskh-cvtX",
    "outputId": "23772de9-dacc-46d5-d111-a297df0055e2"
   },
   "outputs": [
    {
     "data": {
      "text/plain": [
       "((882, 28), (882,))"
      ]
     },
     "execution_count": 66,
     "metadata": {},
     "output_type": "execute_result"
    }
   ],
   "source": [
    "X_val.shape, y_val.shape"
   ]
  },
  {
   "cell_type": "code",
   "execution_count": 67,
   "metadata": {
    "id": "uIJnwHudlbly"
   },
   "outputs": [],
   "source": [
    "from sklearn.preprocessing import StandardScaler,MinMaxScaler\n",
    "X_train = MinMaxScaler().fit_transform(X_train)\n",
    "y_train = np.array(y_train)"
   ]
  },
  {
   "cell_type": "code",
   "execution_count": 68,
   "metadata": {
    "colab": {
     "base_uri": "https://localhost:8080/"
    },
    "id": "vUt5podwdmIZ",
    "outputId": "4a8b07d1-d0e1-4231-c36c-bf0a0e41ce0f"
   },
   "outputs": [
    {
     "data": {
      "text/plain": [
       "((2646, 28), (2646,))"
      ]
     },
     "execution_count": 68,
     "metadata": {},
     "output_type": "execute_result"
    }
   ],
   "source": [
    "X_train.shape, y_train.shape"
   ]
  },
  {
   "cell_type": "code",
   "execution_count": 69,
   "metadata": {
    "id": "aZADrCQWlbip"
   },
   "outputs": [],
   "source": [
    "X_val = MinMaxScaler().fit_transform(X_val)\n",
    "y_val = np.array(y_val)"
   ]
  },
  {
   "cell_type": "code",
   "execution_count": 70,
   "metadata": {
    "colab": {
     "base_uri": "https://localhost:8080/"
    },
    "id": "apSgn6Qkql0g",
    "outputId": "2e54e2e0-26d7-46eb-ceaf-a4981b2b1951"
   },
   "outputs": [
    {
     "data": {
      "text/plain": [
       "(882, 28)"
      ]
     },
     "execution_count": 70,
     "metadata": {},
     "output_type": "execute_result"
    }
   ],
   "source": [
    "X_val.shape"
   ]
  },
  {
   "cell_type": "code",
   "execution_count": 71,
   "metadata": {
    "id": "iqcSYPQSqJ1e"
   },
   "outputs": [],
   "source": [
    "y_test= np.array(y_test)\n",
    "X_test = MinMaxScaler().fit_transform(X_test)"
   ]
  },
  {
   "cell_type": "code",
   "execution_count": 72,
   "metadata": {
    "colab": {
     "base_uri": "https://localhost:8080/"
    },
    "id": "BUtXS7S2qJyF",
    "outputId": "1c2a5ba8-eb10-44f0-bcef-e9b44ced92ba"
   },
   "outputs": [
    {
     "data": {
      "text/plain": [
       "(882,)"
      ]
     },
     "execution_count": 72,
     "metadata": {},
     "output_type": "execute_result"
    }
   ],
   "source": [
    "y_test.shape"
   ]
  },
  {
   "cell_type": "code",
   "execution_count": 73,
   "metadata": {
    "colab": {
     "base_uri": "https://localhost:8080/"
    },
    "id": "_-5zv_ZRqJuv",
    "outputId": "ac7c489b-f220-4a22-e49e-2bb6fa771472"
   },
   "outputs": [
    {
     "name": "stdout",
     "output_type": "stream",
     "text": [
      "(800, 28) (2600, 28) (800, 28)\n"
     ]
    }
   ],
   "source": [
    "def fit_batchsize(X,y,batch_size):\n",
    "    n_size = (len(X)//batch_size)*batch_size\n",
    "    X = X[0:n_size]\n",
    "    y = y[0:n_size]\n",
    "    return X, y\n",
    "\n",
    "batch_size = 100\n",
    "\n",
    "X_train, y_train = fit_batchsize(X_train,y_train, batch_size)\n",
    "X_val, y_val = fit_batchsize(X_val, y_val, batch_size)\n",
    "\n",
    "X_test,y_test = fit_batchsize(X_test,y_test, batch_size)\n",
    "print(X_val.shape, X_train.shape, X_test.shape)"
   ]
  },
  {
   "cell_type": "markdown",
   "metadata": {
    "id": "WpKd2X0Lg7Kk"
   },
   "source": [
    "# Implementation"
   ]
  },
  {
   "cell_type": "code",
   "execution_count": 74,
   "metadata": {
    "id": "PaJz0DmyqJr1"
   },
   "outputs": [],
   "source": [
    "from keras.layers import Input, Dense, Lambda\n",
    "import keras.backend as K\n",
    "from keras.models import Model\n",
    "\n",
    "# Define input layer\n",
    "input_dim = X_train.shape[1]\n",
    "inputs = Input(shape=(input_dim,))\n",
    "# Define Encoder layers\n",
    "n_z = 2\n",
    "n_epoch = 200\n",
    "\n",
    "h_q = Dense(512, activation='relu')(inputs)\n",
    "mu = Dense(n_z, activation='linear')(h_q)\n",
    "log_sigma = Dense(n_z, activation='linear')(h_q)\n",
    "\n",
    "# Encoder model, to encode input into latent variable\n",
    "# We use the mean as the output as it is the center point, the representative of the gaussian\n",
    "encoder = Model(inputs, mu)\n",
    "\n",
    "def sample_z(args):\n",
    "    mu, log_sigma = args\n",
    "    eps = K.random_normal(shape=(batch_size, n_z), mean=0., stddev=1.)\n",
    "    return mu + K.exp(log_sigma / 2) * eps\n",
    "\n"
   ]
  },
  {
   "cell_type": "code",
   "execution_count": 75,
   "metadata": {
    "id": "VzxpYgRWiVPI"
   },
   "outputs": [],
   "source": [
    "# Sample z ~ Q(z|X)\n",
    "z = Lambda(sample_z, name='sampleZ', output_shape=(n_z,))([mu, log_sigma])"
   ]
  },
  {
   "cell_type": "code",
   "execution_count": 76,
   "metadata": {
    "id": "p3rue3BsiaU8"
   },
   "outputs": [],
   "source": [
    "# Define decoder layers in VAE model\n",
    "decoder_hidden = Dense(512, activation='relu')\n",
    "decoder_out = Dense(input_dim, activation='sigmoid')"
   ]
  },
  {
   "cell_type": "code",
   "execution_count": 77,
   "metadata": {
    "id": "xFshawNpiaRY"
   },
   "outputs": [],
   "source": [
    "h_p = decoder_hidden(z)\n",
    "outputs = decoder_out(h_p)"
   ]
  },
  {
   "cell_type": "code",
   "execution_count": 78,
   "metadata": {
    "id": "if7HXL5fic-t"
   },
   "outputs": [],
   "source": [
    "# Overall VAE model, for reconstruction and training\n",
    "vae = Model(inputs, outputs)"
   ]
  },
  {
   "cell_type": "code",
   "execution_count": 79,
   "metadata": {
    "id": "qAcUkCo3ifi6"
   },
   "outputs": [],
   "source": [
    "# Generator model, generate new data given latent variable z\n",
    "d_in = Input(shape=(n_z,))\n",
    "d_h = decoder_hidden(d_in)\n",
    "d_out = decoder_out(d_h)\n",
    "decoder = Model(d_in, d_out)"
   ]
  },
  {
   "cell_type": "code",
   "execution_count": 80,
   "metadata": {
    "id": "8YhfkY5jqJoP"
   },
   "outputs": [],
   "source": [
    "# translate our loss into Keras code\n",
    "def vae_loss(y_true, y_pred):\n",
    "    \"\"\" Calculate loss = reconstruction loss + KL loss for each data in minibatch \"\"\"\n",
    "    recon = K.sum(K.binary_crossentropy(y_pred, y_true), axis=1)\n",
    "    kl = 0.5 * K.sum(K.exp(log_sigma) + K.square(mu) - 1. - log_sigma, axis=1)\n",
    "\n",
    "    return recon + kl"
   ]
  },
  {
   "cell_type": "code",
   "execution_count": 81,
   "metadata": {
    "colab": {
     "base_uri": "https://localhost:8080/"
    },
    "id": "MKYxunF9iJk0",
    "outputId": "6c0cd1e2-d916-4b2f-cda9-884abef0db6e"
   },
   "outputs": [
    {
     "name": "stdout",
     "output_type": "stream",
     "text": [
      "Train on 2600 samples, validate on 800 samples\n",
      "Epoch 1/200\n",
      "2600/2600 [==============================] - 0s 70us/step - loss: 68.8635 - val_loss: 46.3922\n",
      "Epoch 2/200\n",
      "2600/2600 [==============================] - 0s 33us/step - loss: 42.7320 - val_loss: 41.9740\n",
      "Epoch 3/200\n",
      "2600/2600 [==============================] - 0s 25us/step - loss: 40.8260 - val_loss: 41.1170\n",
      "Epoch 4/200\n",
      "2600/2600 [==============================] - 0s 32us/step - loss: 40.1565 - val_loss: 40.6042\n",
      "Epoch 5/200\n",
      "2600/2600 [==============================] - 0s 26us/step - loss: 39.7319 - val_loss: 40.2065\n",
      "Epoch 6/200\n",
      "2600/2600 [==============================] - 0s 32us/step - loss: 39.3703 - val_loss: 39.8870\n",
      "Epoch 7/200\n",
      "2600/2600 [==============================] - 0s 26us/step - loss: 39.0766 - val_loss: 39.5707\n",
      "Epoch 8/200\n",
      "2600/2600 [==============================] - 0s 31us/step - loss: 38.5602 - val_loss: 38.9010\n",
      "Epoch 9/200\n",
      "2600/2600 [==============================] - 0s 25us/step - loss: 37.1920 - val_loss: 36.8697\n",
      "Epoch 10/200\n",
      "2600/2600 [==============================] - 0s 32us/step - loss: 35.2383 - val_loss: 35.6546\n",
      "Epoch 11/200\n",
      "2600/2600 [==============================] - 0s 29us/step - loss: 34.4569 - val_loss: 35.3073\n",
      "Epoch 12/200\n",
      "2600/2600 [==============================] - 0s 29us/step - loss: 34.1027 - val_loss: 35.0148\n",
      "Epoch 13/200\n",
      "2600/2600 [==============================] - 0s 25us/step - loss: 33.6874 - val_loss: 34.6254\n",
      "Epoch 14/200\n",
      "2600/2600 [==============================] - 0s 29us/step - loss: 33.2387 - val_loss: 34.2469\n",
      "Epoch 15/200\n",
      "2600/2600 [==============================] - 0s 29us/step - loss: 32.6598 - val_loss: 33.2605\n",
      "Epoch 16/200\n",
      "2600/2600 [==============================] - 0s 25us/step - loss: 31.5301 - val_loss: 32.1302\n",
      "Epoch 17/200\n",
      "2600/2600 [==============================] - 0s 33us/step - loss: 30.7987 - val_loss: 31.6385\n",
      "Epoch 18/200\n",
      "2600/2600 [==============================] - 0s 25us/step - loss: 30.4975 - val_loss: 31.3828\n",
      "Epoch 19/200\n",
      "2600/2600 [==============================] - 0s 32us/step - loss: 30.2969 - val_loss: 31.3119\n",
      "Epoch 20/200\n",
      "2600/2600 [==============================] - 0s 25us/step - loss: 30.2354 - val_loss: 31.0623\n",
      "Epoch 21/200\n",
      "2600/2600 [==============================] - 0s 34us/step - loss: 30.0618 - val_loss: 30.9590\n",
      "Epoch 22/200\n",
      "2600/2600 [==============================] - 0s 29us/step - loss: 29.9740 - val_loss: 30.7741\n",
      "Epoch 23/200\n",
      "2600/2600 [==============================] - 0s 26us/step - loss: 29.8831 - val_loss: 30.6630\n",
      "Epoch 24/200\n",
      "2600/2600 [==============================] - 0s 32us/step - loss: 29.8238 - val_loss: 30.5095\n",
      "Epoch 25/200\n",
      "2600/2600 [==============================] - 0s 26us/step - loss: 29.6542 - val_loss: 30.4303\n",
      "Epoch 26/200\n",
      "2600/2600 [==============================] - 0s 32us/step - loss: 29.5651 - val_loss: 30.3946\n",
      "Epoch 27/200\n",
      "2600/2600 [==============================] - 0s 26us/step - loss: 29.5411 - val_loss: 30.2945\n",
      "Epoch 28/200\n",
      "2600/2600 [==============================] - 0s 26us/step - loss: 29.5102 - val_loss: 30.3011\n",
      "Epoch 29/200\n",
      "2600/2600 [==============================] - 0s 33us/step - loss: 29.4570 - val_loss: 30.2769\n",
      "Epoch 30/200\n",
      "2600/2600 [==============================] - 0s 26us/step - loss: 29.4349 - val_loss: 30.1612\n",
      "Epoch 31/200\n",
      "2600/2600 [==============================] - 0s 32us/step - loss: 29.4477 - val_loss: 30.1676\n",
      "Epoch 32/200\n",
      "2600/2600 [==============================] - 0s 26us/step - loss: 29.3240 - val_loss: 30.1507\n",
      "Epoch 33/200\n",
      "2600/2600 [==============================] - 0s 32us/step - loss: 29.2654 - val_loss: 30.1579\n",
      "Epoch 34/200\n",
      "2600/2600 [==============================] - 0s 29us/step - loss: 29.3774 - val_loss: 30.1403\n",
      "Epoch 35/200\n",
      "2600/2600 [==============================] - 0s 26us/step - loss: 29.2640 - val_loss: 30.0902\n",
      "Epoch 36/200\n",
      "2600/2600 [==============================] - 0s 33us/step - loss: 29.2560 - val_loss: 30.0478\n",
      "Epoch 37/200\n",
      "2600/2600 [==============================] - 0s 26us/step - loss: 29.2374 - val_loss: 30.0174\n",
      "Epoch 38/200\n",
      "2600/2600 [==============================] - 0s 32us/step - loss: 29.1677 - val_loss: 30.0080\n",
      "Epoch 39/200\n",
      "2600/2600 [==============================] - 0s 29us/step - loss: 29.2217 - val_loss: 30.0014\n",
      "Epoch 40/200\n",
      "2600/2600 [==============================] - 0s 26us/step - loss: 29.1706 - val_loss: 29.9231\n",
      "Epoch 41/200\n",
      "2600/2600 [==============================] - 0s 33us/step - loss: 29.1080 - val_loss: 29.9592\n",
      "Epoch 42/200\n",
      "2600/2600 [==============================] - 0s 26us/step - loss: 29.0954 - val_loss: 29.9113\n",
      "Epoch 43/200\n",
      "2600/2600 [==============================] - 0s 32us/step - loss: 29.1063 - val_loss: 29.9014\n",
      "Epoch 44/200\n",
      "2600/2600 [==============================] - 0s 26us/step - loss: 29.0977 - val_loss: 29.8798\n",
      "Epoch 45/200\n",
      "2600/2600 [==============================] - 0s 30us/step - loss: 28.9752 - val_loss: 29.8201\n",
      "Epoch 46/200\n",
      "2600/2600 [==============================] - 0s 28us/step - loss: 29.0389 - val_loss: 29.8192\n",
      "Epoch 47/200\n",
      "2600/2600 [==============================] - 0s 27us/step - loss: 28.9928 - val_loss: 29.7888\n",
      "Epoch 48/200\n",
      "2600/2600 [==============================] - 0s 26us/step - loss: 28.9552 - val_loss: 29.7882\n",
      "Epoch 49/200\n",
      "2600/2600 [==============================] - 0s 32us/step - loss: 29.0001 - val_loss: 29.7783\n",
      "Epoch 50/200\n",
      "2600/2600 [==============================] - 0s 29us/step - loss: 29.0147 - val_loss: 29.7610\n",
      "Epoch 51/200\n",
      "2600/2600 [==============================] - 0s 29us/step - loss: 28.7858 - val_loss: 29.7471\n",
      "Epoch 52/200\n",
      "2600/2600 [==============================] - 0s 26us/step - loss: 28.8904 - val_loss: 29.6832\n",
      "Epoch 53/200\n",
      "2600/2600 [==============================] - 0s 32us/step - loss: 28.8197 - val_loss: 29.6757\n",
      "Epoch 54/200\n",
      "2600/2600 [==============================] - 0s 26us/step - loss: 28.8107 - val_loss: 29.6788\n"
     ]
    }
   ],
   "source": [
    "from keras.callbacks import EarlyStopping\n",
    "# from tensorflow.python.framework.ops import disable_eager_execution\n",
    "# import tensorflow._api.v2.compat.v1 as tf\n",
    "# tf.compat.v1.disable_eager_execution()\n",
    "# disable_eager_execution()\n",
    "# # tf.disable_v2_behavior()\n",
    "\n",
    "# import tensorflow._api.v2.compat.v1 as tf\n",
    "# tf.disable_v2_behavior()\n",
    "\n",
    "vae.compile(optimizer='adam', loss=vae_loss)\n",
    "# vae.run_eagerly = False\n",
    "vae_history = vae.fit(X_train, X_train, batch_size=batch_size, shuffle=True, validation_data = (X_val, X_val),epochs=n_epoch, callbacks = [EarlyStopping(monitor='loss',patience = 3)])"
   ]
  },
  {
   "cell_type": "code",
   "execution_count": 82,
   "metadata": {
    "colab": {
     "base_uri": "https://localhost:8080/",
     "height": 472
    },
    "id": "9qVny21DiJhK",
    "outputId": "7412f17d-5f78-4381-b4da-70de4110d30a"
   },
   "outputs": [
    {
     "data": {
      "image/png": "[encoded data removed]",
      "text/plain": [
       "<Figure size 432x288 with 1 Axes>"
      ]
     },
     "metadata": {
      "needs_background": "light"
     },
     "output_type": "display_data"
    }
   ],
   "source": [
    "import matplotlib.pyplot as plt\n",
    "plt.plot(vae_history.history['loss'])\n",
    "plt.plot(vae_history.history['val_loss'])\n",
    "plt.title('model loss')\n",
    "plt.ylabel('loss')\n",
    "plt.xlabel('epoch')\n",
    "plt.legend(['train', 'test'], loc='upper left')\n",
    "plt.show();\n"
   ]
  },
  {
   "cell_type": "code",
   "execution_count": 83,
   "metadata": {
    "colab": {
     "base_uri": "https://localhost:8080/",
     "height": 452
    },
    "id": "aO_fecaciJeM",
    "outputId": "3e553736-cc1a-4bd5-d507-8f904748b564"
   },
   "outputs": [
    {
     "data": {
      "image/png": "[encoded data removed]",
      "text/plain": [
       "<Figure size 432x288 with 1 Axes>"
      ]
     },
     "metadata": {
      "needs_background": "light"
     },
     "output_type": "display_data"
    }
   ],
   "source": [
    "x_val_encoded = encoder.predict(X_val)\n",
    "\n",
    "plt.scatter(x_val_encoded[:, 0], x_val_encoded[:, 1],\n",
    "            c=y_val, alpha=0.6)\n",
    "\n",
    "plt.title('Validation set in latent space')\n",
    "plt.show();"
   ]
  },
  {
   "cell_type": "code",
   "execution_count": 84,
   "metadata": {
    "colab": {
     "base_uri": "https://localhost:8080/",
     "height": 430
    },
    "id": "iOT23VN-nzbt",
    "outputId": "92750000-2688-4b1f-9197-4cfbcb20f7ac"
   },
   "outputs": [
    {
     "data": {
      "image/png": "[encoded data removed]",
      "text/plain": [
       "<Figure size 432x288 with 1 Axes>"
      ]
     },
     "metadata": {
      "needs_background": "light"
     },
     "output_type": "display_data"
    }
   ],
   "source": [
    "x_train_encoded = encoder.predict(X_train)\n",
    "plt.scatter(100.*x_train_encoded[:, 0], 100.*x_train_encoded[:, 1],\n",
    "            c=y_train, alpha=0.6)\n",
    "plt.show();"
   ]
  },
  {
   "cell_type": "code",
   "execution_count": 85,
   "metadata": {
    "colab": {
     "base_uri": "https://localhost:8080/",
     "height": 433
    },
    "id": "4_i7zzhhn1YG",
    "outputId": "172f1c04-39a1-4632-d093-fefb63a9d41f"
   },
   "outputs": [
    {
     "data": {
      "image/png": "[encoded data removed]",
      "text/plain": [
       "<Figure size 432x288 with 1 Axes>"
      ]
     },
     "metadata": {
      "needs_background": "light"
     },
     "output_type": "display_data"
    }
   ],
   "source": [
    "x_test_encoded = encoder.predict(X_test)\n",
    "plt.scatter(100.*x_test_encoded[:, 0], 100.*x_test_encoded[:, 1],\n",
    "            c=y_test, alpha=0.6)\n",
    "plt.show();"
   ]
  },
  {
   "cell_type": "code",
   "execution_count": 86,
   "metadata": {
    "colab": {
     "base_uri": "https://localhost:8080/"
    },
    "id": "Df-YtnvunH_-",
    "outputId": "83dcc083-d877-4847-f3bf-f1742d74ed03"
   },
   "outputs": [
    {
     "data": {
      "text/plain": [
       "array([[-0.63108546,  0.6984814 ],\n",
       "       [ 0.8109932 , -1.1969075 ],\n",
       "       [-1.3999519 ,  0.6419016 ],\n",
       "       ...,\n",
       "       [ 0.95384073,  0.8276407 ],\n",
       "       [-0.60642695,  0.65883607],\n",
       "       [ 0.16684654, -1.3124082 ]], dtype=float32)"
      ]
     },
     "execution_count": 86,
     "metadata": {},
     "output_type": "execute_result"
    }
   ],
   "source": [
    "x_val_encoded"
   ]
  },
  {
   "cell_type": "markdown",
   "metadata": {
    "id": "BjcElskvoQa5"
   },
   "source": [
    "#Classification in Latent space\n",
    "\n",
    "    Any classification method can be used, lets try nearest neighbour--->\n",
    "    work with validation parameter"
   ]
  },
  {
   "cell_type": "code",
   "execution_count": 87,
   "metadata": {
    "colab": {
     "base_uri": "https://localhost:8080/",
     "height": 74
    },
    "id": "9izJBDBnnH8l",
    "outputId": "656bfdf8-4a2f-496c-ef8e-36a35c59cbf7"
   },
   "outputs": [
    {
     "data": {
      "text/plain": [
       "KNeighborsClassifier(n_neighbors=20)"
      ]
     },
     "execution_count": 87,
     "metadata": {},
     "output_type": "execute_result"
    }
   ],
   "source": [
    "from matplotlib.colors import ListedColormap\n",
    "from sklearn import neighbors, datasets\n",
    "weights='uniform'\n",
    "n_neighbors=20\n",
    "clf = neighbors.KNeighborsClassifier(n_neighbors, weights=weights)\n",
    "X=x_train_encoded\n",
    "y=y_train\n",
    "clf.fit(X, y)"
   ]
  },
  {
   "cell_type": "code",
   "execution_count": 88,
   "metadata": {
    "id": "J9cADHJirt_j"
   },
   "outputs": [],
   "source": [
    "from sklearn.metrics import (confusion_matrix, precision_recall_curve, auc,\n",
    "                             roc_curve, recall_score, classification_report, f1_score,\n",
    "                             precision_recall_fscore_support, accuracy_score)"
   ]
  },
  {
   "cell_type": "code",
   "execution_count": 89,
   "metadata": {
    "colab": {
     "base_uri": "https://localhost:8080/"
    },
    "id": "dDe_ZeEyiJX0",
    "outputId": "bb5d1861-d61f-4d19-988f-8480ad577ae6"
   },
   "outputs": [
    {
     "name": "stdout",
     "output_type": "stream",
     "text": [
      "Accuracy: 0.81625\n"
     ]
    }
   ],
   "source": [
    "print('Accuracy:', accuracy_score(y_val, clf.predict(x_val_encoded)))"
   ]
  },
  {
   "cell_type": "code",
   "execution_count": 90,
   "metadata": {
    "colab": {
     "base_uri": "https://localhost:8080/"
    },
    "id": "btSKvi-irinZ",
    "outputId": "c715ae23-e18c-45d9-cf46-2e14dfadc3a4"
   },
   "outputs": [
    {
     "name": "stdout",
     "output_type": "stream",
     "text": [
      "Confusion Matrix:\n",
      "[[652   2]\n",
      " [145   1]]\n",
      "Classification Report:\n"
     ]
    }
   ],
   "source": [
    "print(\"Confusion Matrix:\")\n",
    "print(confusion_matrix(y_val,clf.predict(x_val_encoded)))\n",
    "print(\"Classification Report:\")"
   ]
  },
  {
   "cell_type": "code",
   "execution_count": 91,
   "metadata": {
    "colab": {
     "base_uri": "https://localhost:8080/"
    },
    "id": "LnVtx0ofrijz",
    "outputId": "48c3987a-9715-4b88-9336-eef2e615aa89"
   },
   "outputs": [
    {
     "name": "stdout",
     "output_type": "stream",
     "text": [
      "              precision    recall  f1-score   support\n",
      "\n",
      "           0       0.82      1.00      0.90       654\n",
      "           1       0.33      0.01      0.01       146\n",
      "\n",
      "    accuracy                           0.82       800\n",
      "   macro avg       0.58      0.50      0.46       800\n",
      "weighted avg       0.73      0.82      0.74       800\n",
      "\n"
     ]
    }
   ],
   "source": [
    "print(classification_report(y_val,clf.predict(x_val_encoded)))"
   ]
  },
  {
   "cell_type": "code",
   "execution_count": 92,
   "metadata": {
    "colab": {
     "base_uri": "https://localhost:8080/"
    },
    "id": "fUEni3Iprig6",
    "outputId": "c50c8d6d-de9b-43ac-eedf-16f3f800a55d"
   },
   "outputs": [
    {
     "name": "stdout",
     "output_type": "stream",
     "text": [
      "Accuracy:\n",
      "0.845\n",
      "Confusion Matrix:\n",
      "[[676   1]\n",
      " [123   0]]\n",
      "Classification Report:\n",
      "              precision    recall  f1-score   support\n",
      "\n",
      "           0       0.85      1.00      0.92       677\n",
      "           1       0.00      0.00      0.00       123\n",
      "\n",
      "    accuracy                           0.84       800\n",
      "   macro avg       0.42      0.50      0.46       800\n",
      "weighted avg       0.72      0.84      0.78       800\n",
      "\n"
     ]
    }
   ],
   "source": [
    "print('Accuracy:')\n",
    "print(accuracy_score(y_test, clf.predict(x_test_encoded)))\n",
    "print(\"Confusion Matrix:\")\n",
    "print(confusion_matrix(y_test,clf.predict(x_test_encoded)))\n",
    "print(\"Classification Report:\")\n",
    "print(classification_report(y_test,clf.predict(x_test_encoded)))"
   ]
  },
  {
   "cell_type": "code",
   "execution_count": null,
   "metadata": {},
   "outputs": [],
   "source": []
  },
  {
   "cell_type": "code",
   "execution_count": null,
   "metadata": {},
   "outputs": [],
   "source": []
  },
  {
   "cell_type": "code",
   "execution_count": null,
   "metadata": {},
   "outputs": [],
   "source": []
  }
 ],
 "metadata": {
  "colab": {
   "provenance": []
  },
  "kernelspec": {
   "display_name": "Python 3",
   "language": "python",
   "name": "python3"
  },
  "language_info": {
   "codemirror_mode": {
    "name": "ipython",
    "version": 3
   },
   "file_extension": ".py",
   "mimetype": "text/x-python",
   "name": "python",
   "nbconvert_exporter": "python",
   "pygments_lexer": "ipython3",
   "version": "3.7.6"
  }
 },
 "nbformat": 4,
 "nbformat_minor": 1
}
